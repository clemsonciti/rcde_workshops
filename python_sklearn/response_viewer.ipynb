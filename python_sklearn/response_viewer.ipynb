{
 "cells": [
  {
   "cell_type": "markdown",
   "id": "45395e0a-c865-490a-9c57-dcbbed88f03c",
   "metadata": {},
   "source": [
    "# Question response viewer\n",
    "\n",
    "This notebook aggregates responses submitted in the Workshop notebooks."
   ]
  },
  {
   "cell_type": "code",
   "execution_count": 3,
   "id": "a1befd21-30db-4766-924b-4886f8d02f6d",
   "metadata": {
    "tags": []
   },
   "outputs": [],
   "source": [
    "from utils import show_responses"
   ]
  },
  {
   "cell_type": "code",
   "execution_count": 4,
   "id": "a9da3312-a10d-44f2-911f-f6c6c3c5c083",
   "metadata": {
    "tags": []
   },
   "outputs": [
    {
     "data": {
      "text/markdown": [
       "**No responses yet for `00-01`.**"
      ],
      "text/plain": [
       "<IPython.core.display.Markdown object>"
      ]
     },
     "metadata": {},
     "output_type": "display_data"
    }
   ],
   "source": [
    "show_responses(\"00-01\")"
   ]
  },
  {
   "cell_type": "code",
   "execution_count": 5,
   "id": "c6ca3227-4987-48c0-9376-83edaf37c998",
   "metadata": {
    "tags": []
   },
   "outputs": [
    {
     "data": {
      "text/markdown": [
       "**No responses yet for `00-02`.**"
      ],
      "text/plain": [
       "<IPython.core.display.Markdown object>"
      ]
     },
     "metadata": {},
     "output_type": "display_data"
    }
   ],
   "source": [
    "show_responses(\"00-02\")"
   ]
  },
  {
   "cell_type": "code",
   "execution_count": 5,
   "id": "c7875688-3c86-4926-af40-609d9ab161ed",
   "metadata": {},
   "outputs": [
    {
     "data": {
      "text/markdown": [
       "#### Please describe your level of experience with the Python programming language.\n",
       " (ID: 00-03, 1 submitted)"
      ],
      "text/plain": [
       "<IPython.core.display.Markdown object>"
      ]
     },
     "metadata": {},
     "output_type": "display_data"
    },
    {
     "data": {
      "text/html": [
       "<style type=\"text/css\">\n",
       "</style>\n",
       "<table id=\"T_a25b0\">\n",
       "  <thead>\n",
       "    <tr>\n",
       "      <th id=\"T_a25b0_level0_col0\" class=\"col_heading level0 col0\" >user_id</th>\n",
       "      <th id=\"T_a25b0_level0_col1\" class=\"col_heading level0 col1\" >response</th>\n",
       "    </tr>\n",
       "  </thead>\n",
       "  <tbody>\n",
       "    <tr>\n",
       "      <td id=\"T_a25b0_row0_col0\" class=\"data row0 col0\" >cehrett</td>\n",
       "      <td id=\"T_a25b0_row0_col1\" class=\"data row0 col1\" >I'm expert level, 1337 h@X0r.</td>\n",
       "    </tr>\n",
       "  </tbody>\n",
       "</table>\n"
      ],
      "text/plain": [
       "<pandas.io.formats.style.Styler at 0x7fa40b9448d0>"
      ]
     },
     "metadata": {},
     "output_type": "display_data"
    }
   ],
   "source": [
    "show_responses(\"00-03\")"
   ]
  },
  {
   "cell_type": "code",
   "execution_count": 6,
   "id": "3bd4f8ce-52c0-44ec-bca1-da0278577cad",
   "metadata": {
    "tags": []
   },
   "outputs": [
    {
     "data": {
      "text/markdown": [
       "#### Please briefly describe your level of experience with Palmetto. (Have you used Open OnDemand? Have you submitted batch jobs? Etc.\n",
       " (ID: 00-04, 1 submitted)"
      ],
      "text/plain": [
       "<IPython.core.display.Markdown object>"
      ]
     },
     "metadata": {},
     "output_type": "display_data"
    },
    {
     "data": {
      "text/html": [
       "<style type=\"text/css\">\n",
       "</style>\n",
       "<table id=\"T_92dfc\">\n",
       "  <thead>\n",
       "    <tr>\n",
       "      <th id=\"T_92dfc_level0_col0\" class=\"col_heading level0 col0\" >user_id</th>\n",
       "      <th id=\"T_92dfc_level0_col1\" class=\"col_heading level0 col1\" >response</th>\n",
       "    </tr>\n",
       "  </thead>\n",
       "  <tbody>\n",
       "    <tr>\n",
       "      <td id=\"T_92dfc_row0_col0\" class=\"data row0 col0\" >cehrett</td>\n",
       "      <td id=\"T_92dfc_row0_col1\" class=\"data row0 col1\" >Like the cockroaches? OMG why would you even ask that. That's like rude. That's like gross. Like I came here to learn about computers and stuff. And AI and stuff. Not to like talk about cockroaches gross. Once I saw one and I was like oh gross and then it FLEW. YUCK. I was like AHHH!</td>\n",
       "    </tr>\n",
       "  </tbody>\n",
       "</table>\n"
      ],
      "text/plain": [
       "<pandas.io.formats.style.Styler at 0x7fa410a886d0>"
      ]
     },
     "metadata": {},
     "output_type": "display_data"
    }
   ],
   "source": [
    "show_responses(\"00-04\")"
   ]
  },
  {
   "cell_type": "code",
   "execution_count": 7,
   "id": "4b16ccd8-dc6c-423f-8c98-996b8ff1e823",
   "metadata": {
    "tags": []
   },
   "outputs": [
    {
     "data": {
      "text/markdown": [
       "**No responses yet for `00-05`.**"
      ],
      "text/plain": [
       "<IPython.core.display.Markdown object>"
      ]
     },
     "metadata": {},
     "output_type": "display_data"
    }
   ],
   "source": [
    "show_responses(\"00-05\")"
   ]
  },
  {
   "cell_type": "code",
   "execution_count": 8,
   "id": "cbe6dd2c-7294-42a8-967b-9dfdf5694540",
   "metadata": {
    "tags": []
   },
   "outputs": [
    {
     "data": {
      "text/markdown": [
       "**No responses yet for `00-06`.**"
      ],
      "text/plain": [
       "<IPython.core.display.Markdown object>"
      ]
     },
     "metadata": {},
     "output_type": "display_data"
    }
   ],
   "source": [
    "show_responses(\"00-06\")"
   ]
  },
  {
   "cell_type": "markdown",
   "id": "c1dfa161-5293-4ee2-a2ac-80bd6bff3cc1",
   "metadata": {},
   "source": [
    "```# Create a DataFrame\n",
    "df = pd.DataFrame(california.data, columns=california.feature_names)\n",
    "# The above created a dataframe with the features, but it doesn't have the target variable. It's easy to add new columns to a Pandas DataFrame:\n",
    "df['Price'] = california.target\n",
    "```"
   ]
  },
  {
   "cell_type": "code",
   "execution_count": 10,
   "id": "3c4b6e9b-c19c-4944-89cd-e798c689b951",
   "metadata": {
    "tags": []
   },
   "outputs": [
    {
     "data": {
      "text/markdown": [
       "#### Please enter your code to produce a Pandas df of the California housing data.\n",
       " (ID: 01-01, 1 submitted)"
      ],
      "text/plain": [
       "<IPython.core.display.Markdown object>"
      ]
     },
     "metadata": {},
     "output_type": "display_data"
    },
    {
     "data": {
      "text/html": [
       "<style type=\"text/css\">\n",
       "</style>\n",
       "<table id=\"T_b7662\">\n",
       "  <thead>\n",
       "    <tr>\n",
       "      <th id=\"T_b7662_level0_col0\" class=\"col_heading level0 col0\" >user_id</th>\n",
       "      <th id=\"T_b7662_level0_col1\" class=\"col_heading level0 col1\" >response</th>\n",
       "    </tr>\n",
       "  </thead>\n",
       "  <tbody>\n",
       "    <tr>\n",
       "      <td id=\"T_b7662_row0_col0\" class=\"data row0 col0\" >cehrett</td>\n",
       "      <td id=\"T_b7662_row0_col1\" class=\"data row0 col1\" ># Create a DataFrame df = pd.DataFrame(california.data, columns=california.feature_names) # The above created a dataframe with the features, but it doesn't have the target variable. It's easy to add new columns to a Pandas DataFrame: df['Price'] = california.target</td>\n",
       "    </tr>\n",
       "  </tbody>\n",
       "</table>\n"
      ],
      "text/plain": [
       "<pandas.io.formats.style.Styler at 0x7fa40b835f90>"
      ]
     },
     "metadata": {},
     "output_type": "display_data"
    }
   ],
   "source": [
    "show_responses(\"01-01\")"
   ]
  },
  {
   "cell_type": "markdown",
   "id": "76a1adba-338e-4ce6-9abb-0a4d33bc0031",
   "metadata": {},
   "source": [
    "```df[df['Price'] > df['Price'].quantile(0.75)]['HouseAge'].mean()```"
   ]
  },
  {
   "cell_type": "code",
   "execution_count": 13,
   "id": "c03508b7-1b4d-4b35-943d-d059805283c3",
   "metadata": {
    "tags": []
   },
   "outputs": [
    {
     "data": {
      "text/markdown": [
       "#### Please enter your code.\n",
       " (ID: 01-02, 1 submitted)"
      ],
      "text/plain": [
       "<IPython.core.display.Markdown object>"
      ]
     },
     "metadata": {},
     "output_type": "display_data"
    },
    {
     "data": {
      "text/html": [
       "<style type=\"text/css\">\n",
       "</style>\n",
       "<table id=\"T_75ea3\">\n",
       "  <thead>\n",
       "    <tr>\n",
       "      <th id=\"T_75ea3_level0_col0\" class=\"col_heading level0 col0\" >user_id</th>\n",
       "      <th id=\"T_75ea3_level0_col1\" class=\"col_heading level0 col1\" >response</th>\n",
       "    </tr>\n",
       "  </thead>\n",
       "  <tbody>\n",
       "    <tr>\n",
       "      <td id=\"T_75ea3_row0_col0\" class=\"data row0 col0\" >cehrett</td>\n",
       "      <td id=\"T_75ea3_row0_col1\" class=\"data row0 col1\" >df[df['Price'] > df['Price'].quantile(0.75)]['HouseAge'].mean()</td>\n",
       "    </tr>\n",
       "  </tbody>\n",
       "</table>\n"
      ],
      "text/plain": [
       "<pandas.io.formats.style.Styler at 0x7fa40bbe7010>"
      ]
     },
     "metadata": {},
     "output_type": "display_data"
    }
   ],
   "source": [
    "show_responses(\"01-02\")"
   ]
  },
  {
   "cell_type": "code",
   "execution_count": 16,
   "id": "ba2feb5f-b331-48eb-81fe-8ea8f6ca8056",
   "metadata": {
    "tags": []
   },
   "outputs": [
    {
     "data": {
      "text/markdown": [
       "**No responses yet for `02-01`.**"
      ],
      "text/plain": [
       "<IPython.core.display.Markdown object>"
      ]
     },
     "metadata": {},
     "output_type": "display_data"
    }
   ],
   "source": [
    "show_responses(\"02-01\")"
   ]
  },
  {
   "cell_type": "code",
   "execution_count": 17,
   "id": "d5a1051b-dcdb-4582-a2ef-e7bd9ece06b1",
   "metadata": {
    "tags": []
   },
   "outputs": [
    {
     "data": {
      "text/markdown": [
       "**No responses yet for `02-01`.**"
      ],
      "text/plain": [
       "<IPython.core.display.Markdown object>"
      ]
     },
     "metadata": {},
     "output_type": "display_data"
    }
   ],
   "source": [
    "show_responses(\"02-03\")"
   ]
  },
  {
   "cell_type": "code",
   "execution_count": 19,
   "id": "86a29b3a-b5b5-4ad1-9e71-5c13997f4ccd",
   "metadata": {
    "tags": []
   },
   "outputs": [
    {
     "data": {
      "text/markdown": [
       "**No responses yet for `02-03`.**"
      ],
      "text/plain": [
       "<IPython.core.display.Markdown object>"
      ]
     },
     "metadata": {},
     "output_type": "display_data"
    }
   ],
   "source": [
    "show_responses(\"02-03\")"
   ]
  },
  {
   "cell_type": "code",
   "execution_count": 20,
   "id": "3970f968-9cdc-469d-8b21-a1ce9c18dc63",
   "metadata": {
    "tags": []
   },
   "outputs": [
    {
     "data": {
      "text/markdown": [
       "**No responses yet for `03-01`.**"
      ],
      "text/plain": [
       "<IPython.core.display.Markdown object>"
      ]
     },
     "metadata": {},
     "output_type": "display_data"
    }
   ],
   "source": [
    "show_responses(\"03-01\")"
   ]
  },
  {
   "cell_type": "code",
   "execution_count": 24,
   "id": "1b00e0bf-0efb-4bde-88cc-d241cd8a1718",
   "metadata": {
    "tags": []
   },
   "outputs": [
    {
     "data": {
      "text/markdown": [
       "**No responses yet for `03-02`.**"
      ],
      "text/plain": [
       "<IPython.core.display.Markdown object>"
      ]
     },
     "metadata": {},
     "output_type": "display_data"
    }
   ],
   "source": [
    "show_responses(\"03-02\")"
   ]
  },
  {
   "cell_type": "markdown",
   "id": "2645546d-5ebf-4848-b6d0-995892d8c62f",
   "metadata": {},
   "source": [
    "```# Step 1: Load the California housing dataset\n",
    "# Hint: from sklearn.datasets import fetch_california_housing\n",
    "from sklearn.datasets import fetch_california_housing\n",
    "data = fetch_california_housing()\n",
    "\n",
    "# Step 2: Split the data into features (X) and target (y)\n",
    "X = data.data\n",
    "y = data.target\n",
    "\n",
    "# Step 3: Apply PCA to reduce the feature set to 2 components\n",
    "# Hint: from sklearn.decomposition import PCA\n",
    "from sklearn.decomposition import PCA\n",
    "pca = PCA(n_components=2)\n",
    "X_pca = pca.fit_transform(X)\n",
    "\n",
    "# Step 4: Perform linear regression on the PCA-reduced dataset\n",
    "# Hint: from sklearn.linear_model import LinearRegression\n",
    "from sklearn.linear_model import LinearRegression\n",
    "model = LinearRegression()\n",
    "model.fit(X_pca, y)\n",
    "\n",
    "# Step 5: Evaluate the model using R-squared score\n",
    "# Hint: Use model.score(X_pca, y)\n",
    "r_squared = model.score(X_pca, y)\n",
    "\n",
    "# Step 6: Print the R-squared score\n",
    "# This is the value you will enter into the text box\n",
    "print(\"R-squared score:\", r_squared)\n",
    "```"
   ]
  },
  {
   "cell_type": "code",
   "execution_count": 23,
   "id": "ad5f9655-b4a1-4056-9d00-f1d7f484e871",
   "metadata": {
    "tags": []
   },
   "outputs": [
    {
     "data": {
      "text/markdown": [
       "**No responses yet for `03-03`.**"
      ],
      "text/plain": [
       "<IPython.core.display.Markdown object>"
      ]
     },
     "metadata": {},
     "output_type": "display_data"
    }
   ],
   "source": [
    "show_responses(\"03-03\")"
   ]
  },
  {
   "cell_type": "code",
   "execution_count": 25,
   "id": "a84f6893-106f-4c54-ba1c-fb1152a5a177",
   "metadata": {
    "tags": []
   },
   "outputs": [
    {
     "data": {
      "text/markdown": [
       "**No responses yet for `03-04`.**"
      ],
      "text/plain": [
       "<IPython.core.display.Markdown object>"
      ]
     },
     "metadata": {},
     "output_type": "display_data"
    }
   ],
   "source": [
    "show_responses(\"03-04\")"
   ]
  },
  {
   "cell_type": "code",
   "execution_count": 26,
   "id": "f32ab2a4-44e3-4dee-ad23-a0cea5bf45c8",
   "metadata": {
    "tags": []
   },
   "outputs": [
    {
     "data": {
      "text/markdown": [
       "**No responses yet for `04-01`.**"
      ],
      "text/plain": [
       "<IPython.core.display.Markdown object>"
      ]
     },
     "metadata": {},
     "output_type": "display_data"
    }
   ],
   "source": [
    "show_responses(\"04-01\")"
   ]
  },
  {
   "cell_type": "code",
   "execution_count": 6,
   "id": "b24ad87f-99e6-409e-a2eb-479dcb03dd14",
   "metadata": {},
   "outputs": [
    {
     "data": {
      "text/markdown": [
       "**No responses yet for `04-02`.**"
      ],
      "text/plain": [
       "<IPython.core.display.Markdown object>"
      ]
     },
     "metadata": {},
     "output_type": "display_data"
    }
   ],
   "source": [
    "show_responses(\"04-02\")"
   ]
  },
  {
   "cell_type": "markdown",
   "id": "128c009c-9d80-4732-a295-d9687daa543f",
   "metadata": {},
   "source": [
    "```# Load and preprocess the California housing data\n",
    "data = fetch_california_housing()\n",
    "X, y = data.data, data.target\n",
    "\n",
    "# Standardize features\n",
    "scaler = StandardScaler()\n",
    "X = scaler.fit_transform(X)\n",
    "\n",
    "# Split into train and test (optional, just using train here)\n",
    "X_train, _, y_train, _ = train_test_split(X, y, test_size=0.2, random_state=42)\n",
    "\n",
    "# Convert to PyTorch tensors\n",
    "x = torch.tensor(X_train, dtype=torch.float32)\n",
    "y = torch.tensor(y_train, dtype=torch.float32)```"
   ]
  },
  {
   "cell_type": "code",
   "execution_count": 7,
   "id": "30ecdfff-cbbc-4e61-80a5-4273cd0bcb9a",
   "metadata": {},
   "outputs": [
    {
     "data": {
      "text/markdown": [
       "**No responses yet for `06-01`.**"
      ],
      "text/plain": [
       "<IPython.core.display.Markdown object>"
      ]
     },
     "metadata": {},
     "output_type": "display_data"
    }
   ],
   "source": [
    "show_responses(\"06-01\")"
   ]
  },
  {
   "cell_type": "code",
   "execution_count": null,
   "id": "2d57e4c9-dfc1-48c8-aa25-f1301f043833",
   "metadata": {},
   "outputs": [],
   "source": []
  }
 ],
 "metadata": {
  "kernelspec": {
   "display_name": "Python 3 (ipykernel)",
   "language": "python",
   "name": "python3"
  },
  "language_info": {
   "codemirror_mode": {
    "name": "ipython",
    "version": 3
   },
   "file_extension": ".py",
   "mimetype": "text/x-python",
   "name": "python",
   "nbconvert_exporter": "python",
   "pygments_lexer": "ipython3",
   "version": "3.11.10"
  }
 },
 "nbformat": 4,
 "nbformat_minor": 5
}
