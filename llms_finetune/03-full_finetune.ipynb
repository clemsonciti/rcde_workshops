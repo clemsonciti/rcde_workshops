{
 "cells": [
  {
   "cell_type": "markdown",
   "metadata": {},
   "source": [
    "# Full fine-tune"
   ]
  },
  {
   "cell_type": "markdown",
   "metadata": {},
   "source": [
    "Before jumping in, let's look at some of the dangers of fine-tuning."
   ]
  },
  {
   "cell_type": "code",
   "execution_count": 9,
   "metadata": {
    "tags": []
   },
   "outputs": [
    {
     "data": {
      "text/html": [
       "\n",
       "    <div id=\"pdf-container\">\n",
       "        <iframe src=\"slides/Slides_part6.pdf\" width=\"1000\" height=\"800\" onerror=\"showFallback()\" id=\"pdf-frame\"></iframe>\n",
       "    </div>\n",
       "    <div id=\"fallback-message\" style=\"display: none;\">\n",
       "        <p><strong>⚠️ Unable to load PDF.</strong></p>\n",
       "        <p>Please <a href=\"slides/Slides_part6.pdf\" target=\"_blank\">click here</a> to open it in a new tab.</p>\n",
       "    </div>\n",
       "    <script>\n",
       "        function showFallback() {\n",
       "            document.getElementById(\"pdf-container\").style.display = \"none\";\n",
       "            document.getElementById(\"fallback-message\").style.display = \"block\";\n",
       "        }\n",
       "\n",
       "        // Timeout at 1.5s\n",
       "        setTimeout(function() {\n",
       "            var iframe = document.getElementById(\"pdf-frame\");\n",
       "            if (!iframe.contentDocument || iframe.contentDocument.body.childElementCount === 0) {\n",
       "                showFallback();\n",
       "            }\n",
       "        }, 1500);\n",
       "    </script>\n",
       "    "
      ],
      "text/plain": [
       "<IPython.core.display.HTML object>"
      ]
     },
     "metadata": {},
     "output_type": "display_data"
    }
   ],
   "source": [
    "from workshop_utils import display_pdf\n",
    "\n",
    "display_pdf(\"Slides_part6.pdf\")"
   ]
  },
  {
   "cell_type": "markdown",
   "metadata": {},
   "source": [
    "Now, let's look at a brief overview of different kinds of learning paradigms, and then start jumping into the different kinds of model updates that can be used to implement any of those learning paradigms."
   ]
  },
  {
   "cell_type": "code",
   "execution_count": 10,
   "metadata": {
    "tags": []
   },
   "outputs": [
    {
     "data": {
      "text/html": [
       "\n",
       "    <div id=\"pdf-container\">\n",
       "        <iframe src=\"slides/Slides_part7.pdf\" width=\"1000\" height=\"800\" onerror=\"showFallback()\" id=\"pdf-frame\"></iframe>\n",
       "    </div>\n",
       "    <div id=\"fallback-message\" style=\"display: none;\">\n",
       "        <p><strong>⚠️ Unable to load PDF.</strong></p>\n",
       "        <p>Please <a href=\"slides/Slides_part7.pdf\" target=\"_blank\">click here</a> to open it in a new tab.</p>\n",
       "    </div>\n",
       "    <script>\n",
       "        function showFallback() {\n",
       "            document.getElementById(\"pdf-container\").style.display = \"none\";\n",
       "            document.getElementById(\"fallback-message\").style.display = \"block\";\n",
       "        }\n",
       "\n",
       "        // Timeout at 1.5s\n",
       "        setTimeout(function() {\n",
       "            var iframe = document.getElementById(\"pdf-frame\");\n",
       "            if (!iframe.contentDocument || iframe.contentDocument.body.childElementCount === 0) {\n",
       "                showFallback();\n",
       "            }\n",
       "        }, 1500);\n",
       "    </script>\n",
       "    "
      ],
      "text/plain": [
       "<IPython.core.display.HTML object>"
      ]
     },
     "metadata": {},
     "output_type": "display_data"
    }
   ],
   "source": [
    "display_pdf(\"Slides_part7.pdf\")"
   ]
  },
  {
   "cell_type": "markdown",
   "metadata": {},
   "source": [
    "Let's implement a full fine-tune."
   ]
  },
  {
   "cell_type": "code",
   "execution_count": null,
   "metadata": {},
   "outputs": [],
   "source": [
    "from datasets import load_dataset\n",
    "from transformers import (\n",
    "    AutoTokenizer,\n",
    "    AutoModelForCausalLM,\n",
    "    Trainer,\n",
    "    TrainingArguments,\n",
    ")\n",
    "import torch\n",
    "\n",
    "# Load the dataset\n",
    "ds = load_dataset(\"HuggingFaceH4/MATH-500\")\n",
    "# Split the dataset into training and validation sets\n",
    "train_val_dataset = ds[\"test\"].train_test_split(test_size=0.1)\n",
    "train_dataset = train_val_dataset[\"train\"]\n",
    "eval_dataset = train_val_dataset[\"test\"]\n",
    "\n",
    " # This example only has a test split, so we use that, for demonstration purposes.\n",
    "\n",
    " # Load the model and tokenizer\n",
    "model_name = \"Qwen/Qwen2.5-0.5B-Instruct\"\n",
    "tokenizer = AutoTokenizer.from_pretrained(model_name)\n",
    "model = AutoModelForCausalLM.from_pretrained(\n",
    "    model_name,\n",
    "    device_map={'':0} # \"auto\"\n",
    ")\n",
    "\n",
    "# The model may not have a pad token set by default, so set it (using the EOS token)\n",
    "if tokenizer.pad_token is None:\n",
    "    tokenizer.pad_token = tokenizer.eos_token"
   ]
  },
  {
   "cell_type": "code",
   "execution_count": null,
   "metadata": {},
   "outputs": [],
   "source": [
    "from workshop_utils import tokenize_and_mask, tokenize_for_generation, generate_and_print, data_collator\n",
    "\n",
    "data_collator_fn = lambda features: data_collator(features, tokenizer=tokenizer) "
   ]
  },
  {
   "cell_type": "code",
   "execution_count": null,
   "metadata": {},
   "outputs": [],
   "source": [
    "# Map the formatting function over the dataset.\n",
    "# This applies the formatting function to each example in the dataset.\n",
    "# The result is that we have a dataset where each math problem is formatted as a prompt for the model,\n",
    "# and the solution is formatted as a response that the model should generate.\n",
    "# Each example is also tokenized\n",
    "# (If your dataset is large you might use batched=True; here we keep it simple.)\n",
    "train_dataset_tokenized = train_dataset.map(tokenize_and_mask, batched=False, fn_kwargs={\"tokenizer\": tokenizer})\n",
    "eval_dataset_tokenized = eval_dataset.map(tokenize_and_mask, batched=False, fn_kwargs={\"tokenizer\": tokenizer})\n",
    "\n",
    "# Get a sample dataset so we can examine model generations before and after training\n",
    "sample_dataset = eval_dataset.select(range(3))\n",
    "sample_dataset_tokenized = sample_dataset.map(tokenize_for_generation, batched=False, fn_kwargs={\"tokenizer\": tokenizer})\n",
    "\n",
    "train_dataset_tokenized.set_format(type=\"torch\", columns=[\"input_ids\", \"labels\", \"attention_mask\"])\n",
    "eval_dataset_tokenized.set_format(type=\"torch\", columns=[\"input_ids\", \"labels\", \"attention_mask\"])\n",
    "sample_dataset_tokenized.set_format(type=\"torch\", columns=[\"input_ids\", \"attention_mask\"])"
   ]
  },
  {
   "cell_type": "code",
   "execution_count": null,
   "metadata": {
    "tags": []
   },
   "outputs": [],
   "source": [
    "!module list"
   ]
  },
  {
   "cell_type": "markdown",
   "metadata": {},
   "source": [
    "If the below code cell gives you an error `MissingCUDAException: CUDA_HOME does not exist, unable to compile CUDA op(s)`, then you need to load the `cuda` system module. When requesting an OpenOnDemand job, you should enter `cuda` in the field labeled \"List of modules to be loaded, separate by an empty space\". The the code cell just above this will show that both `anaconda3` and `cuda` are loaded."
   ]
  },
  {
   "cell_type": "code",
   "execution_count": null,
   "metadata": {},
   "outputs": [],
   "source": [
    "from transformers import Trainer, TrainingArguments\n",
    "\n",
    "# Set up training arguments.\n",
    "training_args = TrainingArguments(\n",
    "    output_dir=\"./qwen-finetuned-math\",\n",
    "    per_device_train_batch_size=4,  # Adjust as needed\n",
    "    num_train_epochs=2,\n",
    "    logging_steps=20,\n",
    "    save_steps=20,\n",
    "    fp16=True,  # Use mixed precision if supported.\n",
    "    eval_strategy=\"steps\",  # Evaluate every eval_steps\n",
    "    eval_steps=20,  # Evaluate every x steps\n",
    "    save_total_limit=1, # Only save one checkpoint\n",
    "    load_best_model_at_end=True, # Load the best model at the end of training\n",
    "    report_to=\"none\"\n",
    ")\n",
    "\n",
    "# Set up the Trainer.\n",
    "trainer = Trainer(\n",
    "    model=model,\n",
    "    args=training_args,\n",
    "    train_dataset=train_dataset_tokenized,\n",
    "    eval_dataset=eval_dataset_tokenized,\n",
    "    data_collator=data_collator_fn,\n",
    ")\n",
    "\n",
    "# Start fine-tuning.\n",
    "trainer.train()"
   ]
  },
  {
   "cell_type": "code",
   "execution_count": null,
   "metadata": {},
   "outputs": [],
   "source": [
    "# Save the model and tokenizer\n",
    "model_path = \"./qwen-finetuned-math-final\"\n",
    "model.save_pretrained(model_path)\n",
    "tokenizer.save_pretrained(model_path)\n"
   ]
  },
  {
   "cell_type": "code",
   "execution_count": null,
   "metadata": {},
   "outputs": [],
   "source": [
    "# Load the saved model\n",
    "from transformers import AutoModelForCausalLM, AutoTokenizer\n",
    "\n",
    "model_path = \"./qwen-finetuned-math-final\"\n",
    "model = AutoModelForCausalLM.from_pretrained(model_path, device_map=\"auto\")\n",
    "tokenizer = AutoTokenizer.from_pretrained(model_path)"
   ]
  },
  {
   "cell_type": "code",
   "execution_count": null,
   "metadata": {},
   "outputs": [],
   "source": [
    "# Generate and print model outputs after training\n",
    "generate_and_print(sample_dataset, sample_dataset_tokenized, model, tokenizer)"
   ]
  },
  {
   "cell_type": "code",
   "execution_count": null,
   "metadata": {},
   "outputs": [],
   "source": [
    "import gc\n",
    "import torch\n",
    "\n",
    "# Clear CUDA cache\n",
    "torch.cuda.empty_cache()\n",
    "# Garbage collection\n",
    "gc.collect()"
   ]
  },
  {
   "cell_type": "markdown",
   "metadata": {},
   "source": [
    "The `Trainer` class takes care of a lot of things under the hood. If you'd rather deal with these details directly yourself, you can avoid using the `Trainer` class and set up the training logic yourself."
   ]
  },
  {
   "cell_type": "code",
   "execution_count": null,
   "metadata": {},
   "outputs": [],
   "source": [
    "from torch.utils.data import DataLoader\n",
    "from tqdm import tqdm\n",
    "\n",
    "# Define your dataloaders using the custom data_collator to pad variable-length sequences\n",
    "train_dataloader = DataLoader(train_dataset_tokenized, batch_size=2, shuffle=True, collate_fn=data_collator_fn)\n",
    "eval_dataloader = DataLoader(eval_dataset_tokenized, batch_size=2, shuffle=False, collate_fn=data_collator_fn)\n",
    "\n",
    "# Define your optimizer\n",
    "optimizer = torch.optim.AdamW(model.parameters(), lr=5e-5)\n",
    "\n",
    "# Training loop\n",
    "num_epochs = 2\n",
    "device = model.device\n",
    "\n",
    "for epoch in range(num_epochs):\n",
    "    model.train()  # Set the model to training mode\n",
    "    total_loss = 0\n",
    "\n",
    "    for batch in tqdm(train_dataloader, desc=f\"Epoch {epoch+1}/{num_epochs}\"):\n",
    "        # Move batch tensors to the right device\n",
    "        batch = {k: v.to(device) for k, v in batch.items()}\n",
    "\n",
    "        # Forward pass\n",
    "        outputs = model(**batch)\n",
    "        loss = outputs.loss\n",
    "        total_loss += loss.item()\n",
    "\n",
    "        # Backward pass and optimization\n",
    "        optimizer.zero_grad()\n",
    "        loss.backward()\n",
    "        optimizer.step()\n",
    "\n",
    "    avg_loss = total_loss / len(train_dataloader)\n",
    "    print(f\"Epoch {epoch+1}/{num_epochs} - Average training loss: {avg_loss:.4f}\")\n",
    "\n",
    "    # Evaluation loop (optional)\n",
    "    model.eval()  # Set the model to evaluation mode\n",
    "    eval_loss = 0\n",
    "    with torch.no_grad():  # Disable gradient calculation during evaluation\n",
    "        for batch in tqdm(eval_dataloader, desc=\"Evaluating\"):\n",
    "            # Move batch tensors to the right device\n",
    "            batch = {k: v.to(device) for k, v in batch.items()}\n",
    "\n",
    "            outputs = model(**batch)\n",
    "            loss = outputs.loss\n",
    "            eval_loss += loss.item()\n",
    "\n",
    "    avg_eval_loss = eval_loss / len(eval_dataloader)\n",
    "    print(f\"Epoch {epoch+1}/{num_epochs} - Average evaluation loss: {avg_eval_loss:.4f}\")\n",
    "\n",
    "print(\"Training complete!\")"
   ]
  }
 ],
 "metadata": {
  "kernelspec": {
   "display_name": "Python (LLMsFT2)",
   "language": "python",
   "name": "llmsft2"
  },
  "language_info": {
   "codemirror_mode": {
    "name": "ipython",
    "version": 3
   },
   "file_extension": ".py",
   "mimetype": "text/x-python",
   "name": "python",
   "nbconvert_exporter": "python",
   "pygments_lexer": "ipython3",
   "version": "3.10.16"
  }
 },
 "nbformat": 4,
 "nbformat_minor": 4
}
