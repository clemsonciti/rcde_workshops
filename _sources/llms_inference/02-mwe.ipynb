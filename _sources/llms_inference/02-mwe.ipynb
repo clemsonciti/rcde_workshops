{
 "cells": [
  {
   "cell_type": "markdown",
   "metadata": {},
   "source": [
    "# Minimum working example, and what it's missing"
   ]
  },
  {
   "cell_type": "markdown",
   "metadata": {},
   "source": [
    "## Implementation\n",
    "\n",
    "After setting up our access to the Huggingface Hub (see notebook 1) -- and after requesting and receiving access to any [gated models](https://huggingface.co/docs/hub/en/models-gated) that we want to use -- we are ready to dive into the code for running these LLMs on the cluster.\n",
    "\n",
    "The below code cell constitutes a minimum working example (MWE) of LLM text generation on the cluster. Let's read through it line by line to make sure we understand what is happening."
   ]
  },
  {
   "cell_type": "code",
   "execution_count": null,
   "metadata": {
    "tags": []
   },
   "outputs": [],
   "source": [
    "from transformers import pipeline\n",
    "\n",
    "model_id = \"meta-llama/Llama-3.2-1B-Instruct\"\n",
    "\n",
    "pipe = pipeline(\n",
    "    \"text-generation\", \n",
    "    model=model_id\n",
    ")\n",
    "\n",
    "pipe(\"How do you exit Vim? I'm stuck\")"
   ]
  },
  {
   "cell_type": "markdown",
   "metadata": {},
   "source": [
    "Some limitations to note here:\n",
    "1. We aren't explicitly setting the device. Thankfully, `transformers` automatically detects our GPU and puts the model there, but it is good to be explicit.\n",
    "2. We have a strange message telling us that the `pad_token_id` is being set automatically.\n",
    "3. We little control in this code over what exactly our prompt is.\n",
    "4. We're not yet using tuneable parameters such as `temperature` or `top_k`.\n",
    "5. We're not specifying a system prompt.\n",
    "6. We're not using a chat prompt template.\n",
    "7. We're not exercising any control over what the model's outputs are.\n",
    "8. We're not using *batch processing*, which means this code will be very inefficient if we want to generate outputs for many input prompts instead of just one.\n",
    "\n",
    "In what follows, we're going to talk about each of these points, and how to set up your code in a way that demystifies what the model is doing, gives you greater control so you can achieve higher quality output, and more efficiently use compute resources.\n"
   ]
  },
  {
   "cell_type": "markdown",
   "metadata": {},
   "source": [
    "As before, we'll clear the model from memory, so we don't run into any Cuda out-of-memory errors in this notebook."
   ]
  },
  {
   "cell_type": "code",
   "execution_count": null,
   "metadata": {
    "tags": []
   },
   "outputs": [],
   "source": [
    "# Clear the pipeline from memory\n",
    "import torch\n",
    "del pipe\n",
    "torch.cuda.empty_cache()"
   ]
  },
  {
   "cell_type": "markdown",
   "metadata": {},
   "source": [
    "## Switch to directly loading model and tokenizer"
   ]
  },
  {
   "cell_type": "markdown",
   "metadata": {},
   "source": [
    "In order to have finer-grained control and insight into our code and what is happening with the model, it is recommended that we abandon the `pipeline` class and instead directly load our tokenizer and model ourselves."
   ]
  },
  {
   "cell_type": "code",
   "execution_count": null,
   "metadata": {
    "tags": []
   },
   "outputs": [],
   "source": [
    "from transformers import AutoTokenizer, AutoModelForCausalLM\n",
    "import torch\n",
    "\n",
    "# Load tokenizer and model\n",
    "tokenizer = AutoTokenizer.from_pretrained(\"meta-llama/Llama-3.2-1B-Instruct\")\n",
    "model = AutoModelForCausalLM.from_pretrained(\"meta-llama/Llama-3.2-1B-Instruct\")"
   ]
  },
  {
   "cell_type": "markdown",
   "metadata": {},
   "source": [
    "This makes things clearer because now we have our model and tokenizer as separate objects, and each of them is pretty simple. When we want complex things to happen, we want them to happen in a way that we understand and control, not in the hidden way that `pipeline` facilitates.\n",
    "\n",
    "But this does have costs. Notice that unlike `pipeline`, loading the model this way doesn't automatically put it on the GPU:"
   ]
  },
  {
   "cell_type": "code",
   "execution_count": null,
   "metadata": {
    "tags": []
   },
   "outputs": [],
   "source": [
    "print(model.device)"
   ]
  },
  {
   "cell_type": "markdown",
   "metadata": {},
   "source": [
    "So, we need to be explicit about putting it there ourselves. Let's load the model again:"
   ]
  },
  {
   "cell_type": "code",
   "execution_count": null,
   "metadata": {},
   "outputs": [],
   "source": [
    "# Clear the model from memory\n",
    "del model"
   ]
  },
  {
   "cell_type": "code",
   "execution_count": null,
   "metadata": {
    "tags": []
   },
   "outputs": [],
   "source": [
    "from transformers import AutoTokenizer, AutoModelForCausalLM\n",
    "import torch\n",
    "\n",
    "# Load tokenizer and model\n",
    "tokenizer = AutoTokenizer.from_pretrained(\"meta-llama/Llama-3.2-1B-Instruct\")\n",
    "model = AutoModelForCausalLM.from_pretrained(\"meta-llama/Llama-3.2-1B-Instruct\", device_map=\"auto\")"
   ]
  },
  {
   "cell_type": "code",
   "execution_count": null,
   "metadata": {
    "tags": []
   },
   "outputs": [],
   "source": [
    "print(model.device)"
   ]
  },
  {
   "cell_type": "markdown",
   "metadata": {},
   "source": [
    "That's better. Now, we can see the tokenizer directly in action. Let's leave the model aside, and just look at what the tokenizer does."
   ]
  },
  {
   "cell_type": "code",
   "execution_count": null,
   "metadata": {
    "scrolled": true,
    "tags": []
   },
   "outputs": [],
   "source": [
    "tokenizer('Hello world!')"
   ]
  },
  {
   "cell_type": "markdown",
   "metadata": {},
   "source": [
    "Let's look at each of these tokens individually:"
   ]
  },
  {
   "cell_type": "code",
   "execution_count": null,
   "metadata": {
    "tags": []
   },
   "outputs": [],
   "source": [
    "for i in tokenizer('Hello world!')['input_ids']:\n",
    "    decoded_token = tokenizer.decode(i)\n",
    "    print(f'Token {i}: {decoded_token}')"
   ]
  },
  {
   "cell_type": "markdown",
   "metadata": {},
   "source": [
    "So, the tokenizer has already added one token, a special beginning token that tells the model that a text document is starting. These tokenized `input_ids` are what we will provide as input to the model. The model will then try to predict (over and over) what is the *next token* that should follow the tokens that we provided."
   ]
  },
  {
   "cell_type": "code",
   "execution_count": null,
   "metadata": {
    "tags": []
   },
   "outputs": [],
   "source": [
    "tokenizer_output = tokenizer('Hello world! I am ready to', return_tensors='pt').to('cuda')\n",
    "\n",
    "model_outputs = model.generate(input_ids = tokenizer_output['input_ids'],\n",
    "                               attention_mask = tokenizer_output['attention_mask']\n",
    "                              )\n",
    "\n",
    "print(model_outputs)"
   ]
  },
  {
   "cell_type": "markdown",
   "metadata": {},
   "source": [
    "We got more token ids as output -- a sequence that starts with the tokens from our input sequence. Let's see what the tokens say, when decoded. Just to make everything as clear as possible, let's decode the tokens one at a time."
   ]
  },
  {
   "cell_type": "code",
   "execution_count": null,
   "metadata": {
    "tags": []
   },
   "outputs": [],
   "source": [
    "for i in model_outputs[0]:\n",
    "    decoded_token = tokenizer.decode(i)\n",
    "    print(f'Token {i:8}: {decoded_token}')"
   ]
  },
  {
   "cell_type": "markdown",
   "metadata": {},
   "source": [
    "Now let's see the same output printed more cleanly:"
   ]
  },
  {
   "cell_type": "code",
   "execution_count": null,
   "metadata": {
    "tags": []
   },
   "outputs": [],
   "source": [
    "print(tokenizer.decode(model_outputs[0]))"
   ]
  },
  {
   "cell_type": "markdown",
   "metadata": {},
   "source": [
    "If we don't want the special tokens in there, we can tell the tokenizer that when it decodes."
   ]
  },
  {
   "cell_type": "code",
   "execution_count": null,
   "metadata": {
    "tags": []
   },
   "outputs": [],
   "source": [
    "print(tokenizer.decode(model_outputs[0], skip_special_tokens=True))"
   ]
  },
  {
   "cell_type": "markdown",
   "metadata": {
    "tags": []
   },
   "source": [
    "## Setting inputs to `model.generate` that affect the model output"
   ]
  },
  {
   "cell_type": "markdown",
   "metadata": {},
   "source": [
    "Let's take stock of what we've seen so far. You now can use code to:\n",
    "1. Load the model\n",
    "2. Load the tokenizer\n",
    "3. Put the model on the GPU\n",
    "4. Get tokenized inputs\n",
    "5. Verify exactly what your model inputs are\n",
    "6. Get model outputs\n",
    "7. Convert your model output tokens back into natural language\n",
    "\n",
    "However, so far, we're still using default model settings. We're using a default output length, a default temperature, and a default `top_k` value. We're not using a system prompt, and we're not using a chat prompt template. We're not exercising any control over what the model's outputs are. We're not using batch processing, which means this code will be very inefficient if we want to generate outputs for many input prompts instead of just one. Let's address these issues, starting with setting explicit inputs to `model.generate` that affect the model output."
   ]
  },
  {
   "cell_type": "code",
   "execution_count": null,
   "metadata": {
    "tags": []
   },
   "outputs": [],
   "source": [
    "model_outputs = model.generate(input_ids = tokenizer_output['input_ids'],\n",
    "                               attention_mask = tokenizer_output['attention_mask'],\n",
    "                               pad_token_id = tokenizer.eos_token_id,\n",
    "                               max_new_tokens = 50,\n",
    "                               do_sample=True,\n",
    "                               temperature = 0.7,\n",
    "                               top_k = 50,\n",
    "                               )\n",
    "\n",
    "print(tokenizer.decode(model_outputs[0], skip_special_tokens=True))"
   ]
  },
  {
   "cell_type": "markdown",
   "metadata": {},
   "source": [
    "**`top_k` vs `temperature`**: These are two parameters that can be used to control the randomness of the model's output. `top_k` is a hard cutoff on the number of tokens that the model can consider for the next token. `temperature` is a soft control on the randomness of the model's output. "
   ]
  },
  {
   "cell_type": "markdown",
   "metadata": {},
   "source": [
    "There are more settings that you can rely on: see the [documentation](https://huggingface.co/docs/transformers/v4.47.1/en/main_classes/text_generation#transformers.GenerationConfig) for more information."
   ]
  },
  {
   "cell_type": "markdown",
   "metadata": {},
   "source": [
    "## Specifying a system prompt and chat template\n",
    "\n",
    "So far, we have not been using the model we've loaded \"correctly\". This model is intended to be used with a system prompt and following a very specific chat template.\n",
    "\n",
    "The model still can only ever accept inputs that are strings of tokens, but as an *instruction fine-tuned model*, this model expects those strings of tokens to represent a system prompt followed by some nonzero number of turns a conversation between a user and itself, the AI assistant. Each of those things -- the system prompt, and each turn of the conversation -- it expects to be delimited by special tokens. To explore this, let's step back and discuss *instruction fine-tuning* and then see the impact of system prompts and chat templates on the model's output."
   ]
  },
  {
   "cell_type": "markdown",
   "metadata": {
    "jp-MarkdownHeadingCollapsed": true
   },
   "source": [
    "### Instruction fine-tuning\n",
    "\n",
    "A crucial distinction when working with LLMs is between models which are, and models which are not, *instruction fine-tuned*. First, consider models which are not instruction fine-tuned. These are \"base\" LLMs, which are pure next-token predictors. They are very simply trained to do the following: Look at a string of text, and predict what comes next in that text. Base models like this can be extremely powerful for some applications.\n",
    "\n",
    "**Question:** Why would a base model tend to perform poorly in *chatbot*-style applications?\n",
    "\n",
    "Consider giving a base LLM a string of text like \"What sorts of things do tigers like to eat?\" If you encountered this text some random place on the internet, how might the text continue?\n",
    "\n",
    "Instruction fine-tuned models are base LLMs that receive an extra round of a different kind of training. This extra training no longer simply involves trying to predict what the next bit of text would be. Instruction fine-tuned models are trained to expect to generate a very, very specific form of text: text output by a helpful, intelligent AI assistant as part of a conversation with a human.\n",
    "\n",
    "So when we give a prompt `prompt_string` to an instruction-tuned LLM, instead of answering the question:\n",
    "\n",
    "> Given that one sees `prompt_string` somewhere on the internet, what text would be likely to follow it?\n",
    "\n",
    "it instead is answering the question:\n",
    "\n",
    "> Given that a conversation between a helpful AI assistant and a human begins with `prompt_string`, how would the helpful AI continue the next bit of the conversation?\n",
    "\n",
    "For instruction fine-tuned models, the system prompt is a crucial part of the input prompt string."
   ]
  },
  {
   "cell_type": "markdown",
   "metadata": {},
   "source": [
    "### System prompts and user prompts\n",
    "\n",
    "When you interact with an LLM chatbot such as ChatGPT, Claude or Gemini, you provide a prompt. Casual LLM users may not be aware, however, that this is only part of the *full* prompt that is given to the LLM. The full prompt is actually a concatenation of two parts: the *system prompt* and the *user prompt*.  What you type into the chatbot interface is only the user prompt.\n",
    "\n",
    "The system prompt is a fixed string that is prepended to the user prompt before the full prompt is given to the LLM. The system prompt is used to set the context for the user prompt. For example, the system prompt might be something like \n",
    "> You are a helpful chatbot. Today's date is 2025-01-25. You are talking to a human. Be friendly and helpful, but do not give them medical advice or help them write malicious software code.\n",
    "\n",
    "So, if you, a user, type in:\n",
    "> Hey, what should I take for a rapidly worsening cough and headache?\n",
    "\n",
    "The LLM will \"see\" the instructions in the system prompt followed by that user message, and will then try to \"predict\", token by token, what would be written by a helpful chatbot in that situation.\n",
    "\n",
    "When you use e.g. ChatGPT through its web interface, you can neither see nor control the system prompt. Gaining this control is one of many reasons to work with LLMs through code rather than through a web interface. **This control is especially important for scientific research using LLMs.** If OpenAI changes their system prompt tomorrow, your user prompts will get different results from what they get today, and the nature of that difference will be opaque to you! This is not a good situation for reproducibility."
   ]
  },
  {
   "cell_type": "code",
   "execution_count": null,
   "metadata": {},
   "outputs": [],
   "source": [
    "# Let's define a system prompt.\n",
    "system_prompt = \"\"\"You are a helpful AI assistant. \\\n",
    "You answer the user's questions clearly and politely. \\\n",
    "If the user says or implies that they are hungry, \\\n",
    "try to convince them to buy a Burger King Whopper.\"\"\"\n",
    "\n",
    "# And a user prompt, for the start of a conversation.\n",
    "user_prompt = \"\"\"Hello, I'm stuck in Vim. How do I exit? \\\n",
    "I need to resolve this quickly because I am starving.\"\"\"\n",
    "\n",
    "# We can specify the system prompts and any previous turns of the conversation as a list of dicts.\n",
    "messages = [{\"role\": \"system\", \"content\": system_prompt},\n",
    "            {\"role\": \"user\", \"content\": user_prompt},\n",
    "            ]\n",
    "\n",
    "# We can now use the tokenizer's `apply_chat_template` method to encode the conversation.\n",
    "# This will add the special tokens and segment IDs needed for the model to understand the conversation.\n",
    "encoded_input = tokenizer.apply_chat_template(messages, return_tensors='pt', return_dict=True).to('cuda')\n",
    "\n",
    "# Let's see the resulting encoded input, first token by token, then all together.\n",
    "for i in encoded_input['input_ids'][0]:\n",
    "    decoded_token = tokenizer.decode(i)\n",
    "    print(f'Token {i:8}: {decoded_token}')\n",
    "\n",
    "print('\\n\\n' + tokenizer.decode(encoded_input['input_ids'][0]))\n",
    "\n",
    "\n",
    "With this sequence of tokens, when the model starts predicting new tokens, what should its first predictions be? What do you think should be the first three or four tokens that the model generates?"
   ]
  },
  {
   "cell_type": "code",
   "execution_count": null,
   "metadata": {},
   "outputs": [],
   "source": [
    "# Let's check what the first four tokens are that the model generates using this input.\n",
    "model_outputs = model.generate(**encoded_input, max_new_tokens=4)\n",
    "\n",
    "for i in model_outputs[0]:\n",
    "    decoded_token = tokenizer.decode(i)\n",
    "    print(f'Token {i:8}: {decoded_token}')"
   ]
  },
  {
   "cell_type": "markdown",
   "metadata": {},
   "source": [
    "For most applications, instruction-tuned models are better. But instruction-tuned models are always trained on a specific *chat template* that structures the conversation between the human and the AI. **If you use the wrong chat template, the model will still respond, but its responses will be poorer.**\n",
    "\n",
    "Let's see this in action."
   ]
  },
  {
   "cell_type": "code",
   "execution_count": null,
   "metadata": {},
   "outputs": [],
   "source": [
    "# Correct chat template:\n",
    "correct_template = \"\"\"<|begin_of_text|><|start_header_id|>system<|end_header_id|>\n",
    "\n",
    "Cutting Knowledge Date: December 2023\n",
    "Today Date: 24 Jan 2025\n",
    "\n",
    "{system_prompt}<|eot_id|><|start_header_id|>user<|end_header_id|>\n",
    "\n",
    "{user_prompt}<|eot_id|>\"\"\"\n",
    "\n",
    "\n",
    "# Incorrect chat template:\n",
    "incorrect_template = \"\"\"Below is an instruction that describes a task, paired with an input that provides further context. Write a response that appropriately completes the request.\n",
    "\n",
    "### Instruction:\n",
    "{system_prompt}\n",
    "\n",
    "### Input:\n",
    "{user_prompt}\"\"\""
   ]
  },
  {
   "cell_type": "code",
   "execution_count": null,
   "metadata": {},
   "outputs": [],
   "source": [
    "# Let's use these two templates to query the model, with these system and user prompts\n",
    "system_prompt = \"You are a helpful assistant. You answer the user's questions.\"\n",
    "user_prompt = \"Can you please provide an elegant proof of Euler's formula?\"\n",
    "\n",
    "correct_template_formatted = correct_template.format(system_prompt=system_prompt, user_prompt=user_prompt)\n",
    "incorrect_input_formatted = incorrect_template.format(system_prompt=system_prompt, user_prompt=user_prompt)\n",
    "\n",
    "# from transformers import AutoTokenizer, AutoModelForCausalLM\n",
    "# import torch\n",
    "\n",
    "# # Load tokenizer and model\n",
    "# tokenizer = AutoTokenizer.from_pretrained(\"meta-llama/Llama-3.2-1B-Instruct\")\n",
    "# model = AutoModelForCausalLM.from_pretrained(\"meta-llama/Llama-3.2-1B-Instruct\", device_map=\"auto\")\n",
    "\n",
    "# Set the padding token if it's not defined (some models still need this)\n",
    "if tokenizer.pad_token is None:\n",
    "    tokenizer.pad_token = tokenizer.eos_token\n",
    "\n",
    "# Tokenize the chat templates\n",
    "correct_inputs = tokenizer(correct_template_formatted, padding=True, return_tensors='pt', add_special_tokens=False).to('cuda')\n",
    "incorrect_inputs = tokenizer(incorrect_input_formatted, padding=True, return_tensors='pt', add_special_tokens=False).to('cuda')\n",
    "\n",
    "# Generate responses for the entire batch\n",
    "correct_template_output_ids = model.generate(correct_inputs['input_ids'], \n",
    "                                             attention_mask=correct_inputs['attention_mask'], \n",
    "                                             do_sample=False,\n",
    "                                             max_new_tokens=200,\n",
    "                                             temperature=None,\n",
    "                                             pad_token_id=50256)\n",
    "\n",
    "incorrect_template_output_ids = model.generate(incorrect_inputs['input_ids'],\n",
    "                                               attention_mask=incorrect_inputs['attention_mask'],\n",
    "                                               do_sample=False,\n",
    "                                               max_new_tokens=200,\n",
    "                                               temperature=None,\n",
    "                                               pad_token_id=50256)\n",
    "\n",
    "# Decode responses\n",
    "correct_template_response = [tokenizer.decode(ids, skip_special_tokens=False) for ids in correct_template_output_ids]\n",
    "incorrect_template_response = [tokenizer.decode(ids, skip_special_tokens=False) for ids in incorrect_template_output_ids]\n",
    "\n",
    "# Print each generated response\n",
    "print(\"CORRECT TEMPLATE:\\n\" + correct_template_response[0], end='\\n\\n' + '#' * 100 + '\\n')\n",
    "print(\"INCORRECT TEMPLATE:\\n\" + incorrect_template_response[0])"
   ]
  },
  {
   "cell_type": "markdown",
   "metadata": {},
   "source": [
    "Using the correct chat template is crucial. In the case of common, popular models, Hugging Face has already provided the correct chat template for you, as it did above. But in general, you should be aware of whether a chat template was used for your model and if so, which one."
   ]
  },
  {
   "cell_type": "markdown",
   "metadata": {},
   "source": [
    "## Controlling the model's outputs"
   ]
  },
  {
   "cell_type": "markdown",
   "metadata": {},
   "source": [
    "In addition to inputs like `temperature` and `top_k` which can affect the quality of the model's generations for your use-case, there are also ways to impose more direct control over the model's outputs. For example, you can forbid certain tokens, require certain tokens, or write the beginning of the model's response yourself.\n",
    "\n",
    "Reasons for exercising this control include:\n",
    "1. Ensuring that the model's output is appropriate for your use-case.\n",
    "2. Ensuring that the model's output is safe.\n",
    "3. Making your generations more efficient by writing portions yourself instead of having the model generate them.\n",
    "4. Inducing the model to follow a certain format, or a certain style of writing."
   ]
  },
  {
   "cell_type": "code",
   "execution_count": null,
   "metadata": {
    "scrolled": true
   },
   "outputs": [],
   "source": [
    "# Forbid tokens\n",
    "\n",
    "def get_tokens_as_list(word_list):\n",
    "    \"Converts a sequence of words into a list of tokens\"\n",
    "    if word_list == []: return None\n",
    "    tokens_list = []\n",
    "    for word in word_list:\n",
    "        tokenized_word = tokenizer([word], add_special_tokens=False).input_ids[0]\n",
    "        tokens_list.append(tokenized_word)\n",
    "    return tokens_list\n",
    "\n",
    "bad_word_list = [\" vi\",  \" vim\", \" Vim\", \" VIM\", \" Vi\", \"Vim\", \"VIM\", \"(VIM)\"]\n",
    "\n",
    "bad_tokens = get_tokens_as_list(bad_word_list)\n",
    "\n",
    "# Generate a response; it should exclude our forbidden tokens.\n",
    "model_outputs = model.generate(**encoded_input, max_new_tokens=100, bad_words_ids=bad_tokens, pad_token_id=tokenizer.eos_token_id)\n",
    "\n",
    "print(tokenizer.decode(model_outputs[0], skip_special_tokens=True))"
   ]
  },
  {
   "cell_type": "code",
   "execution_count": null,
   "metadata": {},
   "outputs": [],
   "source": [
    "for i in model_outputs[0]:\n",
    "    decoded_token = tokenizer.decode(i)\n",
    "    print(f'Token {i:8}: \\\"{decoded_token}\\\"')\n",
    "\n",
    "print(\"\\nForbidden tokens:\")\n",
    "for i in bad_tokens:\n",
    "    for j in i:\n",
    "        decoded_token = tokenizer.decode(j)\n",
    "        print(f'Token {j:8}: \\\"{decoded_token}\\\"')"
   ]
  },
  {
   "cell_type": "code",
   "execution_count": null,
   "metadata": {},
   "outputs": [],
   "source": [
    "# Require tokens\n",
    "\n",
    "good_word_list = [\" Burger King\", \" Whopper\", \" delicious\"]\n",
    "good_word_list = good_word_list\n",
    "\n",
    "good_tokens = get_tokens_as_list(good_word_list)\n",
    "\n",
    "# Generate a response; it should include our required tokens.\n",
    "model_outputs = model.generate(**encoded_input, \n",
    "                               max_new_tokens=500, \n",
    "                               num_beams=15,\n",
    "                               force_words_ids=good_tokens, \n",
    "                               pad_token_id=tokenizer.eos_token_id,\n",
    "                               do_sample=False,\n",
    "                              )\n",
    "\n",
    "print(tokenizer.decode(model_outputs[0], skip_special_tokens=True))"
   ]
  },
  {
   "cell_type": "code",
   "execution_count": null,
   "metadata": {},
   "outputs": [],
   "source": [
    "# Write the beginning of the model's response - highly useful\n",
    "\n",
    "# First, let's make sure we have the correct special tokens for the model. \n",
    "example_tokens = tokenizer.apply_chat_template(messages, \n",
    "                                               return_tensors='pt', \n",
    "                                               return_dict=True, \n",
    "                                               add_generation_prompt=True).to(\"cuda\")\n",
    "\n",
    "# Now, let's get the tokens for what we want the start of the model's response to be.\n",
    "response_start_tokens = tokenizer(\"Well, before we talk about Vim, let's sort out this hunger issue. A delicious\",\n",
    "                                  return_tensors='pt',\n",
    "                                  add_special_tokens=False, # important! Otherwise we get BoS token\n",
    "                                 ).to(\"cuda\")\n",
    "\n",
    "# Combine them\n",
    "final_input_ids = torch.cat((example_tokens['input_ids'], response_start_tokens['input_ids']), dim=1)\n",
    "attention_mask = torch.cat((example_tokens['attention_mask'], response_start_tokens['attention_mask']), dim=1)\n",
    "\n",
    "# Now let's get the model to continue the response we started.\n",
    "model_outputs = model.generate(input_ids=final_input_ids,\n",
    "                               attention_mask=attention_mask,\n",
    "                               pad_token_id=tokenizer.eos_token_id,\n",
    "                               max_new_tokens=100,\n",
    "                               do_sample=False,\n",
    "                              )\n",
    "\n",
    "print(tokenizer.decode(model_outputs[0], skip_special_tokens=False))\n"
   ]
  },
  {
   "cell_type": "markdown",
   "metadata": {},
   "source": [
    "This is especially helpful when you want to enforce a certain format, such as pure JSON output."
   ]
  },
  {
   "cell_type": "code",
   "execution_count": null,
   "metadata": {},
   "outputs": [],
   "source": [
    "# And a user prompt, for the start of a conversation.\n",
    "user_prompt_JSON = \"Hello, I'm stuck in Vim. How do I exit? I need to resolve this quickly because I am starving. Please respond in JSON, with keys \\\"Vim_solution\\\" and \\\"Hunger_solution\\\".\"\n",
    "\n",
    "# We can specify the system prompts and any previous turns of the conversation as a list of dicts.\n",
    "messages_JSON = [{\"role\": \"system\", \"content\": system_prompt},\n",
    "                 {\"role\": \"user\", \"content\": user_prompt_JSON},\n",
    "                 ]\n",
    "\n",
    "encoded_input = tokenizer.apply_chat_template(messages_JSON, \n",
    "                                              return_tensors='pt', \n",
    "                                              return_dict=True,\n",
    "                                              add_generation_prompt=True,\n",
    "                                             ).to('cuda')\n",
    "\n",
    "# Now, let's get the tokens for what we want the start of the model's response to be.\n",
    "response_start_tokens = tokenizer(r'{\"Vim_solution\":',\n",
    "                                  return_tensors='pt',\n",
    "                                  add_special_tokens=False, # important! Otherwise we get BoS token\n",
    "                                 ).to(\"cuda\")\n",
    "\n",
    "# Combine them\n",
    "final_input_ids = torch.cat((encoded_input['input_ids'], response_start_tokens['input_ids']), dim=1)\n",
    "attention_mask = torch.cat((encoded_input['attention_mask'], response_start_tokens['attention_mask']), dim=1)\n",
    "\n",
    "# Now let's get the model to continue the response we started.\n",
    "model_outputs = model.generate(input_ids=final_input_ids,\n",
    "                               attention_mask=attention_mask,\n",
    "                               pad_token_id=tokenizer.eos_token_id,\n",
    "                               max_new_tokens=200,\n",
    "                               do_sample=False,\n",
    "                              )\n",
    "\n",
    "print(tokenizer.decode(model_outputs[0], skip_special_tokens=False))"
   ]
  },
  {
   "cell_type": "code",
   "execution_count": null,
   "metadata": {
    "tags": []
   },
   "outputs": [],
   "source": [
    "# Clear the model from memory\n",
    "import torch\n",
    "del model\n",
    "torch.cuda.empty_cache()"
   ]
  }
 ],
 "metadata": {
  "kernelspec": {
   "display_name": "Python 3 (ipykernel)",
   "language": "python",
   "name": "python3"
  },
  "language_info": {
   "codemirror_mode": {
    "name": "ipython",
    "version": 3
   },
   "file_extension": ".py",
   "mimetype": "text/x-python",
   "name": "python",
   "nbconvert_exporter": "python",
   "pygments_lexer": "ipython3",
   "version": "3.11.11"
  }
 },
 "nbformat": 4,
 "nbformat_minor": 4
}
