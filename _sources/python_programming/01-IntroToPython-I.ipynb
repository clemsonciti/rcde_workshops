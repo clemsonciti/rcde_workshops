{
 "cells": [
  {
   "cell_type": "markdown",
   "id": "b358fcb1",
   "metadata": {},
   "source": [
    "# Introduction to Python I\n",
    "\n",
    "Python is one the world's most popular programming languages. It is versatile and easy to learn.\n",
    "Python is widely used in :\n",
    "   1. Data Science\n",
    "   2. Machine Learning/ Deep Learning\n",
    "   3. Scientific Computing\n",
    "   4. Web development\n",
    "\n",
    "Python's creator, Guido van Rossum, name it after the BBC television show ‘Monty Python’s Flying Circus.’ and not the snake! And if you look at Python examples and code online, you will find a lot of references to the television show!\n",
    "Let's start our Python journey by running a one line program:"
   ]
  },
  {
   "cell_type": "code",
   "execution_count": 9,
   "id": "592be166",
   "metadata": {},
   "outputs": [
    {
     "name": "stdout",
     "output_type": "stream",
     "text": [
      "Hello World!\n"
     ]
    }
   ],
   "source": [
    "print(\"Hello World!\")"
   ]
  },
  {
   "cell_type": "markdown",
   "id": "66d92c2a",
   "metadata": {},
   "source": [
    "`print()` is a built-in function that prints whatever you put between the parentheses to the screen. In this case, it is printing the words/statement <mark>\"Hello World!\"</mark> to the screen."
   ]
  },
  {
   "cell_type": "markdown",
   "id": "1179df4e",
   "metadata": {},
   "source": [
    "Another example of a simple one-line operation:"
   ]
  },
  {
   "cell_type": "code",
   "execution_count": 10,
   "id": "878bd201",
   "metadata": {},
   "outputs": [
    {
     "data": {
      "text/plain": [
       "4"
      ]
     },
     "execution_count": 10,
     "metadata": {},
     "output_type": "execute_result"
    }
   ],
   "source": [
    "2+2"
   ]
  },
  {
   "cell_type": "markdown",
   "id": "f09b4b5e",
   "metadata": {},
   "source": [
    "### Jupyter Notebook commands\n",
    "Execute a cell:   \n",
    "`ctrl+enter`    \n",
    "`shift+enter`  <- execute the cell and a create new box below"
   ]
  },
  {
   "cell_type": "markdown",
   "id": "3b479db4",
   "metadata": {},
   "source": [
    "# Basic Data Types  \n",
    "  \n",
    "### Integers:    \n",
    "Whole numbers like 1, 2, 3, 4 etc.   \n",
    "### Strings:    \n",
    "Text, words, statements that are enclosed withing quotation marks `\"\"` or `''`.   \n",
    "### Floating Point:  \n",
    "Fractional or Decimal numbers like 2.3, 3.33, 4.56, 3.14159    "
   ]
  },
  {
   "cell_type": "markdown",
   "id": "61338105",
   "metadata": {},
   "source": [
    "#### Integers"
   ]
  },
  {
   "cell_type": "code",
   "execution_count": 11,
   "id": "8c04eda0",
   "metadata": {},
   "outputs": [
    {
     "data": {
      "text/plain": [
       "2"
      ]
     },
     "execution_count": 11,
     "metadata": {},
     "output_type": "execute_result"
    }
   ],
   "source": [
    "2"
   ]
  },
  {
   "cell_type": "markdown",
   "id": "2160bfdc",
   "metadata": {},
   "source": [
    "#### Floating point or decimals/fractions"
   ]
  },
  {
   "cell_type": "code",
   "execution_count": 12,
   "id": "c540cd01",
   "metadata": {},
   "outputs": [
    {
     "data": {
      "text/plain": [
       "3.14159"
      ]
     },
     "execution_count": 12,
     "metadata": {},
     "output_type": "execute_result"
    }
   ],
   "source": [
    "3.14159 "
   ]
  },
  {
   "cell_type": "markdown",
   "id": "f0920ad5",
   "metadata": {},
   "source": [
    "#### Strings "
   ]
  },
  {
   "cell_type": "code",
   "execution_count": 13,
   "id": "17f073c2",
   "metadata": {},
   "outputs": [
    {
     "data": {
      "text/plain": [
       "'a'"
      ]
     },
     "execution_count": 13,
     "metadata": {},
     "output_type": "execute_result"
    }
   ],
   "source": [
    "\"a\""
   ]
  },
  {
   "cell_type": "code",
   "execution_count": 14,
   "id": "06586ae4",
   "metadata": {},
   "outputs": [
    {
     "data": {
      "text/plain": [
       "'Hello World!'"
      ]
     },
     "execution_count": 14,
     "metadata": {},
     "output_type": "execute_result"
    }
   ],
   "source": [
    "\"Hello World!\" #this is a string"
   ]
  },
  {
   "cell_type": "markdown",
   "id": "68af0af3",
   "metadata": {},
   "source": [
    " **Note:** Comments start with `#`"
   ]
  },
  {
   "cell_type": "code",
   "execution_count": 15,
   "id": "edbe5d6a",
   "metadata": {},
   "outputs": [],
   "source": [
    "#this is a string"
   ]
  },
  {
   "cell_type": "markdown",
   "id": "8d566223",
   "metadata": {},
   "source": [
    "# Built-in Functions\n",
    "   \n",
    "\n",
    "**What is a Function??**  \n",
    "A function is a set of instructions/ code that performs a task/specific action.   \n",
    "\n",
    "Built-in functions are already defined and coded. You can access by \"calling\" them.\n",
    "\n"
   ]
  },
  {
   "cell_type": "code",
   "execution_count": 16,
   "id": "9432eab9",
   "metadata": {},
   "outputs": [
    {
     "name": "stdout",
     "output_type": "stream",
     "text": [
      "Good Morning Tigers!!\n"
     ]
    }
   ],
   "source": [
    "print(\"Good Morning Tigers!!\") #built in function"
   ]
  },
  {
   "cell_type": "code",
   "execution_count": 17,
   "id": "5ef0f3f5",
   "metadata": {},
   "outputs": [
    {
     "data": {
      "text/plain": [
       "str"
      ]
     },
     "execution_count": 17,
     "metadata": {},
     "output_type": "execute_result"
    }
   ],
   "source": [
    "type(2)\n",
    "type(3.14159)\n",
    "type(\"a\")\n",
    "type(\"sun and stars\")"
   ]
  },
  {
   "cell_type": "markdown",
   "id": "3c20bc58",
   "metadata": {},
   "source": [
    "# Variables  \n",
    "Containers for storing values!\n",
    "## Assignment of Variables   \n",
    "Storing a value in a variable"
   ]
  },
  {
   "cell_type": "code",
   "execution_count": 18,
   "id": "da96520d",
   "metadata": {},
   "outputs": [],
   "source": [
    "jar1 = \"peppers\""
   ]
  },
  {
   "cell_type": "code",
   "execution_count": 19,
   "id": "2472b43a",
   "metadata": {},
   "outputs": [
    {
     "name": "stdout",
     "output_type": "stream",
     "text": [
      "peppers\n"
     ]
    }
   ],
   "source": [
    "print(jar1)"
   ]
  },
  {
   "cell_type": "code",
   "execution_count": 20,
   "id": "3f76367c",
   "metadata": {},
   "outputs": [
    {
     "data": {
      "text/plain": [
       "str"
      ]
     },
     "execution_count": 20,
     "metadata": {},
     "output_type": "execute_result"
    }
   ],
   "source": [
    "type(jar1)"
   ]
  },
  {
   "cell_type": "code",
   "execution_count": 21,
   "id": "4a80dddc",
   "metadata": {},
   "outputs": [],
   "source": [
    "jar1 = \"sugar\""
   ]
  },
  {
   "cell_type": "code",
   "execution_count": 22,
   "id": "496fa8b2",
   "metadata": {},
   "outputs": [
    {
     "name": "stdout",
     "output_type": "stream",
     "text": [
      "sugar\n"
     ]
    }
   ],
   "source": [
    "print(jar1) #printing values stored in variable \"jar1\""
   ]
  },
  {
   "cell_type": "code",
   "execution_count": 23,
   "id": "4f42fe2b",
   "metadata": {},
   "outputs": [],
   "source": [
    "jar2 = 2  #storing an integer"
   ]
  },
  {
   "cell_type": "code",
   "execution_count": 24,
   "id": "d34cd13d",
   "metadata": {},
   "outputs": [
    {
     "name": "stdout",
     "output_type": "stream",
     "text": [
      "2\n"
     ]
    }
   ],
   "source": [
    "print(jar2)"
   ]
  },
  {
   "cell_type": "code",
   "execution_count": 25,
   "id": "6a602dc3",
   "metadata": {},
   "outputs": [
    {
     "data": {
      "text/plain": [
       "int"
      ]
     },
     "execution_count": 25,
     "metadata": {},
     "output_type": "execute_result"
    }
   ],
   "source": [
    "type(jar2)"
   ]
  },
  {
   "cell_type": "code",
   "execution_count": 26,
   "id": "e679e790",
   "metadata": {},
   "outputs": [
    {
     "data": {
      "text/plain": [
       "'jar3'"
      ]
     },
     "execution_count": 26,
     "metadata": {},
     "output_type": "execute_result"
    }
   ],
   "source": [
    "\"jar3\" # a string"
   ]
  },
  {
   "cell_type": "markdown",
   "id": "4ec6feb6",
   "metadata": {},
   "source": [
    "#### Naming variables \n",
    "**Rules/guidelines:**  \n",
    " - No spaces  \n",
    " - No Special Characters @ , ! , %  \n",
    " - Do not name variables after a function name  "
   ]
  },
  {
   "cell_type": "code",
   "execution_count": 27,
   "id": "0286e426",
   "metadata": {},
   "outputs": [],
   "source": [
    "jar_of_peppers = \"peppers\""
   ]
  },
  {
   "cell_type": "markdown",
   "id": "4ebcc24b",
   "metadata": {},
   "source": [
    "# Arithmetic Operations"
   ]
  },
  {
   "cell_type": "code",
   "execution_count": 28,
   "id": "1e01fab7",
   "metadata": {},
   "outputs": [
    {
     "data": {
      "text/plain": [
       "1.2857142857142858"
      ]
     },
     "execution_count": 28,
     "metadata": {},
     "output_type": "execute_result"
    }
   ],
   "source": [
    "#Built in Math Operations\n",
    "4.5+3.5 #Addition\n",
    "4.5-3.5 #Subtraction\n",
    "4.5*3.5 #Multiplication\n",
    "4.5/3.5 #Division"
   ]
  },
  {
   "cell_type": "code",
   "execution_count": 29,
   "id": "41409afc",
   "metadata": {},
   "outputs": [],
   "source": [
    "a = 4.49\n",
    "b = 2"
   ]
  },
  {
   "cell_type": "code",
   "execution_count": 30,
   "id": "fce59b3e",
   "metadata": {},
   "outputs": [],
   "source": [
    "a_add = a + b\n",
    "a_sub = a - b\n",
    "a_mul = a * b\n",
    "a_div = a / b"
   ]
  },
  {
   "cell_type": "code",
   "execution_count": 31,
   "id": "c2b3bfc7",
   "metadata": {
    "scrolled": true
   },
   "outputs": [
    {
     "data": {
      "text/plain": [
       "6.49"
      ]
     },
     "execution_count": 31,
     "metadata": {},
     "output_type": "execute_result"
    }
   ],
   "source": [
    "a_add"
   ]
  },
  {
   "cell_type": "code",
   "execution_count": 32,
   "id": "5d1797dc",
   "metadata": {},
   "outputs": [],
   "source": [
    "#Additional Math Operations\n",
    "a_quo = a // b #quotient\n",
    "a_mod = a % b #modulo or remainder\n",
    "a_pow = a ** b #power or exponent 2**3 = 8"
   ]
  },
  {
   "cell_type": "code",
   "execution_count": 33,
   "id": "94250e90",
   "metadata": {},
   "outputs": [
    {
     "data": {
      "text/plain": [
       "2.0"
      ]
     },
     "execution_count": 33,
     "metadata": {},
     "output_type": "execute_result"
    }
   ],
   "source": [
    "a_quo"
   ]
  },
  {
   "cell_type": "markdown",
   "id": "eb337ff3",
   "metadata": {},
   "source": [
    "# Other advanced Built-in Object/Data Types\n",
    "\n",
    "## Lists"
   ]
  },
  {
   "cell_type": "code",
   "execution_count": 34,
   "id": "0c3e64ae",
   "metadata": {},
   "outputs": [],
   "source": [
    "test_list = [1,2,3,4]"
   ]
  },
  {
   "cell_type": "code",
   "execution_count": 35,
   "id": "3c095190",
   "metadata": {},
   "outputs": [
    {
     "data": {
      "text/plain": [
       "[1, 2, 3, 4]"
      ]
     },
     "execution_count": 35,
     "metadata": {},
     "output_type": "execute_result"
    }
   ],
   "source": [
    "test_list"
   ]
  },
  {
   "cell_type": "code",
   "execution_count": 36,
   "id": "8dac9b90",
   "metadata": {},
   "outputs": [
    {
     "data": {
      "text/plain": [
       "list"
      ]
     },
     "execution_count": 36,
     "metadata": {},
     "output_type": "execute_result"
    }
   ],
   "source": [
    "type(test_list)"
   ]
  },
  {
   "cell_type": "code",
   "execution_count": 37,
   "id": "d2a3b503",
   "metadata": {},
   "outputs": [],
   "source": [
    "test_list1 = [1, \"Hello World\", 3.14159, \"a\"]"
   ]
  },
  {
   "cell_type": "code",
   "execution_count": 38,
   "id": "477a4e68",
   "metadata": {},
   "outputs": [
    {
     "data": {
      "text/plain": [
       "[1, 'Hello World', 3.14159, 'a']"
      ]
     },
     "execution_count": 38,
     "metadata": {},
     "output_type": "execute_result"
    }
   ],
   "source": [
    "test_list1"
   ]
  },
  {
   "cell_type": "code",
   "execution_count": 39,
   "id": "8e60b4dd",
   "metadata": {},
   "outputs": [
    {
     "data": {
      "text/plain": [
       "[6.49, 2.49, 8.98, 2.245]"
      ]
     },
     "execution_count": 39,
     "metadata": {},
     "output_type": "execute_result"
    }
   ],
   "source": [
    "a_list = [a_add, a_sub, a_mul, a_div]\n",
    "a_list"
   ]
  },
  {
   "cell_type": "markdown",
   "id": "38d9f759",
   "metadata": {},
   "source": [
    "## Methods \n",
    "Subset of built-in functions"
   ]
  },
  {
   "cell_type": "code",
   "execution_count": 40,
   "id": "274c92bd",
   "metadata": {},
   "outputs": [],
   "source": [
    "c = \" wednesday is today \"\n",
    "#c = 2"
   ]
  },
  {
   "cell_type": "code",
   "execution_count": 41,
   "id": "8fa9a60b",
   "metadata": {},
   "outputs": [
    {
     "name": "stdout",
     "output_type": "stream",
     "text": [
      " wednesday is today \n"
     ]
    },
    {
     "data": {
      "text/plain": [
       "str"
      ]
     },
     "execution_count": 41,
     "metadata": {},
     "output_type": "execute_result"
    }
   ],
   "source": [
    "print(c)\n",
    "type(c)"
   ]
  },
  {
   "cell_type": "markdown",
   "id": "4dfb2bde",
   "metadata": {},
   "source": [
    "Checking available Methods for strings:\n",
    "type `c.` then hit <mark>\"Tab\"</mark> twice"
   ]
  },
  {
   "cell_type": "code",
   "execution_count": null,
   "id": "0be8eabf",
   "metadata": {},
   "outputs": [],
   "source": [
    "c."
   ]
  },
  {
   "cell_type": "code",
   "execution_count": 4,
   "id": "e7e3c352",
   "metadata": {},
   "outputs": [
    {
     "data": {
      "text/plain": [
       "' WEDNESDAY IS TODAY '"
      ]
     },
     "execution_count": 4,
     "metadata": {},
     "output_type": "execute_result"
    }
   ],
   "source": [
    "#c.upper()  #Hit \"Tab\" twice\n",
    "c.upper()"
   ]
  },
  {
   "cell_type": "markdown",
   "id": "a1f877ef",
   "metadata": {},
   "source": [
    "Checking what a method does `c.upper?` and execute the code cell."
   ]
  },
  {
   "cell_type": "code",
   "execution_count": 42,
   "id": "a5b1c319",
   "metadata": {
    "scrolled": true
   },
   "outputs": [
    {
     "data": {
      "text/plain": [
       "' WEDNESDAY IS TODAY '"
      ]
     },
     "execution_count": 42,
     "metadata": {},
     "output_type": "execute_result"
    }
   ],
   "source": [
    "c.upper() #hit tab twice methods for given variable"
   ]
  },
  {
   "cell_type": "markdown",
   "id": "872d747a",
   "metadata": {},
   "source": [
    "### Information on built-in classes and object types\n",
    "type `help(str)`"
   ]
  },
  {
   "cell_type": "code",
   "execution_count": 43,
   "id": "eaad08bb",
   "metadata": {},
   "outputs": [],
   "source": [
    "#help(str)\n",
    "#help(list)"
   ]
  },
  {
   "cell_type": "code",
   "execution_count": 44,
   "id": "76c9d1d8",
   "metadata": {},
   "outputs": [
    {
     "data": {
      "text/plain": [
       "[6.49, 2.49, 8.98, 2.245]"
      ]
     },
     "execution_count": 44,
     "metadata": {},
     "output_type": "execute_result"
    }
   ],
   "source": [
    "a_list"
   ]
  },
  {
   "cell_type": "code",
   "execution_count": 45,
   "id": "a367daca",
   "metadata": {},
   "outputs": [],
   "source": [
    "a_list.append(a_quo)"
   ]
  },
  {
   "cell_type": "markdown",
   "id": "bea96a74",
   "metadata": {},
   "source": [
    "**Note:**  Running the `.append` cell twice, adds the same value twice to the list"
   ]
  },
  {
   "cell_type": "code",
   "execution_count": 46,
   "id": "ecfff679",
   "metadata": {},
   "outputs": [
    {
     "data": {
      "text/plain": [
       "[6.49, 2.49, 8.98, 2.245, 2.0]"
      ]
     },
     "execution_count": 46,
     "metadata": {},
     "output_type": "execute_result"
    }
   ],
   "source": [
    "a_list"
   ]
  },
  {
   "cell_type": "code",
   "execution_count": 47,
   "id": "bc308b8b",
   "metadata": {},
   "outputs": [
    {
     "data": {
      "text/plain": [
       "[6.49, 2.49, 8.98, 2.245]"
      ]
     },
     "execution_count": 47,
     "metadata": {},
     "output_type": "execute_result"
    }
   ],
   "source": [
    "#a_list.remove?\n",
    "a_list.remove(2.0)\n",
    "a_list"
   ]
  },
  {
   "cell_type": "code",
   "execution_count": 48,
   "id": "31cce978",
   "metadata": {},
   "outputs": [],
   "source": [
    "a_list.append(a_mod)\n",
    "a_list.append(a_pow)"
   ]
  },
  {
   "cell_type": "code",
   "execution_count": 49,
   "id": "4692ffd2",
   "metadata": {},
   "outputs": [
    {
     "data": {
      "text/plain": [
       "6"
      ]
     },
     "execution_count": 49,
     "metadata": {},
     "output_type": "execute_result"
    }
   ],
   "source": [
    "len(a_list)"
   ]
  },
  {
   "cell_type": "code",
   "execution_count": 50,
   "id": "79cbb584",
   "metadata": {},
   "outputs": [
    {
     "data": {
      "text/plain": [
       "[6.49, 2.49, 8.98, 2.245, 0.4900000000000002, 20.160100000000003]"
      ]
     },
     "execution_count": 50,
     "metadata": {},
     "output_type": "execute_result"
    }
   ],
   "source": [
    "a_list"
   ]
  },
  {
   "cell_type": "markdown",
   "id": "ef6fad95",
   "metadata": {},
   "source": [
    "Indexing:  \n",
    "\n",
    "0. Eggs  \n",
    "1. Milk  \n",
    "2. Toothpaste  \n",
    "**NOTE: the index starts at 0**"
   ]
  },
  {
   "cell_type": "code",
   "execution_count": 51,
   "id": "cffbaae2",
   "metadata": {},
   "outputs": [
    {
     "data": {
      "text/plain": [
       "6.49"
      ]
     },
     "execution_count": 51,
     "metadata": {},
     "output_type": "execute_result"
    }
   ],
   "source": [
    "a_list[0] #first value within the list"
   ]
  },
  {
   "cell_type": "code",
   "execution_count": 52,
   "id": "4de3e94e",
   "metadata": {},
   "outputs": [
    {
     "data": {
      "text/plain": [
       "8.98"
      ]
     },
     "execution_count": 52,
     "metadata": {},
     "output_type": "execute_result"
    }
   ],
   "source": [
    "a_list[2] #3rd object. "
   ]
  },
  {
   "cell_type": "code",
   "execution_count": 53,
   "id": "85b30ad8",
   "metadata": {},
   "outputs": [
    {
     "data": {
      "text/plain": [
       "20.160100000000003"
      ]
     },
     "execution_count": 53,
     "metadata": {},
     "output_type": "execute_result"
    }
   ],
   "source": [
    "a_list[-1]"
   ]
  },
  {
   "cell_type": "markdown",
   "id": "ccd5f538",
   "metadata": {},
   "source": [
    "When counting from the right, Index starts at <mark>-1</mark>"
   ]
  },
  {
   "cell_type": "code",
   "execution_count": 54,
   "id": "317779c2",
   "metadata": {},
   "outputs": [
    {
     "ename": "IndexError",
     "evalue": "list index out of range",
     "output_type": "error",
     "traceback": [
      "\u001b[1;31m---------------------------------------------------------------------------\u001b[0m",
      "\u001b[1;31mIndexError\u001b[0m                                Traceback (most recent call last)",
      "Input \u001b[1;32mIn [54]\u001b[0m, in \u001b[0;36m<cell line: 1>\u001b[1;34m()\u001b[0m\n\u001b[1;32m----> 1\u001b[0m \u001b[43ma_list\u001b[49m\u001b[43m[\u001b[49m\u001b[38;5;241;43m6\u001b[39;49m\u001b[43m]\u001b[49m\n",
      "\u001b[1;31mIndexError\u001b[0m: list index out of range"
     ]
    }
   ],
   "source": [
    "a_list[6]"
   ]
  },
  {
   "cell_type": "code",
   "execution_count": 55,
   "id": "09c4e312",
   "metadata": {
    "scrolled": true
   },
   "outputs": [
    {
     "ename": "IndexError",
     "evalue": "list index out of range",
     "output_type": "error",
     "traceback": [
      "\u001b[1;31m---------------------------------------------------------------------------\u001b[0m",
      "\u001b[1;31mIndexError\u001b[0m                                Traceback (most recent call last)",
      "Input \u001b[1;32mIn [55]\u001b[0m, in \u001b[0;36m<cell line: 1>\u001b[1;34m()\u001b[0m\n\u001b[1;32m----> 1\u001b[0m \u001b[43ma_list\u001b[49m\u001b[43m[\u001b[49m\u001b[38;5;241;43m-\u001b[39;49m\u001b[38;5;241;43m7\u001b[39;49m\u001b[43m]\u001b[49m\n",
      "\u001b[1;31mIndexError\u001b[0m: list index out of range"
     ]
    }
   ],
   "source": [
    "a_list[-7]"
   ]
  },
  {
   "cell_type": "code",
   "execution_count": 56,
   "id": "6587a840",
   "metadata": {},
   "outputs": [
    {
     "data": {
      "text/plain": [
       "[6.49, 2.49, 8.98, 2.245]"
      ]
     },
     "execution_count": 56,
     "metadata": {},
     "output_type": "execute_result"
    }
   ],
   "source": [
    "#Slicing , extracting subsets of a list\n",
    "a_list[0:4]"
   ]
  },
  {
   "cell_type": "code",
   "execution_count": 57,
   "id": "c7014f56",
   "metadata": {},
   "outputs": [
    {
     "data": {
      "text/plain": [
       "[2.245, 0.4900000000000002, 20.160100000000003]"
      ]
     },
     "execution_count": 57,
     "metadata": {},
     "output_type": "execute_result"
    }
   ],
   "source": [
    "a_list[3:]"
   ]
  },
  {
   "cell_type": "code",
   "execution_count": 58,
   "id": "51178048",
   "metadata": {},
   "outputs": [
    {
     "data": {
      "text/plain": [
       "[6.49, 2.49, 8.98]"
      ]
     },
     "execution_count": 58,
     "metadata": {},
     "output_type": "execute_result"
    }
   ],
   "source": [
    "a_list[:3]"
   ]
  },
  {
   "cell_type": "code",
   "execution_count": 59,
   "id": "2a729d3a",
   "metadata": {},
   "outputs": [
    {
     "data": {
      "text/plain": [
       "[2.49, 8.98, 2.245]"
      ]
     },
     "execution_count": 59,
     "metadata": {},
     "output_type": "execute_result"
    }
   ],
   "source": [
    "a_list[1:4]"
   ]
  },
  {
   "cell_type": "code",
   "execution_count": 60,
   "id": "b9c3d369",
   "metadata": {},
   "outputs": [
    {
     "data": {
      "text/plain": [
       "12.98"
      ]
     },
     "execution_count": 60,
     "metadata": {},
     "output_type": "execute_result"
    }
   ],
   "source": [
    "a_add*2"
   ]
  },
  {
   "cell_type": "code",
   "execution_count": 61,
   "id": "fb9042f3",
   "metadata": {},
   "outputs": [
    {
     "data": {
      "text/plain": [
       "[6.49,\n",
       " 2.49,\n",
       " 8.98,\n",
       " 2.245,\n",
       " 0.4900000000000002,\n",
       " 20.160100000000003,\n",
       " 6.49,\n",
       " 2.49,\n",
       " 8.98,\n",
       " 2.245,\n",
       " 0.4900000000000002,\n",
       " 20.160100000000003]"
      ]
     },
     "execution_count": 61,
     "metadata": {},
     "output_type": "execute_result"
    }
   ],
   "source": [
    "a_list*2"
   ]
  },
  {
   "cell_type": "markdown",
   "id": "f5c0e731",
   "metadata": {},
   "source": [
    "# \"For\" loops"
   ]
  },
  {
   "cell_type": "code",
   "execution_count": 124,
   "id": "14ac6195",
   "metadata": {
    "scrolled": true
   },
   "outputs": [
    {
     "data": {
      "text/plain": [
       "[6.49, 2.49, 8.98, 2.245, 2.0, 0.4900000000000002, 20.160100000000003]"
      ]
     },
     "execution_count": 124,
     "metadata": {},
     "output_type": "execute_result"
    }
   ],
   "source": [
    "a_list"
   ]
  },
  {
   "cell_type": "code",
   "execution_count": 136,
   "id": "cb8edf0a",
   "metadata": {},
   "outputs": [
    {
     "name": "stdout",
     "output_type": "stream",
     "text": [
      "6.49\n",
      "[12.98]\n",
      "2.49\n",
      "[12.98, 4.98]\n",
      "8.98\n",
      "[12.98, 4.98, 17.96]\n",
      "2.245\n",
      "[12.98, 4.98, 17.96, 4.49]\n",
      "2.0\n",
      "[12.98, 4.98, 17.96, 4.49, 4.0]\n",
      "0.4900000000000002\n",
      "[12.98, 4.98, 17.96, 4.49, 4.0, 0.9800000000000004]\n",
      "20.160100000000003\n",
      "[12.98, 4.98, 17.96, 4.49, 4.0, 0.9800000000000004, 40.32020000000001]\n",
      "[6.49, 2.49, 8.98, 2.245, 2.0, 0.4900000000000002, 20.160100000000003]\n"
     ]
    }
   ],
   "source": [
    "new_list=[] ##empty list\n",
    "print(new_list)\n",
    "#Indentation 4 spaces\n",
    "for obj in a_list:\n",
    "    print(obj)\n",
    "    new_list.append(2*obj)\n",
    "    print(new_list)  #contained in for loop, indented\n",
    "print(a_list) #not contained in for loop, not indented"
   ]
  },
  {
   "cell_type": "code",
   "execution_count": 129,
   "id": "198a64b6",
   "metadata": {},
   "outputs": [
    {
     "data": {
      "text/plain": [
       "[12.98, 4.98, 17.96, 4.49, 4.0, 0.9800000000000004, 40.32020000000001]"
      ]
     },
     "execution_count": 129,
     "metadata": {},
     "output_type": "execute_result"
    }
   ],
   "source": [
    "new_list"
   ]
  },
  {
   "cell_type": "code",
   "execution_count": 118,
   "id": "b60e801f",
   "metadata": {
    "scrolled": true
   },
   "outputs": [
    {
     "data": {
      "text/plain": [
       "20.160100000000003"
      ]
     },
     "execution_count": 118,
     "metadata": {},
     "output_type": "execute_result"
    }
   ],
   "source": [
    "obj"
   ]
  },
  {
   "cell_type": "markdown",
   "id": "edd45797",
   "metadata": {},
   "source": [
    "# Conditional statements"
   ]
  },
  {
   "cell_type": "code",
   "execution_count": 141,
   "id": "c53782ee",
   "metadata": {},
   "outputs": [
    {
     "name": "stdout",
     "output_type": "stream",
     "text": [
      "Value is less than 5\n"
     ]
    }
   ],
   "source": [
    "#comparison\n",
    "x = 3 #Assignment operation\n",
    "if x == 5:\n",
    "    print(\"Value is equal to 5\")\n",
    "#else if\n",
    "elif x < 5:\n",
    "        print(\"Value is less than 5\")\n",
    "else:\n",
    "    print(\"Value is greater than 5\")"
   ]
  },
  {
   "cell_type": "code",
   "execution_count": 145,
   "id": "0ed50aed",
   "metadata": {},
   "outputs": [
    {
     "name": "stdout",
     "output_type": "stream",
     "text": [
      "2 is less than 5\n",
      "3 is less than 5\n",
      "47 is greater than 5\n",
      "9 is greater than 5\n",
      "4 is less than 5\n",
      "7 is greater than 5\n",
      "8 is greater than 5\n",
      "10 is greater than 5\n",
      "1 is less than 5\n",
      "6 is greater than 5\n",
      "5 is equal to 5\n"
     ]
    }
   ],
   "source": [
    "#Combine for loops and if else condition statements\n",
    "num_list = [2,3,47,9,4,7,8,10,1,6,5]\n",
    "y = 5\n",
    "\n",
    "for num in num_list:\n",
    "    if num == y:\n",
    "        #f-strings\n",
    "        print(f\"{num} is equal to {y}\")\n",
    "    elif num < y:\n",
    "        print(f\"{num} is less than {y}\")\n",
    "    else:\n",
    "        print(f\"{num} is greater than {y}\")"
   ]
  },
  {
   "cell_type": "markdown",
   "id": "e481c178",
   "metadata": {},
   "source": [
    "List Comprehensions"
   ]
  },
  {
   "cell_type": "code",
   "execution_count": 146,
   "id": "682ea1b4",
   "metadata": {},
   "outputs": [
    {
     "name": "stdout",
     "output_type": "stream",
     "text": [
      "12.98\n",
      "4.98\n",
      "17.96\n",
      "4.49\n",
      "4.0\n",
      "0.9800000000000004\n",
      "40.32020000000001\n"
     ]
    }
   ],
   "source": [
    "#typical for loop\n",
    "for num in a_list:\n",
    "    print(num*2)"
   ]
  },
  {
   "cell_type": "code",
   "execution_count": 147,
   "id": "d212ea56",
   "metadata": {},
   "outputs": [
    {
     "name": "stdout",
     "output_type": "stream",
     "text": [
      "12.98\n",
      "4.98\n",
      "17.96\n",
      "4.49\n",
      "4.0\n",
      "0.9800000000000004\n",
      "40.32020000000001\n"
     ]
    },
    {
     "data": {
      "text/plain": [
       "[None, None, None, None, None, None, None]"
      ]
     },
     "execution_count": 147,
     "metadata": {},
     "output_type": "execute_result"
    }
   ],
   "source": [
    "#list comprehension\n",
    "[print(num*2) for num in a_list]"
   ]
  },
  {
   "cell_type": "code",
   "execution_count": 154,
   "id": "6faa1e50",
   "metadata": {},
   "outputs": [
    {
     "data": {
      "text/plain": [
       "[19.47,\n",
       " 7.470000000000001,\n",
       " 26.94,\n",
       " 6.735,\n",
       " 6.0,\n",
       " 1.4700000000000006,\n",
       " 60.480300000000014]"
      ]
     },
     "execution_count": 154,
     "metadata": {},
     "output_type": "execute_result"
    }
   ],
   "source": [
    "new_list1 = [num*3 for num in a_list]\n",
    "new_list1"
   ]
  },
  {
   "cell_type": "code",
   "execution_count": 155,
   "id": "805b6470",
   "metadata": {},
   "outputs": [],
   "source": [
    "new_list1 = [num*1.5 for num in new_list1]\n"
   ]
  },
  {
   "cell_type": "code",
   "execution_count": 156,
   "id": "f9d725ac",
   "metadata": {},
   "outputs": [
    {
     "data": {
      "text/plain": [
       "[29.205,\n",
       " 11.205000000000002,\n",
       " 40.410000000000004,\n",
       " 10.102500000000001,\n",
       " 9.0,\n",
       " 2.205000000000001,\n",
       " 90.72045000000003]"
      ]
     },
     "execution_count": 156,
     "metadata": {},
     "output_type": "execute_result"
    }
   ],
   "source": [
    "new_list1"
   ]
  }
 ],
 "metadata": {
  "kernelspec": {
   "display_name": "Python 3 (ipykernel)",
   "language": "python",
   "name": "python3"
  },
  "language_info": {
   "codemirror_mode": {
    "name": "ipython",
    "version": 3
   },
   "file_extension": ".py",
   "mimetype": "text/x-python",
   "name": "python",
   "nbconvert_exporter": "python",
   "pygments_lexer": "ipython3",
   "version": "3.9.12"
  }
 },
 "nbformat": 4,
 "nbformat_minor": 5
}
