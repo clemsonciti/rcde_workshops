{
 "cells": [
  {
   "cell_type": "markdown",
   "id": "defa673f",
   "metadata": {},
   "source": [
    "# Introduction to Python II  \n",
    "  \n",
    "In today's workshop we will learn about Python functions and popular Libraries: Numpy and Matplotlib\n"
   ]
  },
  {
   "cell_type": "code",
   "execution_count": 6,
   "id": "f552ab54",
   "metadata": {},
   "outputs": [],
   "source": [
    "#import antigravity \n",
    "#library --> collection of functions\n",
    "#function --> collection of instructions to perform a task/s"
   ]
  },
  {
   "cell_type": "markdown",
   "id": "e352f6a3",
   "metadata": {},
   "source": [
    "### Workshop Setup"
   ]
  },
  {
   "cell_type": "code",
   "execution_count": 7,
   "id": "ea8a96d8",
   "metadata": {},
   "outputs": [],
   "source": [
    "import random\n",
    "import numpy as np\n",
    "import matplotlib.pyplot as plt"
   ]
  },
  {
   "cell_type": "markdown",
   "id": "f7cd980c",
   "metadata": {},
   "source": [
    "# Functions\n",
    "\n",
    "## Creating a function from scratch"
   ]
  },
  {
   "cell_type": "markdown",
   "id": "2e46bde3",
   "metadata": {},
   "source": [
    "### A simple function"
   ]
  },
  {
   "cell_type": "markdown",
   "id": "9700a3dd",
   "metadata": {},
   "source": [
    "#### Step 1:\n",
    "\n",
    "Defining a function"
   ]
  },
  {
   "cell_type": "code",
   "execution_count": 8,
   "id": "4ceff9a0",
   "metadata": {},
   "outputs": [],
   "source": [
    "def cheerup():\n",
    "    print(\"Good Morning!\")"
   ]
  },
  {
   "cell_type": "code",
   "execution_count": 9,
   "id": "0522897a",
   "metadata": {},
   "outputs": [
    {
     "name": "stdout",
     "output_type": "stream",
     "text": [
      "Good Morning!\n"
     ]
    }
   ],
   "source": [
    "cheerup()"
   ]
  },
  {
   "cell_type": "markdown",
   "id": "44e28a08",
   "metadata": {},
   "source": [
    "#### Step 2:\n",
    "Adding a comment"
   ]
  },
  {
   "cell_type": "code",
   "execution_count": 10,
   "id": "665fce20",
   "metadata": {},
   "outputs": [],
   "source": [
    "def cheerup():\n",
    "    #Prints a greeting\n",
    "    print(\"Good Morning!\")"
   ]
  },
  {
   "cell_type": "markdown",
   "id": "dfe4d766",
   "metadata": {},
   "source": [
    "#### Step 3:\n",
    "Adding a Docstring"
   ]
  },
  {
   "cell_type": "code",
   "execution_count": 11,
   "id": "15f007de",
   "metadata": {},
   "outputs": [],
   "source": [
    "def cheerup(name = \"Tigers\"):\n",
    "    #Prints a greeting\n",
    "    '''Prints a greeting for the user'''\n",
    "    print(\"Good Morning!\")"
   ]
  },
  {
   "cell_type": "code",
   "execution_count": 12,
   "id": "6e3ed10e",
   "metadata": {},
   "outputs": [],
   "source": [
    "cheerup?"
   ]
  },
  {
   "cell_type": "markdown",
   "id": "d4f203d5",
   "metadata": {},
   "source": [
    "#### Step 4:\n",
    "Passing Arguments"
   ]
  },
  {
   "cell_type": "code",
   "execution_count": 13,
   "id": "4b0e1e3f",
   "metadata": {},
   "outputs": [],
   "source": [
    "def cheerup(name):\n",
    "    #Prints a greeting\n",
    "    '''Prints a greeting for the user'''\n",
    "    print(f\"Good Morning {name}!!\")"
   ]
  },
  {
   "cell_type": "code",
   "execution_count": 14,
   "id": "e2238283",
   "metadata": {},
   "outputs": [
    {
     "name": "stdout",
     "output_type": "stream",
     "text": [
      "Good Morning Monty!!\n"
     ]
    }
   ],
   "source": [
    "cheerup(\"Monty\")"
   ]
  },
  {
   "cell_type": "code",
   "execution_count": 15,
   "id": "29f66e75",
   "metadata": {},
   "outputs": [
    {
     "ename": "TypeError",
     "evalue": "cheerup() missing 1 required positional argument: 'name'",
     "output_type": "error",
     "traceback": [
      "\u001b[0;31m---------------------------------------------------------------------------\u001b[0m",
      "\u001b[0;31mTypeError\u001b[0m                                 Traceback (most recent call last)",
      "\u001b[0;32m/var/folders/2g/16vjth1s5y38rsg8fh0yt1_40000gp/T/ipykernel_75125/1191407940.py\u001b[0m in \u001b[0;36m<module>\u001b[0;34m\u001b[0m\n\u001b[0;32m----> 1\u001b[0;31m \u001b[0mcheerup\u001b[0m\u001b[0;34m(\u001b[0m\u001b[0;34m)\u001b[0m\u001b[0;34m\u001b[0m\u001b[0;34m\u001b[0m\u001b[0m\n\u001b[0m",
      "\u001b[0;31mTypeError\u001b[0m: cheerup() missing 1 required positional argument: 'name'"
     ]
    }
   ],
   "source": [
    "cheerup()"
   ]
  },
  {
   "cell_type": "markdown",
   "id": "e752069b",
   "metadata": {},
   "source": [
    "#### Step 5:\n",
    "Adding a default Argument"
   ]
  },
  {
   "cell_type": "code",
   "execution_count": 16,
   "id": "b679e17d",
   "metadata": {},
   "outputs": [],
   "source": [
    "def cheerup(name = \"Tigers\"):\n",
    "    #Prints a greeting\n",
    "    '''Prints a greeting for the user'''\n",
    "    print(f\"Good Morning {name}!!\")"
   ]
  },
  {
   "cell_type": "code",
   "execution_count": 17,
   "id": "bc1f7a2e",
   "metadata": {},
   "outputs": [
    {
     "name": "stdout",
     "output_type": "stream",
     "text": [
      "Good Morning Tigers!!\n"
     ]
    }
   ],
   "source": [
    "cheerup()  # Uses default value for argument"
   ]
  },
  {
   "cell_type": "code",
   "execution_count": 18,
   "id": "96d1dccb",
   "metadata": {},
   "outputs": [
    {
     "name": "stdout",
     "output_type": "stream",
     "text": [
      "Good Morning Monty!!\n"
     ]
    }
   ],
   "source": [
    "cheerup(\"Monty\")"
   ]
  },
  {
   "cell_type": "code",
   "execution_count": 19,
   "id": "6495462b",
   "metadata": {},
   "outputs": [
    {
     "name": "stdout",
     "output_type": "stream",
     "text": [
      "Good Morning 3.14!!\n"
     ]
    }
   ],
   "source": [
    "cheerup(3.14)"
   ]
  },
  {
   "cell_type": "markdown",
   "id": "c168f32e",
   "metadata": {},
   "source": [
    "### Recap: Lists"
   ]
  },
  {
   "cell_type": "code",
   "execution_count": 20,
   "id": "e6608b93",
   "metadata": {},
   "outputs": [],
   "source": [
    "#2D arrays --> List of lists\n",
    "a = [[1,2,3],\n",
    "     [2,3,4],\n",
    "     [5,6,7],\n",
    "     [5,8,9]]\n",
    "\n",
    "b = [[1,2,3,4],\n",
    "     [5,6,7,8],\n",
    "     [9,10,11,12]]"
   ]
  },
  {
   "cell_type": "code",
   "execution_count": 21,
   "id": "98a55ec2",
   "metadata": {},
   "outputs": [
    {
     "data": {
      "text/plain": [
       "list"
      ]
     },
     "execution_count": 21,
     "metadata": {},
     "output_type": "execute_result"
    }
   ],
   "source": [
    "type(a[0])"
   ]
  },
  {
   "cell_type": "code",
   "execution_count": 22,
   "id": "c04601a2",
   "metadata": {},
   "outputs": [
    {
     "data": {
      "text/plain": [
       "4"
      ]
     },
     "execution_count": 22,
     "metadata": {},
     "output_type": "execute_result"
    }
   ],
   "source": [
    "len(b[0])"
   ]
  },
  {
   "cell_type": "markdown",
   "id": "765bf966",
   "metadata": {},
   "source": [
    "### Recap: For loops, List Comprehensions"
   ]
  },
  {
   "cell_type": "code",
   "execution_count": 23,
   "id": "7743ff08",
   "metadata": {},
   "outputs": [
    {
     "name": "stdout",
     "output_type": "stream",
     "text": [
      "0\n",
      "1\n",
      "2\n",
      "3\n"
     ]
    }
   ],
   "source": [
    "for num in range(4):\n",
    "    print(num)"
   ]
  },
  {
   "cell_type": "code",
   "execution_count": 24,
   "id": "41f27dec",
   "metadata": {},
   "outputs": [
    {
     "data": {
      "text/plain": [
       "[0, 0, 0, 0]"
      ]
     },
     "execution_count": 24,
     "metadata": {},
     "output_type": "execute_result"
    }
   ],
   "source": [
    "[0 for row in range(4)]"
   ]
  },
  {
   "cell_type": "code",
   "execution_count": 25,
   "id": "537f09ed",
   "metadata": {},
   "outputs": [
    {
     "data": {
      "text/plain": [
       "[[0, 0, 0, 0], [0, 0, 0, 0], [0, 0, 0, 0], [0, 0, 0, 0]]"
      ]
     },
     "execution_count": 25,
     "metadata": {},
     "output_type": "execute_result"
    }
   ],
   "source": [
    "[[0 for col in range(4)] for row in range(4)]"
   ]
  },
  {
   "cell_type": "code",
   "execution_count": 26,
   "id": "05b373a2",
   "metadata": {},
   "outputs": [],
   "source": [
    "test = [[0 for col in range(4)] for row in range(4)]"
   ]
  },
  {
   "cell_type": "code",
   "execution_count": 27,
   "id": "1590045b",
   "metadata": {},
   "outputs": [
    {
     "data": {
      "text/plain": [
       "[[0, 0, 0, 0], [0, 0, 0, 0], [0, 0, 0, 0], [0, 0, 0, 0]]"
      ]
     },
     "execution_count": 27,
     "metadata": {},
     "output_type": "execute_result"
    }
   ],
   "source": [
    "test #initializing a matrix/2D-Array to zero"
   ]
  },
  {
   "cell_type": "markdown",
   "id": "0933e095",
   "metadata": {},
   "source": [
    "### Creating Matrix with Random numbers"
   ]
  },
  {
   "cell_type": "code",
   "execution_count": 28,
   "id": "e1c72e78",
   "metadata": {},
   "outputs": [
    {
     "data": {
      "text/plain": [
       "0.5889256775431918"
      ]
     },
     "execution_count": 28,
     "metadata": {},
     "output_type": "execute_result"
    }
   ],
   "source": [
    "random.random()"
   ]
  },
  {
   "cell_type": "code",
   "execution_count": 29,
   "id": "ebf250bd",
   "metadata": {},
   "outputs": [
    {
     "data": {
      "text/plain": [
       "[[0.01904841858110551,\n",
       "  0.40856794843651256,\n",
       "  0.4237015344083579,\n",
       "  0.5159002870954503],\n",
       " [0.19188830987094907,\n",
       "  0.6406836577700511,\n",
       "  0.8441107563371169,\n",
       "  0.5448175231004886],\n",
       " [0.4402972073918322,\n",
       "  0.29580813089509783,\n",
       "  0.3416911455699272,\n",
       "  0.5746066321486847],\n",
       " [0.1884536428513407,\n",
       "  0.5223120232280826,\n",
       "  0.5126194623515107,\n",
       "  0.2737934421533338],\n",
       " [0.45516446819413614,\n",
       "  0.29316264120710533,\n",
       "  0.9209667766637216,\n",
       "  0.8742949769692125]]"
      ]
     },
     "execution_count": 29,
     "metadata": {},
     "output_type": "execute_result"
    }
   ],
   "source": [
    "#Using List Comprehensions\n",
    "m = 5 #Row size\n",
    "n = 4 #Column size\n",
    "[[random.random() for col in range(n)] for row in range(m)]"
   ]
  },
  {
   "cell_type": "code",
   "execution_count": 30,
   "id": "7ff5e60a",
   "metadata": {},
   "outputs": [],
   "source": [
    "##Creating a function to generate random matrices\n",
    "def random_matrix(m,n):\n",
    "    out = [[random.random() for col in range(n)] for row in range(m)]\n",
    "    ##return the Random Matrix to be used elsewhere\n",
    "    ##in th eprogram\n",
    "    return out"
   ]
  },
  {
   "cell_type": "code",
   "execution_count": 31,
   "id": "bdd9ca9f",
   "metadata": {},
   "outputs": [
    {
     "data": {
      "text/plain": [
       "[[0.4360689094065805, 0.900394993531916, 0.4067655965463516],\n",
       " [0.1470437037432799, 0.6906740887550721, 0.029994897208805105],\n",
       " [0.9067333996658661, 0.8690265862176723, 0.6744283473171534],\n",
       " [0.2969922994198114, 0.9615761616182039, 0.8131958976252768]]"
      ]
     },
     "execution_count": 31,
     "metadata": {},
     "output_type": "execute_result"
    }
   ],
   "source": [
    "random_matrix(4,3)"
   ]
  },
  {
   "cell_type": "code",
   "execution_count": 32,
   "id": "19baa561",
   "metadata": {},
   "outputs": [],
   "source": [
    "#function to multiply two matrices\n",
    "def matmul_custom(A,B):\n",
    "    #Defining the dimension of the result matrix\n",
    "    rows_out = len(A)\n",
    "    cols_out = len(B[0])\n",
    "    #Initializing: assigning zero values\n",
    "    out = [[0 for col in range(cols_out)] for row in range(rows_out)]\n",
    "    for i in range(rows_out):\n",
    "        for j in range(cols_out):\n",
    "            for k in range(len(B)):\n",
    "                out[i][j] = out[i][j]+A[i][k]*B[k][j]\n",
    "    return out\n",
    "\n",
    "    "
   ]
  },
  {
   "cell_type": "code",
   "execution_count": 33,
   "id": "68ea6ae7",
   "metadata": {},
   "outputs": [
    {
     "data": {
      "text/plain": [
       "[[38, 44, 50, 56], [53, 62, 71, 80], [98, 116, 134, 152], [126, 148, 170, 192]]"
      ]
     },
     "execution_count": 33,
     "metadata": {},
     "output_type": "execute_result"
    }
   ],
   "source": [
    "matmul_custom(a,b)"
   ]
  },
  {
   "cell_type": "code",
   "execution_count": 34,
   "id": "1da5f1c3",
   "metadata": {},
   "outputs": [],
   "source": [
    "rand_a = random_matrix(400,300)\n",
    "rand_b = random_matrix(300,400)"
   ]
  },
  {
   "cell_type": "code",
   "execution_count": 35,
   "id": "6b83eb45",
   "metadata": {},
   "outputs": [
    {
     "name": "stdout",
     "output_type": "stream",
     "text": [
      "CPU times: user 8.66 s, sys: 26.1 ms, total: 8.68 s\n",
      "Wall time: 8.7 s\n"
     ]
    }
   ],
   "source": [
    "%%time\n",
    "rand_res = matmul_custom(rand_a,rand_b)"
   ]
  },
  {
   "cell_type": "markdown",
   "id": "b47f21b8",
   "metadata": {},
   "source": [
    "## Using Numpy"
   ]
  },
  {
   "cell_type": "markdown",
   "id": "0fe81832",
   "metadata": {},
   "source": [
    "`np.` is a library prefix and helps identify from which library a particular function is being used/called.   \n",
    "For example, the random function exists in the `random` library and the `numpy` library.      \n",
    "Instead of typing the entire library name, we shorten it so that it is easier to type.    \n",
    "`import numpy as np`\n"
   ]
  },
  {
   "cell_type": "code",
   "execution_count": 36,
   "id": "7b62c515",
   "metadata": {
    "tags": [
     "hide-output"
    ]
   },
   "outputs": [
    {
     "name": "stdout",
     "output_type": "stream",
     "text": [
      "Search results for 'matrix multiplication'\n",
      "------------------------------------------\n",
      "numpy.core._umath_tests.matrix_multiply\n",
      "    matrix multiplication on last two dimensions\n",
      "numpy.matrix\n",
      "    .. note:: It is no longer recommended to use this class, even for linear\n",
      "numpy.matmul\n",
      "    Matrix product of two arrays.\n",
      "numpy.linalg.matrix_power\n",
      "    Raise a square matrix to the (integer) power `n`.\n",
      "numpy.dot\n",
      "    Dot product of two arrays. Specifically,\n",
      "numpy.einsum\n",
      "    einsum(subscripts, *operands, out=None, dtype=None, order='K',\n",
      "numpy.vectorize\n",
      "    vectorize(pyfunc, otypes=None, doc=None, excluded=None, cache=False,\n",
      "numpy.linalg.multi_dot\n",
      "    Compute the dot product of two or more arrays in a single function call,\n",
      "numpy.core._multiarray_umath.dot\n",
      "    Dot product of two arrays. Specifically,\n",
      "numpy.core._multiarray_umath.c_einsum\n",
      "    c_einsum(subscripts, *operands, out=None, dtype=None, order='K',"
     ]
    }
   ],
   "source": [
    "np.lookfor(\"matrix multiplication\")"
   ]
  },
  {
   "cell_type": "code",
   "execution_count": 37,
   "id": "c479b6a0",
   "metadata": {},
   "outputs": [
    {
     "name": "stdout",
     "output_type": "stream",
     "text": [
      "CPU times: user 22.7 ms, sys: 10 ms, total: 32.8 ms\n",
      "Wall time: 23.3 ms\n"
     ]
    }
   ],
   "source": [
    "%%time\n",
    "rand_npres = np.matmul(rand_a, rand_b)"
   ]
  },
  {
   "cell_type": "code",
   "execution_count": 38,
   "id": "b17c60e6",
   "metadata": {},
   "outputs": [
    {
     "name": "stdout",
     "output_type": "stream",
     "text": [
      "15.3 ms ± 2.14 ms per loop (mean ± std. dev. of 7 runs, 100 loops each)\n"
     ]
    }
   ],
   "source": [
    "%timeit rand_npres = np.matmul(rand_a, rand_b)"
   ]
  },
  {
   "cell_type": "markdown",
   "id": "f183a580",
   "metadata": {},
   "source": [
    "**Note:**  \n",
    "Jupyter/IPython Magic Commands  \n",
    "`%%time` is a cell magic command that gives you the total time it took to execute the contents of a cell.  \n",
    "`%timeit` is a line magic command that tells you average time it takes to run a line of code.   "
   ]
  },
  {
   "cell_type": "code",
   "execution_count": 39,
   "id": "6229985a",
   "metadata": {
    "tags": [
     "hide-output"
    ]
   },
   "outputs": [
    {
     "name": "stdout",
     "output_type": "stream",
     "text": [
      "Search results for 'random'\n",
      "---------------------------\n",
      "numpy.random.ranf\n",
      "    This is an alias of `random_sample`. See `random_sample`  for the complete\n",
      "numpy.random.PCG64\n",
      "    BitGenerator for the PCG-64 pseudo-random number generator.\n",
      "numpy.random.Philox\n",
      "    Container for the Philox (4x64) pseudo-random number generator.\n",
      "numpy.random.sample\n",
      "    This is an alias of `random_sample`. See `random_sample`  for the complete\n",
      "numpy.random.MT19937\n",
      "    Container for the Mersenne Twister pseudo-random number generator.\n",
      "numpy.random.PCG64DXSM\n",
      "    BitGenerator for the PCG-64 DXSM pseudo-random number generator.\n",
      "numpy.matlib.rand\n",
      "    Return a matrix of random values with given shape.\n",
      "numpy.matlib.randn\n",
      "    Return a random matrix with data from the \"standard normal\" distribution.\n",
      "numpy.random.RandomState\n",
      "    Container for the slow Mersenne Twister pseudo-random number generator.\n",
      "numpy.random.Generator.bytes\n",
      "    bytes(length)\n",
      "numpy.random.Generator.choice\n",
      "    Generates a random sample from a given array\n",
      "numpy.random.Generator.normal\n",
      "    Draw random samples from a normal (Gaussian) distribution.\n",
      "numpy.random.Generator.random\n",
      "    Return random floats in the half-open interval [0.0, 1.0).\n",
      "numpy.random.RandomState.rand\n",
      "    Random values in a given shape.\n",
      "numpy.random.RandomState.bytes\n",
      "    bytes(length)\n",
      "numpy.random.Generator.integers\n",
      "    Return random integers from `low` (inclusive) to `high` (exclusive), or\n",
      "numpy.random.Generator.permuted\n",
      "    Randomly permute `x` along axis `axis`.\n",
      "numpy.random.RandomState.choice\n",
      "    Generates a random sample from a given 1-D array\n",
      "numpy.random.RandomState.normal\n",
      "    Draw random samples from a normal (Gaussian) distribution.\n",
      "numpy.random.RandomState.random\n",
      "    Return random floats in the half-open interval [0.0, 1.0). Alias for\n",
      "numpy.random.RandomState.randint\n",
      "    Return random integers from `low` (inclusive) to `high` (exclusive).\n",
      "numpy.random.RandomState.tomaxint\n",
      "    Return a sample of uniformly distributed random integers in the interval\n",
      "numpy.random.Generator.permutation\n",
      "    Randomly permute a sequence, or return a permuted range.\n",
      "numpy.random.BitGenerator.random_raw\n",
      "    Return randoms as generated by the underlying BitGenerator\n",
      "numpy.random.RandomState.permutation\n",
      "    permutation(x)\n",
      "numpy.random.RandomState.random_sample\n",
      "    Return random floats in the half-open interval [0.0, 1.0).\n",
      "numpy.random._pickle.__randomstate_ctor\n",
      "    Pickling helper function that returns a legacy RandomState-like object\n",
      "numpy.random.RandomState.random_integers\n",
      "    Random integers of type `np.int_` between `low` and `high`, inclusive.\n",
      "numpy.flip\n",
      "    Reverse the order of elements in an array along the given axis.\n",
      "numpy.poly\n",
      "    Find the coefficients of a polynomial with the given sequence of roots.\n",
      "numpy.sort\n",
      "    Return a sorted copy of an array.\n",
      "numpy.stack\n",
      "    Join a sequence of arrays along a new axis.\n",
      "numpy.random.RandomState.multivariate_normal\n",
      "    Draw random samples from a multivariate normal distribution.\n",
      "numpy.fliplr\n",
      "    Reverse the order of elements along axis 1 (left/right).\n",
      "numpy.flipud\n",
      "    Reverse the order of elements along axis 0 (up/down).\n",
      "numpy.ndarray\n",
      "    ndarray(shape, dtype=float, buffer=None, offset=0,\n",
      "numpy.convolve\n",
      "    Returns the discrete, linear convolution of two one-dimensional sequences.\n",
      "numpy.corrcoef\n",
      "    Return Pearson product-moment correlation coefficients.\n",
      "numpy.histogram\n",
      "    Compute the histogram of a dataset.\n",
      "numpy.einsum_path\n",
      "    Evaluates the lowest cost contraction order for an einsum expression by\n",
      "numpy.histogram2d\n",
      "    Compute the bi-dimensional histogram of two data samples.\n",
      "numpy.histogramdd\n",
      "    Compute the multidimensional histogram of some data.\n",
      "numpy.random.SFC64\n",
      "    BitGenerator for Chris Doty-Humphrey's Small Fast Chaotic PRNG.\n",
      "numpy.fft.fftn\n",
      "    Compute the N-dimensional discrete Fourier Transform.\n",
      "numpy.fft.ifft\n",
      "    Compute the one-dimensional inverse discrete Fourier Transform.\n",
      "numpy.fft.ifftn\n",
      "    Compute the N-dimensional inverse discrete Fourier Transform.\n",
      "numpy.ma.stack\n",
      "    Join a sequence of arrays along a new axis.\n",
      "numpy.linalg.qr\n",
      "    Compute the qr factorization of a matrix.\n",
      "numpy.linalg.svd\n",
      "    Singular Value Decomposition.\n",
      "numpy.savez_compressed\n",
      "    Save several arrays into a single file in compressed ``.npz`` format.\n",
      "numpy.random.Generator\n",
      "    Generator(bit_generator)\n",
      "numpy.linalg.pinv\n",
      "    Compute the (Moore-Penrose) pseudo-inverse of a matrix.\n",
      "numpy.matlib.empty\n",
      "    Return a new matrix of given shape and type, without initializing entries.\n",
      "numpy.chararray.item\n",
      "    a.item(*args)\n",
      "numpy.random.default_rng\n",
      "    Construct a new Generator with the default BitGenerator (PCG64).\n",
      "numpy.set_string_function\n",
      "    Set a Python function to be used when pretty printing arrays.\n",
      "numpy.random.BitGenerator\n",
      "    Base Class for generic BitGenerators, which provide a stream\n",
      "numpy.random.SeedSequence\n",
      "    SeedSequence mixes sources of entropy in a reproducible way to set the\n",
      "numpy.linalg.eigvals\n",
      "    Compute the eigenvalues of a general matrix.\n",
      "numpy.chararray.itemset\n",
      "    a.itemset(*args)\n",
      "numpy.linalg.multi_dot\n",
      "    Compute the dot product of two or more arrays in a single function call,\n",
      "numpy.linalg.tensorinv\n",
      "    Compute the 'inverse' of an N-dimensional array.\n",
      "numpy.random.tests.test_random.TestRandint.rfunc\n",
      "    Return random integers from `low` (inclusive) to `high` (exclusive).\n",
      "numpy.linalg.tensorsolve\n",
      "    Solve the tensor equation ``a x = b`` for x.\n",
      "numpy.random.Generator.f\n",
      "    Draw samples from an F distribution.\n",
      "numpy.distutils.read_config\n",
      "    Return library info for a package from its configuration file.\n",
      "numpy.random.PCG64.jumped\n",
      "    Returns a new bit generator with the state jumped.\n",
      "numpy.random.PCG64.advance\n",
      "    advance(delta)\n",
      "numpy.random.Philox.jumped\n",
      "    Returns a new bit generator with the state jumped\n",
      "numpy.random.RandomState.f\n",
      "    Draw samples from an F distribution.\n",
      "numpy.random.Generator.wald\n",
      "    Draw samples from a Wald, or inverse Gaussian, distribution.\n",
      "numpy.random.Generator.zipf\n",
      "    Draw samples from a Zipf distribution.\n",
      "numpy.random.MT19937.jumped\n",
      "    Returns a new bit generator with the state jumped\n",
      "numpy.random.Philox.advance\n",
      "    advance(delta)\n",
      "numpy.random.Generator.gamma\n",
      "    Draw samples from a Gamma distribution.\n",
      "numpy.random.Generator.power\n",
      "    Draws samples in [0, 1] from a power distribution with positive\n",
      "numpy.random.Generator.gumbel\n",
      "    Draw samples from a Gumbel distribution.\n",
      "numpy.testing.tests.test_doctesting.check_random_directive\n",
      "    >>> 2+2\n",
      "numpy.random.Generator.pareto\n",
      "    Draw samples from a Pareto II or Lomax distribution with\n",
      "numpy.random.PCG64DXSM.jumped\n",
      "    Returns a new bit generator with the state jumped.\n",
      "numpy.random.RandomState.beta\n",
      "    Draw samples from a Beta distribution.\n",
      "numpy.random.RandomState.seed\n",
      "    Reseed a legacy MT19937 BitGenerator\n",
      "numpy.random.RandomState.wald\n",
      "    Draw samples from a Wald, or inverse Gaussian, distribution.\n",
      "numpy.random.RandomState.zipf\n",
      "    Draw samples from a Zipf distribution.\n",
      "numpy.random.Generator.laplace\n",
      "    Draw samples from the Laplace or double exponential distribution with\n",
      "numpy.random.Generator.poisson\n",
      "    Draw samples from a Poisson distribution.\n",
      "numpy.random.Generator.shuffle\n",
      "    Modify an array or sequence in-place by shuffling its contents.\n",
      "numpy.random.Generator.uniform\n",
      "    Draw samples from a uniform distribution.\n",
      "numpy.random.Generator.weibull\n",
      "    Draw samples from a Weibull distribution.\n",
      "numpy.random.PCG64DXSM.advance\n",
      "    advance(delta)\n",
      "numpy.random.RandomState.gamma\n",
      "    Draw samples from a Gamma distribution.\n",
      "numpy.random.RandomState.power\n",
      "    Draws samples in [0, 1] from a power distribution with positive\n",
      "numpy.random.RandomState.randn\n",
      "    Return a sample (or samples) from the \"standard normal\" distribution.\n",
      "numpy.random.Generator.binomial\n",
      "    Draw samples from a binomial distribution.\n",
      "numpy.random.Generator.logistic\n",
      "    Draw samples from a logistic distribution.\n",
      "numpy.random.Generator.rayleigh\n",
      "    Draw samples from a Rayleigh distribution.\n",
      "numpy.random.Generator.vonmises\n",
      "    Draw samples from a von Mises distribution.\n",
      "numpy.random.RandomState.gumbel\n",
      "    Draw samples from a Gumbel distribution.\n",
      "numpy.random.RandomState.pareto\n",
      "    Draw samples from a Pareto II or Lomax distribution with\n",
      "numpy.random.Generator.chisquare\n",
      "    Draw samples from a chi-square distribution.\n",
      "numpy.random.Generator.dirichlet\n",
      "    Draw samples from the Dirichlet distribution.\n",
      "numpy.random.Generator.geometric\n",
      "    Draw samples from the geometric distribution.\n",
      "numpy.random.Generator.lognormal\n",
      "    Draw samples from a log-normal distribution.\n",
      "numpy.random.Generator.logseries\n",
      "    Draw samples from a logarithmic series distribution.\n",
      "numpy.random.RandomState.laplace\n",
      "    Draw samples from the Laplace or double exponential distribution with\n",
      "numpy.random.RandomState.poisson\n",
      "    Draw samples from a Poisson distribution.\n",
      "numpy.random.RandomState.shuffle\n",
      "    shuffle(x)\n",
      "numpy.random.RandomState.uniform\n",
      "    Draw samples from a uniform distribution.\n",
      "numpy.random.RandomState.weibull\n",
      "    Draw samples from a Weibull distribution.\n",
      "numpy.random.Generator.standard_t\n",
      "    Draw samples from a standard Student's t distribution with `df` degrees\n",
      "numpy.random.Generator.triangular\n",
      "    Draw samples from the triangular distribution over the\n",
      "numpy.random.RandomState.binomial\n",
      "    Draw samples from a binomial distribution.\n",
      "numpy.random.RandomState.logistic\n",
      "    Draw samples from a logistic distribution.\n",
      "numpy.random.RandomState.rayleigh\n",
      "    Draw samples from a Rayleigh distribution.\n",
      "numpy.random.RandomState.vonmises\n",
      "    Draw samples from a von Mises distribution.\n",
      "numpy.random.Generator.exponential\n",
      "    Draw samples from an exponential distribution.\n",
      "numpy.random.tests.test_generator_mt19937.TestIntegers.rfunc\n",
      "    Return random integers from `low` (inclusive) to `high` (exclusive), or\n",
      "numpy.random.Generator.multinomial\n",
      "    Draw samples from a multinomial distribution.\n",
      "numpy.random.RandomState.chisquare\n",
      "    Draw samples from a chi-square distribution.\n",
      "numpy.random.RandomState.dirichlet\n",
      "    Draw samples from the Dirichlet distribution.\n",
      "numpy.random.RandomState.geometric\n",
      "    Draw samples from the geometric distribution.\n",
      "numpy.random.RandomState.get_state\n",
      "    get_state()\n",
      "numpy.random.RandomState.lognormal\n",
      "    Draw samples from a log-normal distribution.\n",
      "numpy.random.RandomState.logseries\n",
      "    Draw samples from a logarithmic series distribution.\n",
      "numpy.random.RandomState.set_state\n",
      "    set_state(state)\n",
      "numpy.polynomial.Hermite._fit\n",
      "    Least squares fit of Hermite series to data.\n",
      "numpy.random.Generator.noncentral_f\n",
      "    Draw samples from the noncentral F distribution.\n",
      "numpy.random.RandomState.standard_t\n",
      "    Draw samples from a standard Student's t distribution with `df` degrees\n",
      "numpy.random.RandomState.triangular\n",
      "    Draw samples from the triangular distribution over the\n",
      "numpy.polynomial.HermiteE._fit\n",
      "    Least squares fit of Hermite series to data.\n",
      "numpy.polynomial.Laguerre._fit\n",
      "    Least squares fit of Laguerre series to data.\n",
      "numpy.random.MT19937._legacy_seeding\n",
      "    _legacy_seeding(seed)\n",
      "numpy.random.RandomState.exponential\n",
      "    Draw samples from an exponential distribution.\n",
      "numpy.random.RandomState.multinomial\n",
      "    Draw samples from a multinomial distribution.\n",
      "numpy.random.Generator.hypergeometric\n",
      "    Draw samples from a Hypergeometric distribution.\n",
      "numpy.random.Generator.standard_gamma\n",
      "    Draw samples from a standard Gamma distribution.\n",
      "numpy.random.RandomState.noncentral_f\n",
      "    Draw samples from the noncentral F distribution.\n",
      "numpy.polynomial.Polynomial._fit\n",
      "    Least-squares fit of a polynomial to data.\n",
      "numpy.random.Generator.standard_cauchy\n",
      "    Draw samples from a standard Cauchy distribution with mode = 0.\n",
      "numpy.random.Generator.standard_normal\n",
      "    Draw samples from a standard Normal distribution (mean=0, stdev=1).\n",
      "numpy.random.RandomState.hypergeometric\n",
      "    Draw samples from a Hypergeometric distribution.\n",
      "numpy.random.RandomState.standard_gamma\n",
      "    Draw samples from a standard Gamma distribution.\n",
      "numpy.random.Generator.negative_binomial\n",
      "    Draw samples from a negative binomial distribution.\n",
      "numpy.random.RandomState.standard_cauchy\n",
      "    Draw samples from a standard Cauchy distribution with mode = 0.\n",
      "numpy.random.RandomState.standard_normal\n",
      "    Draw samples from a standard Normal distribution (mean=0, stdev=1).\n",
      "numpy.random.Generator.multivariate_normal\n",
      "    multivariate_normal(mean, cov, size=None, check_valid='warn',\n",
      "numpy.random.RandomState.negative_binomial\n",
      "    Draw samples from a negative binomial distribution.\n",
      "numpy.random.Generator.noncentral_chisquare\n",
      "    Draw samples from a noncentral chi-square distribution.\n",
      "numpy.random.Generator.standard_exponential\n",
      "    Draw samples from the standard exponential distribution.\n",
      "numpy.random.RandomState.noncentral_chisquare\n",
      "    Draw samples from a noncentral chi-square distribution.\n",
      "numpy.random.RandomState.standard_exponential\n",
      "    Draw samples from the standard exponential distribution.\n",
      "numpy.random.Generator.multivariate_hypergeometric\n",
      "    multivariate_hypergeometric(colors, nsample, size=None,\n",
      "numpy.ma.tests.test_subclassing.SubArray\n",
      "    ndarray(shape, dtype=float, buffer=None, offset=0,\n",
      "numpy.core.tests.test_function_base.PhysicalQuantity2\n",
      "    ndarray(shape, dtype=float, buffer=None, offset=0,\n",
      "numpy.lib.tests.test_stride_tricks.SimpleSubClass\n",
      "    ndarray(shape, dtype=float, buffer=None, offset=0,\n",
      "numpy.ma.tests.test_subclassing.ComplicatedSubArray\n",
      "    ndarray(shape, dtype=float, buffer=None, offset=0,\n",
      "numpy.lib.tests.test_stride_tricks.VerySimpleSubClass\n",
      "    ndarray(shape, dtype=float, buffer=None, offset=0,\n",
      "numpy.core.tests.test_multiarray.TestArrayPriority.Foo\n",
      "    ndarray(shape, dtype=float, buffer=None, offset=0,\n",
      "numpy.core.tests.test_multiarray.TestArrayPriority.Bar\n",
      "    ndarray(shape, dtype=float, buffer=None, offset=0,"
     ]
    }
   ],
   "source": [
    "np.lookfor(\"random\")"
   ]
  },
  {
   "cell_type": "code",
   "execution_count": 40,
   "id": "a8fb14a7",
   "metadata": {},
   "outputs": [
    {
     "name": "stdout",
     "output_type": "stream",
     "text": [
      "<class 'list'>\n"
     ]
    }
   ],
   "source": [
    "a_list = [1,2,3,4]\n",
    "print(type(a_list))"
   ]
  },
  {
   "cell_type": "code",
   "execution_count": 41,
   "id": "ea3430b9",
   "metadata": {},
   "outputs": [
    {
     "name": "stdout",
     "output_type": "stream",
     "text": [
      "<class 'numpy.ndarray'>\n"
     ]
    }
   ],
   "source": [
    "a_np = np.array(a_list) # converting a list to a numpy array\n",
    "print(type(a_np))"
   ]
  },
  {
   "cell_type": "code",
   "execution_count": 42,
   "id": "8e11ebb9",
   "metadata": {},
   "outputs": [
    {
     "data": {
      "text/plain": [
       "[1, 2, 3, 4, 1, 2, 3, 4]"
      ]
     },
     "execution_count": 42,
     "metadata": {},
     "output_type": "execute_result"
    }
   ],
   "source": [
    "a_list * 2"
   ]
  },
  {
   "cell_type": "code",
   "execution_count": 43,
   "id": "756259c1",
   "metadata": {},
   "outputs": [
    {
     "data": {
      "text/plain": [
       "array([2, 4, 6, 8])"
      ]
     },
     "execution_count": 43,
     "metadata": {},
     "output_type": "execute_result"
    }
   ],
   "source": [
    "a_np * 2"
   ]
  },
  {
   "cell_type": "code",
   "execution_count": 44,
   "id": "d47db322",
   "metadata": {},
   "outputs": [],
   "source": [
    "b_np = np.array([1,1,1,1])"
   ]
  },
  {
   "cell_type": "code",
   "execution_count": 45,
   "id": "ea85deac",
   "metadata": {},
   "outputs": [
    {
     "data": {
      "text/plain": [
       "array([2, 3, 4, 5])"
      ]
     },
     "execution_count": 45,
     "metadata": {},
     "output_type": "execute_result"
    }
   ],
   "source": [
    "a_np + b_np  #elementwise operation"
   ]
  },
  {
   "cell_type": "code",
   "execution_count": 46,
   "id": "752ecafe",
   "metadata": {},
   "outputs": [
    {
     "data": {
      "text/plain": [
       "[1, 2, 3, 4, 1, 1, 1, 1]"
      ]
     },
     "execution_count": 46,
     "metadata": {},
     "output_type": "execute_result"
    }
   ],
   "source": [
    "a_list + [1,1,1,1]  #concatenation"
   ]
  },
  {
   "cell_type": "code",
   "execution_count": 47,
   "id": "851d6ac8",
   "metadata": {},
   "outputs": [
    {
     "data": {
      "text/plain": [
       "array([0, 1, 2, 3, 4])"
      ]
     },
     "execution_count": 47,
     "metadata": {},
     "output_type": "execute_result"
    }
   ],
   "source": [
    "np.arange(5)"
   ]
  },
  {
   "cell_type": "code",
   "execution_count": 48,
   "id": "c605903c",
   "metadata": {},
   "outputs": [
    {
     "data": {
      "text/plain": [
       "array([0, 1, 2, 3, 4, 5, 6, 7, 8, 9])"
      ]
     },
     "execution_count": 48,
     "metadata": {},
     "output_type": "execute_result"
    }
   ],
   "source": [
    "new_np = np.arange(10)\n",
    "new_np"
   ]
  },
  {
   "cell_type": "code",
   "execution_count": 49,
   "id": "098dc2b4",
   "metadata": {},
   "outputs": [
    {
     "data": {
      "text/plain": [
       "4.5"
      ]
     },
     "execution_count": 49,
     "metadata": {},
     "output_type": "execute_result"
    }
   ],
   "source": [
    "#Calculate some basic stats on numpy arrays\n",
    "#new_np.max()\n",
    "#new_np.min()\n",
    "new_np.mean()"
   ]
  },
  {
   "cell_type": "code",
   "execution_count": 50,
   "id": "d9f457f3",
   "metadata": {},
   "outputs": [
    {
     "data": {
      "text/plain": [
       "array([[0., 0., 0., 0.],\n",
       "       [0., 0., 0., 0.],\n",
       "       [0., 0., 0., 0.]])"
      ]
     },
     "execution_count": 50,
     "metadata": {},
     "output_type": "execute_result"
    }
   ],
   "source": [
    "#Zero matrix or Array\n",
    "#No more list comprehension to initialize a zero matrix\n",
    "a_zeros = np.zeros((3,4))\n",
    "a_zeros"
   ]
  },
  {
   "cell_type": "code",
   "execution_count": 51,
   "id": "1972ee8d",
   "metadata": {},
   "outputs": [
    {
     "data": {
      "text/plain": [
       "numpy.ndarray"
      ]
     },
     "execution_count": 51,
     "metadata": {},
     "output_type": "execute_result"
    }
   ],
   "source": [
    "type(a_zeros)"
   ]
  },
  {
   "cell_type": "code",
   "execution_count": 52,
   "id": "98250374",
   "metadata": {},
   "outputs": [
    {
     "data": {
      "text/plain": [
       "array([[1., 1., 1., 1., 1.],\n",
       "       [1., 1., 1., 1., 1.],\n",
       "       [1., 1., 1., 1., 1.],\n",
       "       [1., 1., 1., 1., 1.],\n",
       "       [1., 1., 1., 1., 1.]])"
      ]
     },
     "execution_count": 52,
     "metadata": {},
     "output_type": "execute_result"
    }
   ],
   "source": [
    "a_ones = np.ones((5,5))\n",
    "a_ones"
   ]
  },
  {
   "cell_type": "code",
   "execution_count": 53,
   "id": "53de25f0",
   "metadata": {},
   "outputs": [
    {
     "data": {
      "text/plain": [
       "array([[1., 0., 0., 0., 0.],\n",
       "       [0., 1., 0., 0., 0.],\n",
       "       [0., 0., 1., 0., 0.],\n",
       "       [0., 0., 0., 1., 0.],\n",
       "       [0., 0., 0., 0., 1.]])"
      ]
     },
     "execution_count": 53,
     "metadata": {},
     "output_type": "execute_result"
    }
   ],
   "source": [
    "#Identity Matrix\n",
    "np.identity(5) #np.eye(5)"
   ]
  },
  {
   "cell_type": "code",
   "execution_count": 54,
   "id": "f9612c05",
   "metadata": {},
   "outputs": [
    {
     "data": {
      "text/plain": [
       "array([0, 1, 2, 3, 4, 5, 6, 7, 8, 9])"
      ]
     },
     "execution_count": 54,
     "metadata": {},
     "output_type": "execute_result"
    }
   ],
   "source": [
    "new_np"
   ]
  },
  {
   "cell_type": "code",
   "execution_count": 55,
   "id": "b43ed367",
   "metadata": {},
   "outputs": [
    {
     "data": {
      "text/plain": [
       "array([0, 1, 2, 3, 4, 5, 6, 7, 8, 9])"
      ]
     },
     "execution_count": 55,
     "metadata": {},
     "output_type": "execute_result"
    }
   ],
   "source": [
    "new_np.T #transpose"
   ]
  },
  {
   "cell_type": "code",
   "execution_count": 56,
   "id": "dbe0154e",
   "metadata": {},
   "outputs": [
    {
     "data": {
      "text/plain": [
       "array([[0, 1, 2, 3, 4],\n",
       "       [5, 6, 7, 8, 9]])"
      ]
     },
     "execution_count": 56,
     "metadata": {},
     "output_type": "execute_result"
    }
   ],
   "source": [
    "#Change dimensions of array\n",
    "new_np.reshape(2,5)"
   ]
  },
  {
   "cell_type": "markdown",
   "id": "fbd25268",
   "metadata": {},
   "source": [
    "**Note: Reshape dimensions must match with original size of array**  \n",
    "Cannot reshape an array of length 20 into (2,5)"
   ]
  },
  {
   "cell_type": "code",
   "execution_count": 57,
   "id": "9d97fec5",
   "metadata": {},
   "outputs": [
    {
     "data": {
      "text/plain": [
       "array([[0, 5],\n",
       "       [1, 6],\n",
       "       [2, 7],\n",
       "       [3, 8],\n",
       "       [4, 9]])"
      ]
     },
     "execution_count": 57,
     "metadata": {},
     "output_type": "execute_result"
    }
   ],
   "source": [
    "new_np.reshape(2,5).T"
   ]
  },
  {
   "cell_type": "code",
   "execution_count": 58,
   "id": "a0ca68ec",
   "metadata": {},
   "outputs": [],
   "source": [
    "np.random.random?"
   ]
  },
  {
   "cell_type": "code",
   "execution_count": 59,
   "id": "1889c879",
   "metadata": {},
   "outputs": [],
   "source": [
    "np.random.randint?"
   ]
  },
  {
   "cell_type": "code",
   "execution_count": 60,
   "id": "de24330f",
   "metadata": {},
   "outputs": [
    {
     "data": {
      "text/plain": [
       "array([3, 2, 4, 2, 4, 3, 3, 4, 2, 1])"
      ]
     },
     "execution_count": 60,
     "metadata": {},
     "output_type": "execute_result"
    }
   ],
   "source": [
    "np.random.randint(1,5,10)"
   ]
  },
  {
   "cell_type": "code",
   "execution_count": 61,
   "id": "02c21e7d",
   "metadata": {},
   "outputs": [
    {
     "data": {
      "text/plain": [
       "array([[2, 1, 1, 1, 2],\n",
       "       [4, 2, 4, 1, 1],\n",
       "       [1, 3, 3, 2, 1],\n",
       "       [4, 1, 4, 4, 3]])"
      ]
     },
     "execution_count": 61,
     "metadata": {},
     "output_type": "execute_result"
    }
   ],
   "source": [
    "##Multiple operations in a single line\n",
    "t_mat = np.random.randint(1,5,20).reshape(4,5)\n",
    "t_mat"
   ]
  },
  {
   "cell_type": "code",
   "execution_count": 62,
   "id": "ed51c075",
   "metadata": {},
   "outputs": [
    {
     "data": {
      "text/plain": [
       "(4, 5)"
      ]
     },
     "execution_count": 62,
     "metadata": {},
     "output_type": "execute_result"
    }
   ],
   "source": [
    "t_mat.shape"
   ]
  },
  {
   "cell_type": "markdown",
   "id": "db2fc3c1",
   "metadata": {},
   "source": [
    "## Indexing and slicing"
   ]
  },
  {
   "cell_type": "code",
   "execution_count": 63,
   "id": "088b0cae",
   "metadata": {},
   "outputs": [
    {
     "data": {
      "text/plain": [
       "array([2, 1, 1, 1, 2])"
      ]
     },
     "execution_count": 63,
     "metadata": {},
     "output_type": "execute_result"
    }
   ],
   "source": [
    "t_mat[0] #extracts the first row"
   ]
  },
  {
   "cell_type": "code",
   "execution_count": 64,
   "id": "db1d65d8",
   "metadata": {},
   "outputs": [
    {
     "data": {
      "text/plain": [
       "2"
      ]
     },
     "execution_count": 64,
     "metadata": {},
     "output_type": "execute_result"
    }
   ],
   "source": [
    "t_mat[0][0] #extracts the first element"
   ]
  },
  {
   "cell_type": "code",
   "execution_count": 65,
   "id": "ca615068",
   "metadata": {},
   "outputs": [
    {
     "data": {
      "text/plain": [
       "4"
      ]
     },
     "execution_count": 65,
     "metadata": {},
     "output_type": "execute_result"
    }
   ],
   "source": [
    "t_mat[3][2]"
   ]
  },
  {
   "cell_type": "code",
   "execution_count": 66,
   "id": "4cacdeeb",
   "metadata": {},
   "outputs": [
    {
     "data": {
      "text/plain": [
       "4"
      ]
     },
     "execution_count": 66,
     "metadata": {},
     "output_type": "execute_result"
    }
   ],
   "source": [
    "t_mat[3,2]"
   ]
  },
  {
   "cell_type": "code",
   "execution_count": 67,
   "id": "8182f629",
   "metadata": {},
   "outputs": [
    {
     "data": {
      "text/plain": [
       "array([[2, 1, 1, 1, 2],\n",
       "       [4, 2, 4, 1, 1],\n",
       "       [1, 3, 3, 2, 1],\n",
       "       [4, 1, 4, 4, 3]])"
      ]
     },
     "execution_count": 67,
     "metadata": {},
     "output_type": "execute_result"
    }
   ],
   "source": [
    "t_mat[:,:]"
   ]
  },
  {
   "cell_type": "code",
   "execution_count": 68,
   "id": "06a4da00",
   "metadata": {},
   "outputs": [
    {
     "data": {
      "text/plain": [
       "array([4, 2, 4, 1, 1])"
      ]
     },
     "execution_count": 68,
     "metadata": {},
     "output_type": "execute_result"
    }
   ],
   "source": [
    "t_mat[1,:] # same as t_mat[1] ->gives the row at row index 1"
   ]
  },
  {
   "cell_type": "code",
   "execution_count": 69,
   "id": "8f692338",
   "metadata": {},
   "outputs": [
    {
     "data": {
      "text/plain": [
       "array([1, 2, 3, 1])"
      ]
     },
     "execution_count": 69,
     "metadata": {},
     "output_type": "execute_result"
    }
   ],
   "source": [
    "t_mat [:, 1] # column at column index 1"
   ]
  },
  {
   "cell_type": "code",
   "execution_count": 70,
   "id": "9b6d912f",
   "metadata": {},
   "outputs": [
    {
     "data": {
      "text/plain": [
       "array([[2, 4],\n",
       "       [3, 3]])"
      ]
     },
     "execution_count": 70,
     "metadata": {},
     "output_type": "execute_result"
    }
   ],
   "source": [
    "t_mat[1:3,1:3]  # lower index included upper index excluded"
   ]
  },
  {
   "cell_type": "code",
   "execution_count": 71,
   "id": "2d4867b9",
   "metadata": {},
   "outputs": [
    {
     "data": {
      "text/plain": [
       "array([[1, 1, 2],\n",
       "       [4, 1, 1]])"
      ]
     },
     "execution_count": 71,
     "metadata": {},
     "output_type": "execute_result"
    }
   ],
   "source": [
    "t_mat[:2,2:]"
   ]
  },
  {
   "cell_type": "markdown",
   "id": "1560bbcd",
   "metadata": {},
   "source": [
    "## Numpy Universal Functions"
   ]
  },
  {
   "cell_type": "code",
   "execution_count": 72,
   "id": "e47cf884",
   "metadata": {},
   "outputs": [
    {
     "data": {
      "text/plain": [
       "array([[ 0.90929743,  0.84147098,  0.84147098,  0.84147098,  0.90929743],\n",
       "       [-0.7568025 ,  0.90929743, -0.7568025 ,  0.84147098,  0.84147098],\n",
       "       [ 0.84147098,  0.14112001,  0.14112001,  0.90929743,  0.84147098],\n",
       "       [-0.7568025 ,  0.84147098, -0.7568025 , -0.7568025 ,  0.14112001]])"
      ]
     },
     "execution_count": 72,
     "metadata": {},
     "output_type": "execute_result"
    }
   ],
   "source": [
    "np.sin(t_mat)"
   ]
  },
  {
   "cell_type": "code",
   "execution_count": 73,
   "id": "0fac37bc",
   "metadata": {},
   "outputs": [
    {
     "data": {
      "text/plain": [
       "array([[1.41421356, 1.        , 1.        , 1.        , 1.41421356],\n",
       "       [2.        , 1.41421356, 2.        , 1.        , 1.        ],\n",
       "       [1.        , 1.73205081, 1.73205081, 1.41421356, 1.        ],\n",
       "       [2.        , 1.        , 2.        , 2.        , 1.73205081]])"
      ]
     },
     "execution_count": 73,
     "metadata": {},
     "output_type": "execute_result"
    }
   ],
   "source": [
    "np.sqrt(t_mat)"
   ]
  },
  {
   "cell_type": "code",
   "execution_count": 74,
   "id": "c0dfecae",
   "metadata": {
    "tags": [
     "hide-output"
    ]
   },
   "outputs": [
    {
     "name": "stdout",
     "output_type": "stream",
     "text": [
      "Search results for 'hyperbolic'\n",
      "-------------------------------\n",
      "numpy.cosh\n",
      "    Hyperbolic cosine, element-wise.\n",
      "numpy.sinh\n",
      "    Hyperbolic sine, element-wise.\n",
      "numpy.tanh\n",
      "    Compute hyperbolic tangent element-wise.\n",
      "numpy.arccosh\n",
      "    Inverse hyperbolic cosine, element-wise.\n",
      "numpy.arcsinh\n",
      "    Inverse hyperbolic sine element-wise.\n",
      "numpy.arctanh\n",
      "    Inverse hyperbolic tangent element-wise.\n",
      "numpy.ma.cosh\n",
      "    Hyperbolic cosine, element-wise.\n",
      "numpy.ma.sinh\n",
      "    Hyperbolic sine, element-wise.\n",
      "numpy.ma.tanh\n",
      "    Compute hyperbolic tangent element-wise.\n",
      "numpy.ma.arccosh\n",
      "    Inverse hyperbolic cosine, element-wise.\n",
      "numpy.ma.arcsinh\n",
      "    Inverse hyperbolic sine element-wise.\n",
      "numpy.ma.arctanh\n",
      "    Inverse hyperbolic tangent element-wise.\n",
      "numpy.random.Generator.standard_t\n",
      "    Draw samples from a standard Student's t distribution with `df` degrees\n",
      "numpy.random.RandomState.standard_t\n",
      "    Draw samples from a standard Student's t distribution with `df` degrees"
     ]
    }
   ],
   "source": [
    "np.lookfor(\"hyperbolic\")"
   ]
  },
  {
   "cell_type": "markdown",
   "id": "46f8d77a",
   "metadata": {},
   "source": [
    "## Conditonal Logic with Numpy"
   ]
  },
  {
   "cell_type": "code",
   "execution_count": 75,
   "id": "acf4effe",
   "metadata": {},
   "outputs": [],
   "source": [
    "#Boolean Operations\n",
    "# == , < , > , =< , >=\n",
    "x = 3"
   ]
  },
  {
   "cell_type": "code",
   "execution_count": 76,
   "id": "491ab0a9",
   "metadata": {},
   "outputs": [
    {
     "data": {
      "text/plain": [
       "False"
      ]
     },
     "execution_count": 76,
     "metadata": {},
     "output_type": "execute_result"
    }
   ],
   "source": [
    "x == 5"
   ]
  },
  {
   "cell_type": "code",
   "execution_count": 77,
   "id": "04f3ae3f",
   "metadata": {},
   "outputs": [
    {
     "data": {
      "text/plain": [
       "array([[2, 1, 1, 1, 2],\n",
       "       [4, 2, 4, 1, 1],\n",
       "       [1, 3, 3, 2, 1],\n",
       "       [4, 1, 4, 4, 3]])"
      ]
     },
     "execution_count": 77,
     "metadata": {},
     "output_type": "execute_result"
    }
   ],
   "source": [
    "t_mat"
   ]
  },
  {
   "cell_type": "code",
   "execution_count": 78,
   "id": "efddf3c5",
   "metadata": {},
   "outputs": [
    {
     "data": {
      "text/plain": [
       "array([[False, False, False, False, False],\n",
       "       [False, False, False, False, False],\n",
       "       [False,  True,  True, False, False],\n",
       "       [False, False, False, False,  True]])"
      ]
     },
     "execution_count": 78,
     "metadata": {},
     "output_type": "execute_result"
    }
   ],
   "source": [
    "x == t_mat"
   ]
  },
  {
   "cell_type": "code",
   "execution_count": 95,
   "id": "f382e3be",
   "metadata": {},
   "outputs": [
    {
     "data": {
      "text/plain": [
       "array([[ True, False, False, False,  True],\n",
       "       [ True,  True,  True, False, False],\n",
       "       [False, False, False,  True, False],\n",
       "       [ True, False,  True,  True, False]])"
      ]
     },
     "execution_count": 95,
     "metadata": {},
     "output_type": "execute_result"
    }
   ],
   "source": [
    "t_mat % 2 == 0"
   ]
  },
  {
   "cell_type": "markdown",
   "id": "24d4f0b0",
   "metadata": {},
   "source": [
    "With a boolean array (array with True/False), you can index with it to select particular values. \n",
    "\n",
    "Here we can select all multiples of 2:"
   ]
  },
  {
   "cell_type": "code",
   "execution_count": 96,
   "id": "5b77ce71",
   "metadata": {},
   "outputs": [
    {
     "data": {
      "text/plain": [
       "array([2, 2, 4, 2, 4, 2, 4, 4, 4])"
      ]
     },
     "execution_count": 96,
     "metadata": {},
     "output_type": "execute_result"
    }
   ],
   "source": [
    "t_mat[t_mat % 2 == 0]"
   ]
  },
  {
   "cell_type": "markdown",
   "id": "05fa8df7",
   "metadata": {},
   "source": [
    "Here we set all 4's to 0:"
   ]
  },
  {
   "cell_type": "code",
   "execution_count": 98,
   "id": "fd83aa91",
   "metadata": {},
   "outputs": [
    {
     "data": {
      "text/plain": [
       "array([[2, 1, 1, 1, 2],\n",
       "       [0, 2, 0, 1, 1],\n",
       "       [1, 3, 3, 2, 1],\n",
       "       [0, 1, 0, 0, 3]])"
      ]
     },
     "execution_count": 98,
     "metadata": {},
     "output_type": "execute_result"
    }
   ],
   "source": [
    "t_mat[t_mat == 4] = 0\n",
    "t_mat"
   ]
  },
  {
   "cell_type": "markdown",
   "id": "5c16ac6f",
   "metadata": {},
   "source": [
    "## Matplotlib --> visualization/plotting library"
   ]
  },
  {
   "cell_type": "code",
   "execution_count": 80,
   "id": "628b1432",
   "metadata": {},
   "outputs": [
    {
     "data": {
      "text/plain": [
       "[<matplotlib.lines.Line2D at 0x7fa020fac3a0>]"
      ]
     },
     "execution_count": 80,
     "metadata": {},
     "output_type": "execute_result"
    },
    {
     "data": {
      "image/png": "[encoded data removed]",
      "text/plain": [
       "<Figure size 640x480 with 1 Axes>"
      ]
     },
     "metadata": {},
     "output_type": "display_data"
    }
   ],
   "source": [
    "plt.plot([2,6,4,9])"
   ]
  },
  {
   "cell_type": "code",
   "execution_count": 81,
   "id": "7ae04e9e",
   "metadata": {},
   "outputs": [
    {
     "data": {
      "text/plain": [
       "[<matplotlib.lines.Line2D at 0x7fa063b75d00>]"
      ]
     },
     "execution_count": 81,
     "metadata": {},
     "output_type": "execute_result"
    },
    {
     "data": {
      "image/png": "[encoded data removed]",
      "text/plain": [
       "<Figure size 640x480 with 1 Axes>"
      ]
     },
     "metadata": {},
     "output_type": "display_data"
    }
   ],
   "source": [
    "x = np.arange(10)\n",
    "y = x**2\n",
    "plt.plot(x,y)"
   ]
  },
  {
   "cell_type": "code",
   "execution_count": 82,
   "id": "ef10c3fc",
   "metadata": {},
   "outputs": [],
   "source": [
    "plt.plot?"
   ]
  },
  {
   "cell_type": "code",
   "execution_count": 83,
   "id": "c918d8af",
   "metadata": {},
   "outputs": [
    {
     "data": {
      "text/plain": [
       "Text(0, 0.5, 'x squared')"
      ]
     },
     "execution_count": 83,
     "metadata": {},
     "output_type": "execute_result"
    },
    {
     "data": {
      "image/png": "[encoded data removed]",
      "text/plain": [
       "<Figure size 640x480 with 1 Axes>"
      ]
     },
     "metadata": {},
     "output_type": "display_data"
    }
   ],
   "source": [
    "x = np.arange(10)\n",
    "y = x**2\n",
    "plt.plot(x,y, 'mH')\n",
    "plt.xlabel(\"integer values from 0-9\")\n",
    "plt.ylabel(\"x squared\")"
   ]
  },
  {
   "cell_type": "code",
   "execution_count": 84,
   "id": "bd6d1217",
   "metadata": {},
   "outputs": [
    {
     "data": {
      "text/plain": [
       "Text(0, 0.5, 'no. of pets')"
      ]
     },
     "execution_count": 84,
     "metadata": {},
     "output_type": "execute_result"
    },
    {
     "data": {
      "image/png": "[encoded data removed]",
      "text/plain": [
       "<Figure size 640x480 with 1 Axes>"
      ]
     },
     "metadata": {},
     "output_type": "display_data"
    }
   ],
   "source": [
    "plt.bar([\"cats\",\"dogs\",\"birds\",\"fishes\"], [3,4,2,7], width=0.75)\n",
    "plt.xlabel(\"pets\")\n",
    "plt.ylabel(\"no. of pets\")"
   ]
  },
  {
   "cell_type": "code",
   "execution_count": 85,
   "id": "ce62616f",
   "metadata": {},
   "outputs": [],
   "source": [
    "plt.bar?"
   ]
  },
  {
   "cell_type": "code",
   "execution_count": 86,
   "id": "abe2b16f",
   "metadata": {},
   "outputs": [
    {
     "data": {
      "text/plain": [
       "<matplotlib.collections.PathCollection at 0x7fa063bb59a0>"
      ]
     },
     "execution_count": 86,
     "metadata": {},
     "output_type": "execute_result"
    },
    {
     "data": {
      "image/png": "[encoded data removed]",
      "text/plain": [
       "<Figure size 640x480 with 1 Axes>"
      ]
     },
     "metadata": {},
     "output_type": "display_data"
    }
   ],
   "source": [
    "plt.scatter(np.arange(10),np.random.randint(3,8,10), c = \"red\", marker = \"H\")"
   ]
  },
  {
   "cell_type": "code",
   "execution_count": 87,
   "id": "1d1e7eb6",
   "metadata": {},
   "outputs": [],
   "source": [
    "plt.scatter?"
   ]
  },
  {
   "cell_type": "code",
   "execution_count": 88,
   "id": "89ff2f1e",
   "metadata": {},
   "outputs": [
    {
     "data": {
      "image/png": "[encoded data removed]",
      "text/plain": [
       "<Figure size 900x300 with 3 Axes>"
      ]
     },
     "metadata": {},
     "output_type": "display_data"
    }
   ],
   "source": [
    "#subplots\n",
    "plt.figure(figsize=(9,3))\n",
    "plt.subplot(131)\n",
    "plt.bar([\"cats\",\"dogs\",\"birds\",\"fishes\"], [3,4,2,7], width=0.75)\n",
    "plt.xlabel(\"pets\")\n",
    "plt.ylabel(\"no. of pets\")\n",
    "plt.subplot(133)\n",
    "plt.scatter(np.arange(10),np.random.randint(3,8,10), c = \"red\", marker = \"H\")\n",
    "plt.subplot(132)\n",
    "x = np.arange(10)\n",
    "y = x**2\n",
    "plt.plot(x,y, 'mH')\n",
    "plt.xlabel(\"integer values from 0-9\")\n",
    "plt.ylabel(\"x squared\")\n",
    "plt.suptitle(\"Different Plots in sublot format\")\n",
    "plt.show()"
   ]
  },
  {
   "cell_type": "code",
   "execution_count": 89,
   "id": "22267159",
   "metadata": {},
   "outputs": [],
   "source": [
    "plt.subplot?"
   ]
  },
  {
   "cell_type": "code",
   "execution_count": 90,
   "id": "b998946f",
   "metadata": {},
   "outputs": [],
   "source": [
    "##Functions for plotting\n",
    "def bar_plot():\n",
    "    plt.bar([\"cats\",\"dogs\",\"birds\",\"fishes\"], [3,4,2,7], width=0.75)\n",
    "    plt.xlabel(\"pets\")\n",
    "    plt.ylabel(\"no. of pets\")\n",
    "\n",
    "def line_plot():\n",
    "    x = np.arange(10)\n",
    "    y = x**2\n",
    "    plt.plot(x,y, 'mH')\n",
    "    plt.xlabel(\"integer values from 0-9\")\n",
    "    plt.ylabel(\"x squared\")\n",
    "\n",
    "def scatter_plot():\n",
    "    plt.scatter(np.arange(10),np.random.randint(3,8,10), c = \"red\", marker = \"H\")\n",
    "    "
   ]
  },
  {
   "cell_type": "code",
   "execution_count": 91,
   "id": "24cd614e",
   "metadata": {},
   "outputs": [
    {
     "data": {
      "image/png": "[encoded data removed]",
      "text/plain": [
       "<Figure size 900x300 with 3 Axes>"
      ]
     },
     "metadata": {},
     "output_type": "display_data"
    }
   ],
   "source": [
    "plt.figure(figsize=(9,3))\n",
    "plt.subplot(131)\n",
    "bar_plot()\n",
    "plt.subplot(133)\n",
    "scatter_plot()\n",
    "plt.subplot(132)\n",
    "line_plot()\n",
    "plt.suptitle(\"Different Plots in sublot format\")\n",
    "plt.show()"
   ]
  }
 ],
 "metadata": {
  "celltoolbar": "Tags",
  "kernelspec": {
   "display_name": "Python 3 (ipykernel)",
   "language": "python",
   "name": "python3"
  },
  "language_info": {
   "codemirror_mode": {
    "name": "ipython",
    "version": 3
   },
   "file_extension": ".py",
   "mimetype": "text/x-python",
   "name": "python",
   "nbconvert_exporter": "python",
   "pygments_lexer": "ipython3",
   "version": "3.9.13"
  }
 },
 "nbformat": 4,
 "nbformat_minor": 5
}
