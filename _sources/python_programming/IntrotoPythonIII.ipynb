{
 "cells": [
  {
   "cell_type": "code",
   "execution_count": 6,
   "metadata": {},
   "outputs": [],
   "source": [
    "import numpy as np\n",
    "import pandas as pd\n",
    "import matplotlib.pyplot as plt"
   ]
  },
  {
   "cell_type": "code",
   "execution_count": 7,
   "metadata": {},
   "outputs": [],
   "source": [
    "series1 = pd.Series([\"Straw\",\"Berry\",\"Hello\",'Tigers'])"
   ]
  },
  {
   "cell_type": "code",
   "execution_count": 8,
   "metadata": {
    "collapsed": true
   },
   "outputs": [
    {
     "data": {
      "text/plain": [
       "0     Straw\n",
       "1     Berry\n",
       "2     Hello\n",
       "3    Tigers\n",
       "dtype: object"
      ]
     },
     "execution_count": 8,
     "metadata": {},
     "output_type": "execute_result"
    }
   ],
   "source": [
    "series1"
   ]
  },
  {
   "cell_type": "code",
   "execution_count": 9,
   "metadata": {},
   "outputs": [
    {
     "data": {
      "text/plain": [
       "pandas.core.series.Series"
      ]
     },
     "execution_count": 9,
     "metadata": {},
     "output_type": "execute_result"
    }
   ],
   "source": [
    "type(series1)"
   ]
  },
  {
   "cell_type": "code",
   "execution_count": 10,
   "metadata": {
    "collapsed": true
   },
   "outputs": [
    {
     "data": {
      "text/plain": [
       "DatetimeIndex(['2019-10-18', '2019-10-19', '2019-10-20', '2019-10-21',\n",
       "               '2019-10-22', '2019-10-23', '2019-10-24', '2019-10-25',\n",
       "               '2019-10-26', '2019-10-27'],\n",
       "              dtype='datetime64[ns]', freq='D')"
      ]
     },
     "execution_count": 10,
     "metadata": {},
     "output_type": "execute_result"
    }
   ],
   "source": [
    "dates = pd.date_range('20191018', periods=10)\n",
    "dates"
   ]
  },
  {
   "cell_type": "code",
   "execution_count": 11,
   "metadata": {},
   "outputs": [
    {
     "data": {
      "text/plain": [
       "pandas.core.indexes.datetimes.DatetimeIndex"
      ]
     },
     "execution_count": 11,
     "metadata": {},
     "output_type": "execute_result"
    }
   ],
   "source": [
    "type(dates)"
   ]
  },
  {
   "cell_type": "code",
   "execution_count": 12,
   "metadata": {},
   "outputs": [],
   "source": [
    "df = pd.DataFrame(np.random.randn(10,5), index=dates, columns=('A','B','C','D','E'))\n",
    "##df = pd.DataFrame(np.random.randn(10,5), index=dates, columns=list('ABCDE'))"
   ]
  },
  {
   "cell_type": "code",
   "execution_count": 13,
   "metadata": {
    "collapsed": true
   },
   "outputs": [
    {
     "data": {
      "text/html": [
       "<div>\n",
       "<style scoped>\n",
       "    .dataframe tbody tr th:only-of-type {\n",
       "        vertical-align: middle;\n",
       "    }\n",
       "\n",
       "    .dataframe tbody tr th {\n",
       "        vertical-align: top;\n",
       "    }\n",
       "\n",
       "    .dataframe thead th {\n",
       "        text-align: right;\n",
       "    }\n",
       "</style>\n",
       "<table border=\"1\" class=\"dataframe\">\n",
       "  <thead>\n",
       "    <tr style=\"text-align: right;\">\n",
       "      <th></th>\n",
       "      <th>A</th>\n",
       "      <th>B</th>\n",
       "      <th>C</th>\n",
       "      <th>D</th>\n",
       "      <th>E</th>\n",
       "    </tr>\n",
       "  </thead>\n",
       "  <tbody>\n",
       "    <tr>\n",
       "      <th>2019-10-18</th>\n",
       "      <td>0.929941</td>\n",
       "      <td>-0.626672</td>\n",
       "      <td>-0.707648</td>\n",
       "      <td>-0.029042</td>\n",
       "      <td>0.423467</td>\n",
       "    </tr>\n",
       "    <tr>\n",
       "      <th>2019-10-19</th>\n",
       "      <td>-0.533583</td>\n",
       "      <td>0.282078</td>\n",
       "      <td>-0.227093</td>\n",
       "      <td>-1.170280</td>\n",
       "      <td>0.458149</td>\n",
       "    </tr>\n",
       "    <tr>\n",
       "      <th>2019-10-20</th>\n",
       "      <td>2.278239</td>\n",
       "      <td>-0.056985</td>\n",
       "      <td>-0.026345</td>\n",
       "      <td>0.241622</td>\n",
       "      <td>0.039161</td>\n",
       "    </tr>\n",
       "    <tr>\n",
       "      <th>2019-10-21</th>\n",
       "      <td>-0.015695</td>\n",
       "      <td>0.349731</td>\n",
       "      <td>0.524756</td>\n",
       "      <td>0.923070</td>\n",
       "      <td>-0.609090</td>\n",
       "    </tr>\n",
       "    <tr>\n",
       "      <th>2019-10-22</th>\n",
       "      <td>1.843689</td>\n",
       "      <td>0.246005</td>\n",
       "      <td>-1.163961</td>\n",
       "      <td>-0.639319</td>\n",
       "      <td>0.336308</td>\n",
       "    </tr>\n",
       "    <tr>\n",
       "      <th>2019-10-23</th>\n",
       "      <td>1.734753</td>\n",
       "      <td>-0.399923</td>\n",
       "      <td>-0.489942</td>\n",
       "      <td>0.189181</td>\n",
       "      <td>0.307998</td>\n",
       "    </tr>\n",
       "    <tr>\n",
       "      <th>2019-10-24</th>\n",
       "      <td>2.051818</td>\n",
       "      <td>1.232083</td>\n",
       "      <td>-0.266080</td>\n",
       "      <td>0.367910</td>\n",
       "      <td>0.074128</td>\n",
       "    </tr>\n",
       "    <tr>\n",
       "      <th>2019-10-25</th>\n",
       "      <td>1.051598</td>\n",
       "      <td>-0.285585</td>\n",
       "      <td>-0.286367</td>\n",
       "      <td>0.431949</td>\n",
       "      <td>0.131504</td>\n",
       "    </tr>\n",
       "    <tr>\n",
       "      <th>2019-10-26</th>\n",
       "      <td>-0.765140</td>\n",
       "      <td>-0.701887</td>\n",
       "      <td>0.881834</td>\n",
       "      <td>1.758220</td>\n",
       "      <td>0.329875</td>\n",
       "    </tr>\n",
       "    <tr>\n",
       "      <th>2019-10-27</th>\n",
       "      <td>0.588703</td>\n",
       "      <td>1.153082</td>\n",
       "      <td>-0.262695</td>\n",
       "      <td>0.091058</td>\n",
       "      <td>1.918801</td>\n",
       "    </tr>\n",
       "  </tbody>\n",
       "</table>\n",
       "</div>"
      ],
      "text/plain": [
       "                   A         B         C         D         E\n",
       "2019-10-18  0.929941 -0.626672 -0.707648 -0.029042  0.423467\n",
       "2019-10-19 -0.533583  0.282078 -0.227093 -1.170280  0.458149\n",
       "2019-10-20  2.278239 -0.056985 -0.026345  0.241622  0.039161\n",
       "2019-10-21 -0.015695  0.349731  0.524756  0.923070 -0.609090\n",
       "2019-10-22  1.843689  0.246005 -1.163961 -0.639319  0.336308\n",
       "2019-10-23  1.734753 -0.399923 -0.489942  0.189181  0.307998\n",
       "2019-10-24  2.051818  1.232083 -0.266080  0.367910  0.074128\n",
       "2019-10-25  1.051598 -0.285585 -0.286367  0.431949  0.131504\n",
       "2019-10-26 -0.765140 -0.701887  0.881834  1.758220  0.329875\n",
       "2019-10-27  0.588703  1.153082 -0.262695  0.091058  1.918801"
      ]
     },
     "execution_count": 13,
     "metadata": {},
     "output_type": "execute_result"
    }
   ],
   "source": [
    "df"
   ]
  },
  {
   "cell_type": "code",
   "execution_count": 14,
   "metadata": {
    "collapsed": true
   },
   "outputs": [
    {
     "data": {
      "text/html": [
       "<div>\n",
       "<style scoped>\n",
       "    .dataframe tbody tr th:only-of-type {\n",
       "        vertical-align: middle;\n",
       "    }\n",
       "\n",
       "    .dataframe tbody tr th {\n",
       "        vertical-align: top;\n",
       "    }\n",
       "\n",
       "    .dataframe thead th {\n",
       "        text-align: right;\n",
       "    }\n",
       "</style>\n",
       "<table border=\"1\" class=\"dataframe\">\n",
       "  <thead>\n",
       "    <tr style=\"text-align: right;\">\n",
       "      <th></th>\n",
       "      <th>A</th>\n",
       "      <th>B</th>\n",
       "      <th>C</th>\n",
       "      <th>D</th>\n",
       "      <th>E</th>\n",
       "    </tr>\n",
       "  </thead>\n",
       "  <tbody>\n",
       "    <tr>\n",
       "      <th>2019-10-18</th>\n",
       "      <td>0.929941</td>\n",
       "      <td>-0.626672</td>\n",
       "      <td>-0.707648</td>\n",
       "      <td>-0.029042</td>\n",
       "      <td>0.423467</td>\n",
       "    </tr>\n",
       "    <tr>\n",
       "      <th>2019-10-19</th>\n",
       "      <td>-0.533583</td>\n",
       "      <td>0.282078</td>\n",
       "      <td>-0.227093</td>\n",
       "      <td>-1.170280</td>\n",
       "      <td>0.458149</td>\n",
       "    </tr>\n",
       "    <tr>\n",
       "      <th>2019-10-20</th>\n",
       "      <td>2.278239</td>\n",
       "      <td>-0.056985</td>\n",
       "      <td>-0.026345</td>\n",
       "      <td>0.241622</td>\n",
       "      <td>0.039161</td>\n",
       "    </tr>\n",
       "    <tr>\n",
       "      <th>2019-10-21</th>\n",
       "      <td>-0.015695</td>\n",
       "      <td>0.349731</td>\n",
       "      <td>0.524756</td>\n",
       "      <td>0.923070</td>\n",
       "      <td>-0.609090</td>\n",
       "    </tr>\n",
       "    <tr>\n",
       "      <th>2019-10-22</th>\n",
       "      <td>1.843689</td>\n",
       "      <td>0.246005</td>\n",
       "      <td>-1.163961</td>\n",
       "      <td>-0.639319</td>\n",
       "      <td>0.336308</td>\n",
       "    </tr>\n",
       "  </tbody>\n",
       "</table>\n",
       "</div>"
      ],
      "text/plain": [
       "                   A         B         C         D         E\n",
       "2019-10-18  0.929941 -0.626672 -0.707648 -0.029042  0.423467\n",
       "2019-10-19 -0.533583  0.282078 -0.227093 -1.170280  0.458149\n",
       "2019-10-20  2.278239 -0.056985 -0.026345  0.241622  0.039161\n",
       "2019-10-21 -0.015695  0.349731  0.524756  0.923070 -0.609090\n",
       "2019-10-22  1.843689  0.246005 -1.163961 -0.639319  0.336308"
      ]
     },
     "execution_count": 14,
     "metadata": {},
     "output_type": "execute_result"
    }
   ],
   "source": [
    "df.head()\n",
    "#df_test.head(2)"
   ]
  },
  {
   "cell_type": "code",
   "execution_count": 15,
   "metadata": {
    "collapsed": true
   },
   "outputs": [
    {
     "data": {
      "text/html": [
       "<div>\n",
       "<style scoped>\n",
       "    .dataframe tbody tr th:only-of-type {\n",
       "        vertical-align: middle;\n",
       "    }\n",
       "\n",
       "    .dataframe tbody tr th {\n",
       "        vertical-align: top;\n",
       "    }\n",
       "\n",
       "    .dataframe thead th {\n",
       "        text-align: right;\n",
       "    }\n",
       "</style>\n",
       "<table border=\"1\" class=\"dataframe\">\n",
       "  <thead>\n",
       "    <tr style=\"text-align: right;\">\n",
       "      <th></th>\n",
       "      <th>A</th>\n",
       "      <th>B</th>\n",
       "      <th>C</th>\n",
       "      <th>D</th>\n",
       "      <th>E</th>\n",
       "    </tr>\n",
       "  </thead>\n",
       "  <tbody>\n",
       "    <tr>\n",
       "      <th>2019-10-23</th>\n",
       "      <td>1.734753</td>\n",
       "      <td>-0.399923</td>\n",
       "      <td>-0.489942</td>\n",
       "      <td>0.189181</td>\n",
       "      <td>0.307998</td>\n",
       "    </tr>\n",
       "    <tr>\n",
       "      <th>2019-10-24</th>\n",
       "      <td>2.051818</td>\n",
       "      <td>1.232083</td>\n",
       "      <td>-0.266080</td>\n",
       "      <td>0.367910</td>\n",
       "      <td>0.074128</td>\n",
       "    </tr>\n",
       "    <tr>\n",
       "      <th>2019-10-25</th>\n",
       "      <td>1.051598</td>\n",
       "      <td>-0.285585</td>\n",
       "      <td>-0.286367</td>\n",
       "      <td>0.431949</td>\n",
       "      <td>0.131504</td>\n",
       "    </tr>\n",
       "    <tr>\n",
       "      <th>2019-10-26</th>\n",
       "      <td>-0.765140</td>\n",
       "      <td>-0.701887</td>\n",
       "      <td>0.881834</td>\n",
       "      <td>1.758220</td>\n",
       "      <td>0.329875</td>\n",
       "    </tr>\n",
       "    <tr>\n",
       "      <th>2019-10-27</th>\n",
       "      <td>0.588703</td>\n",
       "      <td>1.153082</td>\n",
       "      <td>-0.262695</td>\n",
       "      <td>0.091058</td>\n",
       "      <td>1.918801</td>\n",
       "    </tr>\n",
       "  </tbody>\n",
       "</table>\n",
       "</div>"
      ],
      "text/plain": [
       "                   A         B         C         D         E\n",
       "2019-10-23  1.734753 -0.399923 -0.489942  0.189181  0.307998\n",
       "2019-10-24  2.051818  1.232083 -0.266080  0.367910  0.074128\n",
       "2019-10-25  1.051598 -0.285585 -0.286367  0.431949  0.131504\n",
       "2019-10-26 -0.765140 -0.701887  0.881834  1.758220  0.329875\n",
       "2019-10-27  0.588703  1.153082 -0.262695  0.091058  1.918801"
      ]
     },
     "execution_count": 15,
     "metadata": {},
     "output_type": "execute_result"
    }
   ],
   "source": [
    "df.tail()\n",
    "##df_test.tail(6)"
   ]
  },
  {
   "cell_type": "code",
   "execution_count": 16,
   "metadata": {
    "collapsed": true
   },
   "outputs": [
    {
     "data": {
      "text/html": [
       "<div>\n",
       "<style scoped>\n",
       "    .dataframe tbody tr th:only-of-type {\n",
       "        vertical-align: middle;\n",
       "    }\n",
       "\n",
       "    .dataframe tbody tr th {\n",
       "        vertical-align: top;\n",
       "    }\n",
       "\n",
       "    .dataframe thead th {\n",
       "        text-align: right;\n",
       "    }\n",
       "</style>\n",
       "<table border=\"1\" class=\"dataframe\">\n",
       "  <thead>\n",
       "    <tr style=\"text-align: right;\">\n",
       "      <th></th>\n",
       "      <th>A</th>\n",
       "      <th>B</th>\n",
       "      <th>C</th>\n",
       "      <th>D</th>\n",
       "      <th>E</th>\n",
       "    </tr>\n",
       "  </thead>\n",
       "  <tbody>\n",
       "    <tr>\n",
       "      <th>count</th>\n",
       "      <td>10.000000</td>\n",
       "      <td>10.000000</td>\n",
       "      <td>10.000000</td>\n",
       "      <td>10.000000</td>\n",
       "      <td>10.000000</td>\n",
       "    </tr>\n",
       "    <tr>\n",
       "      <th>mean</th>\n",
       "      <td>0.916432</td>\n",
       "      <td>0.119193</td>\n",
       "      <td>-0.202354</td>\n",
       "      <td>0.216437</td>\n",
       "      <td>0.341030</td>\n",
       "    </tr>\n",
       "    <tr>\n",
       "      <th>std</th>\n",
       "      <td>1.085153</td>\n",
       "      <td>0.674789</td>\n",
       "      <td>0.578621</td>\n",
       "      <td>0.794318</td>\n",
       "      <td>0.634219</td>\n",
       "    </tr>\n",
       "    <tr>\n",
       "      <th>min</th>\n",
       "      <td>-0.765140</td>\n",
       "      <td>-0.701887</td>\n",
       "      <td>-1.163961</td>\n",
       "      <td>-1.170280</td>\n",
       "      <td>-0.609090</td>\n",
       "    </tr>\n",
       "    <tr>\n",
       "      <th>25%</th>\n",
       "      <td>0.135404</td>\n",
       "      <td>-0.371339</td>\n",
       "      <td>-0.439048</td>\n",
       "      <td>0.000983</td>\n",
       "      <td>0.088472</td>\n",
       "    </tr>\n",
       "    <tr>\n",
       "      <th>50%</th>\n",
       "      <td>0.990770</td>\n",
       "      <td>0.094510</td>\n",
       "      <td>-0.264388</td>\n",
       "      <td>0.215401</td>\n",
       "      <td>0.318937</td>\n",
       "    </tr>\n",
       "    <tr>\n",
       "      <th>75%</th>\n",
       "      <td>1.816455</td>\n",
       "      <td>0.332818</td>\n",
       "      <td>-0.076532</td>\n",
       "      <td>0.415939</td>\n",
       "      <td>0.401677</td>\n",
       "    </tr>\n",
       "    <tr>\n",
       "      <th>max</th>\n",
       "      <td>2.278239</td>\n",
       "      <td>1.232083</td>\n",
       "      <td>0.881834</td>\n",
       "      <td>1.758220</td>\n",
       "      <td>1.918801</td>\n",
       "    </tr>\n",
       "  </tbody>\n",
       "</table>\n",
       "</div>"
      ],
      "text/plain": [
       "               A          B          C          D          E\n",
       "count  10.000000  10.000000  10.000000  10.000000  10.000000\n",
       "mean    0.916432   0.119193  -0.202354   0.216437   0.341030\n",
       "std     1.085153   0.674789   0.578621   0.794318   0.634219\n",
       "min    -0.765140  -0.701887  -1.163961  -1.170280  -0.609090\n",
       "25%     0.135404  -0.371339  -0.439048   0.000983   0.088472\n",
       "50%     0.990770   0.094510  -0.264388   0.215401   0.318937\n",
       "75%     1.816455   0.332818  -0.076532   0.415939   0.401677\n",
       "max     2.278239   1.232083   0.881834   1.758220   1.918801"
      ]
     },
     "execution_count": 16,
     "metadata": {},
     "output_type": "execute_result"
    }
   ],
   "source": [
    "df.describe()"
   ]
  },
  {
   "cell_type": "code",
   "execution_count": 17,
   "metadata": {
    "collapsed": true
   },
   "outputs": [
    {
     "data": {
      "text/html": [
       "<div>\n",
       "<style scoped>\n",
       "    .dataframe tbody tr th:only-of-type {\n",
       "        vertical-align: middle;\n",
       "    }\n",
       "\n",
       "    .dataframe tbody tr th {\n",
       "        vertical-align: top;\n",
       "    }\n",
       "\n",
       "    .dataframe thead th {\n",
       "        text-align: right;\n",
       "    }\n",
       "</style>\n",
       "<table border=\"1\" class=\"dataframe\">\n",
       "  <thead>\n",
       "    <tr style=\"text-align: right;\">\n",
       "      <th></th>\n",
       "      <th>2019-10-18</th>\n",
       "      <th>2019-10-19</th>\n",
       "      <th>2019-10-20</th>\n",
       "      <th>2019-10-21</th>\n",
       "      <th>2019-10-22</th>\n",
       "      <th>2019-10-23</th>\n",
       "      <th>2019-10-24</th>\n",
       "      <th>2019-10-25</th>\n",
       "      <th>2019-10-26</th>\n",
       "      <th>2019-10-27</th>\n",
       "    </tr>\n",
       "  </thead>\n",
       "  <tbody>\n",
       "    <tr>\n",
       "      <th>A</th>\n",
       "      <td>0.929941</td>\n",
       "      <td>-0.533583</td>\n",
       "      <td>2.278239</td>\n",
       "      <td>-0.015695</td>\n",
       "      <td>1.843689</td>\n",
       "      <td>1.734753</td>\n",
       "      <td>2.051818</td>\n",
       "      <td>1.051598</td>\n",
       "      <td>-0.765140</td>\n",
       "      <td>0.588703</td>\n",
       "    </tr>\n",
       "    <tr>\n",
       "      <th>B</th>\n",
       "      <td>-0.626672</td>\n",
       "      <td>0.282078</td>\n",
       "      <td>-0.056985</td>\n",
       "      <td>0.349731</td>\n",
       "      <td>0.246005</td>\n",
       "      <td>-0.399923</td>\n",
       "      <td>1.232083</td>\n",
       "      <td>-0.285585</td>\n",
       "      <td>-0.701887</td>\n",
       "      <td>1.153082</td>\n",
       "    </tr>\n",
       "    <tr>\n",
       "      <th>C</th>\n",
       "      <td>-0.707648</td>\n",
       "      <td>-0.227093</td>\n",
       "      <td>-0.026345</td>\n",
       "      <td>0.524756</td>\n",
       "      <td>-1.163961</td>\n",
       "      <td>-0.489942</td>\n",
       "      <td>-0.266080</td>\n",
       "      <td>-0.286367</td>\n",
       "      <td>0.881834</td>\n",
       "      <td>-0.262695</td>\n",
       "    </tr>\n",
       "    <tr>\n",
       "      <th>D</th>\n",
       "      <td>-0.029042</td>\n",
       "      <td>-1.170280</td>\n",
       "      <td>0.241622</td>\n",
       "      <td>0.923070</td>\n",
       "      <td>-0.639319</td>\n",
       "      <td>0.189181</td>\n",
       "      <td>0.367910</td>\n",
       "      <td>0.431949</td>\n",
       "      <td>1.758220</td>\n",
       "      <td>0.091058</td>\n",
       "    </tr>\n",
       "    <tr>\n",
       "      <th>E</th>\n",
       "      <td>0.423467</td>\n",
       "      <td>0.458149</td>\n",
       "      <td>0.039161</td>\n",
       "      <td>-0.609090</td>\n",
       "      <td>0.336308</td>\n",
       "      <td>0.307998</td>\n",
       "      <td>0.074128</td>\n",
       "      <td>0.131504</td>\n",
       "      <td>0.329875</td>\n",
       "      <td>1.918801</td>\n",
       "    </tr>\n",
       "  </tbody>\n",
       "</table>\n",
       "</div>"
      ],
      "text/plain": [
       "   2019-10-18  2019-10-19  2019-10-20  2019-10-21  2019-10-22  2019-10-23  \\\n",
       "A    0.929941   -0.533583    2.278239   -0.015695    1.843689    1.734753   \n",
       "B   -0.626672    0.282078   -0.056985    0.349731    0.246005   -0.399923   \n",
       "C   -0.707648   -0.227093   -0.026345    0.524756   -1.163961   -0.489942   \n",
       "D   -0.029042   -1.170280    0.241622    0.923070   -0.639319    0.189181   \n",
       "E    0.423467    0.458149    0.039161   -0.609090    0.336308    0.307998   \n",
       "\n",
       "   2019-10-24  2019-10-25  2019-10-26  2019-10-27  \n",
       "A    2.051818    1.051598   -0.765140    0.588703  \n",
       "B    1.232083   -0.285585   -0.701887    1.153082  \n",
       "C   -0.266080   -0.286367    0.881834   -0.262695  \n",
       "D    0.367910    0.431949    1.758220    0.091058  \n",
       "E    0.074128    0.131504    0.329875    1.918801  "
      ]
     },
     "execution_count": 17,
     "metadata": {},
     "output_type": "execute_result"
    }
   ],
   "source": [
    "df.T"
   ]
  },
  {
   "cell_type": "code",
   "execution_count": 18,
   "metadata": {
    "collapsed": true
   },
   "outputs": [
    {
     "data": {
      "text/html": [
       "<div>\n",
       "<style scoped>\n",
       "    .dataframe tbody tr th:only-of-type {\n",
       "        vertical-align: middle;\n",
       "    }\n",
       "\n",
       "    .dataframe tbody tr th {\n",
       "        vertical-align: top;\n",
       "    }\n",
       "\n",
       "    .dataframe thead th {\n",
       "        text-align: right;\n",
       "    }\n",
       "</style>\n",
       "<table border=\"1\" class=\"dataframe\">\n",
       "  <thead>\n",
       "    <tr style=\"text-align: right;\">\n",
       "      <th></th>\n",
       "      <th>B</th>\n",
       "      <th>A</th>\n",
       "    </tr>\n",
       "  </thead>\n",
       "  <tbody>\n",
       "    <tr>\n",
       "      <th>2019-10-18</th>\n",
       "      <td>-0.626672</td>\n",
       "      <td>0.929941</td>\n",
       "    </tr>\n",
       "    <tr>\n",
       "      <th>2019-10-19</th>\n",
       "      <td>0.282078</td>\n",
       "      <td>-0.533583</td>\n",
       "    </tr>\n",
       "    <tr>\n",
       "      <th>2019-10-20</th>\n",
       "      <td>-0.056985</td>\n",
       "      <td>2.278239</td>\n",
       "    </tr>\n",
       "    <tr>\n",
       "      <th>2019-10-21</th>\n",
       "      <td>0.349731</td>\n",
       "      <td>-0.015695</td>\n",
       "    </tr>\n",
       "    <tr>\n",
       "      <th>2019-10-22</th>\n",
       "      <td>0.246005</td>\n",
       "      <td>1.843689</td>\n",
       "    </tr>\n",
       "    <tr>\n",
       "      <th>2019-10-23</th>\n",
       "      <td>-0.399923</td>\n",
       "      <td>1.734753</td>\n",
       "    </tr>\n",
       "    <tr>\n",
       "      <th>2019-10-24</th>\n",
       "      <td>1.232083</td>\n",
       "      <td>2.051818</td>\n",
       "    </tr>\n",
       "    <tr>\n",
       "      <th>2019-10-25</th>\n",
       "      <td>-0.285585</td>\n",
       "      <td>1.051598</td>\n",
       "    </tr>\n",
       "    <tr>\n",
       "      <th>2019-10-26</th>\n",
       "      <td>-0.701887</td>\n",
       "      <td>-0.765140</td>\n",
       "    </tr>\n",
       "    <tr>\n",
       "      <th>2019-10-27</th>\n",
       "      <td>1.153082</td>\n",
       "      <td>0.588703</td>\n",
       "    </tr>\n",
       "  </tbody>\n",
       "</table>\n",
       "</div>"
      ],
      "text/plain": [
       "                   B         A\n",
       "2019-10-18 -0.626672  0.929941\n",
       "2019-10-19  0.282078 -0.533583\n",
       "2019-10-20 -0.056985  2.278239\n",
       "2019-10-21  0.349731 -0.015695\n",
       "2019-10-22  0.246005  1.843689\n",
       "2019-10-23 -0.399923  1.734753\n",
       "2019-10-24  1.232083  2.051818\n",
       "2019-10-25 -0.285585  1.051598\n",
       "2019-10-26 -0.701887 -0.765140\n",
       "2019-10-27  1.153082  0.588703"
      ]
     },
     "execution_count": 18,
     "metadata": {},
     "output_type": "execute_result"
    }
   ],
   "source": [
    "df[['B','A']]\n",
    "#df[['B','A']].T"
   ]
  },
  {
   "cell_type": "code",
   "execution_count": 19,
   "metadata": {
    "collapsed": true
   },
   "outputs": [
    {
     "data": {
      "text/html": [
       "<div>\n",
       "<style scoped>\n",
       "    .dataframe tbody tr th:only-of-type {\n",
       "        vertical-align: middle;\n",
       "    }\n",
       "\n",
       "    .dataframe tbody tr th {\n",
       "        vertical-align: top;\n",
       "    }\n",
       "\n",
       "    .dataframe thead th {\n",
       "        text-align: right;\n",
       "    }\n",
       "</style>\n",
       "<table border=\"1\" class=\"dataframe\">\n",
       "  <thead>\n",
       "    <tr style=\"text-align: right;\">\n",
       "      <th></th>\n",
       "      <th>A</th>\n",
       "      <th>B</th>\n",
       "      <th>C</th>\n",
       "      <th>D</th>\n",
       "      <th>E</th>\n",
       "    </tr>\n",
       "  </thead>\n",
       "  <tbody>\n",
       "    <tr>\n",
       "      <th>2019-10-24</th>\n",
       "      <td>2.051818</td>\n",
       "      <td>1.232083</td>\n",
       "      <td>-0.266080</td>\n",
       "      <td>0.367910</td>\n",
       "      <td>0.074128</td>\n",
       "    </tr>\n",
       "    <tr>\n",
       "      <th>2019-10-27</th>\n",
       "      <td>0.588703</td>\n",
       "      <td>1.153082</td>\n",
       "      <td>-0.262695</td>\n",
       "      <td>0.091058</td>\n",
       "      <td>1.918801</td>\n",
       "    </tr>\n",
       "    <tr>\n",
       "      <th>2019-10-21</th>\n",
       "      <td>-0.015695</td>\n",
       "      <td>0.349731</td>\n",
       "      <td>0.524756</td>\n",
       "      <td>0.923070</td>\n",
       "      <td>-0.609090</td>\n",
       "    </tr>\n",
       "    <tr>\n",
       "      <th>2019-10-19</th>\n",
       "      <td>-0.533583</td>\n",
       "      <td>0.282078</td>\n",
       "      <td>-0.227093</td>\n",
       "      <td>-1.170280</td>\n",
       "      <td>0.458149</td>\n",
       "    </tr>\n",
       "    <tr>\n",
       "      <th>2019-10-22</th>\n",
       "      <td>1.843689</td>\n",
       "      <td>0.246005</td>\n",
       "      <td>-1.163961</td>\n",
       "      <td>-0.639319</td>\n",
       "      <td>0.336308</td>\n",
       "    </tr>\n",
       "    <tr>\n",
       "      <th>2019-10-20</th>\n",
       "      <td>2.278239</td>\n",
       "      <td>-0.056985</td>\n",
       "      <td>-0.026345</td>\n",
       "      <td>0.241622</td>\n",
       "      <td>0.039161</td>\n",
       "    </tr>\n",
       "    <tr>\n",
       "      <th>2019-10-25</th>\n",
       "      <td>1.051598</td>\n",
       "      <td>-0.285585</td>\n",
       "      <td>-0.286367</td>\n",
       "      <td>0.431949</td>\n",
       "      <td>0.131504</td>\n",
       "    </tr>\n",
       "    <tr>\n",
       "      <th>2019-10-23</th>\n",
       "      <td>1.734753</td>\n",
       "      <td>-0.399923</td>\n",
       "      <td>-0.489942</td>\n",
       "      <td>0.189181</td>\n",
       "      <td>0.307998</td>\n",
       "    </tr>\n",
       "    <tr>\n",
       "      <th>2019-10-18</th>\n",
       "      <td>0.929941</td>\n",
       "      <td>-0.626672</td>\n",
       "      <td>-0.707648</td>\n",
       "      <td>-0.029042</td>\n",
       "      <td>0.423467</td>\n",
       "    </tr>\n",
       "    <tr>\n",
       "      <th>2019-10-26</th>\n",
       "      <td>-0.765140</td>\n",
       "      <td>-0.701887</td>\n",
       "      <td>0.881834</td>\n",
       "      <td>1.758220</td>\n",
       "      <td>0.329875</td>\n",
       "    </tr>\n",
       "  </tbody>\n",
       "</table>\n",
       "</div>"
      ],
      "text/plain": [
       "                   A         B         C         D         E\n",
       "2019-10-24  2.051818  1.232083 -0.266080  0.367910  0.074128\n",
       "2019-10-27  0.588703  1.153082 -0.262695  0.091058  1.918801\n",
       "2019-10-21 -0.015695  0.349731  0.524756  0.923070 -0.609090\n",
       "2019-10-19 -0.533583  0.282078 -0.227093 -1.170280  0.458149\n",
       "2019-10-22  1.843689  0.246005 -1.163961 -0.639319  0.336308\n",
       "2019-10-20  2.278239 -0.056985 -0.026345  0.241622  0.039161\n",
       "2019-10-25  1.051598 -0.285585 -0.286367  0.431949  0.131504\n",
       "2019-10-23  1.734753 -0.399923 -0.489942  0.189181  0.307998\n",
       "2019-10-18  0.929941 -0.626672 -0.707648 -0.029042  0.423467\n",
       "2019-10-26 -0.765140 -0.701887  0.881834  1.758220  0.329875"
      ]
     },
     "execution_count": 19,
     "metadata": {},
     "output_type": "execute_result"
    }
   ],
   "source": [
    "df.sort_values('B', ascending= False)"
   ]
  },
  {
   "cell_type": "code",
   "execution_count": 20,
   "metadata": {
    "collapsed": true
   },
   "outputs": [
    {
     "data": {
      "text/html": [
       "<div>\n",
       "<style scoped>\n",
       "    .dataframe tbody tr th:only-of-type {\n",
       "        vertical-align: middle;\n",
       "    }\n",
       "\n",
       "    .dataframe tbody tr th {\n",
       "        vertical-align: top;\n",
       "    }\n",
       "\n",
       "    .dataframe thead th {\n",
       "        text-align: right;\n",
       "    }\n",
       "</style>\n",
       "<table border=\"1\" class=\"dataframe\">\n",
       "  <thead>\n",
       "    <tr style=\"text-align: right;\">\n",
       "      <th></th>\n",
       "      <th>A</th>\n",
       "      <th>B</th>\n",
       "      <th>C</th>\n",
       "      <th>D</th>\n",
       "      <th>E</th>\n",
       "    </tr>\n",
       "  </thead>\n",
       "  <tbody>\n",
       "    <tr>\n",
       "      <th>2019-10-24</th>\n",
       "      <td>2.051818</td>\n",
       "      <td>1.232083</td>\n",
       "      <td>-0.266080</td>\n",
       "      <td>0.367910</td>\n",
       "      <td>0.074128</td>\n",
       "    </tr>\n",
       "    <tr>\n",
       "      <th>2019-10-27</th>\n",
       "      <td>0.588703</td>\n",
       "      <td>1.153082</td>\n",
       "      <td>-0.262695</td>\n",
       "      <td>0.091058</td>\n",
       "      <td>1.918801</td>\n",
       "    </tr>\n",
       "  </tbody>\n",
       "</table>\n",
       "</div>"
      ],
      "text/plain": [
       "                   A         B         C         D         E\n",
       "2019-10-24  2.051818  1.232083 -0.266080  0.367910  0.074128\n",
       "2019-10-27  0.588703  1.153082 -0.262695  0.091058  1.918801"
      ]
     },
     "execution_count": 20,
     "metadata": {},
     "output_type": "execute_result"
    }
   ],
   "source": [
    "df[df.B > 0.5]"
   ]
  },
  {
   "cell_type": "code",
   "execution_count": 21,
   "metadata": {
    "collapsed": true
   },
   "outputs": [
    {
     "data": {
      "text/plain": [
       "2019-10-18   -0.707648\n",
       "2019-10-19   -0.227093\n",
       "2019-10-20   -0.026345\n",
       "2019-10-21    0.524756\n",
       "2019-10-22   -1.163961\n",
       "2019-10-23   -0.489942\n",
       "2019-10-24   -0.266080\n",
       "2019-10-25   -0.286367\n",
       "2019-10-26    0.881834\n",
       "2019-10-27   -0.262695\n",
       "Freq: D, Name: C, dtype: float64"
      ]
     },
     "execution_count": 21,
     "metadata": {},
     "output_type": "execute_result"
    }
   ],
   "source": [
    "df['C']"
   ]
  },
  {
   "cell_type": "code",
   "execution_count": 56,
   "metadata": {
    "collapsed": true
   },
   "outputs": [
    {
     "data": {
      "text/plain": [
       "A    0\n",
       "B    0\n",
       "C    0\n",
       "D    0\n",
       "E    0\n",
       "dtype: int64"
      ]
     },
     "execution_count": 56,
     "metadata": {},
     "output_type": "execute_result"
    }
   ],
   "source": [
    "#check for missing values\n",
    "##pd.isnull(df)\n",
    "pd.isnull(df).sum()"
   ]
  },
  {
   "cell_type": "code",
   "execution_count": 59,
   "metadata": {
    "collapsed": true
   },
   "outputs": [
    {
     "data": {
      "text/html": [
       "<div>\n",
       "<style scoped>\n",
       "    .dataframe tbody tr th:only-of-type {\n",
       "        vertical-align: middle;\n",
       "    }\n",
       "\n",
       "    .dataframe tbody tr th {\n",
       "        vertical-align: top;\n",
       "    }\n",
       "\n",
       "    .dataframe thead th {\n",
       "        text-align: right;\n",
       "    }\n",
       "</style>\n",
       "<table border=\"1\" class=\"dataframe\">\n",
       "  <thead>\n",
       "    <tr style=\"text-align: right;\">\n",
       "      <th></th>\n",
       "      <th>A</th>\n",
       "      <th>B</th>\n",
       "      <th>C</th>\n",
       "      <th>D</th>\n",
       "      <th>E</th>\n",
       "    </tr>\n",
       "  </thead>\n",
       "  <tbody>\n",
       "    <tr>\n",
       "      <th>2019-10-23</th>\n",
       "      <td>1.734753</td>\n",
       "      <td>-0.399923</td>\n",
       "      <td>NaN</td>\n",
       "      <td>0.189181</td>\n",
       "      <td>0.307998</td>\n",
       "    </tr>\n",
       "    <tr>\n",
       "      <th>2019-10-24</th>\n",
       "      <td>2.051818</td>\n",
       "      <td>1.232083</td>\n",
       "      <td>NaN</td>\n",
       "      <td>0.367910</td>\n",
       "      <td>0.074128</td>\n",
       "    </tr>\n",
       "    <tr>\n",
       "      <th>2019-10-25</th>\n",
       "      <td>1.051598</td>\n",
       "      <td>-0.285585</td>\n",
       "      <td>NaN</td>\n",
       "      <td>0.431949</td>\n",
       "      <td>0.131504</td>\n",
       "    </tr>\n",
       "    <tr>\n",
       "      <th>2019-10-26</th>\n",
       "      <td>-0.765140</td>\n",
       "      <td>-0.701887</td>\n",
       "      <td>0.881834</td>\n",
       "      <td>1.758220</td>\n",
       "      <td>0.329875</td>\n",
       "    </tr>\n",
       "    <tr>\n",
       "      <th>2019-10-27</th>\n",
       "      <td>0.588703</td>\n",
       "      <td>1.153082</td>\n",
       "      <td>-0.262695</td>\n",
       "      <td>0.091058</td>\n",
       "      <td>1.918801</td>\n",
       "    </tr>\n",
       "  </tbody>\n",
       "</table>\n",
       "</div>"
      ],
      "text/plain": [
       "                   A         B         C         D         E\n",
       "2019-10-23  1.734753 -0.399923       NaN  0.189181  0.307998\n",
       "2019-10-24  2.051818  1.232083       NaN  0.367910  0.074128\n",
       "2019-10-25  1.051598 -0.285585       NaN  0.431949  0.131504\n",
       "2019-10-26 -0.765140 -0.701887  0.881834  1.758220  0.329875\n",
       "2019-10-27  0.588703  1.153082 -0.262695  0.091058  1.918801"
      ]
     },
     "execution_count": 59,
     "metadata": {},
     "output_type": "execute_result"
    }
   ],
   "source": [
    "df.iloc[5:8,2:3] = np.nan\n",
    "df.tail()"
   ]
  },
  {
   "cell_type": "code",
   "execution_count": 60,
   "metadata": {
    "collapsed": true
   },
   "outputs": [
    {
     "data": {
      "text/html": [
       "<div>\n",
       "<style scoped>\n",
       "    .dataframe tbody tr th:only-of-type {\n",
       "        vertical-align: middle;\n",
       "    }\n",
       "\n",
       "    .dataframe tbody tr th {\n",
       "        vertical-align: top;\n",
       "    }\n",
       "\n",
       "    .dataframe thead th {\n",
       "        text-align: right;\n",
       "    }\n",
       "</style>\n",
       "<table border=\"1\" class=\"dataframe\">\n",
       "  <thead>\n",
       "    <tr style=\"text-align: right;\">\n",
       "      <th></th>\n",
       "      <th>A</th>\n",
       "      <th>B</th>\n",
       "      <th>C</th>\n",
       "      <th>D</th>\n",
       "      <th>E</th>\n",
       "    </tr>\n",
       "  </thead>\n",
       "  <tbody>\n",
       "    <tr>\n",
       "      <th>2019-10-23</th>\n",
       "      <td>1.734753</td>\n",
       "      <td>-0.399923</td>\n",
       "      <td>1.000000</td>\n",
       "      <td>0.189181</td>\n",
       "      <td>0.307998</td>\n",
       "    </tr>\n",
       "    <tr>\n",
       "      <th>2019-10-24</th>\n",
       "      <td>2.051818</td>\n",
       "      <td>1.232083</td>\n",
       "      <td>1.000000</td>\n",
       "      <td>0.367910</td>\n",
       "      <td>0.074128</td>\n",
       "    </tr>\n",
       "    <tr>\n",
       "      <th>2019-10-25</th>\n",
       "      <td>1.051598</td>\n",
       "      <td>-0.285585</td>\n",
       "      <td>1.000000</td>\n",
       "      <td>0.431949</td>\n",
       "      <td>0.131504</td>\n",
       "    </tr>\n",
       "    <tr>\n",
       "      <th>2019-10-26</th>\n",
       "      <td>-0.765140</td>\n",
       "      <td>-0.701887</td>\n",
       "      <td>0.881834</td>\n",
       "      <td>1.758220</td>\n",
       "      <td>0.329875</td>\n",
       "    </tr>\n",
       "    <tr>\n",
       "      <th>2019-10-27</th>\n",
       "      <td>0.588703</td>\n",
       "      <td>1.153082</td>\n",
       "      <td>-0.262695</td>\n",
       "      <td>0.091058</td>\n",
       "      <td>1.918801</td>\n",
       "    </tr>\n",
       "  </tbody>\n",
       "</table>\n",
       "</div>"
      ],
      "text/plain": [
       "                   A         B         C         D         E\n",
       "2019-10-23  1.734753 -0.399923  1.000000  0.189181  0.307998\n",
       "2019-10-24  2.051818  1.232083  1.000000  0.367910  0.074128\n",
       "2019-10-25  1.051598 -0.285585  1.000000  0.431949  0.131504\n",
       "2019-10-26 -0.765140 -0.701887  0.881834  1.758220  0.329875\n",
       "2019-10-27  0.588703  1.153082 -0.262695  0.091058  1.918801"
      ]
     },
     "execution_count": 60,
     "metadata": {},
     "output_type": "execute_result"
    }
   ],
   "source": [
    "df.C.fillna(1.0, inplace = True)\n",
    "df.tail()"
   ]
  },
  {
   "cell_type": "code",
   "execution_count": 61,
   "metadata": {
    "collapsed": true
   },
   "outputs": [
    {
     "data": {
      "text/html": [
       "<div>\n",
       "<style scoped>\n",
       "    .dataframe tbody tr th:only-of-type {\n",
       "        vertical-align: middle;\n",
       "    }\n",
       "\n",
       "    .dataframe tbody tr th {\n",
       "        vertical-align: top;\n",
       "    }\n",
       "\n",
       "    .dataframe thead th {\n",
       "        text-align: right;\n",
       "    }\n",
       "</style>\n",
       "<table border=\"1\" class=\"dataframe\">\n",
       "  <thead>\n",
       "    <tr style=\"text-align: right;\">\n",
       "      <th></th>\n",
       "      <th>A</th>\n",
       "      <th>B</th>\n",
       "      <th>D</th>\n",
       "      <th>E</th>\n",
       "    </tr>\n",
       "  </thead>\n",
       "  <tbody>\n",
       "    <tr>\n",
       "      <th>2019-10-18</th>\n",
       "      <td>0.929941</td>\n",
       "      <td>-0.626672</td>\n",
       "      <td>-0.029042</td>\n",
       "      <td>0.423467</td>\n",
       "    </tr>\n",
       "    <tr>\n",
       "      <th>2019-10-19</th>\n",
       "      <td>-0.533583</td>\n",
       "      <td>0.282078</td>\n",
       "      <td>-1.170280</td>\n",
       "      <td>0.458149</td>\n",
       "    </tr>\n",
       "    <tr>\n",
       "      <th>2019-10-20</th>\n",
       "      <td>2.278239</td>\n",
       "      <td>-0.056985</td>\n",
       "      <td>0.241622</td>\n",
       "      <td>0.039161</td>\n",
       "    </tr>\n",
       "    <tr>\n",
       "      <th>2019-10-21</th>\n",
       "      <td>-0.015695</td>\n",
       "      <td>0.349731</td>\n",
       "      <td>0.923070</td>\n",
       "      <td>-0.609090</td>\n",
       "    </tr>\n",
       "    <tr>\n",
       "      <th>2019-10-22</th>\n",
       "      <td>1.843689</td>\n",
       "      <td>0.246005</td>\n",
       "      <td>-0.639319</td>\n",
       "      <td>0.336308</td>\n",
       "    </tr>\n",
       "  </tbody>\n",
       "</table>\n",
       "</div>"
      ],
      "text/plain": [
       "                   A         B         D         E\n",
       "2019-10-18  0.929941 -0.626672 -0.029042  0.423467\n",
       "2019-10-19 -0.533583  0.282078 -1.170280  0.458149\n",
       "2019-10-20  2.278239 -0.056985  0.241622  0.039161\n",
       "2019-10-21 -0.015695  0.349731  0.923070 -0.609090\n",
       "2019-10-22  1.843689  0.246005 -0.639319  0.336308"
      ]
     },
     "execution_count": 61,
     "metadata": {},
     "output_type": "execute_result"
    }
   ],
   "source": [
    "del df['C']\n",
    "df.head()"
   ]
  },
  {
   "cell_type": "code",
   "execution_count": 63,
   "metadata": {
    "scrolled": true
   },
   "outputs": [
    {
     "data": {
      "text/html": [
       "<div>\n",
       "<style scoped>\n",
       "    .dataframe tbody tr th:only-of-type {\n",
       "        vertical-align: middle;\n",
       "    }\n",
       "\n",
       "    .dataframe tbody tr th {\n",
       "        vertical-align: top;\n",
       "    }\n",
       "\n",
       "    .dataframe thead th {\n",
       "        text-align: right;\n",
       "    }\n",
       "</style>\n",
       "<table border=\"1\" class=\"dataframe\">\n",
       "  <thead>\n",
       "    <tr style=\"text-align: right;\">\n",
       "      <th></th>\n",
       "      <th>A</th>\n",
       "      <th>B</th>\n",
       "      <th>D</th>\n",
       "      <th>E</th>\n",
       "    </tr>\n",
       "  </thead>\n",
       "  <tbody>\n",
       "    <tr>\n",
       "      <th>2019-10-18</th>\n",
       "      <td>NaN</td>\n",
       "      <td>NaN</td>\n",
       "      <td>NaN</td>\n",
       "      <td>NaN</td>\n",
       "    </tr>\n",
       "    <tr>\n",
       "      <th>2019-10-19</th>\n",
       "      <td>NaN</td>\n",
       "      <td>NaN</td>\n",
       "      <td>NaN</td>\n",
       "      <td>NaN</td>\n",
       "    </tr>\n",
       "    <tr>\n",
       "      <th>2019-10-20</th>\n",
       "      <td>2.278239</td>\n",
       "      <td>-0.056985</td>\n",
       "      <td>0.241622</td>\n",
       "      <td>0.039161</td>\n",
       "    </tr>\n",
       "    <tr>\n",
       "      <th>2019-10-21</th>\n",
       "      <td>-0.015695</td>\n",
       "      <td>0.349731</td>\n",
       "      <td>0.923070</td>\n",
       "      <td>-0.609090</td>\n",
       "    </tr>\n",
       "    <tr>\n",
       "      <th>2019-10-22</th>\n",
       "      <td>1.843689</td>\n",
       "      <td>0.246005</td>\n",
       "      <td>-0.639319</td>\n",
       "      <td>0.336308</td>\n",
       "    </tr>\n",
       "  </tbody>\n",
       "</table>\n",
       "</div>"
      ],
      "text/plain": [
       "                   A         B         D         E\n",
       "2019-10-18       NaN       NaN       NaN       NaN\n",
       "2019-10-19       NaN       NaN       NaN       NaN\n",
       "2019-10-20  2.278239 -0.056985  0.241622  0.039161\n",
       "2019-10-21 -0.015695  0.349731  0.923070 -0.609090\n",
       "2019-10-22  1.843689  0.246005 -0.639319  0.336308"
      ]
     },
     "execution_count": 63,
     "metadata": {},
     "output_type": "execute_result"
    }
   ],
   "source": [
    "df.iloc[0:2,:] = np.nan\n",
    "df.head()"
   ]
  },
  {
   "cell_type": "code",
   "execution_count": 64,
   "metadata": {},
   "outputs": [
    {
     "data": {
      "text/html": [
       "<div>\n",
       "<style scoped>\n",
       "    .dataframe tbody tr th:only-of-type {\n",
       "        vertical-align: middle;\n",
       "    }\n",
       "\n",
       "    .dataframe tbody tr th {\n",
       "        vertical-align: top;\n",
       "    }\n",
       "\n",
       "    .dataframe thead th {\n",
       "        text-align: right;\n",
       "    }\n",
       "</style>\n",
       "<table border=\"1\" class=\"dataframe\">\n",
       "  <thead>\n",
       "    <tr style=\"text-align: right;\">\n",
       "      <th></th>\n",
       "      <th>A</th>\n",
       "      <th>B</th>\n",
       "      <th>D</th>\n",
       "      <th>E</th>\n",
       "    </tr>\n",
       "  </thead>\n",
       "  <tbody>\n",
       "    <tr>\n",
       "      <th>2019-10-20</th>\n",
       "      <td>2.278239</td>\n",
       "      <td>-0.056985</td>\n",
       "      <td>0.241622</td>\n",
       "      <td>0.039161</td>\n",
       "    </tr>\n",
       "    <tr>\n",
       "      <th>2019-10-21</th>\n",
       "      <td>-0.015695</td>\n",
       "      <td>0.349731</td>\n",
       "      <td>0.923070</td>\n",
       "      <td>-0.609090</td>\n",
       "    </tr>\n",
       "    <tr>\n",
       "      <th>2019-10-22</th>\n",
       "      <td>1.843689</td>\n",
       "      <td>0.246005</td>\n",
       "      <td>-0.639319</td>\n",
       "      <td>0.336308</td>\n",
       "    </tr>\n",
       "    <tr>\n",
       "      <th>2019-10-23</th>\n",
       "      <td>1.734753</td>\n",
       "      <td>-0.399923</td>\n",
       "      <td>0.189181</td>\n",
       "      <td>0.307998</td>\n",
       "    </tr>\n",
       "    <tr>\n",
       "      <th>2019-10-24</th>\n",
       "      <td>2.051818</td>\n",
       "      <td>1.232083</td>\n",
       "      <td>0.367910</td>\n",
       "      <td>0.074128</td>\n",
       "    </tr>\n",
       "  </tbody>\n",
       "</table>\n",
       "</div>"
      ],
      "text/plain": [
       "                   A         B         D         E\n",
       "2019-10-20  2.278239 -0.056985  0.241622  0.039161\n",
       "2019-10-21 -0.015695  0.349731  0.923070 -0.609090\n",
       "2019-10-22  1.843689  0.246005 -0.639319  0.336308\n",
       "2019-10-23  1.734753 -0.399923  0.189181  0.307998\n",
       "2019-10-24  2.051818  1.232083  0.367910  0.074128"
      ]
     },
     "execution_count": 64,
     "metadata": {},
     "output_type": "execute_result"
    }
   ],
   "source": [
    "df = df.dropna(how='any')\n",
    "df.head()"
   ]
  },
  {
   "cell_type": "code",
   "execution_count": 23,
   "metadata": {},
   "outputs": [
    {
     "data": {
      "text/plain": [
       "numpy.ndarray"
      ]
     },
     "execution_count": 23,
     "metadata": {},
     "output_type": "execute_result"
    }
   ],
   "source": [
    "pd_arr = df.C.to_numpy()\n",
    "type(pd_arr)"
   ]
  },
  {
   "cell_type": "code",
   "execution_count": 24,
   "metadata": {
    "collapsed": true
   },
   "outputs": [
    {
     "data": {
      "text/plain": [
       "0    0.000000\n",
       "1    0.698132\n",
       "2    1.396263\n",
       "3    2.094395\n",
       "4    2.792527\n",
       "5    3.490659\n",
       "6    4.188790\n",
       "7    4.886922\n",
       "8    5.585054\n",
       "9    6.283185\n",
       "dtype: float64"
      ]
     },
     "execution_count": 24,
     "metadata": {},
     "output_type": "execute_result"
    }
   ],
   "source": [
    "pd_array2 = pd.Series(np.linspace(0,2*np.pi,10))\n",
    "pd_array2"
   ]
  },
  {
   "cell_type": "code",
   "execution_count": 25,
   "metadata": {},
   "outputs": [],
   "source": [
    "df.to_csv(\"random.csv\")"
   ]
  },
  {
   "cell_type": "code",
   "execution_count": 26,
   "metadata": {},
   "outputs": [],
   "source": [
    "df_test = pd.read_csv(\"random.csv\")\n",
    "#df_test.head(2)\n",
    "#df_test.tail(6)"
   ]
  },
  {
   "cell_type": "markdown",
   "metadata": {},
   "source": [
    "Part II"
   ]
  },
  {
   "cell_type": "code",
   "execution_count": 65,
   "metadata": {
    "collapsed": true
   },
   "outputs": [
    {
     "name": "stdout",
     "output_type": "stream",
     "text": [
      "       country  gdpPercap_1952  gdpPercap_1957  gdpPercap_1962  \\\n",
      "0    Australia     10039.59564     10949.64959     12217.22686   \n",
      "1  New Zealand     10556.57566     12247.39532     13175.67800   \n",
      "\n",
      "   gdpPercap_1967  gdpPercap_1972  gdpPercap_1977  gdpPercap_1982  \\\n",
      "0     14526.12465     16788.62948     18334.19751     19477.00928   \n",
      "1     14463.91893     16046.03728     16233.71770     17632.41040   \n",
      "\n",
      "   gdpPercap_1987  gdpPercap_1992  gdpPercap_1997  gdpPercap_2002  \\\n",
      "0     21888.88903     23424.76683     26997.93657     30687.75473   \n",
      "1     19007.19129     18363.32494     21050.41377     23189.80135   \n",
      "\n",
      "   gdpPercap_2007  \n",
      "0     34435.36744  \n",
      "1     25185.00911  \n"
     ]
    }
   ],
   "source": [
    "url_oceania = 'https://raw.githubusercontent.com/clemsonciti/intro-to-python/master/data3/gapminder_gdp_oceania.csv'\n",
    "data = pd.read_csv(url_oceania)\n",
    "print(data)"
   ]
  },
  {
   "cell_type": "code",
   "execution_count": 66,
   "metadata": {
    "collapsed": true
   },
   "outputs": [
    {
     "name": "stdout",
     "output_type": "stream",
     "text": [
      "             gdpPercap_1952  gdpPercap_1957  gdpPercap_1962  gdpPercap_1967  \\\n",
      "country                                                                       \n",
      "Australia       10039.59564     10949.64959     12217.22686     14526.12465   \n",
      "New Zealand     10556.57566     12247.39532     13175.67800     14463.91893   \n",
      "\n",
      "             gdpPercap_1972  gdpPercap_1977  gdpPercap_1982  gdpPercap_1987  \\\n",
      "country                                                                       \n",
      "Australia       16788.62948     18334.19751     19477.00928     21888.88903   \n",
      "New Zealand     16046.03728     16233.71770     17632.41040     19007.19129   \n",
      "\n",
      "             gdpPercap_1992  gdpPercap_1997  gdpPercap_2002  gdpPercap_2007  \n",
      "country                                                                      \n",
      "Australia       23424.76683     26997.93657     30687.75473     34435.36744  \n",
      "New Zealand     18363.32494     21050.41377     23189.80135     25185.00911  \n"
     ]
    }
   ],
   "source": [
    "data = pd.read_csv(url_oceania, index_col='country')  #Row names are now Country names\n",
    "print(data)"
   ]
  },
  {
   "cell_type": "code",
   "execution_count": 67,
   "metadata": {
    "collapsed": true
   },
   "outputs": [
    {
     "name": "stdout",
     "output_type": "stream",
     "text": [
      "<class 'pandas.core.frame.DataFrame'>\n",
      "Index: 2 entries, Australia to New Zealand\n",
      "Data columns (total 12 columns):\n",
      " #   Column          Non-Null Count  Dtype  \n",
      "---  ------          --------------  -----  \n",
      " 0   gdpPercap_1952  2 non-null      float64\n",
      " 1   gdpPercap_1957  2 non-null      float64\n",
      " 2   gdpPercap_1962  2 non-null      float64\n",
      " 3   gdpPercap_1967  2 non-null      float64\n",
      " 4   gdpPercap_1972  2 non-null      float64\n",
      " 5   gdpPercap_1977  2 non-null      float64\n",
      " 6   gdpPercap_1982  2 non-null      float64\n",
      " 7   gdpPercap_1987  2 non-null      float64\n",
      " 8   gdpPercap_1992  2 non-null      float64\n",
      " 9   gdpPercap_1997  2 non-null      float64\n",
      " 10  gdpPercap_2002  2 non-null      float64\n",
      " 11  gdpPercap_2007  2 non-null      float64\n",
      "dtypes: float64(12)\n",
      "memory usage: 208.0+ bytes\n"
     ]
    }
   ],
   "source": [
    "data.info()"
   ]
  },
  {
   "cell_type": "code",
   "execution_count": 30,
   "metadata": {
    "collapsed": true
   },
   "outputs": [
    {
     "name": "stdout",
     "output_type": "stream",
     "text": [
      "Index(['gdpPercap_1952', 'gdpPercap_1957', 'gdpPercap_1962', 'gdpPercap_1967',\n",
      "       'gdpPercap_1972', 'gdpPercap_1977', 'gdpPercap_1982', 'gdpPercap_1987',\n",
      "       'gdpPercap_1992', 'gdpPercap_1997', 'gdpPercap_2002', 'gdpPercap_2007'],\n",
      "      dtype='object')\n"
     ]
    }
   ],
   "source": [
    "print(data.columns)  #Column names"
   ]
  },
  {
   "cell_type": "code",
   "execution_count": 31,
   "metadata": {
    "collapsed": true
   },
   "outputs": [
    {
     "data": {
      "text/html": [
       "<div>\n",
       "<style scoped>\n",
       "    .dataframe tbody tr th:only-of-type {\n",
       "        vertical-align: middle;\n",
       "    }\n",
       "\n",
       "    .dataframe tbody tr th {\n",
       "        vertical-align: top;\n",
       "    }\n",
       "\n",
       "    .dataframe thead th {\n",
       "        text-align: right;\n",
       "    }\n",
       "</style>\n",
       "<table border=\"1\" class=\"dataframe\">\n",
       "  <thead>\n",
       "    <tr style=\"text-align: right;\">\n",
       "      <th>country</th>\n",
       "      <th>Australia</th>\n",
       "      <th>New Zealand</th>\n",
       "    </tr>\n",
       "  </thead>\n",
       "  <tbody>\n",
       "    <tr>\n",
       "      <th>gdpPercap_1952</th>\n",
       "      <td>10039.59564</td>\n",
       "      <td>10556.57566</td>\n",
       "    </tr>\n",
       "    <tr>\n",
       "      <th>gdpPercap_1957</th>\n",
       "      <td>10949.64959</td>\n",
       "      <td>12247.39532</td>\n",
       "    </tr>\n",
       "    <tr>\n",
       "      <th>gdpPercap_1962</th>\n",
       "      <td>12217.22686</td>\n",
       "      <td>13175.67800</td>\n",
       "    </tr>\n",
       "    <tr>\n",
       "      <th>gdpPercap_1967</th>\n",
       "      <td>14526.12465</td>\n",
       "      <td>14463.91893</td>\n",
       "    </tr>\n",
       "    <tr>\n",
       "      <th>gdpPercap_1972</th>\n",
       "      <td>16788.62948</td>\n",
       "      <td>16046.03728</td>\n",
       "    </tr>\n",
       "    <tr>\n",
       "      <th>gdpPercap_1977</th>\n",
       "      <td>18334.19751</td>\n",
       "      <td>16233.71770</td>\n",
       "    </tr>\n",
       "    <tr>\n",
       "      <th>gdpPercap_1982</th>\n",
       "      <td>19477.00928</td>\n",
       "      <td>17632.41040</td>\n",
       "    </tr>\n",
       "    <tr>\n",
       "      <th>gdpPercap_1987</th>\n",
       "      <td>21888.88903</td>\n",
       "      <td>19007.19129</td>\n",
       "    </tr>\n",
       "    <tr>\n",
       "      <th>gdpPercap_1992</th>\n",
       "      <td>23424.76683</td>\n",
       "      <td>18363.32494</td>\n",
       "    </tr>\n",
       "    <tr>\n",
       "      <th>gdpPercap_1997</th>\n",
       "      <td>26997.93657</td>\n",
       "      <td>21050.41377</td>\n",
       "    </tr>\n",
       "    <tr>\n",
       "      <th>gdpPercap_2002</th>\n",
       "      <td>30687.75473</td>\n",
       "      <td>23189.80135</td>\n",
       "    </tr>\n",
       "    <tr>\n",
       "      <th>gdpPercap_2007</th>\n",
       "      <td>34435.36744</td>\n",
       "      <td>25185.00911</td>\n",
       "    </tr>\n",
       "  </tbody>\n",
       "</table>\n",
       "</div>"
      ],
      "text/plain": [
       "country           Australia  New Zealand\n",
       "gdpPercap_1952  10039.59564  10556.57566\n",
       "gdpPercap_1957  10949.64959  12247.39532\n",
       "gdpPercap_1962  12217.22686  13175.67800\n",
       "gdpPercap_1967  14526.12465  14463.91893\n",
       "gdpPercap_1972  16788.62948  16046.03728\n",
       "gdpPercap_1977  18334.19751  16233.71770\n",
       "gdpPercap_1982  19477.00928  17632.41040\n",
       "gdpPercap_1987  21888.88903  19007.19129\n",
       "gdpPercap_1992  23424.76683  18363.32494\n",
       "gdpPercap_1997  26997.93657  21050.41377\n",
       "gdpPercap_2002  30687.75473  23189.80135\n",
       "gdpPercap_2007  34435.36744  25185.00911"
      ]
     },
     "execution_count": 31,
     "metadata": {},
     "output_type": "execute_result"
    }
   ],
   "source": [
    "data.T"
   ]
  },
  {
   "cell_type": "code",
   "execution_count": 32,
   "metadata": {
    "collapsed": true
   },
   "outputs": [
    {
     "data": {
      "text/html": [
       "<div>\n",
       "<style scoped>\n",
       "    .dataframe tbody tr th:only-of-type {\n",
       "        vertical-align: middle;\n",
       "    }\n",
       "\n",
       "    .dataframe tbody tr th {\n",
       "        vertical-align: top;\n",
       "    }\n",
       "\n",
       "    .dataframe thead th {\n",
       "        text-align: right;\n",
       "    }\n",
       "</style>\n",
       "<table border=\"1\" class=\"dataframe\">\n",
       "  <thead>\n",
       "    <tr style=\"text-align: right;\">\n",
       "      <th></th>\n",
       "      <th>gdpPercap_1952</th>\n",
       "      <th>gdpPercap_1957</th>\n",
       "      <th>gdpPercap_1962</th>\n",
       "      <th>gdpPercap_1967</th>\n",
       "      <th>gdpPercap_1972</th>\n",
       "      <th>gdpPercap_1977</th>\n",
       "      <th>gdpPercap_1982</th>\n",
       "      <th>gdpPercap_1987</th>\n",
       "      <th>gdpPercap_1992</th>\n",
       "      <th>gdpPercap_1997</th>\n",
       "      <th>gdpPercap_2002</th>\n",
       "      <th>gdpPercap_2007</th>\n",
       "    </tr>\n",
       "  </thead>\n",
       "  <tbody>\n",
       "    <tr>\n",
       "      <th>count</th>\n",
       "      <td>2.000000</td>\n",
       "      <td>2.000000</td>\n",
       "      <td>2.000000</td>\n",
       "      <td>2.000000</td>\n",
       "      <td>2.00000</td>\n",
       "      <td>2.000000</td>\n",
       "      <td>2.000000</td>\n",
       "      <td>2.000000</td>\n",
       "      <td>2.000000</td>\n",
       "      <td>2.000000</td>\n",
       "      <td>2.000000</td>\n",
       "      <td>2.000000</td>\n",
       "    </tr>\n",
       "    <tr>\n",
       "      <th>mean</th>\n",
       "      <td>10298.085650</td>\n",
       "      <td>11598.522455</td>\n",
       "      <td>12696.452430</td>\n",
       "      <td>14495.021790</td>\n",
       "      <td>16417.33338</td>\n",
       "      <td>17283.957605</td>\n",
       "      <td>18554.709840</td>\n",
       "      <td>20448.040160</td>\n",
       "      <td>20894.045885</td>\n",
       "      <td>24024.175170</td>\n",
       "      <td>26938.778040</td>\n",
       "      <td>29810.188275</td>\n",
       "    </tr>\n",
       "    <tr>\n",
       "      <th>std</th>\n",
       "      <td>365.560078</td>\n",
       "      <td>917.644806</td>\n",
       "      <td>677.727301</td>\n",
       "      <td>43.986086</td>\n",
       "      <td>525.09198</td>\n",
       "      <td>1485.263517</td>\n",
       "      <td>1304.328377</td>\n",
       "      <td>2037.668013</td>\n",
       "      <td>3578.979883</td>\n",
       "      <td>4205.533703</td>\n",
       "      <td>5301.853680</td>\n",
       "      <td>6540.991104</td>\n",
       "    </tr>\n",
       "    <tr>\n",
       "      <th>min</th>\n",
       "      <td>10039.595640</td>\n",
       "      <td>10949.649590</td>\n",
       "      <td>12217.226860</td>\n",
       "      <td>14463.918930</td>\n",
       "      <td>16046.03728</td>\n",
       "      <td>16233.717700</td>\n",
       "      <td>17632.410400</td>\n",
       "      <td>19007.191290</td>\n",
       "      <td>18363.324940</td>\n",
       "      <td>21050.413770</td>\n",
       "      <td>23189.801350</td>\n",
       "      <td>25185.009110</td>\n",
       "    </tr>\n",
       "    <tr>\n",
       "      <th>25%</th>\n",
       "      <td>10168.840645</td>\n",
       "      <td>11274.086022</td>\n",
       "      <td>12456.839645</td>\n",
       "      <td>14479.470360</td>\n",
       "      <td>16231.68533</td>\n",
       "      <td>16758.837652</td>\n",
       "      <td>18093.560120</td>\n",
       "      <td>19727.615725</td>\n",
       "      <td>19628.685413</td>\n",
       "      <td>22537.294470</td>\n",
       "      <td>25064.289695</td>\n",
       "      <td>27497.598692</td>\n",
       "    </tr>\n",
       "    <tr>\n",
       "      <th>50%</th>\n",
       "      <td>10298.085650</td>\n",
       "      <td>11598.522455</td>\n",
       "      <td>12696.452430</td>\n",
       "      <td>14495.021790</td>\n",
       "      <td>16417.33338</td>\n",
       "      <td>17283.957605</td>\n",
       "      <td>18554.709840</td>\n",
       "      <td>20448.040160</td>\n",
       "      <td>20894.045885</td>\n",
       "      <td>24024.175170</td>\n",
       "      <td>26938.778040</td>\n",
       "      <td>29810.188275</td>\n",
       "    </tr>\n",
       "    <tr>\n",
       "      <th>75%</th>\n",
       "      <td>10427.330655</td>\n",
       "      <td>11922.958888</td>\n",
       "      <td>12936.065215</td>\n",
       "      <td>14510.573220</td>\n",
       "      <td>16602.98143</td>\n",
       "      <td>17809.077557</td>\n",
       "      <td>19015.859560</td>\n",
       "      <td>21168.464595</td>\n",
       "      <td>22159.406358</td>\n",
       "      <td>25511.055870</td>\n",
       "      <td>28813.266385</td>\n",
       "      <td>32122.777857</td>\n",
       "    </tr>\n",
       "    <tr>\n",
       "      <th>max</th>\n",
       "      <td>10556.575660</td>\n",
       "      <td>12247.395320</td>\n",
       "      <td>13175.678000</td>\n",
       "      <td>14526.124650</td>\n",
       "      <td>16788.62948</td>\n",
       "      <td>18334.197510</td>\n",
       "      <td>19477.009280</td>\n",
       "      <td>21888.889030</td>\n",
       "      <td>23424.766830</td>\n",
       "      <td>26997.936570</td>\n",
       "      <td>30687.754730</td>\n",
       "      <td>34435.367440</td>\n",
       "    </tr>\n",
       "  </tbody>\n",
       "</table>\n",
       "</div>"
      ],
      "text/plain": [
       "       gdpPercap_1952  gdpPercap_1957  gdpPercap_1962  gdpPercap_1967  \\\n",
       "count        2.000000        2.000000        2.000000        2.000000   \n",
       "mean     10298.085650    11598.522455    12696.452430    14495.021790   \n",
       "std        365.560078      917.644806      677.727301       43.986086   \n",
       "min      10039.595640    10949.649590    12217.226860    14463.918930   \n",
       "25%      10168.840645    11274.086022    12456.839645    14479.470360   \n",
       "50%      10298.085650    11598.522455    12696.452430    14495.021790   \n",
       "75%      10427.330655    11922.958888    12936.065215    14510.573220   \n",
       "max      10556.575660    12247.395320    13175.678000    14526.124650   \n",
       "\n",
       "       gdpPercap_1972  gdpPercap_1977  gdpPercap_1982  gdpPercap_1987  \\\n",
       "count         2.00000        2.000000        2.000000        2.000000   \n",
       "mean      16417.33338    17283.957605    18554.709840    20448.040160   \n",
       "std         525.09198     1485.263517     1304.328377     2037.668013   \n",
       "min       16046.03728    16233.717700    17632.410400    19007.191290   \n",
       "25%       16231.68533    16758.837652    18093.560120    19727.615725   \n",
       "50%       16417.33338    17283.957605    18554.709840    20448.040160   \n",
       "75%       16602.98143    17809.077557    19015.859560    21168.464595   \n",
       "max       16788.62948    18334.197510    19477.009280    21888.889030   \n",
       "\n",
       "       gdpPercap_1992  gdpPercap_1997  gdpPercap_2002  gdpPercap_2007  \n",
       "count        2.000000        2.000000        2.000000        2.000000  \n",
       "mean     20894.045885    24024.175170    26938.778040    29810.188275  \n",
       "std       3578.979883     4205.533703     5301.853680     6540.991104  \n",
       "min      18363.324940    21050.413770    23189.801350    25185.009110  \n",
       "25%      19628.685413    22537.294470    25064.289695    27497.598692  \n",
       "50%      20894.045885    24024.175170    26938.778040    29810.188275  \n",
       "75%      22159.406358    25511.055870    28813.266385    32122.777857  \n",
       "max      23424.766830    26997.936570    30687.754730    34435.367440  "
      ]
     },
     "execution_count": 32,
     "metadata": {},
     "output_type": "execute_result"
    }
   ],
   "source": [
    "data.describe()"
   ]
  },
  {
   "cell_type": "code",
   "execution_count": 33,
   "metadata": {},
   "outputs": [],
   "source": [
    "#americas = pd.read_csv('data3/gapminder_gdp_americas.csv', index_col='country')\n"
   ]
  },
  {
   "cell_type": "markdown",
   "metadata": {},
   "source": [
    "\n",
    "    What method call will display the first three rows of this data?\n",
    "    What method call will display the last three columns of this data? (Hint: you may need to change your view of the data.)\n"
   ]
  },
  {
   "cell_type": "code",
   "execution_count": 34,
   "metadata": {
    "collapsed": true
   },
   "outputs": [
    {
     "data": {
      "text/html": [
       "<div>\n",
       "<style scoped>\n",
       "    .dataframe tbody tr th:only-of-type {\n",
       "        vertical-align: middle;\n",
       "    }\n",
       "\n",
       "    .dataframe tbody tr th {\n",
       "        vertical-align: top;\n",
       "    }\n",
       "\n",
       "    .dataframe thead th {\n",
       "        text-align: right;\n",
       "    }\n",
       "</style>\n",
       "<table border=\"1\" class=\"dataframe\">\n",
       "  <thead>\n",
       "    <tr style=\"text-align: right;\">\n",
       "      <th></th>\n",
       "      <th>continent</th>\n",
       "      <th>gdpPercap_1952</th>\n",
       "      <th>gdpPercap_1957</th>\n",
       "      <th>gdpPercap_1962</th>\n",
       "      <th>gdpPercap_1967</th>\n",
       "      <th>gdpPercap_1972</th>\n",
       "      <th>gdpPercap_1977</th>\n",
       "      <th>gdpPercap_1982</th>\n",
       "      <th>gdpPercap_1987</th>\n",
       "      <th>gdpPercap_1992</th>\n",
       "      <th>gdpPercap_1997</th>\n",
       "      <th>gdpPercap_2002</th>\n",
       "      <th>gdpPercap_2007</th>\n",
       "    </tr>\n",
       "    <tr>\n",
       "      <th>country</th>\n",
       "      <th></th>\n",
       "      <th></th>\n",
       "      <th></th>\n",
       "      <th></th>\n",
       "      <th></th>\n",
       "      <th></th>\n",
       "      <th></th>\n",
       "      <th></th>\n",
       "      <th></th>\n",
       "      <th></th>\n",
       "      <th></th>\n",
       "      <th></th>\n",
       "      <th></th>\n",
       "    </tr>\n",
       "  </thead>\n",
       "  <tbody>\n",
       "    <tr>\n",
       "      <th>Argentina</th>\n",
       "      <td>Americas</td>\n",
       "      <td>5911.315053</td>\n",
       "      <td>6856.856212</td>\n",
       "      <td>7133.166023</td>\n",
       "      <td>8052.953021</td>\n",
       "      <td>9443.038526</td>\n",
       "      <td>10079.026740</td>\n",
       "      <td>8997.897412</td>\n",
       "      <td>9139.671389</td>\n",
       "      <td>9308.418710</td>\n",
       "      <td>10967.281950</td>\n",
       "      <td>8797.640716</td>\n",
       "      <td>12779.379640</td>\n",
       "    </tr>\n",
       "    <tr>\n",
       "      <th>Bolivia</th>\n",
       "      <td>Americas</td>\n",
       "      <td>2677.326347</td>\n",
       "      <td>2127.686326</td>\n",
       "      <td>2180.972546</td>\n",
       "      <td>2586.886053</td>\n",
       "      <td>2980.331339</td>\n",
       "      <td>3548.097832</td>\n",
       "      <td>3156.510452</td>\n",
       "      <td>2753.691490</td>\n",
       "      <td>2961.699694</td>\n",
       "      <td>3326.143191</td>\n",
       "      <td>3413.262690</td>\n",
       "      <td>3822.137084</td>\n",
       "    </tr>\n",
       "    <tr>\n",
       "      <th>Brazil</th>\n",
       "      <td>Americas</td>\n",
       "      <td>2108.944355</td>\n",
       "      <td>2487.365989</td>\n",
       "      <td>3336.585802</td>\n",
       "      <td>3429.864357</td>\n",
       "      <td>4985.711467</td>\n",
       "      <td>6660.118654</td>\n",
       "      <td>7030.835878</td>\n",
       "      <td>7807.095818</td>\n",
       "      <td>6950.283021</td>\n",
       "      <td>7957.980824</td>\n",
       "      <td>8131.212843</td>\n",
       "      <td>9065.800825</td>\n",
       "    </tr>\n",
       "  </tbody>\n",
       "</table>\n",
       "</div>"
      ],
      "text/plain": [
       "          continent  gdpPercap_1952  gdpPercap_1957  gdpPercap_1962  \\\n",
       "country                                                               \n",
       "Argentina  Americas     5911.315053     6856.856212     7133.166023   \n",
       "Bolivia    Americas     2677.326347     2127.686326     2180.972546   \n",
       "Brazil     Americas     2108.944355     2487.365989     3336.585802   \n",
       "\n",
       "           gdpPercap_1967  gdpPercap_1972  gdpPercap_1977  gdpPercap_1982  \\\n",
       "country                                                                     \n",
       "Argentina     8052.953021     9443.038526    10079.026740     8997.897412   \n",
       "Bolivia       2586.886053     2980.331339     3548.097832     3156.510452   \n",
       "Brazil        3429.864357     4985.711467     6660.118654     7030.835878   \n",
       "\n",
       "           gdpPercap_1987  gdpPercap_1992  gdpPercap_1997  gdpPercap_2002  \\\n",
       "country                                                                     \n",
       "Argentina     9139.671389     9308.418710    10967.281950     8797.640716   \n",
       "Bolivia       2753.691490     2961.699694     3326.143191     3413.262690   \n",
       "Brazil        7807.095818     6950.283021     7957.980824     8131.212843   \n",
       "\n",
       "           gdpPercap_2007  \n",
       "country                    \n",
       "Argentina    12779.379640  \n",
       "Bolivia       3822.137084  \n",
       "Brazil        9065.800825  "
      ]
     },
     "execution_count": 34,
     "metadata": {},
     "output_type": "execute_result"
    }
   ],
   "source": [
    "#americas.head(n=3)"
   ]
  },
  {
   "cell_type": "code",
   "execution_count": 35,
   "metadata": {
    "collapsed": true
   },
   "outputs": [
    {
     "data": {
      "text/html": [
       "<div>\n",
       "<style scoped>\n",
       "    .dataframe tbody tr th:only-of-type {\n",
       "        vertical-align: middle;\n",
       "    }\n",
       "\n",
       "    .dataframe tbody tr th {\n",
       "        vertical-align: top;\n",
       "    }\n",
       "\n",
       "    .dataframe thead th {\n",
       "        text-align: right;\n",
       "    }\n",
       "</style>\n",
       "<table border=\"1\" class=\"dataframe\">\n",
       "  <thead>\n",
       "    <tr style=\"text-align: right;\">\n",
       "      <th></th>\n",
       "      <th>continent</th>\n",
       "      <th>gdpPercap_1952</th>\n",
       "      <th>gdpPercap_1957</th>\n",
       "      <th>gdpPercap_1962</th>\n",
       "      <th>gdpPercap_1967</th>\n",
       "      <th>gdpPercap_1972</th>\n",
       "      <th>gdpPercap_1977</th>\n",
       "      <th>gdpPercap_1982</th>\n",
       "      <th>gdpPercap_1987</th>\n",
       "      <th>gdpPercap_1992</th>\n",
       "      <th>gdpPercap_1997</th>\n",
       "      <th>gdpPercap_2002</th>\n",
       "      <th>gdpPercap_2007</th>\n",
       "    </tr>\n",
       "    <tr>\n",
       "      <th>country</th>\n",
       "      <th></th>\n",
       "      <th></th>\n",
       "      <th></th>\n",
       "      <th></th>\n",
       "      <th></th>\n",
       "      <th></th>\n",
       "      <th></th>\n",
       "      <th></th>\n",
       "      <th></th>\n",
       "      <th></th>\n",
       "      <th></th>\n",
       "      <th></th>\n",
       "      <th></th>\n",
       "    </tr>\n",
       "  </thead>\n",
       "  <tbody>\n",
       "    <tr>\n",
       "      <th>United States</th>\n",
       "      <td>Americas</td>\n",
       "      <td>13990.482080</td>\n",
       "      <td>14847.127120</td>\n",
       "      <td>16173.145860</td>\n",
       "      <td>19530.365570</td>\n",
       "      <td>21806.035940</td>\n",
       "      <td>24072.632130</td>\n",
       "      <td>25009.559140</td>\n",
       "      <td>29884.350410</td>\n",
       "      <td>32003.932240</td>\n",
       "      <td>35767.433030</td>\n",
       "      <td>39097.099550</td>\n",
       "      <td>42951.65309</td>\n",
       "    </tr>\n",
       "    <tr>\n",
       "      <th>Uruguay</th>\n",
       "      <td>Americas</td>\n",
       "      <td>5716.766744</td>\n",
       "      <td>6150.772969</td>\n",
       "      <td>5603.357717</td>\n",
       "      <td>5444.619620</td>\n",
       "      <td>5703.408898</td>\n",
       "      <td>6504.339663</td>\n",
       "      <td>6920.223051</td>\n",
       "      <td>7452.398969</td>\n",
       "      <td>8137.004775</td>\n",
       "      <td>9230.240708</td>\n",
       "      <td>7727.002004</td>\n",
       "      <td>10611.46299</td>\n",
       "    </tr>\n",
       "    <tr>\n",
       "      <th>Venezuela</th>\n",
       "      <td>Americas</td>\n",
       "      <td>7689.799761</td>\n",
       "      <td>9802.466526</td>\n",
       "      <td>8422.974165</td>\n",
       "      <td>9541.474188</td>\n",
       "      <td>10505.259660</td>\n",
       "      <td>13143.950950</td>\n",
       "      <td>11152.410110</td>\n",
       "      <td>9883.584648</td>\n",
       "      <td>10733.926310</td>\n",
       "      <td>10165.495180</td>\n",
       "      <td>8605.047831</td>\n",
       "      <td>11415.80569</td>\n",
       "    </tr>\n",
       "  </tbody>\n",
       "</table>\n",
       "</div>"
      ],
      "text/plain": [
       "              continent  gdpPercap_1952  gdpPercap_1957  gdpPercap_1962  \\\n",
       "country                                                                   \n",
       "United States  Americas    13990.482080    14847.127120    16173.145860   \n",
       "Uruguay        Americas     5716.766744     6150.772969     5603.357717   \n",
       "Venezuela      Americas     7689.799761     9802.466526     8422.974165   \n",
       "\n",
       "               gdpPercap_1967  gdpPercap_1972  gdpPercap_1977  gdpPercap_1982  \\\n",
       "country                                                                         \n",
       "United States    19530.365570    21806.035940    24072.632130    25009.559140   \n",
       "Uruguay           5444.619620     5703.408898     6504.339663     6920.223051   \n",
       "Venezuela         9541.474188    10505.259660    13143.950950    11152.410110   \n",
       "\n",
       "               gdpPercap_1987  gdpPercap_1992  gdpPercap_1997  gdpPercap_2002  \\\n",
       "country                                                                         \n",
       "United States    29884.350410    32003.932240    35767.433030    39097.099550   \n",
       "Uruguay           7452.398969     8137.004775     9230.240708     7727.002004   \n",
       "Venezuela         9883.584648    10733.926310    10165.495180     8605.047831   \n",
       "\n",
       "               gdpPercap_2007  \n",
       "country                        \n",
       "United States     42951.65309  \n",
       "Uruguay           10611.46299  \n",
       "Venezuela         11415.80569  "
      ]
     },
     "execution_count": 35,
     "metadata": {},
     "output_type": "execute_result"
    }
   ],
   "source": [
    "#americas.tail(3)"
   ]
  },
  {
   "cell_type": "code",
   "execution_count": 36,
   "metadata": {},
   "outputs": [],
   "source": [
    "#americas_flipped = americas.T"
   ]
  },
  {
   "cell_type": "code",
   "execution_count": 37,
   "metadata": {},
   "outputs": [],
   "source": [
    "#americas_flipped.to_csv('americas_flipped.csv')"
   ]
  },
  {
   "cell_type": "code",
   "execution_count": 68,
   "metadata": {
    "collapsed": true
   },
   "outputs": [
    {
     "name": "stdout",
     "output_type": "stream",
     "text": [
      "Help on method to_csv in module pandas.core.generic:\n",
      "\n",
      "to_csv(path_or_buf: Union[str, pathlib.Path, IO[~AnyStr], NoneType] = None, sep: str = ',', na_rep: str = '', float_format: Union[str, NoneType] = None, columns: Union[Sequence[Union[Hashable, NoneType]], NoneType] = None, header: Union[bool, List[str]] = True, index: bool = True, index_label: Union[bool, str, Sequence[Union[Hashable, NoneType]], NoneType] = None, mode: str = 'w', encoding: Union[str, NoneType] = None, compression: Union[str, Mapping[str, str], NoneType] = 'infer', quoting: Union[int, NoneType] = None, quotechar: str = '\"', line_terminator: Union[str, NoneType] = None, chunksize: Union[int, NoneType] = None, date_format: Union[str, NoneType] = None, doublequote: bool = True, escapechar: Union[str, NoneType] = None, decimal: Union[str, NoneType] = '.') -> Union[str, NoneType] method of pandas.core.frame.DataFrame instance\n",
      "    Write object to a comma-separated values (csv) file.\n",
      "    \n",
      "    .. versionchanged:: 0.24.0\n",
      "        The order of arguments for Series was changed.\n",
      "    \n",
      "    Parameters\n",
      "    ----------\n",
      "    path_or_buf : str or file handle, default None\n",
      "        File path or object, if None is provided the result is returned as\n",
      "        a string.  If a file object is passed it should be opened with\n",
      "        `newline=''`, disabling universal newlines.\n",
      "    \n",
      "        .. versionchanged:: 0.24.0\n",
      "    \n",
      "           Was previously named \"path\" for Series.\n",
      "    \n",
      "    sep : str, default ','\n",
      "        String of length 1. Field delimiter for the output file.\n",
      "    na_rep : str, default ''\n",
      "        Missing data representation.\n",
      "    float_format : str, default None\n",
      "        Format string for floating point numbers.\n",
      "    columns : sequence, optional\n",
      "        Columns to write.\n",
      "    header : bool or list of str, default True\n",
      "        Write out the column names. If a list of strings is given it is\n",
      "        assumed to be aliases for the column names.\n",
      "    \n",
      "        .. versionchanged:: 0.24.0\n",
      "    \n",
      "           Previously defaulted to False for Series.\n",
      "    \n",
      "    index : bool, default True\n",
      "        Write row names (index).\n",
      "    index_label : str or sequence, or False, default None\n",
      "        Column label for index column(s) if desired. If None is given, and\n",
      "        `header` and `index` are True, then the index names are used. A\n",
      "        sequence should be given if the object uses MultiIndex. If\n",
      "        False do not print fields for index names. Use index_label=False\n",
      "        for easier importing in R.\n",
      "    mode : str\n",
      "        Python write mode, default 'w'.\n",
      "    encoding : str, optional\n",
      "        A string representing the encoding to use in the output file,\n",
      "        defaults to 'utf-8'.\n",
      "    compression : str or dict, default 'infer'\n",
      "        If str, represents compression mode. If dict, value at 'method' is\n",
      "        the compression mode. Compression mode may be any of the following\n",
      "        possible values: {'infer', 'gzip', 'bz2', 'zip', 'xz', None}. If\n",
      "        compression mode is 'infer' and `path_or_buf` is path-like, then\n",
      "        detect compression mode from the following extensions: '.gz',\n",
      "        '.bz2', '.zip' or '.xz'. (otherwise no compression). If dict given\n",
      "        and mode is 'zip' or inferred as 'zip', other entries passed as\n",
      "        additional compression options.\n",
      "    \n",
      "        .. versionchanged:: 1.0.0\n",
      "    \n",
      "           May now be a dict with key 'method' as compression mode\n",
      "           and other entries as additional compression options if\n",
      "           compression mode is 'zip'.\n",
      "    \n",
      "    quoting : optional constant from csv module\n",
      "        Defaults to csv.QUOTE_MINIMAL. If you have set a `float_format`\n",
      "        then floats are converted to strings and thus csv.QUOTE_NONNUMERIC\n",
      "        will treat them as non-numeric.\n",
      "    quotechar : str, default '\\\"'\n",
      "        String of length 1. Character used to quote fields.\n",
      "    line_terminator : str, optional\n",
      "        The newline character or character sequence to use in the output\n",
      "        file. Defaults to `os.linesep`, which depends on the OS in which\n",
      "        this method is called ('\\n' for linux, '\\r\\n' for Windows, i.e.).\n",
      "    \n",
      "        .. versionchanged:: 0.24.0\n",
      "    chunksize : int or None\n",
      "        Rows to write at a time.\n",
      "    date_format : str, default None\n",
      "        Format string for datetime objects.\n",
      "    doublequote : bool, default True\n",
      "        Control quoting of `quotechar` inside a field.\n",
      "    escapechar : str, default None\n",
      "        String of length 1. Character used to escape `sep` and `quotechar`\n",
      "        when appropriate.\n",
      "    decimal : str, default '.'\n",
      "        Character recognized as decimal separator. E.g. use ',' for\n",
      "        European data.\n",
      "    \n",
      "    Returns\n",
      "    -------\n",
      "    None or str\n",
      "        If path_or_buf is None, returns the resulting csv format as a\n",
      "        string. Otherwise returns None.\n",
      "    \n",
      "    See Also\n",
      "    --------\n",
      "    read_csv : Load a CSV file into a DataFrame.\n",
      "    to_excel : Write DataFrame to an Excel file.\n",
      "    \n",
      "    Examples\n",
      "    --------\n",
      "    >>> df = pd.DataFrame({'name': ['Raphael', 'Donatello'],\n",
      "    ...                    'mask': ['red', 'purple'],\n",
      "    ...                    'weapon': ['sai', 'bo staff']})\n",
      "    >>> df.to_csv(index=False)\n",
      "    'name,mask,weapon\\nRaphael,red,sai\\nDonatello,purple,bo staff\\n'\n",
      "    \n",
      "    Create 'out.zip' containing 'out.csv'\n",
      "    \n",
      "    >>> compression_opts = dict(method='zip',\n",
      "    ...                         archive_name='out.csv')  # doctest: +SKIP\n",
      "    >>> df.to_csv('out.zip', index=False,\n",
      "    ...           compression=compression_opts)  # doctest: +SKIP\n",
      "\n"
     ]
    }
   ],
   "source": [
    "help(data.to_csv)"
   ]
  },
  {
   "cell_type": "markdown",
   "metadata": {},
   "source": [
    "Data Processing and Analysis"
   ]
  },
  {
   "cell_type": "code",
   "execution_count": 71,
   "metadata": {
    "collapsed": true
   },
   "outputs": [
    {
     "name": "stdout",
     "output_type": "stream",
     "text": [
      "1601.056136\n"
     ]
    }
   ],
   "source": [
    "url_europe = 'https://raw.githubusercontent.com/clemsonciti/intro-to-python/master/data3/gapminder_gdp_europe.csv'\n",
    "data_eur = pd.read_csv(url_europe, index_col='country')\n",
    "print(data_eur.iloc[0, 0])"
   ]
  },
  {
   "cell_type": "code",
   "execution_count": 72,
   "metadata": {
    "collapsed": true
   },
   "outputs": [
    {
     "name": "stdout",
     "output_type": "stream",
     "text": [
      "1601.056136\n"
     ]
    }
   ],
   "source": [
    "print(data_eur.loc[\"Albania\", \"gdpPercap_1952\"])"
   ]
  },
  {
   "cell_type": "code",
   "execution_count": 41,
   "metadata": {
    "collapsed": true
   },
   "outputs": [
    {
     "data": {
      "text/plain": [
       "gdpPercap_1952    1601.056136\n",
       "gdpPercap_1957    1942.284244\n",
       "gdpPercap_1962    2312.888958\n",
       "gdpPercap_1967    2760.196931\n",
       "gdpPercap_1972    3313.422188\n",
       "gdpPercap_1977    3533.003910\n",
       "gdpPercap_1982    3630.880722\n",
       "gdpPercap_1987    3738.932735\n",
       "gdpPercap_1992    2497.437901\n",
       "gdpPercap_1997    3193.054604\n",
       "gdpPercap_2002    4604.211737\n",
       "gdpPercap_2007    5937.029526\n",
       "Name: Albania, dtype: float64"
      ]
     },
     "execution_count": 41,
     "metadata": {},
     "output_type": "execute_result"
    }
   ],
   "source": [
    "data_eur.loc[\"Albania\", :]"
   ]
  },
  {
   "cell_type": "code",
   "execution_count": 73,
   "metadata": {
    "collapsed": true
   },
   "outputs": [
    {
     "data": {
      "text/plain": [
       "country\n",
       "Albania                    1601.056136\n",
       "Austria                    6137.076492\n",
       "Belgium                    8343.105127\n",
       "Bosnia and Herzegovina      973.533195\n",
       "Bulgaria                   2444.286648\n",
       "Croatia                    3119.236520\n",
       "Czech Republic             6876.140250\n",
       "Denmark                    9692.385245\n",
       "Finland                    6424.519071\n",
       "France                     7029.809327\n",
       "Germany                    7144.114393\n",
       "Greece                     3530.690067\n",
       "Hungary                    5263.673816\n",
       "Iceland                    7267.688428\n",
       "Ireland                    5210.280328\n",
       "Italy                      4931.404155\n",
       "Montenegro                 2647.585601\n",
       "Netherlands                8941.571858\n",
       "Norway                    10095.421720\n",
       "Poland                     4029.329699\n",
       "Portugal                   3068.319867\n",
       "Romania                    3144.613186\n",
       "Serbia                     3581.459448\n",
       "Slovak Republic            5074.659104\n",
       "Slovenia                   4215.041741\n",
       "Spain                      3834.034742\n",
       "Sweden                     8527.844662\n",
       "Switzerland               14734.232750\n",
       "Turkey                     1969.100980\n",
       "United Kingdom             9979.508487\n",
       "Name: gdpPercap_1952, dtype: float64"
      ]
     },
     "execution_count": 73,
     "metadata": {},
     "output_type": "execute_result"
    }
   ],
   "source": [
    "data_eur.loc[:, \"gdpPercap_1952\"]\n",
    "#data[\"gdpPercap_1952\"]"
   ]
  },
  {
   "cell_type": "code",
   "execution_count": 43,
   "metadata": {},
   "outputs": [
    {
     "data": {
      "text/html": [
       "<div>\n",
       "<style scoped>\n",
       "    .dataframe tbody tr th:only-of-type {\n",
       "        vertical-align: middle;\n",
       "    }\n",
       "\n",
       "    .dataframe tbody tr th {\n",
       "        vertical-align: top;\n",
       "    }\n",
       "\n",
       "    .dataframe thead th {\n",
       "        text-align: right;\n",
       "    }\n",
       "</style>\n",
       "<table border=\"1\" class=\"dataframe\">\n",
       "  <thead>\n",
       "    <tr style=\"text-align: right;\">\n",
       "      <th></th>\n",
       "      <th>gdpPercap_1962</th>\n",
       "      <th>gdpPercap_1967</th>\n",
       "      <th>gdpPercap_1972</th>\n",
       "    </tr>\n",
       "    <tr>\n",
       "      <th>country</th>\n",
       "      <th></th>\n",
       "      <th></th>\n",
       "      <th></th>\n",
       "    </tr>\n",
       "  </thead>\n",
       "  <tbody>\n",
       "    <tr>\n",
       "      <th>Italy</th>\n",
       "      <td>8243.582340</td>\n",
       "      <td>10022.401310</td>\n",
       "      <td>12269.273780</td>\n",
       "    </tr>\n",
       "    <tr>\n",
       "      <th>Montenegro</th>\n",
       "      <td>4649.593785</td>\n",
       "      <td>5907.850937</td>\n",
       "      <td>7778.414017</td>\n",
       "    </tr>\n",
       "    <tr>\n",
       "      <th>Netherlands</th>\n",
       "      <td>12790.849560</td>\n",
       "      <td>15363.251360</td>\n",
       "      <td>18794.745670</td>\n",
       "    </tr>\n",
       "    <tr>\n",
       "      <th>Norway</th>\n",
       "      <td>13450.401510</td>\n",
       "      <td>16361.876470</td>\n",
       "      <td>18965.055510</td>\n",
       "    </tr>\n",
       "    <tr>\n",
       "      <th>Poland</th>\n",
       "      <td>5338.752143</td>\n",
       "      <td>6557.152776</td>\n",
       "      <td>8006.506993</td>\n",
       "    </tr>\n",
       "  </tbody>\n",
       "</table>\n",
       "</div>"
      ],
      "text/plain": [
       "             gdpPercap_1962  gdpPercap_1967  gdpPercap_1972\n",
       "country                                                    \n",
       "Italy           8243.582340    10022.401310    12269.273780\n",
       "Montenegro      4649.593785     5907.850937     7778.414017\n",
       "Netherlands    12790.849560    15363.251360    18794.745670\n",
       "Norway         13450.401510    16361.876470    18965.055510\n",
       "Poland          5338.752143     6557.152776     8006.506993"
      ]
     },
     "execution_count": 43,
     "metadata": {},
     "output_type": "execute_result"
    }
   ],
   "source": [
    "data_eur.loc['Italy':'Poland', 'gdpPercap_1962':'gdpPercap_1972'] #Slicing data"
   ]
  },
  {
   "cell_type": "code",
   "execution_count": 74,
   "metadata": {},
   "outputs": [
    {
     "data": {
      "text/plain": [
       "gdpPercap_1962    13450.40151\n",
       "gdpPercap_1967    16361.87647\n",
       "gdpPercap_1972    18965.05551\n",
       "dtype: float64"
      ]
     },
     "execution_count": 74,
     "metadata": {},
     "output_type": "execute_result"
    }
   ],
   "source": [
    "data_eur.loc['Italy':'Poland', 'gdpPercap_1962':'gdpPercap_1972'].max()"
   ]
  },
  {
   "cell_type": "code",
   "execution_count": 75,
   "metadata": {},
   "outputs": [
    {
     "data": {
      "text/plain": [
       "gdpPercap_1962    4649.593785\n",
       "gdpPercap_1967    5907.850937\n",
       "gdpPercap_1972    7778.414017\n",
       "dtype: float64"
      ]
     },
     "execution_count": 75,
     "metadata": {},
     "output_type": "execute_result"
    }
   ],
   "source": [
    "data_eur.loc['Italy':'Poland', 'gdpPercap_1962':'gdpPercap_1972'].min()"
   ]
  },
  {
   "cell_type": "code",
   "execution_count": 76,
   "metadata": {
    "collapsed": true
   },
   "outputs": [
    {
     "data": {
      "text/html": [
       "<div>\n",
       "<style scoped>\n",
       "    .dataframe tbody tr th:only-of-type {\n",
       "        vertical-align: middle;\n",
       "    }\n",
       "\n",
       "    .dataframe tbody tr th {\n",
       "        vertical-align: top;\n",
       "    }\n",
       "\n",
       "    .dataframe thead th {\n",
       "        text-align: right;\n",
       "    }\n",
       "</style>\n",
       "<table border=\"1\" class=\"dataframe\">\n",
       "  <thead>\n",
       "    <tr style=\"text-align: right;\">\n",
       "      <th></th>\n",
       "      <th>gdpPercap_1962</th>\n",
       "      <th>gdpPercap_1967</th>\n",
       "      <th>gdpPercap_1972</th>\n",
       "    </tr>\n",
       "    <tr>\n",
       "      <th>country</th>\n",
       "      <th></th>\n",
       "      <th></th>\n",
       "      <th></th>\n",
       "    </tr>\n",
       "  </thead>\n",
       "  <tbody>\n",
       "    <tr>\n",
       "      <th>Italy</th>\n",
       "      <td>False</td>\n",
       "      <td>True</td>\n",
       "      <td>True</td>\n",
       "    </tr>\n",
       "    <tr>\n",
       "      <th>Montenegro</th>\n",
       "      <td>False</td>\n",
       "      <td>False</td>\n",
       "      <td>False</td>\n",
       "    </tr>\n",
       "    <tr>\n",
       "      <th>Netherlands</th>\n",
       "      <td>True</td>\n",
       "      <td>True</td>\n",
       "      <td>True</td>\n",
       "    </tr>\n",
       "    <tr>\n",
       "      <th>Norway</th>\n",
       "      <td>True</td>\n",
       "      <td>True</td>\n",
       "      <td>True</td>\n",
       "    </tr>\n",
       "    <tr>\n",
       "      <th>Poland</th>\n",
       "      <td>False</td>\n",
       "      <td>False</td>\n",
       "      <td>False</td>\n",
       "    </tr>\n",
       "  </tbody>\n",
       "</table>\n",
       "</div>"
      ],
      "text/plain": [
       "             gdpPercap_1962  gdpPercap_1967  gdpPercap_1972\n",
       "country                                                    \n",
       "Italy                 False            True            True\n",
       "Montenegro            False           False           False\n",
       "Netherlands            True            True            True\n",
       "Norway                 True            True            True\n",
       "Poland                False           False           False"
      ]
     },
     "execution_count": 76,
     "metadata": {},
     "output_type": "execute_result"
    }
   ],
   "source": [
    "subset = data_eur.loc['Italy':'Poland', 'gdpPercap_1962':'gdpPercap_1972']\n",
    "#subset\n",
    "subset > 10000"
   ]
  },
  {
   "cell_type": "code",
   "execution_count": 47,
   "metadata": {
    "collapsed": true
   },
   "outputs": [
    {
     "name": "stdout",
     "output_type": "stream",
     "text": [
      "             gdpPercap_1962  gdpPercap_1967  gdpPercap_1972\n",
      "country                                                    \n",
      "Italy                   NaN     10022.40131     12269.27378\n",
      "Montenegro              NaN             NaN             NaN\n",
      "Netherlands     12790.84956     15363.25136     18794.74567\n",
      "Norway          13450.40151     16361.87647     18965.05551\n",
      "Poland                  NaN             NaN             NaN\n"
     ]
    }
   ],
   "source": [
    "mask = subset > 10000\n",
    "print(subset[mask])"
   ]
  },
  {
   "cell_type": "markdown",
   "metadata": {},
   "source": [
    "Note: Useful because NaNs are ignored by operations like max, min, average, etc."
   ]
  },
  {
   "cell_type": "code",
   "execution_count": 48,
   "metadata": {},
   "outputs": [
    {
     "data": {
      "text/plain": [
       "<matplotlib.axes._subplots.AxesSubplot at 0x21d28f61388>"
      ]
     },
     "execution_count": 48,
     "metadata": {},
     "output_type": "execute_result"
    },
    {
     "data": {
      "image/png": "[encoded data removed]",
      "text/plain": [
       "<Figure size 432x288 with 1 Axes>"
      ]
     },
     "metadata": {
      "needs_background": "light"
     },
     "output_type": "display_data"
    }
   ],
   "source": [
    "#data = pd.read_csv('data3/gapminder_gdp_oceania.csv', index_col='country')\n",
    "data_o = pd.read_csv(url_oceania, index_col='country')\n",
    "# Extract year from last 4 characters of each column name\n",
    "# The current column names are structured as 'gdpPercap_(year)', \n",
    "# so we want to keep the (year) part only for clarity when plotting GDP vs. years\n",
    "# To do this we use strip(), which removes from the string the characters stated in the argument\n",
    "# This method works on strings, so we call str before strip()\n",
    "\n",
    "years = data_o.columns.str.strip('gdpPercap_')\n",
    "\n",
    "# Convert year values to integers, saving results back to dataframe\n",
    "\n",
    "data.columns = years.astype(int)\n",
    "\n",
    "data.loc['Australia'].plot()"
   ]
  },
  {
   "cell_type": "code",
   "execution_count": 49,
   "metadata": {},
   "outputs": [
    {
     "data": {
      "text/plain": [
       "Text(0, 0.5, 'GDP per capita')"
      ]
     },
     "execution_count": 49,
     "metadata": {},
     "output_type": "execute_result"
    },
    {
     "data": {
      "image/png": "[encoded data removed]",
      "text/plain": [
       "<Figure size 432x288 with 1 Axes>"
      ]
     },
     "metadata": {
      "needs_background": "light"
     },
     "output_type": "display_data"
    }
   ],
   "source": [
    "data.T.plot()\n",
    "plt.ylabel('GDP per capita')"
   ]
  },
  {
   "cell_type": "code",
   "execution_count": 50,
   "metadata": {},
   "outputs": [
    {
     "data": {
      "text/plain": [
       "Text(0, 0.5, 'GDP per capita')"
      ]
     },
     "execution_count": 50,
     "metadata": {},
     "output_type": "execute_result"
    },
    {
     "data": {
      "image/png": "[encoded data removed]",
      "text/plain": [
       "<Figure size 432x288 with 1 Axes>"
      ]
     },
     "metadata": {},
     "output_type": "display_data"
    }
   ],
   "source": [
    "plt.style.use('ggplot')\n",
    "data.T.plot(kind='bar')\n",
    "plt.ylabel('GDP per capita')\n"
   ]
  },
  {
   "cell_type": "code",
   "execution_count": 51,
   "metadata": {},
   "outputs": [
    {
     "data": {
      "text/plain": [
       "[<matplotlib.lines.Line2D at 0x21d2a0ee308>]"
      ]
     },
     "execution_count": 51,
     "metadata": {},
     "output_type": "execute_result"
    },
    {
     "data": {
      "image/png": "[encoded data removed]",
      "text/plain": [
       "<Figure size 432x288 with 1 Axes>"
      ]
     },
     "metadata": {},
     "output_type": "display_data"
    }
   ],
   "source": [
    "years = data.columns\n",
    "gdp_australia = data.loc['Australia']\n",
    "\n",
    "plt.plot(years, gdp_australia, 'g--')\n"
   ]
  },
  {
   "cell_type": "code",
   "execution_count": 52,
   "metadata": {},
   "outputs": [
    {
     "data": {
      "text/plain": [
       "Text(0, 0.5, 'GDP per capita ($)')"
      ]
     },
     "execution_count": 52,
     "metadata": {},
     "output_type": "execute_result"
    },
    {
     "data": {
      "image/png": "[encoded data removed]",
      "text/plain": [
       "<Figure size 432x288 with 1 Axes>"
      ]
     },
     "metadata": {},
     "output_type": "display_data"
    }
   ],
   "source": [
    "# Select two countries' worth of data.\n",
    "gdp_australia = data.loc['Australia']\n",
    "gdp_nz = data.loc['New Zealand']\n",
    "\n",
    "# Plot with differently-colored markers.\n",
    "plt.plot(years, gdp_australia, 'b-', label='Australia')\n",
    "plt.plot(years, gdp_nz, 'g-', label='New Zealand')\n",
    "\n",
    "# Create legend.\n",
    "plt.legend(loc='upper left')\n",
    "plt.xlabel('Year')\n",
    "plt.ylabel('GDP per capita ($)')"
   ]
  },
  {
   "cell_type": "code",
   "execution_count": 77,
   "metadata": {},
   "outputs": [
    {
     "data": {
      "text/plain": [
       "(array([-2.,  0.,  2.,  4.,  6.,  8., 10., 12.]),\n",
       " <a list of 8 Text xticklabel objects>)"
      ]
     },
     "execution_count": 77,
     "metadata": {},
     "output_type": "execute_result"
    },
    {
     "data": {
      "image/png": "[encoded data removed]",
      "text/plain": [
       "<Figure size 432x288 with 1 Axes>"
      ]
     },
     "metadata": {},
     "output_type": "display_data"
    }
   ],
   "source": [
    "#data_europe = pd.read_csv('data3/gapminder_gdp_europe.csv', index_col='country')\n",
    "data_europe.min().plot(label='min')\n",
    "data_europe.max().plot(label='max')\n",
    "plt.legend(loc='best')\n",
    "plt.xticks(rotation=90)"
   ]
  },
  {
   "cell_type": "code",
   "execution_count": 54,
   "metadata": {},
   "outputs": [
    {
     "data": {
      "text/plain": [
       "<Figure size 432x288 with 0 Axes>"
      ]
     },
     "metadata": {},
     "output_type": "display_data"
    }
   ],
   "source": [
    "plt.savefig('my_figure.png')"
   ]
  },
  {
   "cell_type": "code",
   "execution_count": 80,
   "metadata": {
    "collapsed": true
   },
   "outputs": [
    {
     "data": {
      "text/html": [
       "<div>\n",
       "<style scoped>\n",
       "    .dataframe tbody tr th:only-of-type {\n",
       "        vertical-align: middle;\n",
       "    }\n",
       "\n",
       "    .dataframe tbody tr th {\n",
       "        vertical-align: top;\n",
       "    }\n",
       "\n",
       "    .dataframe thead th {\n",
       "        text-align: right;\n",
       "    }\n",
       "</style>\n",
       "<table border=\"1\" class=\"dataframe\">\n",
       "  <thead>\n",
       "    <tr style=\"text-align: right;\">\n",
       "      <th>country</th>\n",
       "      <th>Albania</th>\n",
       "      <th>Austria</th>\n",
       "      <th>Belgium</th>\n",
       "      <th>Bosnia and Herzegovina</th>\n",
       "      <th>Bulgaria</th>\n",
       "      <th>Croatia</th>\n",
       "      <th>Czech Republic</th>\n",
       "      <th>Denmark</th>\n",
       "      <th>Finland</th>\n",
       "      <th>France</th>\n",
       "      <th>...</th>\n",
       "      <th>Portugal</th>\n",
       "      <th>Romania</th>\n",
       "      <th>Serbia</th>\n",
       "      <th>Slovak Republic</th>\n",
       "      <th>Slovenia</th>\n",
       "      <th>Spain</th>\n",
       "      <th>Sweden</th>\n",
       "      <th>Switzerland</th>\n",
       "      <th>Turkey</th>\n",
       "      <th>United Kingdom</th>\n",
       "    </tr>\n",
       "  </thead>\n",
       "  <tbody>\n",
       "    <tr>\n",
       "      <th>gdpPercap_1952</th>\n",
       "      <td>1601.056136</td>\n",
       "      <td>6137.076492</td>\n",
       "      <td>8343.105127</td>\n",
       "      <td>973.533195</td>\n",
       "      <td>2444.286648</td>\n",
       "      <td>3119.236520</td>\n",
       "      <td>6876.140250</td>\n",
       "      <td>9692.385245</td>\n",
       "      <td>6424.519071</td>\n",
       "      <td>7029.809327</td>\n",
       "      <td>...</td>\n",
       "      <td>3068.319867</td>\n",
       "      <td>3144.613186</td>\n",
       "      <td>3581.459448</td>\n",
       "      <td>5074.659104</td>\n",
       "      <td>4215.041741</td>\n",
       "      <td>3834.034742</td>\n",
       "      <td>8527.844662</td>\n",
       "      <td>14734.23275</td>\n",
       "      <td>1969.100980</td>\n",
       "      <td>9979.508487</td>\n",
       "    </tr>\n",
       "    <tr>\n",
       "      <th>gdpPercap_1957</th>\n",
       "      <td>1942.284244</td>\n",
       "      <td>8842.598030</td>\n",
       "      <td>9714.960623</td>\n",
       "      <td>1353.989176</td>\n",
       "      <td>3008.670727</td>\n",
       "      <td>4338.231617</td>\n",
       "      <td>8256.343918</td>\n",
       "      <td>11099.659350</td>\n",
       "      <td>7545.415386</td>\n",
       "      <td>8662.834898</td>\n",
       "      <td>...</td>\n",
       "      <td>3774.571743</td>\n",
       "      <td>3943.370225</td>\n",
       "      <td>4981.090891</td>\n",
       "      <td>6093.262980</td>\n",
       "      <td>5862.276629</td>\n",
       "      <td>4564.802410</td>\n",
       "      <td>9911.878226</td>\n",
       "      <td>17909.48973</td>\n",
       "      <td>2218.754257</td>\n",
       "      <td>11283.177950</td>\n",
       "    </tr>\n",
       "    <tr>\n",
       "      <th>gdpPercap_1962</th>\n",
       "      <td>2312.888958</td>\n",
       "      <td>10750.721110</td>\n",
       "      <td>10991.206760</td>\n",
       "      <td>1709.683679</td>\n",
       "      <td>4254.337839</td>\n",
       "      <td>5477.890018</td>\n",
       "      <td>10136.867130</td>\n",
       "      <td>13583.313510</td>\n",
       "      <td>9371.842561</td>\n",
       "      <td>10560.485530</td>\n",
       "      <td>...</td>\n",
       "      <td>4727.954889</td>\n",
       "      <td>4734.997586</td>\n",
       "      <td>6289.629157</td>\n",
       "      <td>7481.107598</td>\n",
       "      <td>7402.303395</td>\n",
       "      <td>5693.843879</td>\n",
       "      <td>12329.441920</td>\n",
       "      <td>20431.09270</td>\n",
       "      <td>2322.869908</td>\n",
       "      <td>12477.177070</td>\n",
       "    </tr>\n",
       "    <tr>\n",
       "      <th>gdpPercap_1967</th>\n",
       "      <td>2760.196931</td>\n",
       "      <td>12834.602400</td>\n",
       "      <td>13149.041190</td>\n",
       "      <td>2172.352423</td>\n",
       "      <td>5577.002800</td>\n",
       "      <td>6960.297861</td>\n",
       "      <td>11399.444890</td>\n",
       "      <td>15937.211230</td>\n",
       "      <td>10921.636260</td>\n",
       "      <td>12999.917660</td>\n",
       "      <td>...</td>\n",
       "      <td>6361.517993</td>\n",
       "      <td>6470.866545</td>\n",
       "      <td>7991.707066</td>\n",
       "      <td>8412.902397</td>\n",
       "      <td>9405.489397</td>\n",
       "      <td>7993.512294</td>\n",
       "      <td>15258.296970</td>\n",
       "      <td>22966.14432</td>\n",
       "      <td>2826.356387</td>\n",
       "      <td>14142.850890</td>\n",
       "    </tr>\n",
       "    <tr>\n",
       "      <th>gdpPercap_1972</th>\n",
       "      <td>3313.422188</td>\n",
       "      <td>16661.625600</td>\n",
       "      <td>16672.143560</td>\n",
       "      <td>2860.169750</td>\n",
       "      <td>6597.494398</td>\n",
       "      <td>9164.090127</td>\n",
       "      <td>13108.453600</td>\n",
       "      <td>18866.207210</td>\n",
       "      <td>14358.875900</td>\n",
       "      <td>16107.191710</td>\n",
       "      <td>...</td>\n",
       "      <td>9022.247417</td>\n",
       "      <td>8011.414402</td>\n",
       "      <td>10522.067490</td>\n",
       "      <td>9674.167626</td>\n",
       "      <td>12383.486200</td>\n",
       "      <td>10638.751310</td>\n",
       "      <td>17832.024640</td>\n",
       "      <td>27195.11304</td>\n",
       "      <td>3450.696380</td>\n",
       "      <td>15895.116410</td>\n",
       "    </tr>\n",
       "    <tr>\n",
       "      <th>gdpPercap_1977</th>\n",
       "      <td>3533.003910</td>\n",
       "      <td>19749.422300</td>\n",
       "      <td>19117.974480</td>\n",
       "      <td>3528.481305</td>\n",
       "      <td>7612.240438</td>\n",
       "      <td>11305.385170</td>\n",
       "      <td>14800.160620</td>\n",
       "      <td>20422.901500</td>\n",
       "      <td>15605.422830</td>\n",
       "      <td>18292.635140</td>\n",
       "      <td>...</td>\n",
       "      <td>10172.485720</td>\n",
       "      <td>9356.397240</td>\n",
       "      <td>12980.669560</td>\n",
       "      <td>10922.664040</td>\n",
       "      <td>15277.030170</td>\n",
       "      <td>13236.921170</td>\n",
       "      <td>18855.725210</td>\n",
       "      <td>26982.29052</td>\n",
       "      <td>4269.122326</td>\n",
       "      <td>17428.748460</td>\n",
       "    </tr>\n",
       "    <tr>\n",
       "      <th>gdpPercap_1982</th>\n",
       "      <td>3630.880722</td>\n",
       "      <td>21597.083620</td>\n",
       "      <td>20979.845890</td>\n",
       "      <td>4126.613157</td>\n",
       "      <td>8224.191647</td>\n",
       "      <td>13221.821840</td>\n",
       "      <td>15377.228550</td>\n",
       "      <td>21688.040480</td>\n",
       "      <td>18533.157610</td>\n",
       "      <td>20293.897460</td>\n",
       "      <td>...</td>\n",
       "      <td>11753.842910</td>\n",
       "      <td>9605.314053</td>\n",
       "      <td>15181.092700</td>\n",
       "      <td>11348.545850</td>\n",
       "      <td>17866.721750</td>\n",
       "      <td>13926.169970</td>\n",
       "      <td>20667.381250</td>\n",
       "      <td>28397.71512</td>\n",
       "      <td>4241.356344</td>\n",
       "      <td>18232.424520</td>\n",
       "    </tr>\n",
       "    <tr>\n",
       "      <th>gdpPercap_1987</th>\n",
       "      <td>3738.932735</td>\n",
       "      <td>23687.826070</td>\n",
       "      <td>22525.563080</td>\n",
       "      <td>4314.114757</td>\n",
       "      <td>8239.854824</td>\n",
       "      <td>13822.583940</td>\n",
       "      <td>16310.443400</td>\n",
       "      <td>25116.175810</td>\n",
       "      <td>21141.012230</td>\n",
       "      <td>22066.442140</td>\n",
       "      <td>...</td>\n",
       "      <td>13039.308760</td>\n",
       "      <td>9696.273295</td>\n",
       "      <td>15870.878510</td>\n",
       "      <td>12037.267580</td>\n",
       "      <td>18678.534920</td>\n",
       "      <td>15764.983130</td>\n",
       "      <td>23586.929270</td>\n",
       "      <td>30281.70459</td>\n",
       "      <td>5089.043686</td>\n",
       "      <td>21664.787670</td>\n",
       "    </tr>\n",
       "    <tr>\n",
       "      <th>gdpPercap_1992</th>\n",
       "      <td>2497.437901</td>\n",
       "      <td>27042.018680</td>\n",
       "      <td>25575.570690</td>\n",
       "      <td>2546.781445</td>\n",
       "      <td>6302.623438</td>\n",
       "      <td>8447.794873</td>\n",
       "      <td>14297.021220</td>\n",
       "      <td>26406.739850</td>\n",
       "      <td>20647.164990</td>\n",
       "      <td>24703.796150</td>\n",
       "      <td>...</td>\n",
       "      <td>16207.266630</td>\n",
       "      <td>6598.409903</td>\n",
       "      <td>9325.068238</td>\n",
       "      <td>9498.467723</td>\n",
       "      <td>14214.716810</td>\n",
       "      <td>18603.064520</td>\n",
       "      <td>23880.016830</td>\n",
       "      <td>31871.53030</td>\n",
       "      <td>5678.348271</td>\n",
       "      <td>22705.092540</td>\n",
       "    </tr>\n",
       "    <tr>\n",
       "      <th>gdpPercap_1997</th>\n",
       "      <td>3193.054604</td>\n",
       "      <td>29095.920660</td>\n",
       "      <td>27561.196630</td>\n",
       "      <td>4766.355904</td>\n",
       "      <td>5970.388760</td>\n",
       "      <td>9875.604515</td>\n",
       "      <td>16048.514240</td>\n",
       "      <td>29804.345670</td>\n",
       "      <td>23723.950200</td>\n",
       "      <td>25889.784870</td>\n",
       "      <td>...</td>\n",
       "      <td>17641.031560</td>\n",
       "      <td>7346.547557</td>\n",
       "      <td>7914.320304</td>\n",
       "      <td>12126.230650</td>\n",
       "      <td>17161.107350</td>\n",
       "      <td>20445.298960</td>\n",
       "      <td>25266.594990</td>\n",
       "      <td>32135.32301</td>\n",
       "      <td>6601.429915</td>\n",
       "      <td>26074.531360</td>\n",
       "    </tr>\n",
       "    <tr>\n",
       "      <th>gdpPercap_2002</th>\n",
       "      <td>4604.211737</td>\n",
       "      <td>32417.607690</td>\n",
       "      <td>30485.883750</td>\n",
       "      <td>6018.975239</td>\n",
       "      <td>7696.777725</td>\n",
       "      <td>11628.388950</td>\n",
       "      <td>17596.210220</td>\n",
       "      <td>32166.500060</td>\n",
       "      <td>28204.590570</td>\n",
       "      <td>28926.032340</td>\n",
       "      <td>...</td>\n",
       "      <td>19970.907870</td>\n",
       "      <td>7885.360081</td>\n",
       "      <td>7236.075251</td>\n",
       "      <td>13638.778370</td>\n",
       "      <td>20660.019360</td>\n",
       "      <td>24835.471660</td>\n",
       "      <td>29341.630930</td>\n",
       "      <td>34480.95771</td>\n",
       "      <td>6508.085718</td>\n",
       "      <td>29478.999190</td>\n",
       "    </tr>\n",
       "    <tr>\n",
       "      <th>gdpPercap_2007</th>\n",
       "      <td>5937.029526</td>\n",
       "      <td>36126.492700</td>\n",
       "      <td>33692.605080</td>\n",
       "      <td>7446.298803</td>\n",
       "      <td>10680.792820</td>\n",
       "      <td>14619.222720</td>\n",
       "      <td>22833.308510</td>\n",
       "      <td>35278.418740</td>\n",
       "      <td>33207.084400</td>\n",
       "      <td>30470.016700</td>\n",
       "      <td>...</td>\n",
       "      <td>20509.647770</td>\n",
       "      <td>10808.475610</td>\n",
       "      <td>9786.534714</td>\n",
       "      <td>18678.314350</td>\n",
       "      <td>25768.257590</td>\n",
       "      <td>28821.063700</td>\n",
       "      <td>33859.748350</td>\n",
       "      <td>37506.41907</td>\n",
       "      <td>8458.276384</td>\n",
       "      <td>33203.261280</td>\n",
       "    </tr>\n",
       "  </tbody>\n",
       "</table>\n",
       "<p>12 rows × 30 columns</p>\n",
       "</div>"
      ],
      "text/plain": [
       "country             Albania       Austria       Belgium  \\\n",
       "gdpPercap_1952  1601.056136   6137.076492   8343.105127   \n",
       "gdpPercap_1957  1942.284244   8842.598030   9714.960623   \n",
       "gdpPercap_1962  2312.888958  10750.721110  10991.206760   \n",
       "gdpPercap_1967  2760.196931  12834.602400  13149.041190   \n",
       "gdpPercap_1972  3313.422188  16661.625600  16672.143560   \n",
       "gdpPercap_1977  3533.003910  19749.422300  19117.974480   \n",
       "gdpPercap_1982  3630.880722  21597.083620  20979.845890   \n",
       "gdpPercap_1987  3738.932735  23687.826070  22525.563080   \n",
       "gdpPercap_1992  2497.437901  27042.018680  25575.570690   \n",
       "gdpPercap_1997  3193.054604  29095.920660  27561.196630   \n",
       "gdpPercap_2002  4604.211737  32417.607690  30485.883750   \n",
       "gdpPercap_2007  5937.029526  36126.492700  33692.605080   \n",
       "\n",
       "country         Bosnia and Herzegovina      Bulgaria       Croatia  \\\n",
       "gdpPercap_1952              973.533195   2444.286648   3119.236520   \n",
       "gdpPercap_1957             1353.989176   3008.670727   4338.231617   \n",
       "gdpPercap_1962             1709.683679   4254.337839   5477.890018   \n",
       "gdpPercap_1967             2172.352423   5577.002800   6960.297861   \n",
       "gdpPercap_1972             2860.169750   6597.494398   9164.090127   \n",
       "gdpPercap_1977             3528.481305   7612.240438  11305.385170   \n",
       "gdpPercap_1982             4126.613157   8224.191647  13221.821840   \n",
       "gdpPercap_1987             4314.114757   8239.854824  13822.583940   \n",
       "gdpPercap_1992             2546.781445   6302.623438   8447.794873   \n",
       "gdpPercap_1997             4766.355904   5970.388760   9875.604515   \n",
       "gdpPercap_2002             6018.975239   7696.777725  11628.388950   \n",
       "gdpPercap_2007             7446.298803  10680.792820  14619.222720   \n",
       "\n",
       "country         Czech Republic       Denmark       Finland        France  ...  \\\n",
       "gdpPercap_1952     6876.140250   9692.385245   6424.519071   7029.809327  ...   \n",
       "gdpPercap_1957     8256.343918  11099.659350   7545.415386   8662.834898  ...   \n",
       "gdpPercap_1962    10136.867130  13583.313510   9371.842561  10560.485530  ...   \n",
       "gdpPercap_1967    11399.444890  15937.211230  10921.636260  12999.917660  ...   \n",
       "gdpPercap_1972    13108.453600  18866.207210  14358.875900  16107.191710  ...   \n",
       "gdpPercap_1977    14800.160620  20422.901500  15605.422830  18292.635140  ...   \n",
       "gdpPercap_1982    15377.228550  21688.040480  18533.157610  20293.897460  ...   \n",
       "gdpPercap_1987    16310.443400  25116.175810  21141.012230  22066.442140  ...   \n",
       "gdpPercap_1992    14297.021220  26406.739850  20647.164990  24703.796150  ...   \n",
       "gdpPercap_1997    16048.514240  29804.345670  23723.950200  25889.784870  ...   \n",
       "gdpPercap_2002    17596.210220  32166.500060  28204.590570  28926.032340  ...   \n",
       "gdpPercap_2007    22833.308510  35278.418740  33207.084400  30470.016700  ...   \n",
       "\n",
       "country             Portugal       Romania        Serbia  Slovak Republic  \\\n",
       "gdpPercap_1952   3068.319867   3144.613186   3581.459448      5074.659104   \n",
       "gdpPercap_1957   3774.571743   3943.370225   4981.090891      6093.262980   \n",
       "gdpPercap_1962   4727.954889   4734.997586   6289.629157      7481.107598   \n",
       "gdpPercap_1967   6361.517993   6470.866545   7991.707066      8412.902397   \n",
       "gdpPercap_1972   9022.247417   8011.414402  10522.067490      9674.167626   \n",
       "gdpPercap_1977  10172.485720   9356.397240  12980.669560     10922.664040   \n",
       "gdpPercap_1982  11753.842910   9605.314053  15181.092700     11348.545850   \n",
       "gdpPercap_1987  13039.308760   9696.273295  15870.878510     12037.267580   \n",
       "gdpPercap_1992  16207.266630   6598.409903   9325.068238      9498.467723   \n",
       "gdpPercap_1997  17641.031560   7346.547557   7914.320304     12126.230650   \n",
       "gdpPercap_2002  19970.907870   7885.360081   7236.075251     13638.778370   \n",
       "gdpPercap_2007  20509.647770  10808.475610   9786.534714     18678.314350   \n",
       "\n",
       "country             Slovenia         Spain        Sweden  Switzerland  \\\n",
       "gdpPercap_1952   4215.041741   3834.034742   8527.844662  14734.23275   \n",
       "gdpPercap_1957   5862.276629   4564.802410   9911.878226  17909.48973   \n",
       "gdpPercap_1962   7402.303395   5693.843879  12329.441920  20431.09270   \n",
       "gdpPercap_1967   9405.489397   7993.512294  15258.296970  22966.14432   \n",
       "gdpPercap_1972  12383.486200  10638.751310  17832.024640  27195.11304   \n",
       "gdpPercap_1977  15277.030170  13236.921170  18855.725210  26982.29052   \n",
       "gdpPercap_1982  17866.721750  13926.169970  20667.381250  28397.71512   \n",
       "gdpPercap_1987  18678.534920  15764.983130  23586.929270  30281.70459   \n",
       "gdpPercap_1992  14214.716810  18603.064520  23880.016830  31871.53030   \n",
       "gdpPercap_1997  17161.107350  20445.298960  25266.594990  32135.32301   \n",
       "gdpPercap_2002  20660.019360  24835.471660  29341.630930  34480.95771   \n",
       "gdpPercap_2007  25768.257590  28821.063700  33859.748350  37506.41907   \n",
       "\n",
       "country              Turkey  United Kingdom  \n",
       "gdpPercap_1952  1969.100980     9979.508487  \n",
       "gdpPercap_1957  2218.754257    11283.177950  \n",
       "gdpPercap_1962  2322.869908    12477.177070  \n",
       "gdpPercap_1967  2826.356387    14142.850890  \n",
       "gdpPercap_1972  3450.696380    15895.116410  \n",
       "gdpPercap_1977  4269.122326    17428.748460  \n",
       "gdpPercap_1982  4241.356344    18232.424520  \n",
       "gdpPercap_1987  5089.043686    21664.787670  \n",
       "gdpPercap_1992  5678.348271    22705.092540  \n",
       "gdpPercap_1997  6601.429915    26074.531360  \n",
       "gdpPercap_2002  6508.085718    29478.999190  \n",
       "gdpPercap_2007  8458.276384    33203.261280  \n",
       "\n",
       "[12 rows x 30 columns]"
      ]
     },
     "execution_count": 80,
     "metadata": {},
     "output_type": "execute_result"
    }
   ],
   "source": [
    "data_europe.T"
   ]
  }
 ],
 "metadata": {
  "kernelspec": {
   "display_name": "Python 3",
   "language": "python",
   "name": "python3"
  },
  "language_info": {
   "codemirror_mode": {
    "name": "ipython",
    "version": 3
   },
   "file_extension": ".py",
   "mimetype": "text/x-python",
   "name": "python",
   "nbconvert_exporter": "python",
   "pygments_lexer": "ipython3",
   "version": "3.7.7"
  }
 },
 "nbformat": 4,
 "nbformat_minor": 4
}
