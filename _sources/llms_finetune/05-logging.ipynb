{
 "cells": [
  {
   "cell_type": "markdown",
   "metadata": {},
   "source": [
    "# Project Logging with Weights and Biases (WandB)"
   ]
  },
  {
   "cell_type": "code",
   "execution_count": null,
   "metadata": {
    "tags": []
   },
   "outputs": [],
   "source": [
    "from workshop_utils import display_pdf\n",
    "\n",
    "display_pdf(\"Slides_part9.pdf\")"
   ]
  },
  {
   "cell_type": "code",
   "execution_count": null,
   "metadata": {},
   "outputs": [],
   "source": [
    "# Import libraries\n",
    "import wandb\n",
    "from transformers import AutoTokenizer, AutoModelForCausalLM, Trainer, TrainingArguments\n",
    "from datasets import load_dataset\n",
    "import torch"
   ]
  },
  {
   "cell_type": "code",
   "execution_count": null,
   "metadata": {
    "tags": []
   },
   "outputs": [],
   "source": [
    "wandb.login()"
   ]
  },
  {
   "cell_type": "markdown",
   "metadata": {},
   "source": [
    "## Do LoRA with W&B logging"
   ]
  },
  {
   "cell_type": "code",
   "execution_count": null,
   "metadata": {
    "tags": []
   },
   "outputs": [],
   "source": [
    "import os\n",
    "import random\n",
    "import time\n",
    "import wandb\n",
    "from datasets import load_dataset\n",
    "from transformers import (\n",
    "    AutoTokenizer,\n",
    "    AutoModelForCausalLM,\n",
    "    Trainer,\n",
    "    TrainingArguments,\n",
    "    BitsAndBytesConfig,\n",
    "    TrainerCallback,\n",
    "    logging\n",
    ")\n",
    "from peft import LoraConfig, get_peft_model, TaskType, prepare_model_for_kbit_training\n",
    "import torch\n"
   ]
  },
  {
   "cell_type": "code",
   "execution_count": null,
   "metadata": {
    "tags": []
   },
   "outputs": [],
   "source": [
    "# Initialize WandB\n",
    "wandb.init(project=\"llms_finetune\", job_type=\"training\")\n",
    "\n",
    "# Access configuration\n",
    "config = wandb.config\n",
    "config.model_name = \"Qwen/Qwen2.5-0.5B-Instruct\"\n",
    "config.dataset_name = \"HuggingFaceH4/MATH-500\"\n",
    "config.lora_r = 8\n",
    "config.lora_alpha = 32\n",
    "config.lora_dropout = 0.05\n",
    "config.per_device_train_batch_size = 8\n",
    "config.learning_rate = 1e-4\n",
    "config.num_train_epochs = 2\n",
    "config.fp16 = True\n",
    "config.bf16 = False\n",
    "config.save_steps = 10\n",
    "config.eval_steps = 10\n",
    "config.save_total_limit = 1\n",
    "config.optim = \"paged_adamw_32bit\"\n"
   ]
  },
  {
   "cell_type": "markdown",
   "metadata": {},
   "source": [
    "## Prepare data (just as in previous noteboooks)"
   ]
  },
  {
   "cell_type": "code",
   "execution_count": null,
   "metadata": {
    "tags": []
   },
   "outputs": [],
   "source": [
    "\n",
    "# Load the dataset\n",
    "ds = load_dataset(config.dataset_name)\n",
    "train_val_dataset = ds[\"test\"].train_test_split(test_size=0.1)\n",
    "train_dataset = train_val_dataset[\"train\"]\n",
    "eval_dataset = train_val_dataset[\"test\"]\n",
    "\n",
    "# Load the model and tokenizer\n",
    "model_name = config.model_name\n",
    "tokenizer = AutoTokenizer.from_pretrained(model_name)\n",
    "model = AutoModelForCausalLM.from_pretrained(\n",
    "    model_name,\n",
    "    device_map=\"auto\"\n",
    ")\n",
    "\n",
    "# The model may not have a pad token set by default, so set it (using the EOS token)\n",
    "if tokenizer.pad_token is None:\n",
    "    tokenizer.pad_token = tokenizer.eos_token\n",
    "\n",
    "from workshop_utils import tokenize_and_mask, tokenize_for_generation, generate_and_print, data_collator\n",
    "\n",
    "data_collator_fn = lambda features: data_collator(features, tokenizer=tokenizer)\n",
    "\n",
    "# Map the formatting function over the dataset.\n",
    "train_dataset_tokenized = train_dataset.map(tokenize_and_mask, batched=False, fn_kwargs={\"tokenizer\": tokenizer})\n",
    "eval_dataset_tokenized = eval_dataset.map(tokenize_and_mask, batched=False, fn_kwargs={\"tokenizer\": tokenizer})\n",
    "\n",
    "# Get a sample dataset so we can examine model generations before and after training\n",
    "sample_dataset = eval_dataset.select(range(3))\n",
    "sample_dataset_tokenized = sample_dataset.map(tokenize_for_generation, batched=False, fn_kwargs={\"tokenizer\": tokenizer})\n",
    "\n",
    "train_dataset_tokenized.set_format(type=\"torch\", columns=[\"input_ids\", \"labels\", \"attention_mask\"])\n",
    "eval_dataset_tokenized.set_format(type=\"torch\", columns=[\"input_ids\", \"labels\", \"attention_mask\"])\n",
    "sample_dataset_tokenized.set_format(type=\"torch\", columns=[\"input_ids\", \"attention_mask\"])\n",
    "\n",
    "from peft import LoraConfig, get_peft_model, TaskType\n",
    "\n",
    "# Define LoRA Config\n",
    "lora_config = LoraConfig(\n",
    "    task_type=TaskType.CAUSAL_LM, \n",
    "    inference_mode=False, \n",
    "    r=config.lora_r, \n",
    "    lora_alpha=config.lora_alpha, \n",
    "    lora_dropout=config.lora_dropout,\n",
    "    target_modules=[\"q_proj\", \"v_proj\"] # Replace with the target modules of your model\n",
    ")\n",
    "\n",
    "# Add LoRA adapter to the model\n",
    "model = get_peft_model(model, lora_config)"
   ]
  },
  {
   "cell_type": "markdown",
   "metadata": {},
   "source": [
    "## Perform training (while logging to W&B)"
   ]
  },
  {
   "cell_type": "code",
   "execution_count": null,
   "metadata": {
    "tags": []
   },
   "outputs": [],
   "source": [
    "from transformers import Trainer, TrainingArguments\n",
    "\n",
    "# Define training arguments\n",
    "training_args = TrainingArguments(\n",
    "    output_dir=\"./qwen-lora-math\",          # Output directory\n",
    "    num_train_epochs=config.num_train_epochs,              # Number of training epochs\n",
    "    per_device_train_batch_size=config.per_device_train_batch_size,   # Batch size per device during training\n",
    "    optim=config.optim,        # Optimizer, you might need to install accelerate: pip install accelerate -U\n",
    "    save_steps=config.save_steps,                   # Save checkpoint every X updates steps\n",
    "    eval_steps=config.eval_steps,                   # Evaluate every X updates steps\n",
    "    eval_strategy=\"steps\",           # Evaluation strategy\n",
    "    save_total_limit=config.save_total_limit,              # Limit the total amount of checkpoints\n",
    "    load_best_model_at_end=True,     # Load the best model when finished training (default is True)\n",
    "    logging_steps=10,                # Log every X updates steps\n",
    "    learning_rate=config.learning_rate,              # Learning rate\n",
    "    fp16=config.fp16,                       # Use mixed precision training\n",
    "    bf16=config.bf16,                      # Use bfloat16 training\n",
    "    report_to=\"wandb\"\n",
    ")\n",
    "\n",
    "# Create Trainer instance\n",
    "trainer = Trainer(\n",
    "    model=model,\n",
    "    args=training_args,\n",
    "    train_dataset=train_dataset_tokenized,\n",
    "    eval_dataset=eval_dataset_tokenized,\n",
    "    data_collator=data_collator_fn,     # Data collator if needed\n",
    ")\n",
    "\n",
    "# Train the model\n",
    "trainer.train()\n",
    "\n",
    "# Finish the WandB run\n",
    "wandb.finish()"
   ]
  },
  {
   "cell_type": "markdown",
   "metadata": {},
   "source": [
    "## Run a WandB Sweep\n",
    "Define a sweep configuration with hyperparameters to tune. Use `wandb.sweep()` to create a sweep and `wandb.agent()` to run the sweep agent, optimizing the hyperparameters."
   ]
  },
  {
   "cell_type": "code",
   "execution_count": null,
   "metadata": {
    "tags": []
   },
   "outputs": [],
   "source": [
    "# Set up the config we'll use for each run during the sweep\n",
    "\n",
    "config_defaults = {\n",
    "    \"model_name\": \"Qwen/Qwen2.5-0.5B-Instruct\",\n",
    "    \"dataset_name\": \"HuggingFaceH4/MATH-500\",\n",
    "    \"lora_alpha\": 32,\n",
    "    \"lora_dropout\": 0.05,\n",
    "    \"num_train_epochs\": 2,\n",
    "    \"fp16\": True,\n",
    "    \"bf16\": False,\n",
    "    \"save_steps\": 20,\n",
    "    \"eval_steps\": 20,\n",
    "    \"eval_strategy\": \"steps\",\n",
    "    \"save_total_limit\": 1,\n",
    "    \"epochs\": 2,\n",
    "    \"optim\": \"paged_adamw_32bit\"\n",
    "}\n"
   ]
  },
  {
   "cell_type": "code",
   "execution_count": null,
   "metadata": {
    "tags": []
   },
   "outputs": [],
   "source": [
    "# Define a sweep configuration with hyperparameters to tune\n",
    "sweep_config = {\n",
    "    \"method\": \"random\",  # Random search; other options include \"grid\", \"bayesian\", etc.\n",
    "    \"metric\": {\n",
    "        \"name\": \"eval/loss\",\n",
    "        \"goal\": \"minimize\"\n",
    "    },\n",
    "    \"parameters\": {\n",
    "        \"learning_rate\": {\n",
    "            \"values\": [1e-5, 1e-4, 1e-3]\n",
    "        },\n",
    "        \"batch_size\": {\n",
    "            \"values\": [4, 8]\n",
    "        },\n",
    "        \"lora_r\": {\n",
    "            \"values\": [4, 8, 16]\n",
    "        }\n",
    "    }\n",
    "}\n",
    "\n",
    "# Create a sweep\n",
    "sweep_id = wandb.sweep(sweep_config, project=\"llm-finetuning\")\n",
    "\n",
    "# Define the training function\n",
    "def train():\n",
    "    # Initialize a new wandb run\n",
    "    wandb.init(config=config_defaults)\n",
    "    config = wandb.config\n",
    "    \n",
    "    # Load the dataset\n",
    "    ds = load_dataset(wandb.config.dataset_name)\n",
    "    train_val_dataset = ds[\"test\"].train_test_split(test_size=0.1)\n",
    "    train_dataset = train_val_dataset[\"train\"]\n",
    "    eval_dataset = train_val_dataset[\"test\"]\n",
    "    \n",
    "    # Load the model and tokenizer\n",
    "    tokenizer = AutoTokenizer.from_pretrained(config.model_name)\n",
    "    model = AutoModelForCausalLM.from_pretrained(config.model_name, device_map=\"auto\")\n",
    "\n",
    "    # The model may not have a pad token set by default, so set it (using the EOS token)\n",
    "    if tokenizer.pad_token is None:\n",
    "        tokenizer.pad_token = tokenizer.eos_token\n",
    "    \n",
    "    from workshop_utils import tokenize_and_mask, tokenize_for_generation, generate_and_print, data_collator\n",
    "    \n",
    "    data_collator_fn = lambda features: data_collator(features, tokenizer=tokenizer)\n",
    "    \n",
    "    # Map the formatting function over the dataset.\n",
    "    train_dataset_tokenized = train_dataset.map(tokenize_and_mask, batched=False, fn_kwargs={\"tokenizer\": tokenizer})\n",
    "    eval_dataset_tokenized = eval_dataset.map(tokenize_and_mask, batched=False, fn_kwargs={\"tokenizer\": tokenizer})\n",
    "    \n",
    "    # Get a sample dataset so we can examine model generations before and after training\n",
    "    sample_dataset = eval_dataset.select(range(3))\n",
    "    sample_dataset_tokenized = sample_dataset.map(tokenize_for_generation, batched=False, fn_kwargs={\"tokenizer\": tokenizer})\n",
    "    \n",
    "    train_dataset_tokenized.set_format(type=\"torch\", columns=[\"input_ids\", \"labels\", \"attention_mask\"])\n",
    "    eval_dataset_tokenized.set_format(type=\"torch\", columns=[\"input_ids\", \"labels\", \"attention_mask\"])\n",
    "    sample_dataset_tokenized.set_format(type=\"torch\", columns=[\"input_ids\", \"attention_mask\"])\n",
    "    \n",
    "    from peft import LoraConfig, get_peft_model, TaskType\n",
    "    \n",
    "    # Define LoRA Config\n",
    "    lora_config = LoraConfig(\n",
    "        task_type=TaskType.CAUSAL_LM, \n",
    "        inference_mode=False, \n",
    "        r=config.lora_r, \n",
    "        lora_alpha=config.lora_alpha, \n",
    "        lora_dropout=config.lora_dropout,\n",
    "        target_modules=[\"q_proj\", \"v_proj\"] # Replace with the target modules of your model\n",
    "    )\n",
    "    \n",
    "    # Add LoRA adapter to the model\n",
    "    model = get_peft_model(model, lora_config)\n",
    "    \n",
    "    # Define training arguments\n",
    "    training_args = TrainingArguments(\n",
    "        output_dir=\"./results\",\n",
    "        num_train_epochs=config.epochs,\n",
    "        per_device_train_batch_size=config.batch_size,\n",
    "        save_steps=config.save_steps,\n",
    "        eval_steps=config.eval_steps,\n",
    "        eval_strategy=config.eval_strategy,\n",
    "        save_total_limit=1,\n",
    "        learning_rate=config.learning_rate,\n",
    "        fp16=config.fp16,\n",
    "        bf16=config.bf16,\n",
    "        logging_dir=\"./logs\",\n",
    "        logging_steps=10,\n",
    "        load_best_model_at_end=True,\n",
    "        report_to=\"wandb\",\n",
    "    )\n",
    "    \n",
    "    \n",
    "    # Create Trainer instance\n",
    "    trainer = Trainer(\n",
    "        model=model,\n",
    "        args=training_args,\n",
    "        train_dataset=train_dataset_tokenized,\n",
    "        eval_dataset=eval_dataset_tokenized,\n",
    "        tokenizer=tokenizer,\n",
    "        data_collator=data_collator_fn,\n",
    "    )\n",
    "    \n",
    "    # Train the model\n",
    "    trainer.train()\n",
    "    \n",
    "    # Save the model\n",
    "    # model.save_pretrained(f\"./model_{wandb.run.id}\")\n",
    "    # tokenizer.save_pretrained(f\"./model_{wandb.run.id}\")\n",
    "    \n",
    "    # # Log model checkpoint as artifact\n",
    "    # artifact = wandb.Artifact(f\"model_{wandb.run.id}\", type=\"model\")\n",
    "    # artifact.add_dir(f\"./model_{wandb.run.id}\")\n",
    "    # wandb.log_artifact(artifact)\n",
    "    \n",
    "    # Finish the WandB run\n",
    "    wandb.finish()\n",
    "\n",
    "# Run the sweep agent\n",
    "wandb.agent(sweep_id, function=train, count=3)"
   ]
  }
 ],
 "metadata": {
  "kernelspec": {
   "display_name": "Python (LLMsFT2)",
   "language": "python",
   "name": "llmsft2"
  },
  "language_info": {
   "codemirror_mode": {
    "name": "ipython",
    "version": 3
   },
   "file_extension": ".py",
   "mimetype": "text/x-python",
   "name": "python",
   "nbconvert_exporter": "python",
   "pygments_lexer": "ipython3",
   "version": "3.10.16"
  }
 },
 "nbformat": 4,
 "nbformat_minor": 4
}
