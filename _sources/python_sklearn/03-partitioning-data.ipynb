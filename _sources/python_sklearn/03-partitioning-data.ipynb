{
 "cells": [
  {
   "cell_type": "markdown",
   "id": "ecb4322d-e12c-41b2-8377-10802ad70850",
   "metadata": {
    "tags": []
   },
   "source": [
    "# Data partition: training and testing\n",
    "\n",
    "In Machine Learning, it is mandatory to have training and testing set. Some\n",
    " time a verification set is also recommended. Here are some functions \n",
    " for splitting training/testing set in `sklearn`:\n",
    "\n",
    "- `train_test_split`: create series of test/training partitions\n",
    "- `Kfold` splits the data into k groups\n",
    "- `StratifiedKFold` splits the data into k groups based on a grouping factor.\n",
    "- `RepeatKfold`\n",
    "- `LeaveOneOut`\n",
    "- `LeavePOut`\n",
    "\n",
    "We focus on `train_test_split`, `KFolds` and  `StratifiedKFold`."
   ]
  },
  {
   "cell_type": "markdown",
   "id": "ebda4cf9-c1a6-4392-b9b0-cbcd7c29d22f",
   "metadata": {},
   "source": [
    "We will use the airquality dataset to demonstrate:"
   ]
  },
  {
   "cell_type": "markdown",
   "id": "88561e6a-8515-4703-9f1a-558cbc5bbf32",
   "metadata": {
    "tags": []
   },
   "source": [
    "## Dataset"
   ]
  },
  {
   "cell_type": "code",
   "execution_count": 1,
   "id": "39c2c44f-180f-4ad1-98d1-fd547489cc3b",
   "metadata": {},
   "outputs": [
    {
     "data": {
      "text/html": [
       "<div>\n",
       "<style scoped>\n",
       "    .dataframe tbody tr th:only-of-type {\n",
       "        vertical-align: middle;\n",
       "    }\n",
       "\n",
       "    .dataframe tbody tr th {\n",
       "        vertical-align: top;\n",
       "    }\n",
       "\n",
       "    .dataframe thead th {\n",
       "        text-align: right;\n",
       "    }\n",
       "</style>\n",
       "<table border=\"1\" class=\"dataframe\">\n",
       "  <thead>\n",
       "    <tr style=\"text-align: right;\">\n",
       "      <th></th>\n",
       "      <th>Ozone</th>\n",
       "      <th>Solar.R</th>\n",
       "      <th>Wind</th>\n",
       "      <th>Temp</th>\n",
       "      <th>Month</th>\n",
       "      <th>Day</th>\n",
       "    </tr>\n",
       "  </thead>\n",
       "  <tbody>\n",
       "    <tr>\n",
       "      <th>0</th>\n",
       "      <td>41.0</td>\n",
       "      <td>190.0</td>\n",
       "      <td>7.4</td>\n",
       "      <td>67</td>\n",
       "      <td>5</td>\n",
       "      <td>1</td>\n",
       "    </tr>\n",
       "    <tr>\n",
       "      <th>1</th>\n",
       "      <td>36.0</td>\n",
       "      <td>118.0</td>\n",
       "      <td>8.0</td>\n",
       "      <td>72</td>\n",
       "      <td>5</td>\n",
       "      <td>2</td>\n",
       "    </tr>\n",
       "    <tr>\n",
       "      <th>2</th>\n",
       "      <td>12.0</td>\n",
       "      <td>149.0</td>\n",
       "      <td>12.6</td>\n",
       "      <td>74</td>\n",
       "      <td>5</td>\n",
       "      <td>3</td>\n",
       "    </tr>\n",
       "    <tr>\n",
       "      <th>3</th>\n",
       "      <td>18.0</td>\n",
       "      <td>313.0</td>\n",
       "      <td>11.5</td>\n",
       "      <td>62</td>\n",
       "      <td>5</td>\n",
       "      <td>4</td>\n",
       "    </tr>\n",
       "    <tr>\n",
       "      <th>4</th>\n",
       "      <td>NaN</td>\n",
       "      <td>NaN</td>\n",
       "      <td>14.3</td>\n",
       "      <td>56</td>\n",
       "      <td>5</td>\n",
       "      <td>5</td>\n",
       "    </tr>\n",
       "    <tr>\n",
       "      <th>...</th>\n",
       "      <td>...</td>\n",
       "      <td>...</td>\n",
       "      <td>...</td>\n",
       "      <td>...</td>\n",
       "      <td>...</td>\n",
       "      <td>...</td>\n",
       "    </tr>\n",
       "    <tr>\n",
       "      <th>148</th>\n",
       "      <td>30.0</td>\n",
       "      <td>193.0</td>\n",
       "      <td>6.9</td>\n",
       "      <td>70</td>\n",
       "      <td>9</td>\n",
       "      <td>26</td>\n",
       "    </tr>\n",
       "    <tr>\n",
       "      <th>149</th>\n",
       "      <td>NaN</td>\n",
       "      <td>145.0</td>\n",
       "      <td>13.2</td>\n",
       "      <td>77</td>\n",
       "      <td>9</td>\n",
       "      <td>27</td>\n",
       "    </tr>\n",
       "    <tr>\n",
       "      <th>150</th>\n",
       "      <td>14.0</td>\n",
       "      <td>191.0</td>\n",
       "      <td>14.3</td>\n",
       "      <td>75</td>\n",
       "      <td>9</td>\n",
       "      <td>28</td>\n",
       "    </tr>\n",
       "    <tr>\n",
       "      <th>151</th>\n",
       "      <td>18.0</td>\n",
       "      <td>131.0</td>\n",
       "      <td>8.0</td>\n",
       "      <td>76</td>\n",
       "      <td>9</td>\n",
       "      <td>29</td>\n",
       "    </tr>\n",
       "    <tr>\n",
       "      <th>152</th>\n",
       "      <td>20.0</td>\n",
       "      <td>223.0</td>\n",
       "      <td>11.5</td>\n",
       "      <td>68</td>\n",
       "      <td>9</td>\n",
       "      <td>30</td>\n",
       "    </tr>\n",
       "  </tbody>\n",
       "</table>\n",
       "<p>153 rows × 6 columns</p>\n",
       "</div>"
      ],
      "text/plain": [
       "     Ozone  Solar.R  Wind  Temp  Month  Day\n",
       "0     41.0    190.0   7.4    67      5    1\n",
       "1     36.0    118.0   8.0    72      5    2\n",
       "2     12.0    149.0  12.6    74      5    3\n",
       "3     18.0    313.0  11.5    62      5    4\n",
       "4      NaN      NaN  14.3    56      5    5\n",
       "..     ...      ...   ...   ...    ...  ...\n",
       "148   30.0    193.0   6.9    70      9   26\n",
       "149    NaN    145.0  13.2    77      9   27\n",
       "150   14.0    191.0  14.3    75      9   28\n",
       "151   18.0    131.0   8.0    76      9   29\n",
       "152   20.0    223.0  11.5    68      9   30\n",
       "\n",
       "[153 rows x 6 columns]"
      ]
     },
     "execution_count": 1,
     "metadata": {},
     "output_type": "execute_result"
    }
   ],
   "source": [
    "import pandas as pd\n",
    "df = pd.DataFrame(pd.read_csv('/zfs/citi/workshop_data/python_ml/r_airquality.csv'))\n",
    "df"
   ]
  },
  {
   "cell_type": "code",
   "execution_count": 2,
   "id": "6658dfc8-423b-4414-a922-ae06a07d872b",
   "metadata": {},
   "outputs": [
    {
     "data": {
      "text/html": [
       "<div>\n",
       "<style scoped>\n",
       "    .dataframe tbody tr th:only-of-type {\n",
       "        vertical-align: middle;\n",
       "    }\n",
       "\n",
       "    .dataframe tbody tr th {\n",
       "        vertical-align: top;\n",
       "    }\n",
       "\n",
       "    .dataframe thead th {\n",
       "        text-align: right;\n",
       "    }\n",
       "</style>\n",
       "<table border=\"1\" class=\"dataframe\">\n",
       "  <thead>\n",
       "    <tr style=\"text-align: right;\">\n",
       "      <th></th>\n",
       "      <th>Ozone</th>\n",
       "      <th>Solar.R</th>\n",
       "      <th>Wind</th>\n",
       "      <th>Temp</th>\n",
       "      <th>Month</th>\n",
       "      <th>Day</th>\n",
       "    </tr>\n",
       "  </thead>\n",
       "  <tbody>\n",
       "    <tr>\n",
       "      <th>0</th>\n",
       "      <td>41.00000</td>\n",
       "      <td>190.000000</td>\n",
       "      <td>7.4</td>\n",
       "      <td>67.0</td>\n",
       "      <td>5.0</td>\n",
       "      <td>1.0</td>\n",
       "    </tr>\n",
       "    <tr>\n",
       "      <th>1</th>\n",
       "      <td>36.00000</td>\n",
       "      <td>118.000000</td>\n",
       "      <td>8.0</td>\n",
       "      <td>72.0</td>\n",
       "      <td>5.0</td>\n",
       "      <td>2.0</td>\n",
       "    </tr>\n",
       "    <tr>\n",
       "      <th>2</th>\n",
       "      <td>12.00000</td>\n",
       "      <td>149.000000</td>\n",
       "      <td>12.6</td>\n",
       "      <td>74.0</td>\n",
       "      <td>5.0</td>\n",
       "      <td>3.0</td>\n",
       "    </tr>\n",
       "    <tr>\n",
       "      <th>3</th>\n",
       "      <td>18.00000</td>\n",
       "      <td>313.000000</td>\n",
       "      <td>11.5</td>\n",
       "      <td>62.0</td>\n",
       "      <td>5.0</td>\n",
       "      <td>4.0</td>\n",
       "    </tr>\n",
       "    <tr>\n",
       "      <th>4</th>\n",
       "      <td>42.12931</td>\n",
       "      <td>185.931507</td>\n",
       "      <td>14.3</td>\n",
       "      <td>56.0</td>\n",
       "      <td>5.0</td>\n",
       "      <td>5.0</td>\n",
       "    </tr>\n",
       "    <tr>\n",
       "      <th>...</th>\n",
       "      <td>...</td>\n",
       "      <td>...</td>\n",
       "      <td>...</td>\n",
       "      <td>...</td>\n",
       "      <td>...</td>\n",
       "      <td>...</td>\n",
       "    </tr>\n",
       "    <tr>\n",
       "      <th>148</th>\n",
       "      <td>30.00000</td>\n",
       "      <td>193.000000</td>\n",
       "      <td>6.9</td>\n",
       "      <td>70.0</td>\n",
       "      <td>9.0</td>\n",
       "      <td>26.0</td>\n",
       "    </tr>\n",
       "    <tr>\n",
       "      <th>149</th>\n",
       "      <td>42.12931</td>\n",
       "      <td>145.000000</td>\n",
       "      <td>13.2</td>\n",
       "      <td>77.0</td>\n",
       "      <td>9.0</td>\n",
       "      <td>27.0</td>\n",
       "    </tr>\n",
       "    <tr>\n",
       "      <th>150</th>\n",
       "      <td>14.00000</td>\n",
       "      <td>191.000000</td>\n",
       "      <td>14.3</td>\n",
       "      <td>75.0</td>\n",
       "      <td>9.0</td>\n",
       "      <td>28.0</td>\n",
       "    </tr>\n",
       "    <tr>\n",
       "      <th>151</th>\n",
       "      <td>18.00000</td>\n",
       "      <td>131.000000</td>\n",
       "      <td>8.0</td>\n",
       "      <td>76.0</td>\n",
       "      <td>9.0</td>\n",
       "      <td>29.0</td>\n",
       "    </tr>\n",
       "    <tr>\n",
       "      <th>152</th>\n",
       "      <td>20.00000</td>\n",
       "      <td>223.000000</td>\n",
       "      <td>11.5</td>\n",
       "      <td>68.0</td>\n",
       "      <td>9.0</td>\n",
       "      <td>30.0</td>\n",
       "    </tr>\n",
       "  </tbody>\n",
       "</table>\n",
       "<p>153 rows × 6 columns</p>\n",
       "</div>"
      ],
      "text/plain": [
       "        Ozone     Solar.R  Wind  Temp  Month   Day\n",
       "0    41.00000  190.000000   7.4  67.0    5.0   1.0\n",
       "1    36.00000  118.000000   8.0  72.0    5.0   2.0\n",
       "2    12.00000  149.000000  12.6  74.0    5.0   3.0\n",
       "3    18.00000  313.000000  11.5  62.0    5.0   4.0\n",
       "4    42.12931  185.931507  14.3  56.0    5.0   5.0\n",
       "..        ...         ...   ...   ...    ...   ...\n",
       "148  30.00000  193.000000   6.9  70.0    9.0  26.0\n",
       "149  42.12931  145.000000  13.2  77.0    9.0  27.0\n",
       "150  14.00000  191.000000  14.3  75.0    9.0  28.0\n",
       "151  18.00000  131.000000   8.0  76.0    9.0  29.0\n",
       "152  20.00000  223.000000  11.5  68.0    9.0  30.0\n",
       "\n",
       "[153 rows x 6 columns]"
      ]
     },
     "execution_count": 2,
     "metadata": {},
     "output_type": "execute_result"
    }
   ],
   "source": [
    "# need to deal w/ missing values\n",
    "import numpy as np\n",
    "from sklearn.impute import SimpleImputer\n",
    "imputer = SimpleImputer(missing_values=np.nan, strategy='mean')\n",
    "df = pd.DataFrame(imputer.fit_transform(df), columns = df.columns)\n",
    "df"
   ]
  },
  {
   "cell_type": "code",
   "execution_count": 3,
   "id": "3387157e-81ec-4535-b57e-0e376182cd5f",
   "metadata": {},
   "outputs": [
    {
     "data": {
      "text/plain": [
       "((153, 5), (153,))"
      ]
     },
     "execution_count": 3,
     "metadata": {},
     "output_type": "execute_result"
    }
   ],
   "source": [
    "X, y = df.iloc[:,1:], df.iloc[:,0]\n",
    "X.shape, y.shape"
   ]
  },
  {
   "cell_type": "markdown",
   "id": "8fe1ff70-8c9a-4112-98b7-84c9ebb10494",
   "metadata": {
    "tags": []
   },
   "source": [
    "## Train-test split\n",
    "Here we use `train_test_split` to randomly split 60% data for training and the rest for testing:\n",
    "\n",
    "![image](https://user-images.githubusercontent.com/43855029/114209883-22b81700-992d-11eb-83a4-c4ab1538a1e5.png)"
   ]
  },
  {
   "cell_type": "code",
   "execution_count": 4,
   "id": "d34d3210-f6be-4763-bcf0-642f7c87a8cf",
   "metadata": {},
   "outputs": [
    {
     "data": {
      "text/plain": [
       "((91, 5), (91,))"
      ]
     },
     "execution_count": 4,
     "metadata": {},
     "output_type": "execute_result"
    }
   ],
   "source": [
    "from sklearn.model_selection import train_test_split\n",
    "X_train, X_test, y_train, y_test = train_test_split(X,y,train_size=0.6,random_state=123)\n",
    "X_train.shape, y_train.shape"
   ]
  },
  {
   "cell_type": "code",
   "execution_count": 5,
   "id": "b1d1da10-7990-4080-bf53-cbe1327c988e",
   "metadata": {},
   "outputs": [
    {
     "name": "stdout",
     "output_type": "stream",
     "text": [
      "r^2 on the test set:  0.31\n"
     ]
    }
   ],
   "source": [
    "from sklearn.linear_model import LinearRegression\n",
    "from sklearn.metrics import r2_score\n",
    "\n",
    "model = LinearRegression()\n",
    "\n",
    "model.fit(X_train, y_train) #Training the model, not running now\n",
    "y_pred = model.predict(X_test)\n",
    "r2 = r2_score(y_test, y_pred)\n",
    "print(f\"r^2 on the test set: {r2_score(y_test, y_pred): 0.2f}\")"
   ]
  },
  {
   "cell_type": "markdown",
   "id": "f34c637a-6e58-447f-8043-6f5928eee592",
   "metadata": {},
   "source": [
    "**Question**: What are some of the limitations with this approach?"
   ]
  },
  {
   "cell_type": "markdown",
   "id": "90293327-de55-41af-b450-730970067ae5",
   "metadata": {
    "tags": []
   },
   "source": [
    "## Cross validation\n",
    "- CV is a resampling process used to evaluate ML model on limited data sample.\n",
    "- The general procedure:\n",
    "    - Shuffle data randomly\n",
    "    - Split the data into **k** groups\n",
    "    For each group:\n",
    "        - Split into training & testing set\n",
    "        - Fit a model on each group's training & testing set\n",
    "        - Retain the evaluation score and summarize the skill of model\n",
    "\n",
    "\n",
    "![image](https://user-images.githubusercontent.com/43855029/114211785-103edd00-992f-11eb-89d0-bbd7bd0c0178.png)\n",
    "\n",
    "[Documentation on split](https://scikit-learn.org/stable/modules/generated/sklearn.model_selection.KFold.html#sklearn.model_selection.KFold.split)"
   ]
  },
  {
   "cell_type": "markdown",
   "id": "8f86f343-e89a-4a97-8539-624fe1e3416f",
   "metadata": {},
   "source": [
    "**Question**: How does this procedure address some of the limitations with a simple train/test split?"
   ]
  },
  {
   "cell_type": "code",
   "execution_count": 6,
   "id": "493ebdeb-3249-4d34-a7c9-0abc66ce7849",
   "metadata": {},
   "outputs": [
    {
     "name": "stdout",
     "output_type": "stream",
     "text": [
      "r^2 for the fold no. 1 on the test set: 0.62\n",
      "r^2 for the fold no. 2 on the test set: 0.42\n",
      "r^2 for the fold no. 3 on the test set: 0.49\n",
      "r^2 for the fold no. 4 on the test set: 0.29\n",
      "r^2 for the fold no. 5 on the test set: 0.38\n",
      "Mean r^2: 0.44\n",
      "Std. dev. r^2: 0.11\n"
     ]
    }
   ],
   "source": [
    "from sklearn.model_selection import KFold\n",
    "from sklearn.linear_model import LinearRegression\n",
    "from sklearn.metrics import r2_score\n",
    "\n",
    "cv = KFold(n_splits=5, shuffle=True, random_state=20)\n",
    "\n",
    "# initialize the model\n",
    "model = LinearRegression()\n",
    "r2s = []\n",
    "for ix, (train_index, test_index) in enumerate(cv.split(X.values)):\n",
    "    X_train = X.values[train_index]\n",
    "    y_train = y.values[train_index]\n",
    "    X_test = X.values[test_index]\n",
    "    y_test = y.values[test_index]\n",
    "    model.fit(X_train, y_train) #Training the model, not running now\n",
    "    y_pred = model.predict(X_test)\n",
    "    r2 = r2_score(y_test, y_pred)\n",
    "    r2s.append(r2)\n",
    "    print(f\"r^2 for the fold no. {ix+1} on the test set: {r2_score(y_test, y_pred):0.2f}\")\n",
    "    \n",
    "print(f\"Mean r^2: {np.mean(r2s):0.2f}\")\n",
    "print(f\"Std. dev. r^2: {np.std(r2s):0.2f}\")"
   ]
  },
  {
   "cell_type": "markdown",
   "id": "fa22296b-118b-449f-a788-2b46f62f5125",
   "metadata": {},
   "source": [
    "### Stratified k-fold CV\n",
    "\"Stratify\" refers to sampling within a group to form the $k$ folds. For example, we may wish that the distribution of Ozone levels in the CV partitions looks similar to the distribution in the full dataset. This is especially important when we have class imbalance. "
   ]
  },
  {
   "cell_type": "code",
   "execution_count": 7,
   "id": "8b07d4f8-5ea1-4632-af13-c26b6ab596bc",
   "metadata": {},
   "outputs": [
    {
     "data": {
      "text/plain": [
       "<AxesSubplot:>"
      ]
     },
     "execution_count": 7,
     "metadata": {},
     "output_type": "execute_result"
    },
    {
     "data": {
      "image/png": "[encoded data removed]",
      "text/plain": [
       "<Figure size 432x288 with 1 Axes>"
      ]
     },
     "metadata": {
      "needs_background": "light"
     },
     "output_type": "display_data"
    }
   ],
   "source": [
    "df.Ozone.hist()"
   ]
  },
  {
   "cell_type": "markdown",
   "id": "c5a9f7da-d5cb-4abe-8f0a-5461a690fdb2",
   "metadata": {},
   "source": [
    "It looks like we have a group of low-Ozone (<50) and high-Ozone (>=50) samples. Let's define a new variable indicating if the sample is low-ozone or high-ozone using this threshold: "
   ]
  },
  {
   "cell_type": "code",
   "execution_count": 8,
   "id": "86bf2448-df83-46e5-b442-477b0370b3c0",
   "metadata": {},
   "outputs": [
    {
     "data": {
      "text/plain": [
       "False    0.771242\n",
       "True     0.228758\n",
       "Name: high_ozone, dtype: float64"
      ]
     },
     "execution_count": 8,
     "metadata": {},
     "output_type": "execute_result"
    }
   ],
   "source": [
    "thresh = 50\n",
    "df['high_ozone'] = df['Ozone']>=thresh\n",
    "df.high_ozone.value_counts() / len(df)"
   ]
  },
  {
   "cell_type": "markdown",
   "id": "42d77582-d759-418c-9f43-ed2979d4d356",
   "metadata": {},
   "source": [
    "Stratified k-fold will attempt to preserve the share of high/low ozone samples in each split. "
   ]
  },
  {
   "cell_type": "code",
   "execution_count": 9,
   "id": "ab2b7729-e0f9-4637-867c-5830d836bd7a",
   "metadata": {},
   "outputs": [
    {
     "name": "stdout",
     "output_type": "stream",
     "text": [
      "False    0.803279\n",
      "True     0.196721\n",
      "dtype: float64\n",
      "False    0.778689\n",
      "True     0.221311\n",
      "dtype: float64\n",
      "False    0.762295\n",
      "True     0.237705\n",
      "dtype: float64\n",
      "False    0.788618\n",
      "True     0.211382\n",
      "dtype: float64\n",
      "False    0.756098\n",
      "True     0.243902\n",
      "dtype: float64\n"
     ]
    }
   ],
   "source": [
    "# let's first look at the distribution in each split w/out stratification\n",
    "for ix, (train_index, test_index) in enumerate(cv.split(X.values)):\n",
    "    y_train = y.values[train_index]\n",
    "    print(pd.Series(y_train>thresh).value_counts()/len(y_train))"
   ]
  },
  {
   "cell_type": "code",
   "execution_count": 10,
   "id": "12aa0890-6033-4161-8d9c-ce54e246ac76",
   "metadata": {},
   "outputs": [
    {
     "name": "stdout",
     "output_type": "stream",
     "text": [
      "False    0.778689\n",
      "True     0.221311\n",
      "dtype: float64\n",
      "False    0.778689\n",
      "True     0.221311\n",
      "dtype: float64\n",
      "False    0.770492\n",
      "True     0.229508\n",
      "dtype: float64\n",
      "False    0.780488\n",
      "True     0.219512\n",
      "dtype: float64\n",
      "False    0.780488\n",
      "True     0.219512\n",
      "dtype: float64\n"
     ]
    }
   ],
   "source": [
    "from sklearn.model_selection import StratifiedKFold\n",
    "cv_strat = StratifiedKFold(n_splits=5, shuffle=True, random_state=20)\n",
    "\n",
    "# let's look at the distribution in each split w/out \n",
    "for ix, (train_index, test_index) in enumerate(cv_strat.split(X.values, y.values>=thresh)):\n",
    "    y_train = y.values[train_index]\n",
    "    print(pd.Series(y_train>thresh).value_counts()/len(y_train))"
   ]
  },
  {
   "cell_type": "code",
   "execution_count": 11,
   "id": "28719155-0449-41f9-8209-c06b2df0c0e3",
   "metadata": {},
   "outputs": [
    {
     "name": "stdout",
     "output_type": "stream",
     "text": [
      "r^2 for the fold no. 1 on the test set:  0.45\n",
      "r^2 for the fold no. 2 on the test set:  0.43\n",
      "r^2 for the fold no. 3 on the test set:  0.31\n",
      "r^2 for the fold no. 4 on the test set:  0.56\n",
      "r^2 for the fold no. 5 on the test set:  0.64\n",
      "Mean r^2: 0.48\n",
      "Std. dev. r^2: 0.11\n"
     ]
    }
   ],
   "source": [
    "# initialize the model\n",
    "model = LinearRegression()\n",
    "r2s = []\n",
    "for ix, (train_index, test_index) in enumerate(cv_strat.split(X.values, y.values>=50)):\n",
    "    X_train = X.values[train_index]\n",
    "    y_train = y.values[train_index]\n",
    "    X_test = X.values[test_index]\n",
    "    y_test = y.values[test_index]\n",
    "    model.fit(X_train, y_train) #Training the model, not running now\n",
    "    y_pred = model.predict(X_test)\n",
    "    r2 = r2_score(y_test, y_pred)\n",
    "    r2s.append(r2)\n",
    "    print(f\"r^2 for the fold no. {ix+1} on the test set: {r2_score(y_test, y_pred): 0.2f}\")\n",
    "    \n",
    "print(f\"Mean r^2: {np.mean(r2s):0.2f}\")\n",
    "print(f\"Std. dev. r^2: {np.std(r2s):0.2f}\")"
   ]
  },
  {
   "cell_type": "markdown",
   "id": "018ff10d-ebdf-4717-b8d2-ebd989ab136f",
   "metadata": {},
   "source": [
    "Notice the better mean performance when stratifying. "
   ]
  },
  {
   "cell_type": "code",
   "execution_count": null,
   "id": "9fc8285a-c73a-4799-9745-4cff68331533",
   "metadata": {},
   "outputs": [],
   "source": []
  }
 ],
 "metadata": {
  "kernelspec": {
   "display_name": "Python 3 (ipykernel)",
   "language": "python",
   "name": "python3"
  },
  "language_info": {
   "codemirror_mode": {
    "name": "ipython",
    "version": 3
   },
   "file_extension": ".py",
   "mimetype": "text/x-python",
   "name": "python",
   "nbconvert_exporter": "python",
   "pygments_lexer": "ipython3",
   "version": "3.9.12"
  }
 },
 "nbformat": 4,
 "nbformat_minor": 5
}
