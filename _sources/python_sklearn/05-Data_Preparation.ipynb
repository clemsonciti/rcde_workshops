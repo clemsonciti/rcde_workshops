{
 "cells": [
  {
   "cell_type": "markdown",
   "id": "3bc8382d-f45f-403e-a803-d08b763705c5",
   "metadata": {},
   "source": [
    "# Data Preparation\n",
    "\n",
    "So far we've assumed that we already have access to a dataset that is ready to be used for training a machine learning model. However, in practice, this is rarely the case. Most of the time, the dataset will need to be cleaned, transformed, and prepared before it can be used for training.\n",
    "\n",
    "**Stages of data preparation:**\n",
    "1. Data collection\n",
    "2. Data loading\n",
    "3. Data exploration\n",
    "4. Data cleaning\n",
    "5. Feature selection and engineering\n",
    "7. Encoding categorical variables\n",
    "8. Feature scaling\n",
    "9. Data splitting"
   ]
  },
  {
   "cell_type": "code",
   "execution_count": 1,
   "id": "7007a43c-61a5-4b07-b558-661f6c8fb09c",
   "metadata": {},
   "outputs": [],
   "source": [
    "from utils import create_answer_box"
   ]
  },
  {
   "cell_type": "markdown",
   "id": "346633e5-67fa-45f3-9dc6-11bc91592a8f",
   "metadata": {},
   "source": [
    "## 1. Data Collection\n",
    "\n",
    "Data collection is the process of gathering data from various sources. The data can be collected from databases, files, APIs, web scraping, etc. Outside of the scope of this notebook, but it's an important step in the data preparation process.\n",
    "\n",
    "## 2. Data Loading\n",
    "\n",
    "In this step, we load the data into the working environment. Your data might be in a CSV file, a JSON file, a SQL database, or any other format. We will use the `pandas` library to load the data into a DataFrame. Let's use the \"Heart Failure Clinical Records\" dataset from the UCI Machine Learning Repository. This dataset contains the medical records of patients who had heart failure, collected during their follow-up period."
   ]
  },
  {
   "cell_type": "code",
   "execution_count": 2,
   "id": "ec6975b1-ee0c-4339-b857-807a8f4cf4f6",
   "metadata": {},
   "outputs": [],
   "source": [
    "import pandas as pd\n",
    "import matplotlib.pyplot as plt\n",
    "import seaborn as sns\n",
    "import numpy as np\n",
    "from scipy import stats\n",
    "\n",
    "# Load the dataset\n",
    "url = \"https://archive.ics.uci.edu/ml/machine-learning-databases/00519/heart_failure_clinical_records_dataset.csv\"\n",
    "df = pd.read_csv(url)"
   ]
  },
  {
   "cell_type": "markdown",
   "id": "4605a21f-7ba3-41ad-9049-c07c121e84f1",
   "metadata": {},
   "source": [
    "Note that we're lucky in this dataset, in that it is small enough to fit into memory. For larger datasets, we would need to use more advanced techniques to load the data in chunks. For example, we might use Dask rather than pandas, which would allow us to work with larger-than-memory datasets. (Dask is designed to be a drop-in replacement for pandas for larger-than-memory datasets, so the code would look very similar.)\n",
    "\n",
    "For very large datasets, when performing data exploration and when producing the code that will be used to prepare your data, you might want to work with a sample of the data rather than the full dataset. This will allow you to iterate more quickly and avoid long wait times. Once you have the code working with a sample, you can then run it on the full dataset."
   ]
  },
  {
   "cell_type": "code",
   "execution_count": 3,
   "id": "b43753a3-9c77-4e0a-bfd8-112abd1e0b5e",
   "metadata": {},
   "outputs": [
    {
     "name": "stdout",
     "output_type": "stream",
     "text": [
      "(299, 13)\n",
      "(20, 13)\n"
     ]
    }
   ],
   "source": [
    "## Load only a subset of the dataset\n",
    "small_df = pd.read_csv(url, nrows=20)\n",
    "\n",
    "# Display the shape of the datasets\n",
    "print(df.shape)\n",
    "print(small_df.shape)"
   ]
  },
  {
   "cell_type": "markdown",
   "id": "2e7c8055-0e86-417d-9f28-e58a5df9a1bc",
   "metadata": {},
   "source": [
    "Working with a smaller subset dataset is more computationally efficient, but there's the danger that the smaller subset distorts the data in some way. Use `pandas`' method `.describe()` in order to check the mean and standard deviations of each of the columns of `df` and `small_df`. Are any of the columns of `small_df` glaringly different than their `df` counterparts?"
   ]
  },
  {
   "cell_type": "code",
   "execution_count": null,
   "id": "7549cf21-594f-43de-9dc7-de8656e326ab",
   "metadata": {},
   "outputs": [],
   "source": [
    "# Use this code cell (and others if you want to create more) to investigate the dataframes.\n",
    "\n"
   ]
  },
  {
   "cell_type": "code",
   "execution_count": 6,
   "id": "470a17c6-7938-483a-bb06-01e42712580f",
   "metadata": {},
   "outputs": [
    {
     "data": {
      "text/markdown": [
       "Does the data in `small_df` seem similar to that in `df`? Which columns, if any, seem distorted in `small_df`?"
      ],
      "text/plain": [
       "<IPython.core.display.Markdown object>"
      ]
     },
     "metadata": {},
     "output_type": "display_data"
    },
    {
     "data": {
      "application/vnd.jupyter.widget-view+json": {
       "model_id": "e861271ec2324b78bd737e0f8c06085b",
       "version_major": 2,
       "version_minor": 0
      },
      "text/plain": [
       "Text(value='', layout=Layout(width='500px'), placeholder='Type your answer here')"
      ]
     },
     "metadata": {},
     "output_type": "display_data"
    },
    {
     "data": {
      "application/vnd.jupyter.widget-view+json": {
       "model_id": "dba22142f0d94422ae5492e6225a8b0f",
       "version_major": 2,
       "version_minor": 0
      },
      "text/plain": [
       "Button(button_style='success', description='Submit', style=ButtonStyle())"
      ]
     },
     "metadata": {},
     "output_type": "display_data"
    },
    {
     "data": {
      "application/vnd.jupyter.widget-view+json": {
       "model_id": "19ad2a70e764469995528245afc55d33",
       "version_major": 2,
       "version_minor": 0
      },
      "text/plain": [
       "Output()"
      ]
     },
     "metadata": {},
     "output_type": "display_data"
    }
   ],
   "source": [
    "create_answer_box(\"Does the data in `small_df` seem similar to that in `df`? Which column(s), if any, seem distorted in `small_df`?\", \"05-01\")"
   ]
  },
  {
   "cell_type": "code",
   "execution_count": 7,
   "id": "98cb3d8a-92ed-4a85-84af-980c1e37964a",
   "metadata": {},
   "outputs": [],
   "source": [
    "# We'll work with the full dataset, so let's delete the small_df\n",
    "del small_df"
   ]
  },
  {
   "cell_type": "markdown",
   "id": "925e7038-efc8-45fb-94d8-87ca8cc93d22",
   "metadata": {},
   "source": [
    "## 3. Data Exploration\n",
    "\n",
    "Data exploration is the process of getting to know the data. We look at the structure of the data, the summary statistics, and the distribution of the data. We also look for missing values, outliers, and anomalies in the data. This step is crucial for understanding the data and making decisions about how to clean and transform it.\n",
    "\n",
    "It cannot be overemphasized that there is no one-size-fits-all approach to data exploration. The process will depend on the dataset, the problem you are trying to solve, and the questions you are trying to answer. A thorough understanding of the data -- its sources, its structure, its quality -- is essential for building a successful machine learning model."
   ]
  },
  {
   "cell_type": "code",
   "execution_count": 8,
   "id": "ae1caba9-e589-40be-9aa8-835f181753bf",
   "metadata": {},
   "outputs": [
    {
     "name": "stdout",
     "output_type": "stream",
     "text": [
      "Index(['age', 'anaemia', 'creatinine_phosphokinase', 'diabetes',\n",
      "       'ejection_fraction', 'high_blood_pressure', 'platelets',\n",
      "       'serum_creatinine', 'serum_sodium', 'sex', 'smoking', 'time',\n",
      "       'DEATH_EVENT'],\n",
      "      dtype='object')\n"
     ]
    }
   ],
   "source": [
    "# Get some basic information about the dataset\n",
    "\n",
    "# Display the column names\n",
    "print(df.columns)"
   ]
  },
  {
   "cell_type": "markdown",
   "id": "f1451a14-2c33-4954-abaf-0bc036d33991",
   "metadata": {},
   "source": [
    "If you were really working with this dataset for research purposes, you should know what each of these columns represents, as well as the units in which they are measured. That knowledge is crucial both for knowing how best to make use of the data, as well as for detecting problems in the data."
   ]
  },
  {
   "cell_type": "code",
   "execution_count": 9,
   "id": "b81347f5-0360-4d50-b8fd-b772649e2eae",
   "metadata": {},
   "outputs": [
    {
     "name": "stdout",
     "output_type": "stream",
     "text": [
      "<class 'pandas.core.frame.DataFrame'>\n",
      "RangeIndex: 299 entries, 0 to 298\n",
      "Data columns (total 13 columns):\n",
      " #   Column                    Non-Null Count  Dtype  \n",
      "---  ------                    --------------  -----  \n",
      " 0   age                       299 non-null    float64\n",
      " 1   anaemia                   299 non-null    int64  \n",
      " 2   creatinine_phosphokinase  299 non-null    int64  \n",
      " 3   diabetes                  299 non-null    int64  \n",
      " 4   ejection_fraction         299 non-null    int64  \n",
      " 5   high_blood_pressure       299 non-null    int64  \n",
      " 6   platelets                 299 non-null    float64\n",
      " 7   serum_creatinine          299 non-null    float64\n",
      " 8   serum_sodium              299 non-null    int64  \n",
      " 9   sex                       299 non-null    int64  \n",
      " 10  smoking                   299 non-null    int64  \n",
      " 11  time                      299 non-null    int64  \n",
      " 12  DEATH_EVENT               299 non-null    int64  \n",
      "dtypes: float64(3), int64(10)\n",
      "memory usage: 30.5 KB\n",
      "None\n",
      "\n",
      "Sample data:\n"
     ]
    },
    {
     "data": {
      "text/html": [
       "<div>\n",
       "<style scoped>\n",
       "    .dataframe tbody tr th:only-of-type {\n",
       "        vertical-align: middle;\n",
       "    }\n",
       "\n",
       "    .dataframe tbody tr th {\n",
       "        vertical-align: top;\n",
       "    }\n",
       "\n",
       "    .dataframe thead th {\n",
       "        text-align: right;\n",
       "    }\n",
       "</style>\n",
       "<table border=\"1\" class=\"dataframe\">\n",
       "  <thead>\n",
       "    <tr style=\"text-align: right;\">\n",
       "      <th></th>\n",
       "      <th>age</th>\n",
       "      <th>anaemia</th>\n",
       "      <th>creatinine_phosphokinase</th>\n",
       "      <th>diabetes</th>\n",
       "      <th>ejection_fraction</th>\n",
       "      <th>high_blood_pressure</th>\n",
       "      <th>platelets</th>\n",
       "      <th>serum_creatinine</th>\n",
       "      <th>serum_sodium</th>\n",
       "      <th>sex</th>\n",
       "      <th>smoking</th>\n",
       "      <th>time</th>\n",
       "      <th>DEATH_EVENT</th>\n",
       "    </tr>\n",
       "  </thead>\n",
       "  <tbody>\n",
       "    <tr>\n",
       "      <th>0</th>\n",
       "      <td>75.0</td>\n",
       "      <td>0</td>\n",
       "      <td>582</td>\n",
       "      <td>0</td>\n",
       "      <td>20</td>\n",
       "      <td>1</td>\n",
       "      <td>265000.00</td>\n",
       "      <td>1.9</td>\n",
       "      <td>130</td>\n",
       "      <td>1</td>\n",
       "      <td>0</td>\n",
       "      <td>4</td>\n",
       "      <td>1</td>\n",
       "    </tr>\n",
       "    <tr>\n",
       "      <th>1</th>\n",
       "      <td>55.0</td>\n",
       "      <td>0</td>\n",
       "      <td>7861</td>\n",
       "      <td>0</td>\n",
       "      <td>38</td>\n",
       "      <td>0</td>\n",
       "      <td>263358.03</td>\n",
       "      <td>1.1</td>\n",
       "      <td>136</td>\n",
       "      <td>1</td>\n",
       "      <td>0</td>\n",
       "      <td>6</td>\n",
       "      <td>1</td>\n",
       "    </tr>\n",
       "    <tr>\n",
       "      <th>2</th>\n",
       "      <td>65.0</td>\n",
       "      <td>0</td>\n",
       "      <td>146</td>\n",
       "      <td>0</td>\n",
       "      <td>20</td>\n",
       "      <td>0</td>\n",
       "      <td>162000.00</td>\n",
       "      <td>1.3</td>\n",
       "      <td>129</td>\n",
       "      <td>1</td>\n",
       "      <td>1</td>\n",
       "      <td>7</td>\n",
       "      <td>1</td>\n",
       "    </tr>\n",
       "    <tr>\n",
       "      <th>3</th>\n",
       "      <td>50.0</td>\n",
       "      <td>1</td>\n",
       "      <td>111</td>\n",
       "      <td>0</td>\n",
       "      <td>20</td>\n",
       "      <td>0</td>\n",
       "      <td>210000.00</td>\n",
       "      <td>1.9</td>\n",
       "      <td>137</td>\n",
       "      <td>1</td>\n",
       "      <td>0</td>\n",
       "      <td>7</td>\n",
       "      <td>1</td>\n",
       "    </tr>\n",
       "    <tr>\n",
       "      <th>4</th>\n",
       "      <td>65.0</td>\n",
       "      <td>1</td>\n",
       "      <td>160</td>\n",
       "      <td>1</td>\n",
       "      <td>20</td>\n",
       "      <td>0</td>\n",
       "      <td>327000.00</td>\n",
       "      <td>2.7</td>\n",
       "      <td>116</td>\n",
       "      <td>0</td>\n",
       "      <td>0</td>\n",
       "      <td>8</td>\n",
       "      <td>1</td>\n",
       "    </tr>\n",
       "  </tbody>\n",
       "</table>\n",
       "</div>"
      ],
      "text/plain": [
       "    age  anaemia  creatinine_phosphokinase  diabetes  ejection_fraction  \\\n",
       "0  75.0        0                       582         0                 20   \n",
       "1  55.0        0                      7861         0                 38   \n",
       "2  65.0        0                       146         0                 20   \n",
       "3  50.0        1                       111         0                 20   \n",
       "4  65.0        1                       160         1                 20   \n",
       "\n",
       "   high_blood_pressure  platelets  serum_creatinine  serum_sodium  sex  \\\n",
       "0                    1  265000.00               1.9           130    1   \n",
       "1                    0  263358.03               1.1           136    1   \n",
       "2                    0  162000.00               1.3           129    1   \n",
       "3                    0  210000.00               1.9           137    1   \n",
       "4                    0  327000.00               2.7           116    0   \n",
       "\n",
       "   smoking  time  DEATH_EVENT  \n",
       "0        0     4            1  \n",
       "1        0     6            1  \n",
       "2        1     7            1  \n",
       "3        0     7            1  \n",
       "4        0     8            1  "
      ]
     },
     "execution_count": 9,
     "metadata": {},
     "output_type": "execute_result"
    }
   ],
   "source": [
    "# Display basic information\n",
    "print(df.info())\n",
    "print(\"\\nSample data:\")\n",
    "df.head()"
   ]
  },
  {
   "cell_type": "code",
   "execution_count": 11,
   "id": "b91f86ad-1e61-4b1f-8106-0664782b0d05",
   "metadata": {},
   "outputs": [
    {
     "name": "stdout",
     "output_type": "stream",
     "text": [
      "\n",
      "Summary statistics:\n"
     ]
    },
    {
     "data": {
      "text/html": [
       "<div>\n",
       "<style scoped>\n",
       "    .dataframe tbody tr th:only-of-type {\n",
       "        vertical-align: middle;\n",
       "    }\n",
       "\n",
       "    .dataframe tbody tr th {\n",
       "        vertical-align: top;\n",
       "    }\n",
       "\n",
       "    .dataframe thead th {\n",
       "        text-align: right;\n",
       "    }\n",
       "</style>\n",
       "<table border=\"1\" class=\"dataframe\">\n",
       "  <thead>\n",
       "    <tr style=\"text-align: right;\">\n",
       "      <th></th>\n",
       "      <th>age</th>\n",
       "      <th>anaemia</th>\n",
       "      <th>creatinine_phosphokinase</th>\n",
       "      <th>diabetes</th>\n",
       "      <th>ejection_fraction</th>\n",
       "      <th>high_blood_pressure</th>\n",
       "      <th>platelets</th>\n",
       "      <th>serum_creatinine</th>\n",
       "      <th>serum_sodium</th>\n",
       "      <th>sex</th>\n",
       "      <th>smoking</th>\n",
       "      <th>time</th>\n",
       "      <th>DEATH_EVENT</th>\n",
       "    </tr>\n",
       "  </thead>\n",
       "  <tbody>\n",
       "    <tr>\n",
       "      <th>count</th>\n",
       "      <td>299.000000</td>\n",
       "      <td>299.000000</td>\n",
       "      <td>299.000000</td>\n",
       "      <td>299.000000</td>\n",
       "      <td>299.000000</td>\n",
       "      <td>299.000000</td>\n",
       "      <td>299.000000</td>\n",
       "      <td>299.00000</td>\n",
       "      <td>299.000000</td>\n",
       "      <td>299.000000</td>\n",
       "      <td>299.00000</td>\n",
       "      <td>299.000000</td>\n",
       "      <td>299.00000</td>\n",
       "    </tr>\n",
       "    <tr>\n",
       "      <th>mean</th>\n",
       "      <td>60.833893</td>\n",
       "      <td>0.431438</td>\n",
       "      <td>581.839465</td>\n",
       "      <td>0.418060</td>\n",
       "      <td>38.083612</td>\n",
       "      <td>0.351171</td>\n",
       "      <td>263358.029264</td>\n",
       "      <td>1.39388</td>\n",
       "      <td>136.625418</td>\n",
       "      <td>0.648829</td>\n",
       "      <td>0.32107</td>\n",
       "      <td>130.260870</td>\n",
       "      <td>0.32107</td>\n",
       "    </tr>\n",
       "    <tr>\n",
       "      <th>std</th>\n",
       "      <td>11.894809</td>\n",
       "      <td>0.496107</td>\n",
       "      <td>970.287881</td>\n",
       "      <td>0.494067</td>\n",
       "      <td>11.834841</td>\n",
       "      <td>0.478136</td>\n",
       "      <td>97804.236869</td>\n",
       "      <td>1.03451</td>\n",
       "      <td>4.412477</td>\n",
       "      <td>0.478136</td>\n",
       "      <td>0.46767</td>\n",
       "      <td>77.614208</td>\n",
       "      <td>0.46767</td>\n",
       "    </tr>\n",
       "    <tr>\n",
       "      <th>min</th>\n",
       "      <td>40.000000</td>\n",
       "      <td>0.000000</td>\n",
       "      <td>23.000000</td>\n",
       "      <td>0.000000</td>\n",
       "      <td>14.000000</td>\n",
       "      <td>0.000000</td>\n",
       "      <td>25100.000000</td>\n",
       "      <td>0.50000</td>\n",
       "      <td>113.000000</td>\n",
       "      <td>0.000000</td>\n",
       "      <td>0.00000</td>\n",
       "      <td>4.000000</td>\n",
       "      <td>0.00000</td>\n",
       "    </tr>\n",
       "    <tr>\n",
       "      <th>25%</th>\n",
       "      <td>51.000000</td>\n",
       "      <td>0.000000</td>\n",
       "      <td>116.500000</td>\n",
       "      <td>0.000000</td>\n",
       "      <td>30.000000</td>\n",
       "      <td>0.000000</td>\n",
       "      <td>212500.000000</td>\n",
       "      <td>0.90000</td>\n",
       "      <td>134.000000</td>\n",
       "      <td>0.000000</td>\n",
       "      <td>0.00000</td>\n",
       "      <td>73.000000</td>\n",
       "      <td>0.00000</td>\n",
       "    </tr>\n",
       "    <tr>\n",
       "      <th>50%</th>\n",
       "      <td>60.000000</td>\n",
       "      <td>0.000000</td>\n",
       "      <td>250.000000</td>\n",
       "      <td>0.000000</td>\n",
       "      <td>38.000000</td>\n",
       "      <td>0.000000</td>\n",
       "      <td>262000.000000</td>\n",
       "      <td>1.10000</td>\n",
       "      <td>137.000000</td>\n",
       "      <td>1.000000</td>\n",
       "      <td>0.00000</td>\n",
       "      <td>115.000000</td>\n",
       "      <td>0.00000</td>\n",
       "    </tr>\n",
       "    <tr>\n",
       "      <th>75%</th>\n",
       "      <td>70.000000</td>\n",
       "      <td>1.000000</td>\n",
       "      <td>582.000000</td>\n",
       "      <td>1.000000</td>\n",
       "      <td>45.000000</td>\n",
       "      <td>1.000000</td>\n",
       "      <td>303500.000000</td>\n",
       "      <td>1.40000</td>\n",
       "      <td>140.000000</td>\n",
       "      <td>1.000000</td>\n",
       "      <td>1.00000</td>\n",
       "      <td>203.000000</td>\n",
       "      <td>1.00000</td>\n",
       "    </tr>\n",
       "    <tr>\n",
       "      <th>max</th>\n",
       "      <td>95.000000</td>\n",
       "      <td>1.000000</td>\n",
       "      <td>7861.000000</td>\n",
       "      <td>1.000000</td>\n",
       "      <td>80.000000</td>\n",
       "      <td>1.000000</td>\n",
       "      <td>850000.000000</td>\n",
       "      <td>9.40000</td>\n",
       "      <td>148.000000</td>\n",
       "      <td>1.000000</td>\n",
       "      <td>1.00000</td>\n",
       "      <td>285.000000</td>\n",
       "      <td>1.00000</td>\n",
       "    </tr>\n",
       "  </tbody>\n",
       "</table>\n",
       "</div>"
      ],
      "text/plain": [
       "              age     anaemia  creatinine_phosphokinase    diabetes  \\\n",
       "count  299.000000  299.000000                299.000000  299.000000   \n",
       "mean    60.833893    0.431438                581.839465    0.418060   \n",
       "std     11.894809    0.496107                970.287881    0.494067   \n",
       "min     40.000000    0.000000                 23.000000    0.000000   \n",
       "25%     51.000000    0.000000                116.500000    0.000000   \n",
       "50%     60.000000    0.000000                250.000000    0.000000   \n",
       "75%     70.000000    1.000000                582.000000    1.000000   \n",
       "max     95.000000    1.000000               7861.000000    1.000000   \n",
       "\n",
       "       ejection_fraction  high_blood_pressure      platelets  \\\n",
       "count         299.000000           299.000000     299.000000   \n",
       "mean           38.083612             0.351171  263358.029264   \n",
       "std            11.834841             0.478136   97804.236869   \n",
       "min            14.000000             0.000000   25100.000000   \n",
       "25%            30.000000             0.000000  212500.000000   \n",
       "50%            38.000000             0.000000  262000.000000   \n",
       "75%            45.000000             1.000000  303500.000000   \n",
       "max            80.000000             1.000000  850000.000000   \n",
       "\n",
       "       serum_creatinine  serum_sodium         sex    smoking        time  \\\n",
       "count         299.00000    299.000000  299.000000  299.00000  299.000000   \n",
       "mean            1.39388    136.625418    0.648829    0.32107  130.260870   \n",
       "std             1.03451      4.412477    0.478136    0.46767   77.614208   \n",
       "min             0.50000    113.000000    0.000000    0.00000    4.000000   \n",
       "25%             0.90000    134.000000    0.000000    0.00000   73.000000   \n",
       "50%             1.10000    137.000000    1.000000    0.00000  115.000000   \n",
       "75%             1.40000    140.000000    1.000000    1.00000  203.000000   \n",
       "max             9.40000    148.000000    1.000000    1.00000  285.000000   \n",
       "\n",
       "       DEATH_EVENT  \n",
       "count    299.00000  \n",
       "mean       0.32107  \n",
       "std        0.46767  \n",
       "min        0.00000  \n",
       "25%        0.00000  \n",
       "50%        0.00000  \n",
       "75%        1.00000  \n",
       "max        1.00000  "
      ]
     },
     "execution_count": 11,
     "metadata": {},
     "output_type": "execute_result"
    }
   ],
   "source": [
    "# Summary statistics\n",
    "print(\"\\nSummary statistics:\")\n",
    "df.describe()"
   ]
  },
  {
   "cell_type": "code",
   "execution_count": 14,
   "id": "874b99f5-b87e-4191-8dd4-594a98c7bb4a",
   "metadata": {},
   "outputs": [
    {
     "name": "stdout",
     "output_type": "stream",
     "text": [
      "\n",
      "Noisy dataset:\n"
     ]
    },
    {
     "data": {
      "text/html": [
       "<div>\n",
       "<style scoped>\n",
       "    .dataframe tbody tr th:only-of-type {\n",
       "        vertical-align: middle;\n",
       "    }\n",
       "\n",
       "    .dataframe tbody tr th {\n",
       "        vertical-align: top;\n",
       "    }\n",
       "\n",
       "    .dataframe thead th {\n",
       "        text-align: right;\n",
       "    }\n",
       "</style>\n",
       "<table border=\"1\" class=\"dataframe\">\n",
       "  <thead>\n",
       "    <tr style=\"text-align: right;\">\n",
       "      <th></th>\n",
       "      <th>age</th>\n",
       "      <th>anaemia</th>\n",
       "      <th>creatinine_phosphokinase</th>\n",
       "      <th>diabetes</th>\n",
       "      <th>ejection_fraction</th>\n",
       "      <th>high_blood_pressure</th>\n",
       "      <th>platelets</th>\n",
       "      <th>serum_creatinine</th>\n",
       "      <th>serum_sodium</th>\n",
       "      <th>sex</th>\n",
       "      <th>smoking</th>\n",
       "      <th>time</th>\n",
       "      <th>DEATH_EVENT</th>\n",
       "    </tr>\n",
       "  </thead>\n",
       "  <tbody>\n",
       "    <tr>\n",
       "      <th>0</th>\n",
       "      <td>75.0</td>\n",
       "      <td>0</td>\n",
       "      <td>582</td>\n",
       "      <td>0</td>\n",
       "      <td>20.0</td>\n",
       "      <td>1</td>\n",
       "      <td>265000.00</td>\n",
       "      <td>1.9</td>\n",
       "      <td>130</td>\n",
       "      <td>female</td>\n",
       "      <td>0</td>\n",
       "      <td>4</td>\n",
       "      <td>1</td>\n",
       "    </tr>\n",
       "    <tr>\n",
       "      <th>1</th>\n",
       "      <td>55.0</td>\n",
       "      <td>0</td>\n",
       "      <td>7861</td>\n",
       "      <td>0</td>\n",
       "      <td>38.0</td>\n",
       "      <td>0</td>\n",
       "      <td>263358.03</td>\n",
       "      <td>1.1</td>\n",
       "      <td>136</td>\n",
       "      <td>female</td>\n",
       "      <td>0</td>\n",
       "      <td>6</td>\n",
       "      <td>1</td>\n",
       "    </tr>\n",
       "    <tr>\n",
       "      <th>2</th>\n",
       "      <td>65.0</td>\n",
       "      <td>0</td>\n",
       "      <td>146</td>\n",
       "      <td>0</td>\n",
       "      <td>20.0</td>\n",
       "      <td>0</td>\n",
       "      <td>162000.00</td>\n",
       "      <td>1.3</td>\n",
       "      <td>129</td>\n",
       "      <td>female</td>\n",
       "      <td>1</td>\n",
       "      <td>7</td>\n",
       "      <td>1</td>\n",
       "    </tr>\n",
       "    <tr>\n",
       "      <th>3</th>\n",
       "      <td>NaN</td>\n",
       "      <td>1</td>\n",
       "      <td>111</td>\n",
       "      <td>0</td>\n",
       "      <td>NaN</td>\n",
       "      <td>0</td>\n",
       "      <td>210000.00</td>\n",
       "      <td>NaN</td>\n",
       "      <td>137</td>\n",
       "      <td>female</td>\n",
       "      <td>0</td>\n",
       "      <td>7</td>\n",
       "      <td>1</td>\n",
       "    </tr>\n",
       "    <tr>\n",
       "      <th>4</th>\n",
       "      <td>65.0</td>\n",
       "      <td>1</td>\n",
       "      <td>160</td>\n",
       "      <td>1</td>\n",
       "      <td>20.0</td>\n",
       "      <td>0</td>\n",
       "      <td>327000.00</td>\n",
       "      <td>2.7</td>\n",
       "      <td>116</td>\n",
       "      <td>male</td>\n",
       "      <td>0</td>\n",
       "      <td>8</td>\n",
       "      <td>1</td>\n",
       "    </tr>\n",
       "  </tbody>\n",
       "</table>\n",
       "</div>"
      ],
      "text/plain": [
       "    age  anaemia  creatinine_phosphokinase  diabetes  ejection_fraction  \\\n",
       "0  75.0        0                       582         0               20.0   \n",
       "1  55.0        0                      7861         0               38.0   \n",
       "2  65.0        0                       146         0               20.0   \n",
       "3   NaN        1                       111         0                NaN   \n",
       "4  65.0        1                       160         1               20.0   \n",
       "\n",
       "   high_blood_pressure  platelets  serum_creatinine  serum_sodium     sex  \\\n",
       "0                    1  265000.00               1.9           130  female   \n",
       "1                    0  263358.03               1.1           136  female   \n",
       "2                    0  162000.00               1.3           129  female   \n",
       "3                    0  210000.00               NaN           137  female   \n",
       "4                    0  327000.00               2.7           116    male   \n",
       "\n",
       "   smoking  time  DEATH_EVENT  \n",
       "0        0     4            1  \n",
       "1        0     6            1  \n",
       "2        1     7            1  \n",
       "3        0     7            1  \n",
       "4        0     8            1  "
      ]
     },
     "execution_count": 14,
     "metadata": {},
     "output_type": "execute_result"
    }
   ],
   "source": [
    "# The real data is very clean already. Let's make it messier (artificially), so we can then talk about how to clean it up.\n",
    "\n",
    "# Let's introduce some missing values, and also some outliers.\n",
    "# We'll do this by randomly selecting some values and setting them to NaN, and also by adding some random noise to some values.\n",
    "\n",
    "# Randomly select 10% of the data and set them to NaN\n",
    "df_nan = df.copy()\n",
    "nan_indices = np.random.choice(df.index, size=int(len(df)*0.1), replace=False)\n",
    "df_nan.loc[nan_indices, 'age'] = np.nan\n",
    "df_nan.loc[nan_indices, 'serum_creatinine'] = np.nan\n",
    "df_nan.loc[nan_indices, 'ejection_fraction'] = np.nan\n",
    "\n",
    "# Randomly select 2% of the data and make them outliers\n",
    "df_noisy = df_nan.copy()\n",
    "noisy_indices = np.random.choice(df.index, size=int(len(df)*0.02), replace=False)\n",
    "df_noisy.loc[noisy_indices, 'serum_creatinine'] = df_noisy.loc[noisy_indices, 'serum_creatinine'] * 10\n",
    "df_noisy.loc[noisy_indices, 'ejection_fraction'] = df_noisy.loc[noisy_indices, 'ejection_fraction'] * 10\n",
    "\n",
    "# Let's also make our data less clean by making one of our categorical variables non-numeric.\n",
    "# Right now, \"sex\" is represented by 0 and 1 values. Let's change that to \"male\" and \"female\", \n",
    "# since that kind of string data type is a common feature of datasets.\n",
    "df_noisy[\"sex\"] = df_noisy[\"sex\"].map({0: 'male', 1: 'female'})\n",
    "\n",
    "# Display the first few rows of the noisy dataset\n",
    "print(\"\\nNoisy dataset:\")\n",
    "df_noisy.head()"
   ]
  },
  {
   "cell_type": "code",
   "execution_count": null,
   "id": "c1796d4f-3f1f-4f99-8693-68290dfa976c",
   "metadata": {},
   "outputs": [],
   "source": [
    "# Check for missing values\n",
    "print(\"\\nMissing values:\")\n",
    "print(df_noisy.isnull().sum())"
   ]
  },
  {
   "cell_type": "markdown",
   "id": "509b1f30-7a89-4931-a637-f04c1d479836",
   "metadata": {},
   "source": [
    "Suppose that our target variable is the \"DEATH_EVENT\" column, which indicates whether the patient died during the follow-up period. We will explore the data to understand the relationships between the features and the target variable."
   ]
  },
  {
   "cell_type": "code",
   "execution_count": null,
   "id": "3056a3e8-366f-4504-85d2-ca448e773188",
   "metadata": {},
   "outputs": [],
   "source": [
    "plt.figure(figsize=(4, 2))\n",
    "df_noisy['DEATH_EVENT'].value_counts().plot(kind='bar')\n",
    "plt.title('Distribution of Death Events')\n",
    "plt.xlabel('Death Event')\n",
    "plt.ylabel('Count')\n",
    "plt.xticks([0, 1], ['Survived', 'Died'])\n",
    "plt.show()\n",
    "\n",
    "print(\"Percentage of deaths:\", (df['DEATH_EVENT'].sum() / len(df)) * 100, \"%\")"
   ]
  },
  {
   "cell_type": "markdown",
   "id": "b3e65e04-45f4-4b94-bf89-8aec6189b315",
   "metadata": {},
   "source": [
    "Let's look at the age distribution across the dataset. While we're at it, let's break it down by our target variable, `DEATH_EVENT`."
   ]
  },
  {
   "cell_type": "code",
   "execution_count": null,
   "id": "f7b55766-6394-4558-9dc7-8e377181957f",
   "metadata": {},
   "outputs": [],
   "source": [
    "plt.figure(figsize=(6, 3))\n",
    "sns.histplot(data=df_noisy, x='age', hue='DEATH_EVENT', kde=True, multiple=\"stack\")\n",
    "plt.title('Age Distribution by Outcome')\n",
    "plt.xlabel('Age')\n",
    "plt.ylabel('Count')\n",
    "plt.show()\n",
    "\n",
    "print(\"Average age of survivors:\", df_noisy[df_noisy['DEATH_EVENT'] == 0]['age'].mean())\n",
    "print(\"Average age of non-survivors:\", df_noisy[df_noisy['DEATH_EVENT'] == 1]['age'].mean())"
   ]
  },
  {
   "cell_type": "markdown",
   "id": "cd98da1c-7d38-41e2-a628-272db781b915",
   "metadata": {},
   "source": [
    "Very frequently, a correlation heatmap is a good way to get a quick overview of the relationships between the features in the dataset. Note that this assumes that the features are all numeric. If you have categorical features, you will need to encode them as numbers before you can use a correlation heatmap."
   ]
  },
  {
   "cell_type": "code",
   "execution_count": null,
   "id": "dd6b78aa-21f4-446b-bbdb-163b19ebafb5",
   "metadata": {},
   "outputs": [],
   "source": [
    "plt.figure(figsize=(12, 9))\n",
    "sns.heatmap(df_noisy.corr(), annot=True, cmap='coolwarm', linewidths=0.5)\n",
    "plt.title('Correlation Heatmap')\n",
    "plt.show()"
   ]
  },
  {
   "cell_type": "markdown",
   "id": "3f4d82b2-6307-47b3-bc6f-b86682e72edb",
   "metadata": {},
   "source": [
    "You might want to look at scatterplots to see if you pick up on any patterns in the data (or verify that patterns you expect to be there are really there)."
   ]
  },
  {
   "cell_type": "code",
   "execution_count": null,
   "id": "4b4a1d84-8b47-4e21-9353-5d9fab44a38a",
   "metadata": {},
   "outputs": [],
   "source": [
    "plt.figure(figsize=(5, 3))\n",
    "sns.scatterplot(data=df_noisy, x='ejection_fraction', y='serum_creatinine', hue='DEATH_EVENT')\n",
    "plt.title('Ejection Fraction vs. Serum Creatinine')\n",
    "plt.xlabel('Ejection Fraction (%)')\n",
    "plt.ylabel('Serum Creatinine (mg/dL)')\n",
    "plt.show()"
   ]
  },
  {
   "cell_type": "markdown",
   "id": "6f5d5af4-f35b-43a0-94d9-8fba88179bf0",
   "metadata": {},
   "source": [
    "What! There are some datapoints that look like bad outliers, before we even check what they are. And in this case, they are percentages that are well above 100%. Something is definitely wrong with those datapoints."
   ]
  },
  {
   "cell_type": "markdown",
   "id": "099e3318-8cb4-4ff6-ae86-cd73da47ad44",
   "metadata": {},
   "source": [
    "## 4. Data Cleaning\n",
    "First we'll check for and handle outliers. We need to be thoughtful about this step! Every choice we make says something about how we expect the future data to look, and what we think is the reason why we have outliers in our data."
   ]
  },
  {
   "cell_type": "code",
   "execution_count": null,
   "id": "8fe4acdd-ccca-4225-9f6e-6d3d4365f0c5",
   "metadata": {},
   "outputs": [],
   "source": [
    "# Check for outliers using IQR method\n",
    "def detect_outliers(df, column):\n",
    "    Q1 = df[column].quantile(0.25)\n",
    "    Q3 = df[column].quantile(0.75)\n",
    "    IQR = Q3 - Q1\n",
    "    lower_bound = Q1 - 1.5 * IQR\n",
    "    upper_bound = Q3 + 1.5 * IQR\n",
    "    outliers = df_noisy[(df_noisy[column] < lower_bound) | (df_noisy[column] > upper_bound)]\n",
    "    return outliers\n",
    "\n",
    "# Example: Check outliers in 'serum_creatinine'\n",
    "creatinine_outliers = detect_outliers(df_noisy, 'serum_creatinine')\n",
    "print(\"Outliers in serum_creatinine:\")\n",
    "print(creatinine_outliers[['age', 'sex', 'serum_creatinine', 'DEATH_EVENT']])\n",
    "\n",
    "# Remove outliers (be cautious with this step in real-world scenarios!)\n",
    "df_cleaned = df_noisy[~df_noisy.index.isin(creatinine_outliers.index)]\n",
    "\n",
    "print(\"\\nDataset shape after cleaning:\", df_cleaned.shape)"
   ]
  },
  {
   "cell_type": "markdown",
   "id": "5075bb1e-426c-4d6a-89b8-971d0194ab40",
   "metadata": {},
   "source": [
    "Similarly, we must handle missing values in a way that is thoughtful about why the values might be missing. Are they missing at random? Are they missing because they are not applicable? Are they missing because they were never recorded? The answers to these questions will affect how we handle the missing values."
   ]
  },
  {
   "cell_type": "code",
   "execution_count": null,
   "id": "2af1463a-d438-4848-b6bb-f9303c74750c",
   "metadata": {},
   "outputs": [],
   "source": [
    "# Handle missing values\n",
    "\n",
    "# Fill missing values with the mean\n",
    "df_cleaned = df_cleaned.fillna(df_cleaned.mean())\n",
    "\n",
    "# Alternatively, fill missing values with the median\n",
    "# df_imputed = df_cleaned.fillna(df_cleaned.median())\n",
    "\n",
    "# Or we can fill missing values with the mode\n",
    "# df_imputed = df_cleaned.fillna(df_cleaned.mode().iloc[0])\n",
    "\n",
    "# We could also fit a machine learning model to predict missing values, but this is more complex and not always necessary.\n",
    "\n",
    "# Or, just drop the missing rows. Which strategy makes the most sense depends crucially on your particular problem! No one-size-fits-all solutions.\n",
    "\n",
    "# Check if there are any missing values left\n",
    "print(\"\\nMissing values after imputation:\")\n",
    "print(df_cleaned.isnull().sum())\n",
    "\n"
   ]
  },
  {
   "cell_type": "code",
   "execution_count": 16,
   "id": "8bf4d3f8-0c1f-4bc2-adc9-09e47d9ee6b9",
   "metadata": {},
   "outputs": [
    {
     "data": {
      "text/markdown": [
       "Describe a situation in which it would make more sense to drop rows with missing values, rather than fill them with the mean(/median/mode)."
      ],
      "text/plain": [
       "<IPython.core.display.Markdown object>"
      ]
     },
     "metadata": {},
     "output_type": "display_data"
    },
    {
     "data": {
      "application/vnd.jupyter.widget-view+json": {
       "model_id": "4319b78d06c54d3eb34ce81f53254dfb",
       "version_major": 2,
       "version_minor": 0
      },
      "text/plain": [
       "Text(value='', layout=Layout(width='500px'), placeholder='Type your answer here')"
      ]
     },
     "metadata": {},
     "output_type": "display_data"
    },
    {
     "data": {
      "application/vnd.jupyter.widget-view+json": {
       "model_id": "15c2ebe40e2f4deb8bcfc8f7a271b9de",
       "version_major": 2,
       "version_minor": 0
      },
      "text/plain": [
       "Button(button_style='success', description='Submit', style=ButtonStyle())"
      ]
     },
     "metadata": {},
     "output_type": "display_data"
    },
    {
     "data": {
      "application/vnd.jupyter.widget-view+json": {
       "model_id": "4ea9ba25e41b4d898e7df83b97e3f0a1",
       "version_major": 2,
       "version_minor": 0
      },
      "text/plain": [
       "Output()"
      ]
     },
     "metadata": {},
     "output_type": "display_data"
    }
   ],
   "source": [
    "create_answer_box(\"Describe a situation in which it would make more sense to drop rows with missing values, rather than fill them with the mean(/median/mode).\", \"05-02\")"
   ]
  },
  {
   "cell_type": "markdown",
   "id": "97c04bf9-e1c1-46a4-af57-e2c280cf4942",
   "metadata": {},
   "source": [
    "## 5. Feature Selection and Engineering\n",
    "\n",
    "Feature selection is the process of selecting a subset of relevant features for use in model training. Feature engineering is the process of creating new features from the existing features in the dataset. Both of these processes are crucial for building a successful machine learning model."
   ]
  },
  {
   "cell_type": "code",
   "execution_count": null,
   "id": "500145b5-f595-487a-a765-1bab2973ddc1",
   "metadata": {},
   "outputs": [],
   "source": [
    "# Create age groups\n",
    "df_cleaned['age_group'] = pd.cut(df_cleaned['age'], bins=[30, 50, 70, 100], labels=['Middle-aged', 'Senior', 'Elderly'])\n",
    "\n",
    "# Create a feature for multiple conditions\n",
    "df_cleaned['multiple_conditions'] = ((df_cleaned['diabetes'] + df_cleaned['high_blood_pressure'] + df_cleaned['sex'] + df_cleaned['smoking']) > 1).astype(int)\n",
    "\n",
    "# Log transform skewed features\n",
    "df_cleaned['log_creatinine'] = np.log1p(df_cleaned['creatinine_phosphokinase'])\n",
    "\n",
    "# Interaction terms\n",
    "df_cleaned['ef_creatinine_interaction'] = df_cleaned['ejection_fraction'] * df_cleaned['serum_creatinine']\n",
    "\n",
    "print(\"New features added:\")\n",
    "print(df_cleaned[['age_group', 'multiple_conditions', 'log_creatinine', 'ef_creatinine_interaction']].head())\n",
    "\n",
    "# Visualize the effect of a new feature\n",
    "plt.figure(figsize=(6,4))\n",
    "sns.boxplot(x='age_group', y='serum_creatinine', hue='DEATH_EVENT', data=df_cleaned)\n",
    "plt.title('Serum Creatinine by Age Group and Outcome')\n",
    "plt.show()"
   ]
  },
  {
   "cell_type": "markdown",
   "id": "bc336e98-bf7e-4930-995d-78f83b32ba0d",
   "metadata": {},
   "source": [
    "## 6. Encoding Categorical Variables\n",
    "\n",
    "Most machine learning algorithms require that the input data be in numerical format. If the dataset contains categorical variables, we need to encode them into numerical format. One issue to which to be particularly sensitive is whether it is appropriate to treat a categorical variable as ordinal or nominal. If it is ordinal, then we should encode it as such. If it is nominal, then we should use \"one-hot encoding\".\n",
    "\n",
    "For example, suppose that our \"age group\" column were the only information about age that we have. If we treat it as ordinal, then we are saying that the different age groups are ordered in some way. If we treat it as nominal, then we are saying that the different age groups are not ordered in any way. Which seems appropriate here?\n"
   ]
  },
  {
   "cell_type": "code",
   "execution_count": null,
   "id": "d8c22314-7ede-4a7c-996a-3f3e73440571",
   "metadata": {},
   "outputs": [],
   "source": [
    "# Encode the `age_group` feature\n",
    "df_encoded = df_cleaned.copy()\n",
    "df_encoded['age_group_ordinal'] = df_cleaned['age_group'].cat.codes\n",
    "\n",
    "# One-hot encode the `age_group` feature\n",
    "df_encoded = pd.get_dummies(df_encoded, columns=['age_group'], drop_first=False)\n",
    "\n",
    "df_encoded[[col for col in df_encoded.columns if 'age_group' in col]]\n"
   ]
  },
  {
   "cell_type": "markdown",
   "id": "095b47b3-8775-46d6-bd7f-16e6054f8390",
   "metadata": {},
   "source": [
    "Matters are simpler if a column has only two values, because then the column can be numerically encoded simply by converting it to a column of zeros and ones -- there is no difference between ordinal and nominal encodings here. Use the below code cell to verify that in this dataset, there are only two values of the column `sex`. Then, write a line of code that will replace the string categories with ones and zeros."
   ]
  },
  {
   "cell_type": "code",
   "execution_count": null,
   "id": "f7b46b45-cb49-4aad-9dcc-bd577eb780be",
   "metadata": {},
   "outputs": [],
   "source": [
    "# Check how many unique values there are in the `sex` column. You might want pandas' `.unique` method.\n",
    "\n",
    "\n",
    "# Write a line of code to replace the categories in the `sex` column with ones and zeros. There are many ways to do this!\n"
   ]
  },
  {
   "cell_type": "code",
   "execution_count": 17,
   "id": "953a2f6a-e4cb-450b-8f90-96b15b024663",
   "metadata": {},
   "outputs": [
    {
     "data": {
      "text/markdown": [
       "Please copy the line of code you used to convert the `sex` column to a numeric encoding."
      ],
      "text/plain": [
       "<IPython.core.display.Markdown object>"
      ]
     },
     "metadata": {},
     "output_type": "display_data"
    },
    {
     "data": {
      "application/vnd.jupyter.widget-view+json": {
       "model_id": "a246acf5f8864314b2497607d819767a",
       "version_major": 2,
       "version_minor": 0
      },
      "text/plain": [
       "Text(value='', layout=Layout(width='500px'), placeholder='Type your answer here')"
      ]
     },
     "metadata": {},
     "output_type": "display_data"
    },
    {
     "data": {
      "application/vnd.jupyter.widget-view+json": {
       "model_id": "09eaa1fd29654196aff892127d56e00b",
       "version_major": 2,
       "version_minor": 0
      },
      "text/plain": [
       "Button(button_style='success', description='Submit', style=ButtonStyle())"
      ]
     },
     "metadata": {},
     "output_type": "display_data"
    },
    {
     "data": {
      "application/vnd.jupyter.widget-view+json": {
       "model_id": "b218129484b64273a2919d4061e6fa61",
       "version_major": 2,
       "version_minor": 0
      },
      "text/plain": [
       "Output()"
      ]
     },
     "metadata": {},
     "output_type": "display_data"
    }
   ],
   "source": [
    "create_answer_box(\"Please copy the line of code you used to convert the `sex` column to a numeric encoding.\", \"05-03\")"
   ]
  },
  {
   "cell_type": "markdown",
   "id": "9e5465a9-0e7b-4e8b-8d0c-edbd9159fa15",
   "metadata": {},
   "source": [
    "## 7. Feature Scaling\n",
    "\n",
    "Feature scaling is the process of standardizing the range of independent variables or features of data. In data processing, it is also known as data normalization and is generally performed during the data preprocessing step. This is helpful for algorithms that rely on the magnitude of values, such as distance-based algorithms. Even when it doesn't help the algorithm, it rarely hurts."
   ]
  },
  {
   "cell_type": "code",
   "execution_count": null,
   "id": "b94ec819-dc9f-439c-89da-67c12a5755a9",
   "metadata": {},
   "outputs": [],
   "source": [
    "# Scale the numerical features\n",
    "from sklearn.preprocessing import StandardScaler\n",
    "\n",
    "scaler = StandardScaler()\n",
    "df_scaled = df_cleaned.copy()\n",
    "df_scaled[['age', 'creatinine_phosphokinase', 'ejection_fraction', 'platelets', 'serum_creatinine', 'serum_sodium', 'time', 'log_creatinine', 'ef_creatinine_interaction']] = scaler.fit_transform(df_encoded[['age', 'creatinine_phosphokinase', 'ejection_fraction', 'platelets', 'serum_creatinine', 'serum_sodium', 'time', 'log_creatinine', 'ef_creatinine_interaction']])\n",
    "df_scaled.head()"
   ]
  },
  {
   "cell_type": "markdown",
   "id": "3d919254-5081-41ee-9fc6-8e5f2834a634",
   "metadata": {},
   "source": [
    "## 8. Data Splitting\n",
    "\n",
    "On day 1 we discussed train/test splits and cross-validation. This is the final step of data preparation, and is often integrated into our model training/tuning process, especially when we are using cross-validation."
   ]
  }
 ],
 "metadata": {
  "kernelspec": {
   "display_name": "HPC_ML",
   "language": "python",
   "name": "hpc_ml"
  },
  "language_info": {
   "codemirror_mode": {
    "name": "ipython",
    "version": 3
   },
   "file_extension": ".py",
   "mimetype": "text/x-python",
   "name": "python",
   "nbconvert_exporter": "python",
   "pygments_lexer": "ipython3",
   "version": "3.11.10"
  }
 },
 "nbformat": 4,
 "nbformat_minor": 5
}
