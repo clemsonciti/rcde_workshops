{
 "cells": [
  {
   "cell_type": "markdown",
   "id": "e3365801-3238-40e2-98eb-ba48300db557",
   "metadata": {},
   "source": [
    "# TL;DR"
   ]
  },
  {
   "cell_type": "markdown",
   "id": "8bf6c079-e0fd-4dde-97ea-8c0dc6044f93",
   "metadata": {
    "tags": []
   },
   "source": [
    "## Installation"
   ]
  },
  {
   "cell_type": "markdown",
   "id": "ed2f2b64-8c2d-4994-8188-5c7610e1f1fe",
   "metadata": {},
   "source": [
    "Scikit-learn is included in the base conda environment available on Palmetto. Follow these instructions to install into your custom environment: https://scikit-learn.org/stable/install.html"
   ]
  },
  {
   "cell_type": "markdown",
   "id": "5e94e776-f46d-434f-b34d-f9f45913c35f",
   "metadata": {
    "tags": []
   },
   "source": [
    "## [Dataset](https://scikit-learn.org/stable/datasets/toy_dataset.html)"
   ]
  },
  {
   "cell_type": "code",
   "execution_count": 1,
   "id": "b370f0cf-60d0-41db-aa93-1469cddadf9f",
   "metadata": {},
   "outputs": [],
   "source": [
    "from sklearn import datasets\n",
    "digits = datasets.load_digits()"
   ]
  },
  {
   "cell_type": "code",
   "execution_count": 2,
   "id": "05ac6239-2564-413a-ab6b-84efd1a97c37",
   "metadata": {},
   "outputs": [
    {
     "data": {
      "text/plain": [
       "dict_keys(['data', 'target', 'frame', 'feature_names', 'target_names', 'images', 'DESCR'])"
      ]
     },
     "execution_count": 2,
     "metadata": {},
     "output_type": "execute_result"
    }
   ],
   "source": [
    "digits.keys()"
   ]
  },
  {
   "cell_type": "code",
   "execution_count": 3,
   "id": "d5268391-a992-4ace-a4d0-2ba3e3e448f7",
   "metadata": {},
   "outputs": [
    {
     "data": {
      "text/plain": [
       "((1797, 64), (1797,))"
      ]
     },
     "execution_count": 3,
     "metadata": {},
     "output_type": "execute_result"
    }
   ],
   "source": [
    "digits['data'].shape, digits['target'].shape"
   ]
  },
  {
   "cell_type": "code",
   "execution_count": 4,
   "id": "b98e51d7-4609-430d-9ee1-2f1bac9f6ca6",
   "metadata": {},
   "outputs": [],
   "source": [
    "X = digits['data']\n",
    "y = digits['target']"
   ]
  },
  {
   "cell_type": "markdown",
   "id": "c499cbaf-3071-4e3a-b3d6-bc353c5dcad4",
   "metadata": {},
   "source": [
    "We will see examples of real-world datasets later in the series. "
   ]
  },
  {
   "cell_type": "markdown",
   "id": "2f50b24e-9f78-4141-9b83-9c12390dc313",
   "metadata": {
    "tags": []
   },
   "source": [
    "## [Partition](https://scikit-learn.org/stable/modules/generated/sklearn.model_selection.train_test_split.html)"
   ]
  },
  {
   "cell_type": "code",
   "execution_count": 5,
   "id": "5faa3a2f-ca52-4d54-b741-be969a50792b",
   "metadata": {},
   "outputs": [],
   "source": [
    "from sklearn.model_selection import train_test_split\n",
    "X_train, X_test, y_train, y_test = train_test_split(X, y, test_size=0.2)"
   ]
  },
  {
   "cell_type": "code",
   "execution_count": 6,
   "id": "587717b7-2bbb-4ac0-91db-4221a6b89163",
   "metadata": {},
   "outputs": [
    {
     "data": {
      "text/plain": [
       "((1437, 64), (360, 64), (1437,), (360,))"
      ]
     },
     "execution_count": 6,
     "metadata": {},
     "output_type": "execute_result"
    }
   ],
   "source": [
    "X_train.shape, X_test.shape, y_train.shape, y_test.shape"
   ]
  },
  {
   "cell_type": "markdown",
   "id": "1e9b07bb-7a61-471d-887c-b7d97d9a724e",
   "metadata": {},
   "source": [
    "## _Session 1 Assignment: Choose a dataset_\n",
    "Before returning for Session 2 of the sklearn workshop, select a dataset that is suitable for machine learning. The dataset should have the following properties: \n",
    "* *tabular*: it should be a row-column dataset with numeric or categorical variables for columns. It should not be a text or image dataset.\n",
    "* *target and features*: it should have a well-defined target variable and feature variables\n",
    "* *size*: it should have at least a few hundred rows but less than 100,000 rows. \n",
    "\n",
    "Consider using a dataset from your research if possible. Otherwise, browse [kaggle datasets](https://www.kaggle.com/datasets?fileType=csv) for options. "
   ]
  },
  {
   "cell_type": "markdown",
   "id": "0aaded96-8d14-4710-861c-588cae188a8e",
   "metadata": {
    "tags": []
   },
   "source": [
    "## [Model Fitting](https://scikit-learn.org/stable/supervised_learning.html)"
   ]
  },
  {
   "cell_type": "code",
   "execution_count": 7,
   "id": "c8607c0f-6a85-47a9-8009-2ee620c70dc5",
   "metadata": {},
   "outputs": [
    {
     "data": {
      "text/plain": [
       "RandomForestClassifier()"
      ]
     },
     "execution_count": 7,
     "metadata": {},
     "output_type": "execute_result"
    }
   ],
   "source": [
    "from sklearn.ensemble import RandomForestClassifier\n",
    "clf = RandomForestClassifier()\n",
    "clf.fit(X_train, y_train)"
   ]
  },
  {
   "cell_type": "markdown",
   "id": "bc0eaff1-6943-4f0e-ae4c-0d8c11ba599c",
   "metadata": {
    "tags": []
   },
   "source": [
    "## Model Evaluation"
   ]
  },
  {
   "cell_type": "code",
   "execution_count": 8,
   "id": "355c9fad-1dc7-4c2f-a28f-f87405d65bfd",
   "metadata": {},
   "outputs": [
    {
     "name": "stdout",
     "output_type": "stream",
     "text": [
      "Train score: 1.0\n",
      "Test score: 0.9805555555555555\n"
     ]
    }
   ],
   "source": [
    "print(\"Train score:\", clf.score(X_train, y_train))\n",
    "print(\"Test score:\", clf.score(X_test, y_test))"
   ]
  },
  {
   "cell_type": "markdown",
   "id": "6e849468-f131-4926-b97e-ea4b213e6ee0",
   "metadata": {
    "tags": []
   },
   "source": [
    "## Inference"
   ]
  },
  {
   "cell_type": "code",
   "execution_count": 9,
   "id": "8b6f2303-9a53-4aea-8e3f-451e6206a54b",
   "metadata": {},
   "outputs": [
    {
     "name": "stdout",
     "output_type": "stream",
     "text": [
      "Predicted: [1]\n",
      "True: 1\n"
     ]
    }
   ],
   "source": [
    "# predict the class\n",
    "ix = 42\n",
    "print(\"Predicted:\", clf.predict(X_test[[ix]]))\n",
    "print(\"True:\", y_test[ix])"
   ]
  },
  {
   "cell_type": "code",
   "execution_count": 10,
   "id": "6012b909-5fdd-4f32-9f1a-3888955ec1b3",
   "metadata": {},
   "outputs": [
    {
     "data": {
      "text/plain": [
       "array([[0.  , 0.83, 0.05, 0.02, 0.  , 0.01, 0.  , 0.  , 0.09, 0.  ]])"
      ]
     },
     "execution_count": 10,
     "metadata": {},
     "output_type": "execute_result"
    }
   ],
   "source": [
    "# class probabilities\n",
    "clf.predict_proba(X_test[[ix]])"
   ]
  }
 ],
 "metadata": {
  "kernelspec": {
   "display_name": "Python 3 (ipykernel)",
   "language": "python",
   "name": "python3"
  },
  "language_info": {
   "codemirror_mode": {
    "name": "ipython",
    "version": 3
   },
   "file_extension": ".py",
   "mimetype": "text/x-python",
   "name": "python",
   "nbconvert_exporter": "python",
   "pygments_lexer": "ipython3",
   "version": "3.9.12"
  }
 },
 "nbformat": 4,
 "nbformat_minor": 5
}
