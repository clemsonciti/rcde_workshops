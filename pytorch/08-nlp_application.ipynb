{
 "cells": [
  {
   "cell_type": "markdown",
   "metadata": {},
   "source": [
    "# Intro to Natural Language Processing\n",
    "Welcome to NLP. NLP aims to enable computers to understand, interpret, and generate human language in a way that is both meaningful and useful.\n",
    "Applications of NLP range from sentiment analysis, machine translation, chatbots, speech recognition, text summarization, and information retrieval.\n",
    "In this notebook, we'll dive into the world of text analysis.\n",
    "We will explore ways to extract meaning from text, and build a model that can classify newsgroups post into their respective topics.\n",
    "We'll be using a simplistic technique called Bag of Words,\n",
    "which involves representing text as numerical vectors of words represented their frequency and index."
   ]
  },
  {
   "cell_type": "markdown",
   "metadata": {},
   "source": [
    "# Data\n",
    "To start off let's get some data. The dataset we are going to use is the 20 newsgroups dataset from `scikit-learn`.\n",
    "The dataset comprises around 18000 newsgroups posts on 20 topics."
   ]
  },
  {
   "cell_type": "code",
   "execution_count": null,
   "metadata": {
    "collapsed": false,
    "jupyter": {
     "outputs_hidden": false
    }
   },
   "outputs": [],
   "source": [
    "from sklearn.datasets import fetch_20newsgroups\n",
    "\n",
    "news_dataset = fetch_20newsgroups(data_home='./')"
   ]
  },
  {
   "cell_type": "code",
   "execution_count": null,
   "metadata": {
    "collapsed": false,
    "jupyter": {
     "outputs_hidden": false
    }
   },
   "outputs": [],
   "source": [
    "import pandas as pd\n",
    "\n",
    "# make a pandas dataframe out of the dataset\n",
    "df = pd.DataFrame({\n",
    "    'text': news_dataset.data,\n",
    "    'label_number': news_dataset.target,\n",
    "    'label_name': news_dataset.filenames\n",
    "})\n",
    "\n",
    "# df = df[:1000]\n",
    "\n",
    "#  Let's see what's in it\n",
    "df.head(5)"
   ]
  },
  {
   "cell_type": "markdown",
   "metadata": {},
   "source": [
    "# Preprocessing Data\n",
    "In order to get usable data, we must transform the data to be suitable for analysis.\n",
    "We'll be using some regular expression to clean out unwanted strings and\n",
    "the `CountVectorizer` from scikit-learn to transform the collection of text\n",
    " into a matrix of token counts where each row represents a document and\n",
    "  each column represents a unique word in the document collection.\n",
    "  Let's see it in action."
   ]
  },
  {
   "cell_type": "code",
   "execution_count": null,
   "metadata": {
    "collapsed": false,
    "jupyter": {
     "outputs_hidden": false
    }
   },
   "outputs": [],
   "source": [
    "import re\n",
    "from pprint import pprint\n",
    "\n",
    "def clean_df(df: pd.DataFrame):\n",
    "    # The regex matches HTML-like tags (e.g., <tag />), \n",
    "    # non-word characters (excluding spaces and apostrophes), digits, and underscores\n",
    "    regex = re.compile('<\\\\w+ /?>|[^\\\\w \\']|\\\\d|_')\n",
    "    \n",
    "    # Replace the matched substrings with a space and re-assign the result\n",
    "    df['text'] = df['text'].replace(regex, ' ', regex=True)\n",
    "\n",
    "    def extract_label_name(text: str):\n",
    "        # The regex matches the path to the file and extracts the 3rd directory\n",
    "        match = re.match(r'\\./(.+)\\\\(.+)\\\\(.+)\\\\(.+)', text)\n",
    "        return match.group(3) if match else text\n",
    "\n",
    "    # extract label_name\n",
    "    df['label_name'] = df.label_name.apply(extract_label_name)\n",
    "\n",
    "    return df\n",
    "\n",
    "# before\n",
    "pprint(df.iloc[0]['text'])\n",
    "\n",
    "clean_df(df)\n",
    "\n",
    "# after\n",
    "pprint(df.iloc[0]['text'])"
   ]
  },
  {
   "cell_type": "code",
   "execution_count": null,
   "metadata": {
    "collapsed": false,
    "jupyter": {
     "outputs_hidden": false
    }
   },
   "outputs": [],
   "source": [
    "df.head()"
   ]
  },
  {
   "cell_type": "code",
   "execution_count": null,
   "metadata": {
    "collapsed": false,
    "jupyter": {
     "outputs_hidden": false
    }
   },
   "outputs": [],
   "source": [
    "from sklearn.feature_extraction.text import CountVectorizer\n",
    "\n",
    "# stop_words='english' removes common English words like \"a\" or \"the' from the text\n",
    "vectorizer = CountVectorizer(stop_words='english', lowercase=True, max_df=.5, min_df=10)\n",
    "bag_of_words = vectorizer.fit_transform(df['text'])"
   ]
  },
  {
   "cell_type": "code",
   "execution_count": null,
   "metadata": {},
   "outputs": [],
   "source": [
    "df.shape"
   ]
  },
  {
   "cell_type": "code",
   "execution_count": null,
   "metadata": {
    "collapsed": false,
    "jupyter": {
     "outputs_hidden": false
    }
   },
   "outputs": [],
   "source": [
    "bag_of_words"
   ]
  },
  {
   "cell_type": "code",
   "execution_count": null,
   "metadata": {
    "collapsed": false,
    "jupyter": {
     "outputs_hidden": false
    }
   },
   "outputs": [],
   "source": [
    "# see some of the tokens it collected\n",
    "vectorizer.get_feature_names_out()"
   ]
  },
  {
   "cell_type": "markdown",
   "metadata": {},
   "source": [
    "# Dataset\n",
    "\n",
    "Now let's use the cleaned `Dataframe` to make a pytorch `Dataset` so that we can manage and load data into our model later.\n"
   ]
  },
  {
   "cell_type": "code",
   "execution_count": null,
   "metadata": {
    "collapsed": false,
    "jupyter": {
     "outputs_hidden": false
    }
   },
   "outputs": [],
   "source": [
    "import torch\n",
    "import numpy as np\n",
    "from torch.utils.data import Dataset\n",
    "\n",
    "class NewsGroupsDataset(Dataset):\n",
    "\n",
    "    def __init__(self, df: pd.DataFrame):\n",
    "        self.df = df\n",
    "        self.vectorizer = CountVectorizer(stop_words='english', lowercase=True, max_df=.5, min_df=10)\n",
    "\n",
    "        # fit vectorizer\n",
    "        self.bag_of_words = self.vectorizer.fit_transform(self.df['text'])\n",
    "\n",
    "    def __getitem__(self, index: int):\n",
    "        # note: CrossEntropyLoss requires the datatype to be floats\n",
    "\n",
    "        # converting bag-of-words representation into numpy array\n",
    "        X = self.bag_of_words[index].toarray().squeeze().astype(np.float32)\n",
    "\n",
    "        # one-hot encoded vector representing the target data\n",
    "        # Y = [0.0] * len(self.classes)\n",
    "        # Y[self.df.iloc[index]['label_number']] = 1.0\n",
    "        # Y = torch.tensor(Y)\n",
    "        Y = self.df.iloc[index]['label_number']\n",
    "\n",
    "        return X, Y\n",
    "\n",
    "    def __len__(self):\n",
    "        return len(self.df)\n",
    "\n",
    "    @property\n",
    "    def classes(self):\n",
    "        return fetch_20newsgroups(data_home='./').target_names\n",
    "\n",
    "    @property\n",
    "    def vocab_size(self):\n",
    "        return len(self.vectorizer.get_feature_names_out())"
   ]
  },
  {
   "cell_type": "code",
   "execution_count": null,
   "metadata": {
    "collapsed": false,
    "jupyter": {
     "outputs_hidden": false
    }
   },
   "outputs": [],
   "source": [
    "dataset = NewsGroupsDataset(df)\n",
    "dataset[0]"
   ]
  },
  {
   "cell_type": "markdown",
   "metadata": {},
   "source": [
    "# Hyper parameters\n",
    "Set some hyper parameters for our model"
   ]
  },
  {
   "cell_type": "code",
   "execution_count": null,
   "metadata": {
    "collapsed": false,
    "jupyter": {
     "outputs_hidden": false
    }
   },
   "outputs": [],
   "source": [
    "import os\n",
    "\n",
    "epochs = 10\n",
    "batch_size = 128\n",
    "lr = 1e-3\n",
    "num_workers = 10"
   ]
  },
  {
   "cell_type": "markdown",
   "metadata": {},
   "source": [
    "# Model\n",
    "Next, let's make the model. We'll make a super simple linear regression model using `pytorch_lightning`.\n",
    "For those that are unfamiliar with the library, PyTorch Lightning is a lightweight and flexible PyTorch wrapper\n",
    "that allows you to focus on the high-level structure of your deep learning models rather than the low-level details of PyTorch.\n",
    "\n",
    "Here are a list of basic things we will need in pytorch lightning model to get started.\n",
    "1) the forward function\n",
    "2) training_step and validation_step\n",
    "4) configure_optimizers\n",
    "5) train_dataloader and val_dataloader"
   ]
  },
  {
   "cell_type": "code",
   "execution_count": null,
   "metadata": {
    "collapsed": false,
    "jupyter": {
     "outputs_hidden": false
    }
   },
   "outputs": [],
   "source": [
    "from torch import nn\n",
    "from torch.utils.data import SubsetRandomSampler\n",
    "from torch.utils.data import DataLoader\n",
    "import pytorch_lightning as pl\n",
    "import torchmetrics\n",
    "\n",
    "class LitModel(pl.LightningModule):\n",
    "    def __init__(self, in_features: int, out_features: int, hidden_units=16, *, dataset=dataset):\n",
    "        super().__init__()\n",
    "        self.dataset = dataset\n",
    "        self.loss_fn = nn.CrossEntropyLoss()\n",
    "        self.metric = torchmetrics.Accuracy(task='multiclass', num_classes=len(self.dataset.classes))\n",
    "\n",
    "        self.in_features = in_features\n",
    "        self.out_features = out_features\n",
    "        self.hidden_units = hidden_units\n",
    "\n",
    "        # setting up samplers to split data for training and evaluation\n",
    "        dataset_indices = list(range(len(self.dataset)))\n",
    "        np.random.shuffle(dataset_indices)\n",
    "        split_index = int(np.floor(0.2 * len(self.dataset)))\n",
    "        train_indices, val_indices = dataset_indices[split_index:], dataset_indices[:split_index]\n",
    "        self.train_sampler = SubsetRandomSampler(train_indices)\n",
    "        self.val_sampler = SubsetRandomSampler(val_indices)\n",
    "\n",
    "        # layers\n",
    "        self.layer = nn.Sequential(\n",
    "            nn.Identity()\n",
    "            #nn.Linear(self.in_features, self.hidden_units),\n",
    "        )\n",
    "        self.fc = nn.Sequential(\n",
    "            nn.LazyLinear(self.out_features),\n",
    "        )\n",
    "\n",
    "    def forward(self, X: torch.Tensor):\n",
    "        outputs = self.layer(X)\n",
    "        return self.fc(outputs)\n",
    "\n",
    "    def training_step(self, batch: torch.Tensor, index: int):\n",
    "        x, y = batch\n",
    "        # forward pass\n",
    "        output = self(x)\n",
    "        # calculate loss\n",
    "        loss = self.loss_fn(output, y)\n",
    "        # log data to a logger\n",
    "        self.log('train_loss', loss.item(), on_step=True, sync_dist=True)\n",
    "        return loss\n",
    "\n",
    "    def validation_step(self, batch: torch.Tensor, index: int):\n",
    "        x, y = batch\n",
    "        # forward pass\n",
    "        output = self(x)\n",
    "        # calculate loss\n",
    "        loss = self.loss_fn(output, y)\n",
    "\n",
    "        accuracy = self.metric(torch.argmax(output, dim=-1), y).item()\n",
    "\n",
    "        # log data to a logger\n",
    "        self.log('val_loss', loss.item(), on_step=True, sync_dist=True)\n",
    "        self.log('accuracy', accuracy, on_epoch=True, sync_dist=True)\n",
    "        return loss\n",
    "\n",
    "    def configure_optimizers(self):\n",
    "        return torch.optim.Adam(self.parameters(), lr=lr)\n",
    "\n",
    "    def train_dataloader(self):\n",
    "        train_loader = DataLoader(\n",
    "            dataset=dataset,\n",
    "            batch_size=batch_size,\n",
    "            sampler=self.train_sampler,\n",
    "            num_workers=num_workers\n",
    "        )\n",
    "        return train_loader\n",
    "\n",
    "    def val_dataloader(self):\n",
    "        val_loader = DataLoader(\n",
    "            dataset=dataset,\n",
    "            batch_size=batch_size,\n",
    "            sampler=self.val_sampler,\n",
    "            num_workers=num_workers\n",
    "        )\n",
    "        return val_loader"
   ]
  },
  {
   "cell_type": "code",
   "execution_count": null,
   "metadata": {
    "collapsed": false,
    "jupyter": {
     "outputs_hidden": false
    }
   },
   "outputs": [],
   "source": [
    "model = LitModel(\n",
    "    in_features=dataset.vocab_size,\n",
    "    out_features=len(dataset.classes),\n",
    "    hidden_units=32,\n",
    "    dataset=dataset\n",
    ")"
   ]
  },
  {
   "cell_type": "markdown",
   "metadata": {},
   "source": [
    "# Trainer\n",
    "To train our model, we'll need a `Trainer`.\n",
    "The `Trainer` is a high-level module that provides a simple and consistent interface for training, validation, and testing your PyTorch models.\n",
    "We'll also want to log our data with a logger. You will need a Wandb account to view you're logs."
   ]
  },
  {
   "cell_type": "code",
   "execution_count": null,
   "metadata": {
    "collapsed": false,
    "jupyter": {
     "outputs_hidden": false
    },
    "pycharm": {
     "is_executing": true
    }
   },
   "outputs": [],
   "source": [
    "from pytorch_lightning.loggers import WandbLogger\n",
    "from pytorch_lightning import Trainer\n",
    "\n",
    "logger = WandbLogger(project='lightning_logs')\n",
    "trainer = Trainer(max_epochs=epochs, logger=logger, log_every_n_steps=1)"
   ]
  },
  {
   "cell_type": "code",
   "execution_count": null,
   "metadata": {
    "collapsed": false,
    "jupyter": {
     "outputs_hidden": false
    },
    "pycharm": {
     "is_executing": true
    }
   },
   "outputs": [],
   "source": [
    "trainer.fit(model)"
   ]
  },
  {
   "cell_type": "code",
   "execution_count": null,
   "metadata": {
    "collapsed": false,
    "jupyter": {
     "outputs_hidden": false
    },
    "pycharm": {
     "is_executing": true
    }
   },
   "outputs": [],
   "source": [
    "logger.experiment.finish()"
   ]
  },
  {
   "cell_type": "markdown",
   "metadata": {},
   "source": [
    "# Improvement\n",
    "There are ways to improve a model. One way is to try different model architectures.\n",
    "Let's start by introducing non-linearity with the `ReLU` activation function."
   ]
  },
  {
   "cell_type": "code",
   "execution_count": null,
   "metadata": {
    "collapsed": false,
    "jupyter": {
     "outputs_hidden": false
    }
   },
   "outputs": [],
   "source": [
    "model = LitModel(\n",
    "    in_features=dataset.vocab_size,\n",
    "    out_features=len(dataset.classes),\n",
    "    hidden_units=32,\n",
    "    dataset=dataset\n",
    ")\n",
    "model.layer = nn.Sequential(\n",
    "    nn.Linear(model.in_features, model.hidden_units),\n",
    "    nn.ReLU(),\n",
    ")"
   ]
  },
  {
   "cell_type": "code",
   "execution_count": null,
   "metadata": {
    "collapsed": false,
    "jupyter": {
     "outputs_hidden": false
    }
   },
   "outputs": [],
   "source": [
    "logger = WandbLogger(name='experiment2', project='lightning_logs')\n",
    "trainer = Trainer(max_epochs=epochs, logger=logger, log_every_n_steps=1)"
   ]
  },
  {
   "cell_type": "code",
   "execution_count": null,
   "metadata": {
    "collapsed": false,
    "jupyter": {
     "outputs_hidden": false
    }
   },
   "outputs": [],
   "source": [
    "trainer.fit(model)"
   ]
  },
  {
   "cell_type": "code",
   "execution_count": null,
   "metadata": {
    "collapsed": false,
    "jupyter": {
     "outputs_hidden": false
    }
   },
   "outputs": [],
   "source": [
    "logger.experiment.finish()"
   ]
  },
  {
   "cell_type": "markdown",
   "metadata": {},
   "source": [
    "Did it improve?\n",
    "Try adding regularization with `Dropout`."
   ]
  },
  {
   "cell_type": "code",
   "execution_count": null,
   "metadata": {
    "collapsed": false,
    "jupyter": {
     "outputs_hidden": false
    }
   },
   "outputs": [],
   "source": [
    "model = LitModel(\n",
    "    in_features=dataset.vocab_size,\n",
    "    out_features=len(dataset.classes),\n",
    "    hidden_units=32,\n",
    "    dataset=dataset\n",
    ")\n",
    "model.layer = nn.Sequential(\n",
    "    nn.Linear(model.in_features, model.hidden_units),\n",
    "    nn.ReLU(),\n",
    "    nn.Dropout(.2),\n",
    ")"
   ]
  },
  {
   "cell_type": "code",
   "execution_count": null,
   "metadata": {
    "collapsed": false,
    "jupyter": {
     "outputs_hidden": false
    },
    "pycharm": {
     "is_executing": true
    }
   },
   "outputs": [],
   "source": [
    "logger = WandbLogger(name='experiment2', project='lightning_logs')\n",
    "trainer = Trainer(max_epochs=epochs, logger=logger, log_every_n_steps=1)"
   ]
  },
  {
   "cell_type": "code",
   "execution_count": null,
   "metadata": {
    "collapsed": false,
    "jupyter": {
     "outputs_hidden": false
    }
   },
   "outputs": [],
   "source": [
    "trainer.fit(model)"
   ]
  },
  {
   "cell_type": "code",
   "execution_count": null,
   "metadata": {
    "collapsed": false,
    "jupyter": {
     "outputs_hidden": false
    }
   },
   "outputs": [],
   "source": [
    "logger.experiment.finish()"
   ]
  },
  {
   "cell_type": "markdown",
   "metadata": {},
   "source": []
  },
  {
   "cell_type": "markdown",
   "metadata": {},
   "source": [
    "# Conclusion\n",
    "Machine learning requires lots of experimenting.\n",
    "It often requires trying out different models, hyperparameters, and preprocessing techniques to achieve optimal results.\n",
    "This is only the start of NLP. Throughout the workshop you may find other approaches to this problem."
   ]
  }
 ],
 "metadata": {
  "kernelspec": {
   "display_name": "Pytorch Workshop",
   "language": "python",
   "name": "pytorchworkshop"
  },
  "language_info": {
   "codemirror_mode": {
    "name": "ipython",
    "version": 3
   },
   "file_extension": ".py",
   "mimetype": "text/x-python",
   "name": "python",
   "nbconvert_exporter": "python",
   "pygments_lexer": "ipython3",
   "version": "3.11.10"
  }
 },
 "nbformat": 4,
 "nbformat_minor": 4
}
