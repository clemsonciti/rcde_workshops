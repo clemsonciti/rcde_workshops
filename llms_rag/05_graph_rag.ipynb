{
 "cells": [
  {
   "cell_type": "markdown",
   "metadata": {},
   "source": [
    "## Learning Goals\n",
    "\n",
    "- Describe what a knowledge graph is and why it helps retrieval.\n- Construct a tiny research graph (Authors–Papers–Topics) and query it.\n- Use graph results to narrow retrieval context before generation.\n- Identify scenarios where graph-augmented RAG is worthwhile.\n"
   ]
  },
  {
   "cell_type": "markdown",
   "metadata": {},
   "source": [
    "### Dataset: Demo Corpus\n",
    "\n",
    "We will use a tiny mixed-domain corpus (AI, Climate, Biomedical, Materials) stored in `data/demo_corpus.jsonl`.\n"
   ]
  },
  {
   "cell_type": "code",
   "metadata": {},
   "execution_count": null,
   "outputs": [],
   "source": "from pathlib import Path\nimport pandas as pd\n\nDATA_PATH = 'data/demo_corpus.jsonl'\ndf = pd.read_json(DATA_PATH, lines=True)\ndocs = df.to_dict('records')\nprint(f'Loaded {len(docs)} docs from {DATA_PATH}')\ndisplay(df[['id','title','year','topics']].head())\n"
  },
  {
   "cell_type": "markdown",
   "id": "mod5-title",
   "metadata": {},
   "source": [
    "# Module 5: Graph RAG\n",
    "\n",
    "*Part of the RCD Workshops series: Retrieval-Augmented Generation (RAG) for Advanced Research Applications*\n",
    "\n",
    "---\n",
    "\n",
    "So far, retrieval found text snippets. What if your knowledge isn't just documents—but a **knowledge graph**?\n"
   ]
  },
  {
   "cell_type": "markdown",
   "id": "mod5-basics",
   "metadata": {},
   "source": [
    "## What is Graph RAG?\n",
    "A **knowledge graph (KG)** organizes data as entities (nodes) and relationships (edges): facts like (Subject —relation→ Object).\n",
    "Graphs let you represent links across topics and discover answers even when no single document states them directly.\n",
    "\n",
    "> **Diagram placeholder:** Network visualization of a small knowledge graph: researchers, papers, citations."
   ]
  },
  {
   "cell_type": "markdown",
   "id": "mod5-why-graph",
   "metadata": {},
   "source": [
    "### 5.1 Why Knowledge Graphs?\n",
    "- **Multi-hop answers**: Answer questions that require tracing connections (e.g., \"Which startups were founded by former Google employees?\").\n",
    "- **Structured queries (SPARQL, Cypher)**: Let LLMs generate graph queries from user input.\n",
    "- **Context beyond text**: Some info is implicit and scattered across documents, but explicit in the graph."
   ]
  },
  {
   "cell_type": "markdown",
   "id": "mod5-approaches",
   "metadata": {},
   "source": [
    "### 5.2 Approaches\n",
    "1. **Vector-based retrieval over nodes/edges:** Treat node/edge texts as documents; embed and run semantic search (baseline RAG, but on graph content).\n",
    "2. **Prompt-to-Graph Query:** Use the LLM to translate the user’s question to a graph query (e.g. SPARQL/Cypher), then fetch subgraph to answer.\n",
    "3. **Hybrid:** Use vectors to find graph entities, then expand by graph traversal."
   ]
  },
  {
   "cell_type": "markdown",
   "id": "mod5-demo-desc",
   "metadata": {},
   "source": [
    "### 5.3 Hands-on Demo: Building/Querying a Knowledge Graph\n",
    "Let’s use NetworkX to create and query a tiny toy KG."
   ]
  },
  {
   "cell_type": "code",
   "execution_count": null,
   "id": "mod5-demo-code",
   "metadata": {},
   "outputs": [],
   "source": [
    "import networkx as nx\n",
    "# Create our mini research collaboration graph\n",
    "G = nx.DiGraph()\n",
    "G.add_node('Alice', type='Researcher')\n",
    "G.add_node('Bob', type='Researcher')\n",
    "G.add_node('Paper1', type='Paper', title='On Climate Economics')\n",
    "G.add_node('Paper2', type='Paper', title='Advances in Climate Modeling')\n",
    "G.add_edge('Alice', 'Paper1', relation='authored')\n",
    "G.add_edge('Bob', 'Paper2', relation='authored')\n",
    "G.add_edge('Paper2', 'Paper1', relation='cites')\n",
    "print('Nodes:', G.nodes(data=True))\n",
    "print('Edges:', G.edges(data=True))\n"
   ]
  },
  {
   "cell_type": "markdown",
   "id": "mod5-query-desc",
   "metadata": {},
   "source": [
    "- **Example query:** \"Who has their work cited by Bob?\"\n",
    "Let's traverse the graph to answer."
   ]
  },
  {
   "cell_type": "code",
   "execution_count": null,
   "id": "mod5-query-logic",
   "metadata": {},
   "outputs": [],
   "source": [
    "authors_cited_by_bob = set()\n",
    "for _, paper, data in G.out_edges('Bob', data=True):\n",
    "    if data.get('relation') == 'authored':\n",
    "        for _, cited_paper, cdata in G.out_edges(paper, data=True):\n",
    "            if cdata.get('relation') == 'cites':\n",
    "                for author, _, adata in G.in_edges(cited_paper, data=True):\n",
    "                    if adata.get('relation') == 'authored':\n",
    "                        authors_cited_by_bob.add(author)\n",
    "print(\"Researchers who have their work cited by Bob's paper(s):\", authors_cited_by_bob)\n"
   ]
  },
  {
   "cell_type": "markdown",
   "id": "mod5-linearize",
   "metadata": {},
   "source": [
    "### 5.4 Integrating Graphs with an LLM\n",
    "- **Linearize the subgraph:** Convert facts to sentences and give as context (e.g. \"Bob authored Paper2. Paper2 cites Paper1. Alice authored Paper1.\").\n",
    "- **Embed graph context as text:** Each triple can be a sentence embedded with the query.\n",
    "- **LLM as a reasoner:** Some advanced agents let the LLM interactively traverse a graph (multi-hop reasoning loop)—beyond scope for now."
   ]
  },
  {
   "cell_type": "markdown",
   "id": "mod5-applications",
   "metadata": {},
   "source": [
    "#### Applications\n",
    "- Science: concept/citation networks for tracing idea influence.\n",
    "- Medicine: biomedical KGs link genes, proteins, drugs, diseases.\n",
    "- Enterprise: org charts, policy graphs, etc.\n"
   ]
  },
  {
   "cell_type": "markdown",
   "id": "mod5-reflection-explain",
   "metadata": {},
   "source": [
    "### Reflection\n",
    "In what kinds of research would a graph-based RAG be most beneficial compared to text-only retrieval?"
   ]
  },
  {
   "cell_type": "code",
   "execution_count": null,
   "id": "mod5-answer-box",
   "metadata": {},
   "outputs": [],
   "source": [
    "from utils import create_answer_box\n",
    "create_answer_box('📝 **Your Answer:** Graph RAG would be most useful for ...', question_id='mod5_graph_rag_application')"
   ]
  }
 ],
 "metadata": {
  "kernelspec": {
   "display_name": "PytorchWorkshop",
   "language": "python",
   "name": "pytorchworkshop"
  },
  "language_info": {
   "codemirror_mode": {
    "name": "ipython",
    "version": 3
   },
   "file_extension": ".py",
   "mimetype": "text/x-python",
   "name": "python",
   "nbconvert_exporter": "python",
   "pygments_lexer": "ipython3",
   "version": "3.11.11"
  }
 },
 "nbformat": 4,
 "nbformat_minor": 5
}