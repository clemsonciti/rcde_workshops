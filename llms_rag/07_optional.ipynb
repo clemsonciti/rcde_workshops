{
 "cells": [
      {
        "cell_type": "markdown",
        "id": "opt-citation-title",
        "metadata": {},
        "source": [
          "# Optional Advanced: Citation Management and Verification in RAG\n",
          "\n",
          "For research, it’s not enough for the LLM to generate plausible answers—we need verifiable sourcing. Reliable citation is **crucial for trust**."
        ]
      },
      {
        "cell_type": "markdown",
        "id": "opt-citation-prompting",
        "metadata": {},
        "source": [
          "### 1. Getting the Model to Cite Sources\n",
          "- Format the prompt to enumerate the retrieved documents (e.g. `[1]`, `[2]`, ...).\n",
          "- Ask the LLM: *\"Answer the question and cite the source by number for each claim.\"*\n",
          "- Some models (including Qwen, Llama-2-Chat, etc.) will try to comply if prompted clearly.\n",
          "\n",
          "```text\n",
          "Prompt Example:\n",
          "You have these sources:\n",
          "[1] Lecanemab Phase 3 trial... \n",
          "[2] 2024 review paper comparing Alzheimer drugs...\n",
          "Question: What are the side effects of lecanemab? Cite your answer with [1], [2], etc.\n",
          "```\n"
        ]
      },
      {
        "cell_type": "markdown",
        "id": "opt-citation-warning",
        "metadata": {},
        "source": [
          "### 2. Citation Hallucination: A Serious Risk\n",
          "- LLMs may **make up** citations. For instance, they might put \"[1]\" on the wrong fact, or invent a plausible but non-existent reference.\n",
          "- They may quote/paraphrase in a way the original source doesn't match exactly—requiring careful checking."
        ]
      },
      {
        "cell_type": "markdown",
        "id": "opt-citation-verification",
        "metadata": {},
        "source": [
          "### 3. Techniques to Verify Citations\n",
          "- **String matching:** Search the cited document for the exact phrase/claim the LLM produced.\n",
          "- **Fuzzy matching:** Use similarity scoring (e.g., Levenshtein distance, `difflib.SequenceMatcher`, or `fuzzball`) to see if a paraphrased fact from the LLM is present in the cited source.\n",
          "- **Automated routines vs. manual spot-checks:** For high-stakes answers (theses, law, medicine), *manual verification* is needed. In informal or exploratory contexts, automated routines help scale the process."
        ]
      },
      {
        "cell_type": "code",
        "execution_count": null,
        "id": "opt-citation-fuzzy-example",
        "metadata": {},
        "outputs": [],
        "source": [
          "# Example: Fuzzy matching of LLM answer to cited document\n",
          "import difflib\n",
          "llm_claim = \"about 12% of lecanemab patients experienced ARIA-E (brain swelling)\"\n",
          "source_text = \"In the Phase 3 trial, ARIA-E occurred in 12.6% of patients treated with lecanemab. ARIA-E refers to amyloid-related imaging abnormalities, i.e., brain swelling.\"\n",
          "\n",
          "sm = difflib.SequenceMatcher(None, llm_claim.lower(), source_text.lower())\n",
          "print(f\"Match score: {sm.ratio()*100:.1f}%\") # >0.8 is typically a strong match (i.e., verifiable citation)\n"
        ]
      },
      {
        "cell_type": "markdown",
        "id": "opt-citation-conclusion",
        "metadata": {},
        "source": [
          "> **Summary:**\n",
          "Robust research RAG systems use prompts that **require** citation, and they check those citations (at least by string/fuzzy match) to flag possible hallucination.\n",
          "- In future sessions: we could explore how to programmatically enforce or automate even more robust citation pipelines!"
        ]
      },
      {
        "cell_type": "markdown",
        "id": "opt-citation-reflection",
        "metadata": {},
        "source": [
          "### Reflection\n",
          "How would ensuring reliable citations change your *trust* in using LLM-powered assistants for research? Do you see yourself using a RAG system for serious work if citation verification is robust?"
        ]
      },
      {
        "cell_type": "code",
        "execution_count": null,
        "id": "opt-citation-answerbox",
        "metadata": {},
        "outputs": [],
        "source": [
          "from utils import create_answer_box\n",
          "create_answer_box('📝 **Your Answer:** Verifiable citation would matter to me because ...', question_id='opt_citation_importance')"
        ]
      }
    ],
 "metadata": {
  "kernelspec": {
   "display_name": "PytorchWorkshop",
   "language": "python",
   "name": "pytorchworkshop"
  },
  "language_info": {
   "codemirror_mode": {
    "name": "ipython",
    "version": 3
   },
   "file_extension": ".py",
   "mimetype": "text/x-python",
   "name": "python",
   "nbconvert_exporter": "python",
   "pygments_lexer": "ipython3",
   "version": "3.11.11"
  }
 },
 "nbformat": 4,
 "nbformat_minor": 5
}
