{
 "cells": [
  {
   "cell_type": "markdown",
   "id": "9dc169f0-f392-4f63-bffd-09ec772280e1",
   "metadata": {},
   "source": [
    "# Introduction to Polars\n",
    "Useful links:\n",
    "Getting Started: https://docs.pola.rs/user-guide/getting-started/\n",
    "\n",
    "Migrating from Pandas: https://docs.pola.rs/user-guide/migration/pandas/ \n",
    "\n",
    "Why Polars?\n",
    "Parallelization; Lazy Evaluation; Libraries for Python, Rust, R; Soon support for using GPU\n"
   ]
  },
  {
   "cell_type": "code",
   "execution_count": null,
   "id": "68ccf0e6-f2b6-4ab6-9689-8363a00f79d9",
   "metadata": {},
   "outputs": [],
   "source": [
    "import polars as pl\n",
    "from sklearn.datasets import load_iris"
   ]
  },
  {
   "cell_type": "markdown",
   "id": "7aadb029-ddd5-4895-ad5c-595d459c1bb8",
   "metadata": {},
   "source": [
    "## Loading Datasets into Polars DataFrames"
   ]
  },
  {
   "cell_type": "code",
   "execution_count": null,
   "id": "40e6a0d8-5c18-4d33-83c4-2ed977595832",
   "metadata": {
    "scrolled": true
   },
   "outputs": [],
   "source": [
    "iris = load_iris()\n",
    "#df = pl.DataFrame(iris)\n",
    "df = pl.DataFrame({\n",
    "    'sepal_length': iris.data[:, 0],\n",
    "    'sepal_width': iris.data[:, 1],\n",
    "    'petal_length': iris.data[:, 2],\n",
    "    'petal_width': iris.data[:, 3],\n",
    "    'species': iris.target\n",
    "})\n",
    "print(df)\n",
    "print(df.schema)\n",
    "print(df.describe())\n",
    "print(df.columns)\n",
    "print(df.shape)"
   ]
  },
  {
   "cell_type": "markdown",
   "id": "9570c2c2-f92b-47a1-b729-643baec4cc17",
   "metadata": {},
   "source": [
    "## Other methods of reading files in Polars\n",
    "https://docs.pola.rs/user-guide/io/"
   ]
  },
  {
   "cell_type": "markdown",
   "id": "af985103-2051-4913-841f-7473c9751d15",
   "metadata": {},
   "source": [
    "## Column and Row Functions"
   ]
  },
  {
   "cell_type": "code",
   "execution_count": null,
   "id": "9a2818f0-11a5-4afe-bdf3-626331d18abc",
   "metadata": {},
   "outputs": [],
   "source": [
    "#Selecting columns\n",
    "#df.select(\"species\")\n",
    "# Selecting Rows based on values\n",
    "setosa_df = df.filter(pl.col(\"species\") == 0)\n",
    "print(setosa_df.describe())\n",
    "# Multiple selection filters\n",
    "print( df.filter(\n",
    "    pl.col(\"species\") == 2,\n",
    "    pl.col(\"petal_length\") < 5) )"
   ]
  },
  {
   "cell_type": "code",
   "execution_count": null,
   "id": "94cd90e7-d915-4c72-9f77-d245c3f9584e",
   "metadata": {},
   "outputs": [],
   "source": [
    "setosa_df.select( pl.col(\"petal_length\").sum() /  pl.col(\"petal_length\").count() )"
   ]
  },
  {
   "cell_type": "code",
   "execution_count": null,
   "id": "f146c404-e9f6-479a-8f00-f1a1405e0c01",
   "metadata": {},
   "outputs": [],
   "source": [
    "df.select(\n",
    "    pl.col(\"petal_width\",\"sepal_width\"). mean()\n",
    ")"
   ]
  },
  {
   "cell_type": "code",
   "execution_count": null,
   "id": "7e319264-4cd1-4093-85ce-b6580b22899c",
   "metadata": {},
   "outputs": [],
   "source": [
    "#mean(axis=1) does not work\n",
    "df.select(\n",
    "    pl.col(\"sepal_length\",\"sepal_width\")\n",
    ").mean_horizontal()"
   ]
  },
  {
   "cell_type": "code",
   "execution_count": null,
   "id": "2742d470-f095-4d80-8cef-0cdf35fd3851",
   "metadata": {},
   "outputs": [],
   "source": [
    "iris_df1 = df.with_columns(\n",
    "    species_names=pl.col(\"species\").replace_strict([0, 1, 2], [\"Setosa\", \"Versicolor\", \"Virginica\"])\n",
    ")\n",
    "print(iris_df1)"
   ]
  },
  {
   "cell_type": "markdown",
   "id": "21f29d83-a167-4182-906e-c62eb7889158",
   "metadata": {},
   "source": [
    "## Group By Examples"
   ]
  },
  {
   "cell_type": "code",
   "execution_count": null,
   "id": "1f1c589d-8d2a-41a1-84da-e9845ad8ef25",
   "metadata": {},
   "outputs": [],
   "source": [
    "print( df.group_by(pl.col(\"species\")) )"
   ]
  },
  {
   "cell_type": "code",
   "execution_count": null,
   "id": "3beab908-1551-4203-ae3a-0461a4f3bc1f",
   "metadata": {},
   "outputs": [],
   "source": [
    "iris_df1.group_by(pl.col(\"species_names\")).mean()"
   ]
  },
  {
   "cell_type": "markdown",
   "id": "fd03322f-b5ad-4af9-9dac-a7871ee81716",
   "metadata": {},
   "source": [
    "## Visualization\n",
    "Works well with popular visualization libraries:\n",
    "https://docs.pola.rs/user-guide/misc/visualization/"
   ]
  },
  {
   "cell_type": "code",
   "execution_count": null,
   "id": "bde326c4-9a99-4835-be04-79db263e68c4",
   "metadata": {},
   "outputs": [],
   "source": [
    "import matplotlib.pyplot as plt\n",
    "\n",
    "fig, ax = plt.subplots()\n",
    "ax.scatter(\n",
    "    x=df.select(\"sepal_width\"),\n",
    "    y=df.select(\"sepal_length\"),\n",
    "    c=df.select(\"species\"),\n",
    ")"
   ]
  },
  {
   "cell_type": "code",
   "execution_count": null,
   "id": "ecc334a5-d482-47e8-9fa1-f9f2dc4e0467",
   "metadata": {},
   "outputs": [],
   "source": []
  }
 ],
 "metadata": {
  "kernelspec": {
   "display_name": "Python 3 (ipykernel)",
   "language": "python",
   "name": "python3"
  },
  "language_info": {
   "codemirror_mode": {
    "name": "ipython",
    "version": 3
   },
   "file_extension": ".py",
   "mimetype": "text/x-python",
   "name": "python",
   "nbconvert_exporter": "python",
   "pygments_lexer": "ipython3",
   "version": "3.12.7"
  }
 },
 "nbformat": 4,
 "nbformat_minor": 5
}
